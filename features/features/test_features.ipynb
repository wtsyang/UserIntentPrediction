{
 "cells": [
  {
   "cell_type": "code",
   "execution_count": 2,
   "metadata": {},
   "outputs": [],
   "source": [
    "from content_features import *"
   ]
  },
  {
   "cell_type": "code",
   "execution_count": 2,
   "metadata": {},
   "outputs": [
    {
     "name": "stdout",
     "output_type": "stream",
     "text": [
      "[['0', '1', '0', '0', '0', '0'], ['0', '0', '0', '0', '0', '0']]\n",
      "[1, 1]\n"
     ]
    }
   ],
   "source": [
    "# %load content_features.py\n",
    "def question_mark(utterances):\n",
    "    res = []\n",
    "    for utterance in utterances:\n",
    "        if utterance.find('?') != -1:\n",
    "            res.append(1)\n",
    "        else:\n",
    "            res.append(0)\n",
    "    return res\n",
    "\n",
    "def exclamation_mark(utterances):\n",
    "    res = []\n",
    "    for utterance in utterances:\n",
    "        if utterance.find('!') != -1:\n",
    "            res.append(1)\n",
    "        else:\n",
    "            res.append(0)\n",
    "    return res\n",
    "\n",
    "\n",
    "def duplicate(utterances):\n",
    "    res = []\n",
    "    for utterance in utterances:\n",
    "        if utterance.find('same') != -1 or utterance.find('similar') != -1:\n",
    "            res.append(1)\n",
    "        else:\n",
    "            res.append(0)\n",
    "    return res\n",
    "\n",
    "\n",
    "def W5H1(utterances):\n",
    "    # how, what, why, who, where, when\n",
    "    res = []\n",
    "    for utterance in utterances:\n",
    "        wh_vector = [0] * 6\n",
    "\n",
    "        wh_vector[0] = 1 if utterance.find('how') != -1 else 0\n",
    "        wh_vector[1] = 1 if utterance.find('what') != -1 else 0\n",
    "        wh_vector[2] = 1 if utterance.find('why') != -1 else 0\n",
    "        wh_vector[3] = 1 if utterance.find('who') != -1 else 0\n",
    "        wh_vector[4] = 1 if utterance.find('where') != -1 else 0\n",
    "        wh_vector[5] = 1 if utterance.find('when') != -1 else 0\n",
    "\n",
    "\n",
    "        res.append(list(map(str, wh_vector)))\n",
    "    return res\n",
    "\n",
    "if __name__ == '__main__':\n",
    "    utterances = ['Hi!, my what name is Aaron. What is same yours?', 'Hi!, my name is Aaron. What is yours']\n",
    "    print(W5H1(utterances))\n",
    "    print(exclamation_mark(utterances))"
   ]
  },
  {
   "cell_type": "code",
   "execution_count": null,
   "metadata": {},
   "outputs": [],
   "source": []
  }
 ],
 "metadata": {
  "kernelspec": {
   "display_name": "Python 3",
   "language": "python",
   "name": "python3"
  },
  "language_info": {
   "codemirror_mode": {
    "name": "ipython",
    "version": 3
   },
   "file_extension": ".py",
   "mimetype": "text/x-python",
   "name": "python",
   "nbconvert_exporter": "python",
   "pygments_lexer": "ipython3",
   "version": "3.7.4"
  }
 },
 "nbformat": 4,
 "nbformat_minor": 2
}
