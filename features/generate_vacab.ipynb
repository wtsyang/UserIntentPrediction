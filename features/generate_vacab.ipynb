{
 "cells": [
  {
   "cell_type": "code",
   "execution_count": 1,
   "metadata": {},
   "outputs": [],
   "source": [
    "from sklearn.feature_extraction.text import CountVectorizer\n",
    "from data_helper import *\n",
    "\n",
    "def generate_vocab(data):\n",
    "\n",
    "    # count_vect = CountVectorizer(stop_words='english')\n",
    "    count_vect = CountVectorizer(tokenizer=tokenizer, stop_words='english'  )\n",
    "    counts = count_vect.fit_transform(data)\n",
    "\n",
    "    return count_vect.vocabulary_\n",
    "\n",
    "if __name__ == '__main__':\n",
    "    conn_title = connect_db()\n",
    "    conn_utter = connect_db()\n",
    "\n",
    "    sql_title = 'select title from titles_final'\n",
    "    sql_utter = 'select utterance from contents_final'\n",
    "\n",
    "    with conn_title.cursor() as cursor_title, conn_utter.cursor() as cursor_utter:\n",
    "        cursor_title.execute(sql_title)\n",
    "        titles = [row['title'] for row in cursor_title.fetchall()]\n",
    "\n",
    "        cursor_utter.execute(sql_utter)\n",
    "        utterances = [row['utterance'] for row in cursor_utter.fetchall()]\n",
    "\n",
    "    vocab_file = 'data/vocab.tsv'\n",
    "\n",
    "    vocab = generate_vocab(map(clean_str, titles + utterances))\n",
    "\n",
    "    with open(vocab_file, 'w') as vocab_output:\n",
    "        for term in vocab:\n",
    "            vocab_output.write('{0}\\t{1}\\n'.format(term, vocab[term]))"
   ]
  },
  {
   "cell_type": "code",
   "execution_count": null,
   "metadata": {},
   "outputs": [],
   "source": []
  }
 ],
 "metadata": {
  "kernelspec": {
   "display_name": "Python 3",
   "language": "python",
   "name": "python3"
  },
  "language_info": {
   "codemirror_mode": {
    "name": "ipython",
    "version": 3
   },
   "file_extension": ".py",
   "mimetype": "text/x-python",
   "name": "python",
   "nbconvert_exporter": "python",
   "pygments_lexer": "ipython3",
   "version": "3.4.5"
  }
 },
 "nbformat": 4,
 "nbformat_minor": 2
}
