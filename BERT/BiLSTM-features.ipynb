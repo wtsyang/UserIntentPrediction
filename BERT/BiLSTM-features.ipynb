{
  "nbformat": 4,
  "nbformat_minor": 0,
  "metadata": {
    "colab": {
      "name": "LSTM.ipynb",
      "provenance": [],
      "collapsed_sections": [],
      "include_colab_link": true
    },
    "kernelspec": {
      "name": "python3",
      "display_name": "Python 3"
    },
    "accelerator": "GPU"
  },
  "cells": [
    {
      "cell_type": "markdown",
      "metadata": {
        "id": "view-in-github",
        "colab_type": "text"
      },
      "source": [
        "<a href=\"https://colab.research.google.com/github/wtsyang/UserIntentPrediction/blob/BERT/BERT/BiLSTM-features.ipynb\" target=\"_parent\"><img src=\"https://colab.research.google.com/assets/colab-badge.svg\" alt=\"Open In Colab\"/></a>"
      ]
    },
    {
      "cell_type": "code",
      "metadata": {
        "id": "ot0Ha--FR-S1",
        "colab_type": "code",
        "outputId": "343dd1f1-cc17-4a5e-89f4-ded0e0c680db",
        "colab": {
          "base_uri": "https://localhost:8080/",
          "height": 138
        }
      },
      "source": [
        "from google.colab import drive # import drive from google colab\n",
        "\n",
        "ROOT = \"/content/drive\"     # default location for the drive\n",
        "print(ROOT)                 # print content of ROOT (Optional)\n",
        "\n",
        "drive.mount(ROOT)           # we mount the google drive at /content/drive"
      ],
      "execution_count": 1,
      "outputs": [
        {
          "output_type": "stream",
          "text": [
            "/content/drive\n",
            "Go to this URL in a browser: https://accounts.google.com/o/oauth2/auth?client_id=947318989803-6bn6qk8qdgf4n4g3pfee6491hc0brc4i.apps.googleusercontent.com&redirect_uri=urn%3aietf%3awg%3aoauth%3a2.0%3aoob&response_type=code&scope=email%20https%3a%2f%2fwww.googleapis.com%2fauth%2fdocs.test%20https%3a%2f%2fwww.googleapis.com%2fauth%2fdrive%20https%3a%2f%2fwww.googleapis.com%2fauth%2fdrive.photos.readonly%20https%3a%2f%2fwww.googleapis.com%2fauth%2fpeopleapi.readonly\n",
            "\n",
            "Enter your authorization code:\n",
            "··········\n",
            "Mounted at /content/drive\n"
          ],
          "name": "stdout"
        }
      ]
    },
    {
      "cell_type": "code",
      "metadata": {
        "id": "-6DT7DNwSNn9",
        "colab_type": "code",
        "outputId": "f5bb5e12-29e9-4dab-ad8d-3d707c0d6930",
        "colab": {
          "base_uri": "https://localhost:8080/",
          "height": 34
        }
      },
      "source": [
        "# Change youe folder\n",
        "# Make sure you have a folder BERT under this: YOUR_FOLDER/BERT\n",
        "%cd '/content/drive/My Drive/UserIntentPrediction'"
      ],
      "execution_count": 2,
      "outputs": [
        {
          "output_type": "stream",
          "text": [
            "/content/drive/My Drive/UserIntentPrediction\n"
          ],
          "name": "stdout"
        }
      ]
    },
    {
      "cell_type": "code",
      "metadata": {
        "id": "De681umQRanU",
        "colab_type": "code",
        "outputId": "01e619c8-6320-40a3-a3df-621fa630e40b",
        "colab": {
          "base_uri": "https://localhost:8080/",
          "height": 34
        }
      },
      "source": [
        "import numpy as np\n",
        "import pandas as pd\n",
        "import tensorflow as tf\n",
        "from tensorflow.keras.models import Model\n",
        "from tensorflow.keras.layers import Input, Dense, Embedding, SpatialDropout1D, add, concatenate\n",
        "from tensorflow.keras.layers  import LSTM, Bidirectional, GlobalMaxPooling1D, GlobalAveragePooling1D\n",
        "from tensorflow.keras.preprocessing import text, sequence\n",
        "from gensim.models import KeyedVectors\n",
        "from sklearn.model_selection  import train_test_split\n",
        "import pickle\n",
        "import sklearn\n",
        "from tensorflow.keras.utils import multi_gpu_model\n",
        "from tensorflow.keras.callbacks import ModelCheckpoint\n",
        "from tensorflow.keras.callbacks import ReduceLROnPlateau\n",
        "from tensorflow.keras import backend as K\n",
        "from tensorflow.python.framework import ops\n",
        "from tensorflow.python.ops import math_ops\n",
        "from tensorflow.python.framework import smart_cond\n",
        "from functools import partial\n",
        "from sklearn.metrics import precision_recall_fscore_support\n",
        "print('Tensorflow Version:',tf.__version__)"
      ],
      "execution_count": 3,
      "outputs": [
        {
          "output_type": "stream",
          "text": [
            "Tensorflow Version: 2.2.0-rc3\n"
          ],
          "name": "stdout"
        }
      ]
    },
    {
      "cell_type": "code",
      "metadata": {
        "id": "yIpXSpeYR4rx",
        "colab_type": "code",
        "colab": {}
      },
      "source": [
        "NUM_MODELS = 1\n",
        "BATCH_SIZE = 32\n",
        "LSTM_UNITS = 64\n",
        "DENSE_HIDDEN_UNITS = 4 * LSTM_UNITS\n",
        "EPOCHS = 15\n",
        "MAX_LEN = 1259\n",
        "N_CHANNELS=768\n",
        "N_CLASS=12\n",
        "N_Features=24\n",
        "INDEX_Features=range(-24,-0,1)"
      ],
      "execution_count": 0,
      "outputs": []
    },
    {
      "cell_type": "markdown",
      "metadata": {
        "id": "7lcdmN7BSHGl",
        "colab_type": "text"
      },
      "source": [
        "## Loading the dataset\n"
      ]
    },
    {
      "cell_type": "code",
      "metadata": {
        "id": "5p2_0TqoR9ef",
        "colab_type": "code",
        "colab": {}
      },
      "source": [
        "Train=pd.read_csv('data/train_features.csv').reset_index(drop=True)\n",
        "Valid=pd.read_csv('data/valid_features.csv').reset_index(drop=True)\n",
        "Test=pd.read_csv('data/test_features.csv').reset_index(drop=True)"
      ],
      "execution_count": 0,
      "outputs": []
    },
    {
      "cell_type": "code",
      "metadata": {
        "id": "hjliEKeAhO4e",
        "colab_type": "code",
        "colab": {}
      },
      "source": [
        "class DataGenerator(tf.keras.utils.Sequence):\n",
        "    'Generates data for Keras'\n",
        "    def __init__(self, pdDataFrame, dbName, labels=['oQ', 'RQ', 'CQ', 'FD', 'FQ', 'IR', 'PA', 'PF', 'NF', 'GG', 'JK', 'O'],\\\n",
        "                 batch_size=BATCH_SIZE, dim=MAX_LEN, n_channels=N_CHANNELS,\\\n",
        "                 n_classes=N_CLASS, shuffle=True):\n",
        "        'Initialization'\n",
        "        self.dim = dim\n",
        "        self.batch_size = batch_size\n",
        "        self.labels = labels\n",
        "        self.list_IDs = pdDataFrame\n",
        "        self.n_channels = n_channels\n",
        "        self.n_classes = n_classes\n",
        "        self.shuffle = shuffle\n",
        "        self.dbName=dbName\n",
        "        self.on_epoch_end()\n",
        "\n",
        "    def __len__(self):\n",
        "        'Denotes the number of batches per epoch'\n",
        "        return int(np.floor(len(self.list_IDs) / self.batch_size))\n",
        "\n",
        "    def __getitem__(self, index):\n",
        "        'Generate one batch of data'\n",
        "        # Generate indexes of the batch\n",
        "        indexes = self.indexes[index*self.batch_size:(index+1)*self.batch_size]\n",
        "\n",
        "        # Find list of IDs\n",
        "        list_IDs_temp = self.list_IDs.iloc[indexes,:]\n",
        "\n",
        "        # Generate data\n",
        "        X, y = self.__data_generation(list_IDs_temp.reset_index(drop=True))\n",
        "\n",
        "        return X, y\n",
        "\n",
        "    def on_epoch_end(self):\n",
        "        'Updates indexes after each epoch'\n",
        "        self.indexes = np.arange(len(self.list_IDs))\n",
        "        if self.shuffle == True:\n",
        "            np.random.shuffle(self.indexes)\n",
        "\n",
        "    def __data_generation(self, list_IDs_temp):\n",
        "        'Generates data containing batch_size samples' # X : (n_samples, *dim, n_channels)\n",
        "        # Initialization\n",
        "        x = np.zeros((self.batch_size, self.dim, self.n_channels))\n",
        "        y = np.zeros((self.batch_size,self.n_classes), dtype=int)\n",
        "\n",
        "        # Generate data\n",
        "        for i in range(len(list_IDs_temp)):\n",
        "            utterenceID=list_IDs_temp.loc[i,'id']\n",
        "            diaglogID=list_IDs_temp.loc[i,'diaglogID']\n",
        "            try:\n",
        "              temp=np.load('BERT/vector/'+self.dbName+'_'+str(utterenceID)+'_'+str(diaglogID)+'.npy')\n",
        "              x[i,0:temp.shape[0],:] =temp \n",
        "              del temp\n",
        "            except:\n",
        "              print('Faile to load the data: BERT/vector/'+self.dbName+'_'+str(utterenceID)+'_'+str(diaglogID)+'.npy')\n",
        "            # Store sample\n",
        "            # Store class\n",
        "            y[i,:] = np.array(list_IDs_temp.iloc[i,0:12])\n",
        "        Y=[]\n",
        "        for i in range(self.n_classes):\n",
        "          Y+=[y[:,i].reshape((self.batch_size,))]\n",
        "        X=[x,np.array(list_IDs_temp.iloc[:,INDEX_Features])]\n",
        "        return X, Y"
      ],
      "execution_count": 0,
      "outputs": []
    },
    {
      "cell_type": "code",
      "metadata": {
        "id": "8ijHEnaK7opB",
        "colab_type": "code",
        "colab": {}
      },
      "source": [
        "training_generator = DataGenerator(Train,'Train')\n",
        "validation_generator = DataGenerator(Valid,'Valid')"
      ],
      "execution_count": 0,
      "outputs": []
    },
    {
      "cell_type": "code",
      "metadata": {
        "id": "QbBl5lHEfSGa",
        "colab_type": "code",
        "colab": {}
      },
      "source": [
        "classWeight_Dict={}\n",
        "for i in range(N_CLASS):\n",
        "  ratioTrue=np.sum(Train.iloc[:,i])/len(Train)\n",
        "  classWeight_Dict['output'+str(i+1)]={0:1+1/((1-ratioTrue)/(ratioTrue)+1),1:1+(1-ratioTrue)/(ratioTrue)/((1-ratioTrue)/(ratioTrue)+1)}"
      ],
      "execution_count": 0,
      "outputs": []
    },
    {
      "cell_type": "code",
      "metadata": {
        "id": "r8C5_nNdl9Xy",
        "colab_type": "code",
        "colab": {}
      },
      "source": [
        "classWeight_Dict['output4'][1]+=1\n",
        "classWeight_Dict['output4'][0]+=1"
      ],
      "execution_count": 0,
      "outputs": []
    },
    {
      "cell_type": "code",
      "metadata": {
        "id": "uaoPIhG5PE0e",
        "colab_type": "code",
        "outputId": "c7f0d3ba-f9b0-4094-97df-5170dd6fd9a8",
        "colab": {
          "base_uri": "https://localhost:8080/",
          "height": 218
        }
      },
      "source": [
        "classWeight_Dict"
      ],
      "execution_count": 10,
      "outputs": [
        {
          "output_type": "execute_result",
          "data": {
            "text/plain": [
              "{'output1': {0: 1.234499007936508, 1: 1.765500992063492},\n",
              " 'output10': {0: 1.0336061507936507, 1: 1.9663938492063493},\n",
              " 'output11': {0: 1.0100446428571428, 1: 1.9899553571428572},\n",
              " 'output12': {0: 1.001860119047619, 1: 1.998139880952381},\n",
              " 'output2': {0: 1.0603918650793651, 1: 1.9396081349206349},\n",
              " 'output3': {0: 1.0744047619047619, 1: 1.9255952380952381},\n",
              " 'output4': {0: 2.247147817460317, 1: 2.752852182539683},\n",
              " 'output5': {0: 1.0875496031746033, 1: 1.9124503968253967},\n",
              " 'output6': {0: 1.1071428571428572, 1: 1.8928571428571428},\n",
              " 'output7': {0: 1.3979414682539684, 1: 1.6020585317460316},\n",
              " 'output8': {0: 1.1070188492063493, 1: 1.8929811507936507},\n",
              " 'output9': {0: 1.0767609126984128, 1: 1.9232390873015874}}"
            ]
          },
          "metadata": {
            "tags": []
          },
          "execution_count": 10
        }
      ]
    },
    {
      "cell_type": "markdown",
      "metadata": {
        "id": "K2mz_N6c7mEx",
        "colab_type": "text"
      },
      "source": [
        "## Build the model\n"
      ]
    },
    {
      "cell_type": "code",
      "metadata": {
        "id": "fytjcvIOnMiA",
        "colab_type": "code",
        "colab": {}
      },
      "source": [
        "def binary_crossentropy(y_true, y_pred, weights,from_logits=False,label_smoothing=0):\n",
        "\n",
        "    y_pred = ops.convert_to_tensor(y_pred)\n",
        "    y_true = math_ops.cast(y_true, y_pred.dtype)\n",
        "    label_smoothing = ops.convert_to_tensor(label_smoothing, dtype=K.floatx())\n",
        "    def _smooth_labels():\n",
        "      return y_true * (1.0 - label_smoothing) + 0.5 * label_smoothing\n",
        "    y_true = smart_cond.smart_cond(label_smoothing,_smooth_labels, lambda: y_true)\n",
        "    \n",
        "    mask0 = tf.subtract(tf.constant(1.0, dtype=K.floatx()),y_true)\n",
        "    mask0=tf.math.scalar_mul(tf.constant(weights[0], dtype=K.floatx()),mask0)\n",
        "    mask1 =tf.math.scalar_mul(tf.constant(weights[1], dtype=K.floatx()),y_true)\n",
        "    mask=tf.math.add(mask0,mask1)\n",
        "\n",
        "    return K.mean(tf.math.multiply(K.binary_crossentropy(y_true, y_pred, from_logits=from_logits),mask), axis=-1)"
      ],
      "execution_count": 0,
      "outputs": []
    },
    {
      "cell_type": "code",
      "metadata": {
        "id": "jfKQSOUM5saC",
        "colab_type": "code",
        "colab": {}
      },
      "source": [
        "def build_model():\n",
        "    inputs1 = Input(shape=(MAX_LEN,N_CHANNELS))\n",
        "    inputs2 = Input(shape=(N_Features,))\n",
        "\n",
        "    x = SpatialDropout1D(0.2)(inputs1)\n",
        "    x = Bidirectional(LSTM(LSTM_UNITS, return_sequences=True))(x)\n",
        "    x = Bidirectional(LSTM(LSTM_UNITS, return_sequences=True))(x)\n",
        "\n",
        "    hidden = concatenate([\n",
        "        GlobalMaxPooling1D()(x),\n",
        "        GlobalAveragePooling1D()(x),\n",
        "        inputs2,\n",
        "    ])\n",
        "    hidden = add([hidden, Dense(DENSE_HIDDEN_UNITS+24, activation='relu')(hidden)])\n",
        "    hidden = add([hidden, Dense(DENSE_HIDDEN_UNITS+24, activation='relu')(hidden)])\n",
        "    RESULT=[]\n",
        "    for i in range(N_CLASS):\n",
        "      RESULT+=[Dense(1, activation='sigmoid',name='output'+str(i+1))(hidden)]\n",
        "    LOSS={}\n",
        "    for i in  range(N_CLASS):\n",
        "      LOSS['output'+str(i+1)]=partial(binary_crossentropy, weights=classWeight_Dict['output'+str(i+1)])\n",
        "      LOSS['output'+str(i+1)].__name__ = 'loss'+str(i+1)\n",
        "\n",
        "    inputs={'inputs1':inputs1,'inputs2':inputs2}\n",
        "    model = Model(inputs=inputs, outputs=RESULT)\n",
        "    model.compile(loss=LOSS, optimizer='adam',metrics=[tf.keras.metrics.binary_accuracy])\n",
        "\n",
        "    return model"
      ],
      "execution_count": 0,
      "outputs": []
    },
    {
      "cell_type": "code",
      "metadata": {
        "id": "N37opYym6CCC",
        "colab_type": "code",
        "outputId": "427e884c-af97-48ee-db5f-ab89fe2c84d5",
        "colab": {
          "base_uri": "https://localhost:8080/",
          "height": 1000
        }
      },
      "source": [
        "model = build_model()\n",
        "model.summary()"
      ],
      "execution_count": 13,
      "outputs": [
        {
          "output_type": "stream",
          "text": [
            "Model: \"model\"\n",
            "__________________________________________________________________________________________________\n",
            "Layer (type)                    Output Shape         Param #     Connected to                     \n",
            "==================================================================================================\n",
            "input_1 (InputLayer)            [(None, 1259, 768)]  0                                            \n",
            "__________________________________________________________________________________________________\n",
            "spatial_dropout1d (SpatialDropo (None, 1259, 768)    0           input_1[0][0]                    \n",
            "__________________________________________________________________________________________________\n",
            "bidirectional (Bidirectional)   (None, 1259, 128)    426496      spatial_dropout1d[0][0]          \n",
            "__________________________________________________________________________________________________\n",
            "bidirectional_1 (Bidirectional) (None, 1259, 128)    98816       bidirectional[0][0]              \n",
            "__________________________________________________________________________________________________\n",
            "global_max_pooling1d (GlobalMax (None, 128)          0           bidirectional_1[0][0]            \n",
            "__________________________________________________________________________________________________\n",
            "global_average_pooling1d (Globa (None, 128)          0           bidirectional_1[0][0]            \n",
            "__________________________________________________________________________________________________\n",
            "input_2 (InputLayer)            [(None, 24)]         0                                            \n",
            "__________________________________________________________________________________________________\n",
            "concatenate (Concatenate)       (None, 280)          0           global_max_pooling1d[0][0]       \n",
            "                                                                 global_average_pooling1d[0][0]   \n",
            "                                                                 input_2[0][0]                    \n",
            "__________________________________________________________________________________________________\n",
            "dense (Dense)                   (None, 280)          78680       concatenate[0][0]                \n",
            "__________________________________________________________________________________________________\n",
            "add (Add)                       (None, 280)          0           concatenate[0][0]                \n",
            "                                                                 dense[0][0]                      \n",
            "__________________________________________________________________________________________________\n",
            "dense_1 (Dense)                 (None, 280)          78680       add[0][0]                        \n",
            "__________________________________________________________________________________________________\n",
            "add_1 (Add)                     (None, 280)          0           add[0][0]                        \n",
            "                                                                 dense_1[0][0]                    \n",
            "__________________________________________________________________________________________________\n",
            "output1 (Dense)                 (None, 1)            281         add_1[0][0]                      \n",
            "__________________________________________________________________________________________________\n",
            "output2 (Dense)                 (None, 1)            281         add_1[0][0]                      \n",
            "__________________________________________________________________________________________________\n",
            "output3 (Dense)                 (None, 1)            281         add_1[0][0]                      \n",
            "__________________________________________________________________________________________________\n",
            "output4 (Dense)                 (None, 1)            281         add_1[0][0]                      \n",
            "__________________________________________________________________________________________________\n",
            "output5 (Dense)                 (None, 1)            281         add_1[0][0]                      \n",
            "__________________________________________________________________________________________________\n",
            "output6 (Dense)                 (None, 1)            281         add_1[0][0]                      \n",
            "__________________________________________________________________________________________________\n",
            "output7 (Dense)                 (None, 1)            281         add_1[0][0]                      \n",
            "__________________________________________________________________________________________________\n",
            "output8 (Dense)                 (None, 1)            281         add_1[0][0]                      \n",
            "__________________________________________________________________________________________________\n",
            "output9 (Dense)                 (None, 1)            281         add_1[0][0]                      \n",
            "__________________________________________________________________________________________________\n",
            "output10 (Dense)                (None, 1)            281         add_1[0][0]                      \n",
            "__________________________________________________________________________________________________\n",
            "output11 (Dense)                (None, 1)            281         add_1[0][0]                      \n",
            "__________________________________________________________________________________________________\n",
            "output12 (Dense)                (None, 1)            281         add_1[0][0]                      \n",
            "==================================================================================================\n",
            "Total params: 686,044\n",
            "Trainable params: 686,044\n",
            "Non-trainable params: 0\n",
            "__________________________________________________________________________________________________\n"
          ],
          "name": "stdout"
        }
      ]
    },
    {
      "cell_type": "code",
      "metadata": {
        "id": "8sb5GQmKeI_B",
        "colab_type": "code",
        "colab": {}
      },
      "source": [
        "callback=ReduceLROnPlateau(patience=1,min_lr=0.00001,factor=0.3)\n",
        "Name='BERT/LSTM_addFeatures.h5'\n",
        "checkpointer = ModelCheckpoint(filepath=Name, verbose=1, save_best_only=True)"
      ],
      "execution_count": 0,
      "outputs": []
    },
    {
      "cell_type": "code",
      "metadata": {
        "id": "4To3UbV67kft",
        "colab_type": "code",
        "colab": {
          "base_uri": "https://localhost:8080/",
          "height": 1000
        },
        "outputId": "bb8d6f14-79b9-48fb-ec02-0a4294e80e49"
      },
      "source": [
        "model.fit_generator(\n",
        "    generator=training_generator,\n",
        "    validation_data=validation_generator,\n",
        "    epochs=EPOCHS,\n",
        "    verbose=1,\n",
        "    callbacks=[checkpointer,callback])"
      ],
      "execution_count": 15,
      "outputs": [
        {
          "output_type": "stream",
          "text": [
            "WARNING:tensorflow:From <ipython-input-15-d8713d19c50f>:6: Model.fit_generator (from tensorflow.python.keras.engine.training) is deprecated and will be removed in a future version.\n",
            "Instructions for updating:\n",
            "Please use Model.fit, which supports generators.\n",
            "Faile to load the data: BERT/vector/Train_181754_19353.npy\n",
            "Epoch 1/15\n",
            " 78/252 [========>.....................] - ETA: 27:54 - loss: 11.3807 - output1_loss: 1.0129 - output2_loss: 1.0437 - output3_loss: 0.5638 - output4_loss: 2.9747 - output5_loss: 0.5445 - output6_loss: 1.5172 - output7_loss: 0.9557 - output8_loss: 0.6901 - output9_loss: 0.5132 - output10_loss: 0.2180 - output11_loss: 0.7350 - output12_loss: 0.6118 - output1_binary_accuracy: 0.7236 - output2_binary_accuracy: 0.9002 - output3_binary_accuracy: 0.9079 - output4_binary_accuracy: 0.6631 - output5_binary_accuracy: 0.8954 - output6_binary_accuracy: 0.8221 - output7_binary_accuracy: 0.6899 - output8_binary_accuracy: 0.8321 - output9_binary_accuracy: 0.9171 - output10_binary_accuracy: 0.9659 - output11_binary_accuracy: 0.9351 - output12_binary_accuracy: 0.9495Faile to load the data: BERT/vector/Train_198203_21013.npy\n",
            "224/252 [=========================>....] - ETA: 4:33 - loss: 7.5889 - output1_loss: 0.6076 - output2_loss: 0.5996 - output3_loss: 0.5024 - output4_loss: 2.0665 - output5_loss: 0.4945 - output6_loss: 0.8889 - output7_loss: 0.6819 - output8_loss: 0.5284 - output9_loss: 0.4563 - output10_loss: 0.1751 - output11_loss: 0.3538 - output12_loss: 0.2340 - output1_binary_accuracy: 0.8460 - output2_binary_accuracy: 0.9248 - output3_binary_accuracy: 0.9139 - output4_binary_accuracy: 0.7051 - output5_binary_accuracy: 0.9008 - output6_binary_accuracy: 0.8552 - output7_binary_accuracy: 0.7946 - output8_binary_accuracy: 0.8751 - output9_binary_accuracy: 0.9148 - output10_binary_accuracy: 0.9689 - output11_binary_accuracy: 0.9700 - output12_binary_accuracy: 0.9816Faile to load the data: BERT/vector/Train_193849_20580.npy\n",
            "252/252 [==============================] - ETA: 0s - loss: 7.2813 - output1_loss: 0.5729 - output2_loss: 0.5718 - output3_loss: 0.4914 - output4_loss: 1.9815 - output5_loss: 0.4884 - output6_loss: 0.8446 - output7_loss: 0.6572 - output8_loss: 0.5088 - output9_loss: 0.4499 - output10_loss: 0.1720 - output11_loss: 0.3232 - output12_loss: 0.2197 - output1_binary_accuracy: 0.8552 - output2_binary_accuracy: 0.9253 - output3_binary_accuracy: 0.9159 - output4_binary_accuracy: 0.7124 - output5_binary_accuracy: 0.9028 - output6_binary_accuracy: 0.8571 - output7_binary_accuracy: 0.8053 - output8_binary_accuracy: 0.8785 - output9_binary_accuracy: 0.9134 - output10_binary_accuracy: 0.9685 - output11_binary_accuracy: 0.9720 - output12_binary_accuracy: 0.9833\n",
            "Epoch 00001: val_loss improved from inf to 4.72480, saving model to BERT/LSTM_addFeatures.h5\n",
            "252/252 [==============================] - 2761s 11s/step - loss: 7.2813 - output1_loss: 0.5729 - output2_loss: 0.5718 - output3_loss: 0.4914 - output4_loss: 1.9815 - output5_loss: 0.4884 - output6_loss: 0.8446 - output7_loss: 0.6572 - output8_loss: 0.5088 - output9_loss: 0.4499 - output10_loss: 0.1720 - output11_loss: 0.3232 - output12_loss: 0.2197 - output1_binary_accuracy: 0.8552 - output2_binary_accuracy: 0.9253 - output3_binary_accuracy: 0.9159 - output4_binary_accuracy: 0.7124 - output5_binary_accuracy: 0.9028 - output6_binary_accuracy: 0.8571 - output7_binary_accuracy: 0.8053 - output8_binary_accuracy: 0.8785 - output9_binary_accuracy: 0.9134 - output10_binary_accuracy: 0.9685 - output11_binary_accuracy: 0.9720 - output12_binary_accuracy: 0.9833 - val_loss: 4.7248 - val_output1_loss: 0.2659 - val_output2_loss: 0.2594 - val_output3_loss: 0.4633 - val_output4_loss: 1.4874 - val_output5_loss: 0.4721 - val_output6_loss: 0.5395 - val_output7_loss: 0.4628 - val_output8_loss: 0.2812 - val_output9_loss: 0.3304 - val_output10_loss: 0.1216 - val_output11_loss: 0.0392 - val_output12_loss: 0.0020 - val_output1_binary_accuracy: 0.9287 - val_output2_binary_accuracy: 0.9404 - val_output3_binary_accuracy: 0.9277 - val_output4_binary_accuracy: 0.7607 - val_output5_binary_accuracy: 0.9229 - val_output6_binary_accuracy: 0.8955 - val_output7_binary_accuracy: 0.8818 - val_output8_binary_accuracy: 0.9199 - val_output9_binary_accuracy: 0.9131 - val_output10_binary_accuracy: 0.9600 - val_output11_binary_accuracy: 0.9941 - val_output12_binary_accuracy: 1.0000 - lr: 0.0010\n",
            "Epoch 2/15\n",
            "174/252 [===================>..........] - ETA: 21s - loss: 4.4678 - output1_loss: 0.2377 - output2_loss: 0.2792 - output3_loss: 0.4467 - output4_loss: 1.3084 - output5_loss: 0.3881 - output6_loss: 0.4618 - output7_loss: 0.4141 - output8_loss: 0.3478 - output9_loss: 0.3655 - output10_loss: 0.1022 - output11_loss: 0.0802 - output12_loss: 0.0360 - output1_binary_accuracy: 0.9520 - output2_binary_accuracy: 0.9397 - output3_binary_accuracy: 0.9136 - output4_binary_accuracy: 0.7635 - output5_binary_accuracy: 0.9068 - output6_binary_accuracy: 0.8843 - output7_binary_accuracy: 0.8895 - output8_binary_accuracy: 0.9054 - output9_binary_accuracy: 0.9080 - output10_binary_accuracy: 0.9704 - output11_binary_accuracy: 0.9896 - output12_binary_accuracy: 0.9980Faile to load the data: BERT/vector/Train_198203_21013.npy\n",
            "199/252 [======================>.......] - ETA: 14s - loss: 4.4930 - output1_loss: 0.2368 - output2_loss: 0.2810 - output3_loss: 0.4348 - output4_loss: 1.3334 - output5_loss: 0.3874 - output6_loss: 0.4590 - output7_loss: 0.4339 - output8_loss: 0.3433 - output9_loss: 0.3634 - output10_loss: 0.1059 - output11_loss: 0.0801 - output12_loss: 0.0340 - output1_binary_accuracy: 0.9527 - output2_binary_accuracy: 0.9391 - output3_binary_accuracy: 0.9150 - output4_binary_accuracy: 0.7602 - output5_binary_accuracy: 0.9064 - output6_binary_accuracy: 0.8874 - output7_binary_accuracy: 0.8877 - output8_binary_accuracy: 0.9072 - output9_binary_accuracy: 0.9097 - output10_binary_accuracy: 0.9694 - output11_binary_accuracy: 0.9895 - output12_binary_accuracy: 0.9981Faile to load the data: BERT/vector/Train_193849_20580.npy\n",
            "252/252 [==============================] - ETA: 0s - loss: 4.4117 - output1_loss: 0.2240 - output2_loss: 0.2741 - output3_loss: 0.4246 - output4_loss: 1.3164 - output5_loss: 0.3934 - output6_loss: 0.4466 - output7_loss: 0.4221 - output8_loss: 0.3364 - output9_loss: 0.3571 - output10_loss: 0.1050 - output11_loss: 0.0801 - output12_loss: 0.0319 - output1_binary_accuracy: 0.9554 - output2_binary_accuracy: 0.9396 - output3_binary_accuracy: 0.9165 - output4_binary_accuracy: 0.7660 - output5_binary_accuracy: 0.9053 - output6_binary_accuracy: 0.8904 - output7_binary_accuracy: 0.8904 - output8_binary_accuracy: 0.9089 - output9_binary_accuracy: 0.9111 - output10_binary_accuracy: 0.9711 - output11_binary_accuracy: 0.9898 - output12_binary_accuracy: 0.9981\n",
            "Epoch 00002: val_loss improved from 4.72480 to 3.70036, saving model to BERT/LSTM_addFeatures.h5\n",
            "252/252 [==============================] - 79s 315ms/step - loss: 4.4117 - output1_loss: 0.2240 - output2_loss: 0.2741 - output3_loss: 0.4246 - output4_loss: 1.3164 - output5_loss: 0.3934 - output6_loss: 0.4466 - output7_loss: 0.4221 - output8_loss: 0.3364 - output9_loss: 0.3571 - output10_loss: 0.1050 - output11_loss: 0.0801 - output12_loss: 0.0319 - output1_binary_accuracy: 0.9554 - output2_binary_accuracy: 0.9396 - output3_binary_accuracy: 0.9165 - output4_binary_accuracy: 0.7660 - output5_binary_accuracy: 0.9053 - output6_binary_accuracy: 0.8904 - output7_binary_accuracy: 0.8904 - output8_binary_accuracy: 0.9089 - output9_binary_accuracy: 0.9111 - output10_binary_accuracy: 0.9711 - output11_binary_accuracy: 0.9898 - output12_binary_accuracy: 0.9981 - val_loss: 3.7004 - val_output1_loss: 0.1539 - val_output2_loss: 0.2246 - val_output3_loss: 0.3427 - val_output4_loss: 1.2263 - val_output5_loss: 0.3440 - val_output6_loss: 0.3325 - val_output7_loss: 0.3634 - val_output8_loss: 0.2608 - val_output9_loss: 0.2895 - val_output10_loss: 0.1114 - val_output11_loss: 0.0474 - val_output12_loss: 0.0040 - val_output1_binary_accuracy: 0.9717 - val_output2_binary_accuracy: 0.9482 - val_output3_binary_accuracy: 0.9189 - val_output4_binary_accuracy: 0.7637 - val_output5_binary_accuracy: 0.9219 - val_output6_binary_accuracy: 0.9219 - val_output7_binary_accuracy: 0.9043 - val_output8_binary_accuracy: 0.9238 - val_output9_binary_accuracy: 0.9258 - val_output10_binary_accuracy: 0.9658 - val_output11_binary_accuracy: 0.9932 - val_output12_binary_accuracy: 1.0000 - lr: 0.0010\n",
            "Epoch 3/15\n",
            "174/252 [===================>..........] - ETA: 21s - loss: 4.0517 - output1_loss: 0.1724 - output2_loss: 0.2463 - output3_loss: 0.3680 - output4_loss: 1.2367 - output5_loss: 0.3516 - output6_loss: 0.4063 - output7_loss: 0.3706 - output8_loss: 0.3561 - output9_loss: 0.3574 - output10_loss: 0.0960 - output11_loss: 0.0686 - output12_loss: 0.0217 - output1_binary_accuracy: 0.9689 - output2_binary_accuracy: 0.9434 - output3_binary_accuracy: 0.9170 - output4_binary_accuracy: 0.7859 - output5_binary_accuracy: 0.9124 - output6_binary_accuracy: 0.9012 - output7_binary_accuracy: 0.9054 - output8_binary_accuracy: 0.9061 - output9_binary_accuracy: 0.9039 - output10_binary_accuracy: 0.9736 - output11_binary_accuracy: 0.9903 - output12_binary_accuracy: 0.9984Faile to load the data: BERT/vector/Train_198203_21013.npy\n",
            "217/252 [========================>.....] - ETA: 9s - loss: 4.0146 - output1_loss: 0.1681 - output2_loss: 0.2398 - output3_loss: 0.3689 - output4_loss: 1.2413 - output5_loss: 0.3531 - output6_loss: 0.3834 - output7_loss: 0.3715 - output8_loss: 0.3484 - output9_loss: 0.3479 - output10_loss: 0.0956 - output11_loss: 0.0730 - output12_loss: 0.0235 - output1_binary_accuracy: 0.9706 - output2_binary_accuracy: 0.9456 - output3_binary_accuracy: 0.9149 - output4_binary_accuracy: 0.7837 - output5_binary_accuracy: 0.9110 - output6_binary_accuracy: 0.9068 - output7_binary_accuracy: 0.9060 - output8_binary_accuracy: 0.9077 - output9_binary_accuracy: 0.9067 - output10_binary_accuracy: 0.9729 - output11_binary_accuracy: 0.9901 - output12_binary_accuracy: 0.9981Faile to load the data: BERT/vector/Train_193849_20580.npy\n",
            "252/252 [==============================] - ETA: 0s - loss: 3.9909 - output1_loss: 0.1665 - output2_loss: 0.2382 - output3_loss: 0.3703 - output4_loss: 1.2295 - output5_loss: 0.3458 - output6_loss: 0.3812 - output7_loss: 0.3737 - output8_loss: 0.3410 - output9_loss: 0.3533 - output10_loss: 0.0949 - output11_loss: 0.0709 - output12_loss: 0.0256 - output1_binary_accuracy: 0.9706 - output2_binary_accuracy: 0.9461 - output3_binary_accuracy: 0.9141 - output4_binary_accuracy: 0.7878 - output5_binary_accuracy: 0.9123 - output6_binary_accuracy: 0.9070 - output7_binary_accuracy: 0.9043 - output8_binary_accuracy: 0.9089 - output9_binary_accuracy: 0.9062 - output10_binary_accuracy: 0.9727 - output11_binary_accuracy: 0.9900 - output12_binary_accuracy: 0.9981\n",
            "Epoch 00003: val_loss improved from 3.70036 to 3.69356, saving model to BERT/LSTM_addFeatures.h5\n",
            "252/252 [==============================] - 77s 304ms/step - loss: 3.9909 - output1_loss: 0.1665 - output2_loss: 0.2382 - output3_loss: 0.3703 - output4_loss: 1.2295 - output5_loss: 0.3458 - output6_loss: 0.3812 - output7_loss: 0.3737 - output8_loss: 0.3410 - output9_loss: 0.3533 - output10_loss: 0.0949 - output11_loss: 0.0709 - output12_loss: 0.0256 - output1_binary_accuracy: 0.9706 - output2_binary_accuracy: 0.9461 - output3_binary_accuracy: 0.9141 - output4_binary_accuracy: 0.7878 - output5_binary_accuracy: 0.9123 - output6_binary_accuracy: 0.9070 - output7_binary_accuracy: 0.9043 - output8_binary_accuracy: 0.9089 - output9_binary_accuracy: 0.9062 - output10_binary_accuracy: 0.9727 - output11_binary_accuracy: 0.9900 - output12_binary_accuracy: 0.9981 - val_loss: 3.6936 - val_output1_loss: 0.1260 - val_output2_loss: 0.2104 - val_output3_loss: 0.3229 - val_output4_loss: 1.3077 - val_output5_loss: 0.3130 - val_output6_loss: 0.3415 - val_output7_loss: 0.3342 - val_output8_loss: 0.2619 - val_output9_loss: 0.3216 - val_output10_loss: 0.1020 - val_output11_loss: 0.0464 - val_output12_loss: 0.0060 - val_output1_binary_accuracy: 0.9697 - val_output2_binary_accuracy: 0.9453 - val_output3_binary_accuracy: 0.9199 - val_output4_binary_accuracy: 0.7881 - val_output5_binary_accuracy: 0.9248 - val_output6_binary_accuracy: 0.9189 - val_output7_binary_accuracy: 0.9150 - val_output8_binary_accuracy: 0.9160 - val_output9_binary_accuracy: 0.9346 - val_output10_binary_accuracy: 0.9658 - val_output11_binary_accuracy: 0.9922 - val_output12_binary_accuracy: 1.0000 - lr: 0.0010\n",
            "Epoch 4/15\n",
            " 45/252 [====>.........................] - ETA: 55s - loss: 3.9488 - output1_loss: 0.1487 - output2_loss: 0.2336 - output3_loss: 0.3592 - output4_loss: 1.2164 - output5_loss: 0.3694 - output6_loss: 0.3585 - output7_loss: 0.4005 - output8_loss: 0.3506 - output9_loss: 0.3372 - output10_loss: 0.0935 - output11_loss: 0.0516 - output12_loss: 0.0297 - output1_binary_accuracy: 0.9715 - output2_binary_accuracy: 0.9486 - output3_binary_accuracy: 0.9139 - output4_binary_accuracy: 0.7750 - output5_binary_accuracy: 0.9049 - output6_binary_accuracy: 0.9097 - output7_binary_accuracy: 0.9007 - output8_binary_accuracy: 0.9021 - output9_binary_accuracy: 0.9035 - output10_binary_accuracy: 0.9681 - output11_binary_accuracy: 0.9917 - output12_binary_accuracy: 0.9965Faile to load the data: BERT/vector/Train_193849_20580.npy\n",
            " 87/252 [=========>....................] - ETA: 44s - loss: 3.8980 - output1_loss: 0.1392 - output2_loss: 0.2311 - output3_loss: 0.3664 - output4_loss: 1.2132 - output5_loss: 0.3729 - output6_loss: 0.3609 - output7_loss: 0.3772 - output8_loss: 0.3214 - output9_loss: 0.3398 - output10_loss: 0.0838 - output11_loss: 0.0641 - output12_loss: 0.0281 - output1_binary_accuracy: 0.9752 - output2_binary_accuracy: 0.9440 - output3_binary_accuracy: 0.9127 - output4_binary_accuracy: 0.7838 - output5_binary_accuracy: 0.9062 - output6_binary_accuracy: 0.9120 - output7_binary_accuracy: 0.9077 - output8_binary_accuracy: 0.9167 - output9_binary_accuracy: 0.9055 - output10_binary_accuracy: 0.9731 - output11_binary_accuracy: 0.9885 - output12_binary_accuracy: 0.9971Faile to load the data: BERT/vector/Train_198203_21013.npy\n",
            "252/252 [==============================] - ETA: 0s - loss: 3.7337 - output1_loss: 0.1452 - output2_loss: 0.2261 - output3_loss: 0.3556 - output4_loss: 1.1649 - output5_loss: 0.3446 - output6_loss: 0.3332 - output7_loss: 0.3553 - output8_loss: 0.3003 - output9_loss: 0.3359 - output10_loss: 0.0848 - output11_loss: 0.0653 - output12_loss: 0.0225 - output1_binary_accuracy: 0.9733 - output2_binary_accuracy: 0.9449 - output3_binary_accuracy: 0.9121 - output4_binary_accuracy: 0.8022 - output5_binary_accuracy: 0.9115 - output6_binary_accuracy: 0.9184 - output7_binary_accuracy: 0.9111 - output8_binary_accuracy: 0.9196 - output9_binary_accuracy: 0.9066 - output10_binary_accuracy: 0.9751 - output11_binary_accuracy: 0.9893 - output12_binary_accuracy: 0.9981\n",
            "Epoch 00004: val_loss improved from 3.69356 to 3.49613, saving model to BERT/LSTM_addFeatures.h5\n",
            "252/252 [==============================] - 76s 301ms/step - loss: 3.7337 - output1_loss: 0.1452 - output2_loss: 0.2261 - output3_loss: 0.3556 - output4_loss: 1.1649 - output5_loss: 0.3446 - output6_loss: 0.3332 - output7_loss: 0.3553 - output8_loss: 0.3003 - output9_loss: 0.3359 - output10_loss: 0.0848 - output11_loss: 0.0653 - output12_loss: 0.0225 - output1_binary_accuracy: 0.9733 - output2_binary_accuracy: 0.9449 - output3_binary_accuracy: 0.9121 - output4_binary_accuracy: 0.8022 - output5_binary_accuracy: 0.9115 - output6_binary_accuracy: 0.9184 - output7_binary_accuracy: 0.9111 - output8_binary_accuracy: 0.9196 - output9_binary_accuracy: 0.9066 - output10_binary_accuracy: 0.9751 - output11_binary_accuracy: 0.9893 - output12_binary_accuracy: 0.9981 - val_loss: 3.4961 - val_output1_loss: 0.1145 - val_output2_loss: 0.2302 - val_output3_loss: 0.3072 - val_output4_loss: 1.0783 - val_output5_loss: 0.4055 - val_output6_loss: 0.3119 - val_output7_loss: 0.3629 - val_output8_loss: 0.2533 - val_output9_loss: 0.2629 - val_output10_loss: 0.1155 - val_output11_loss: 0.0505 - val_output12_loss: 0.0034 - val_output1_binary_accuracy: 0.9766 - val_output2_binary_accuracy: 0.9473 - val_output3_binary_accuracy: 0.9180 - val_output4_binary_accuracy: 0.8184 - val_output5_binary_accuracy: 0.9287 - val_output6_binary_accuracy: 0.9248 - val_output7_binary_accuracy: 0.9043 - val_output8_binary_accuracy: 0.9238 - val_output9_binary_accuracy: 0.9258 - val_output10_binary_accuracy: 0.9736 - val_output11_binary_accuracy: 0.9922 - val_output12_binary_accuracy: 1.0000 - lr: 0.0010\n",
            "Epoch 5/15\n",
            " 52/252 [=====>........................] - ETA: 52s - loss: 3.4589 - output1_loss: 0.1248 - output2_loss: 0.2145 - output3_loss: 0.3355 - output4_loss: 1.1298 - output5_loss: 0.2832 - output6_loss: 0.3062 - output7_loss: 0.3417 - output8_loss: 0.2506 - output9_loss: 0.3171 - output10_loss: 0.0730 - output11_loss: 0.0696 - output12_loss: 0.0130 - output1_binary_accuracy: 0.9784 - output2_binary_accuracy: 0.9453 - output3_binary_accuracy: 0.9038 - output4_binary_accuracy: 0.8161 - output5_binary_accuracy: 0.9309 - output6_binary_accuracy: 0.9315 - output7_binary_accuracy: 0.9147 - output8_binary_accuracy: 0.9333 - output9_binary_accuracy: 0.9165 - output10_binary_accuracy: 0.9772 - output11_binary_accuracy: 0.9910 - output12_binary_accuracy: 0.9988Faile to load the data: BERT/vector/Train_193849_20580.npy\n",
            "174/252 [===================>..........] - ETA: 20s - loss: 3.5388 - output1_loss: 0.1400 - output2_loss: 0.2373 - output3_loss: 0.3381 - output4_loss: 1.1306 - output5_loss: 0.3092 - output6_loss: 0.3326 - output7_loss: 0.3290 - output8_loss: 0.2553 - output9_loss: 0.3099 - output10_loss: 0.0799 - output11_loss: 0.0570 - output12_loss: 0.0200 - output1_binary_accuracy: 0.9740 - output2_binary_accuracy: 0.9400 - output3_binary_accuracy: 0.9073 - output4_binary_accuracy: 0.8134 - output5_binary_accuracy: 0.9177 - output6_binary_accuracy: 0.9237 - output7_binary_accuracy: 0.9194 - output8_binary_accuracy: 0.9325 - output9_binary_accuracy: 0.9131 - output10_binary_accuracy: 0.9772 - output11_binary_accuracy: 0.9907 - output12_binary_accuracy: 0.9982Faile to load the data: BERT/vector/Train_198203_21013.npy\n",
            "252/252 [==============================] - ETA: 0s - loss: 3.5466 - output1_loss: 0.1371 - output2_loss: 0.2184 - output3_loss: 0.3418 - output4_loss: 1.1408 - output5_loss: 0.3087 - output6_loss: 0.3233 - output7_loss: 0.3355 - output8_loss: 0.2752 - output9_loss: 0.3052 - output10_loss: 0.0801 - output11_loss: 0.0601 - output12_loss: 0.0204 - output1_binary_accuracy: 0.9757 - output2_binary_accuracy: 0.9453 - output3_binary_accuracy: 0.9102 - output4_binary_accuracy: 0.8115 - output5_binary_accuracy: 0.9179 - output6_binary_accuracy: 0.9260 - output7_binary_accuracy: 0.9169 - output8_binary_accuracy: 0.9272 - output9_binary_accuracy: 0.9128 - output10_binary_accuracy: 0.9783 - output11_binary_accuracy: 0.9905 - output12_binary_accuracy: 0.9981\n",
            "Epoch 00005: val_loss did not improve from 3.49613\n",
            "252/252 [==============================] - 75s 296ms/step - loss: 3.5466 - output1_loss: 0.1371 - output2_loss: 0.2184 - output3_loss: 0.3418 - output4_loss: 1.1408 - output5_loss: 0.3087 - output6_loss: 0.3233 - output7_loss: 0.3355 - output8_loss: 0.2752 - output9_loss: 0.3052 - output10_loss: 0.0801 - output11_loss: 0.0601 - output12_loss: 0.0204 - output1_binary_accuracy: 0.9757 - output2_binary_accuracy: 0.9453 - output3_binary_accuracy: 0.9102 - output4_binary_accuracy: 0.8115 - output5_binary_accuracy: 0.9179 - output6_binary_accuracy: 0.9260 - output7_binary_accuracy: 0.9169 - output8_binary_accuracy: 0.9272 - output9_binary_accuracy: 0.9128 - output10_binary_accuracy: 0.9783 - output11_binary_accuracy: 0.9905 - output12_binary_accuracy: 0.9981 - val_loss: 3.6772 - val_output1_loss: 0.1049 - val_output2_loss: 0.2036 - val_output3_loss: 0.3175 - val_output4_loss: 1.3398 - val_output5_loss: 0.3080 - val_output6_loss: 0.3612 - val_output7_loss: 0.3198 - val_output8_loss: 0.3242 - val_output9_loss: 0.2613 - val_output10_loss: 0.0877 - val_output11_loss: 0.0447 - val_output12_loss: 0.0044 - val_output1_binary_accuracy: 0.9785 - val_output2_binary_accuracy: 0.9492 - val_output3_binary_accuracy: 0.9209 - val_output4_binary_accuracy: 0.7988 - val_output5_binary_accuracy: 0.9199 - val_output6_binary_accuracy: 0.9248 - val_output7_binary_accuracy: 0.9248 - val_output8_binary_accuracy: 0.8906 - val_output9_binary_accuracy: 0.9355 - val_output10_binary_accuracy: 0.9727 - val_output11_binary_accuracy: 0.9922 - val_output12_binary_accuracy: 1.0000 - lr: 0.0010\n",
            "Epoch 6/15\n",
            "170/252 [===================>..........] - ETA: 22s - loss: 3.0827 - output1_loss: 0.1111 - output2_loss: 0.1756 - output3_loss: 0.3071 - output4_loss: 1.0093 - output5_loss: 0.2805 - output6_loss: 0.2914 - output7_loss: 0.2938 - output8_loss: 0.2239 - output9_loss: 0.2508 - output10_loss: 0.0687 - output11_loss: 0.0546 - output12_loss: 0.0159 - output1_binary_accuracy: 0.9820 - output2_binary_accuracy: 0.9561 - output3_binary_accuracy: 0.9140 - output4_binary_accuracy: 0.8353 - output5_binary_accuracy: 0.9250 - output6_binary_accuracy: 0.9336 - output7_binary_accuracy: 0.9272 - output8_binary_accuracy: 0.9403 - output9_binary_accuracy: 0.9289 - output10_binary_accuracy: 0.9809 - output11_binary_accuracy: 0.9904 - output12_binary_accuracy: 0.9985Faile to load the data: BERT/vector/Train_198203_21013.npy\n",
            "200/252 [======================>.......] - ETA: 13s - loss: 3.0975 - output1_loss: 0.1107 - output2_loss: 0.1801 - output3_loss: 0.2996 - output4_loss: 1.0148 - output5_loss: 0.2736 - output6_loss: 0.3006 - output7_loss: 0.2942 - output8_loss: 0.2322 - output9_loss: 0.2520 - output10_loss: 0.0687 - output11_loss: 0.0535 - output12_loss: 0.0175 - output1_binary_accuracy: 0.9819 - output2_binary_accuracy: 0.9570 - output3_binary_accuracy: 0.9166 - output4_binary_accuracy: 0.8342 - output5_binary_accuracy: 0.9272 - output6_binary_accuracy: 0.9292 - output7_binary_accuracy: 0.9280 - output8_binary_accuracy: 0.9383 - output9_binary_accuracy: 0.9291 - output10_binary_accuracy: 0.9808 - output11_binary_accuracy: 0.9909 - output12_binary_accuracy: 0.9983Faile to load the data: BERT/vector/Train_193849_20580.npy\n",
            "252/252 [==============================] - ETA: 0s - loss: 3.1063 - output1_loss: 0.1069 - output2_loss: 0.1799 - output3_loss: 0.3028 - output4_loss: 1.0159 - output5_loss: 0.2779 - output6_loss: 0.2964 - output7_loss: 0.2904 - output8_loss: 0.2431 - output9_loss: 0.2529 - output10_loss: 0.0660 - output11_loss: 0.0553 - output12_loss: 0.0186 - output1_binary_accuracy: 0.9828 - output2_binary_accuracy: 0.9576 - output3_binary_accuracy: 0.9168 - output4_binary_accuracy: 0.8348 - output5_binary_accuracy: 0.9251 - output6_binary_accuracy: 0.9301 - output7_binary_accuracy: 0.9283 - output8_binary_accuracy: 0.9354 - output9_binary_accuracy: 0.9296 - output10_binary_accuracy: 0.9816 - output11_binary_accuracy: 0.9911 - output12_binary_accuracy: 0.9981\n",
            "Epoch 00006: val_loss improved from 3.49613 to 3.31619, saving model to BERT/LSTM_addFeatures.h5\n",
            "252/252 [==============================] - 75s 298ms/step - loss: 3.1063 - output1_loss: 0.1069 - output2_loss: 0.1799 - output3_loss: 0.3028 - output4_loss: 1.0159 - output5_loss: 0.2779 - output6_loss: 0.2964 - output7_loss: 0.2904 - output8_loss: 0.2431 - output9_loss: 0.2529 - output10_loss: 0.0660 - output11_loss: 0.0553 - output12_loss: 0.0186 - output1_binary_accuracy: 0.9828 - output2_binary_accuracy: 0.9576 - output3_binary_accuracy: 0.9168 - output4_binary_accuracy: 0.8348 - output5_binary_accuracy: 0.9251 - output6_binary_accuracy: 0.9301 - output7_binary_accuracy: 0.9283 - output8_binary_accuracy: 0.9354 - output9_binary_accuracy: 0.9296 - output10_binary_accuracy: 0.9816 - output11_binary_accuracy: 0.9911 - output12_binary_accuracy: 0.9981 - val_loss: 3.3162 - val_output1_loss: 0.1075 - val_output2_loss: 0.2099 - val_output3_loss: 0.3126 - val_output4_loss: 1.1111 - val_output5_loss: 0.3041 - val_output6_loss: 0.2859 - val_output7_loss: 0.3337 - val_output8_loss: 0.2630 - val_output9_loss: 0.2538 - val_output10_loss: 0.0855 - val_output11_loss: 0.0436 - val_output12_loss: 0.0055 - val_output1_binary_accuracy: 0.9766 - val_output2_binary_accuracy: 0.9453 - val_output3_binary_accuracy: 0.9238 - val_output4_binary_accuracy: 0.8115 - val_output5_binary_accuracy: 0.9170 - val_output6_binary_accuracy: 0.9346 - val_output7_binary_accuracy: 0.9180 - val_output8_binary_accuracy: 0.9082 - val_output9_binary_accuracy: 0.9355 - val_output10_binary_accuracy: 0.9746 - val_output11_binary_accuracy: 0.9932 - val_output12_binary_accuracy: 1.0000 - lr: 3.0000e-04\n",
            "Epoch 7/15\n",
            "138/252 [===============>..............] - ETA: 30s - loss: 2.9431 - output1_loss: 0.0998 - output2_loss: 0.1750 - output3_loss: 0.2771 - output4_loss: 0.9862 - output5_loss: 0.2681 - output6_loss: 0.2771 - output7_loss: 0.2627 - output8_loss: 0.2293 - output9_loss: 0.2332 - output10_loss: 0.0600 - output11_loss: 0.0547 - output12_loss: 0.0200 - output1_binary_accuracy: 0.9830 - output2_binary_accuracy: 0.9529 - output3_binary_accuracy: 0.9275 - output4_binary_accuracy: 0.8435 - output5_binary_accuracy: 0.9262 - output6_binary_accuracy: 0.9364 - output7_binary_accuracy: 0.9395 - output8_binary_accuracy: 0.9364 - output9_binary_accuracy: 0.9346 - output10_binary_accuracy: 0.9826 - output11_binary_accuracy: 0.9914 - output12_binary_accuracy: 0.9980Faile to load the data: BERT/vector/Train_198203_21013.npy\n",
            "168/252 [===================>..........] - ETA: 22s - loss: 2.9528 - output1_loss: 0.1004 - output2_loss: 0.1721 - output3_loss: 0.2769 - output4_loss: 0.9904 - output5_loss: 0.2677 - output6_loss: 0.2830 - output7_loss: 0.2655 - output8_loss: 0.2317 - output9_loss: 0.2322 - output10_loss: 0.0626 - output11_loss: 0.0517 - output12_loss: 0.0187 - output1_binary_accuracy: 0.9831 - output2_binary_accuracy: 0.9537 - output3_binary_accuracy: 0.9267 - output4_binary_accuracy: 0.8415 - output5_binary_accuracy: 0.9265 - output6_binary_accuracy: 0.9349 - output7_binary_accuracy: 0.9375 - output8_binary_accuracy: 0.9355 - output9_binary_accuracy: 0.9353 - output10_binary_accuracy: 0.9829 - output11_binary_accuracy: 0.9914 - output12_binary_accuracy: 0.9981Faile to load the data: BERT/vector/Train_193849_20580.npy\n",
            "252/252 [==============================] - ETA: 0s - loss: 2.9952 - output1_loss: 0.1056 - output2_loss: 0.1761 - output3_loss: 0.2916 - output4_loss: 0.9878 - output5_loss: 0.2731 - output6_loss: 0.2765 - output7_loss: 0.2778 - output8_loss: 0.2323 - output9_loss: 0.2385 - output10_loss: 0.0652 - output11_loss: 0.0526 - output12_loss: 0.0180 - output1_binary_accuracy: 0.9823 - output2_binary_accuracy: 0.9546 - output3_binary_accuracy: 0.9200 - output4_binary_accuracy: 0.8410 - output5_binary_accuracy: 0.9253 - output6_binary_accuracy: 0.9349 - output7_binary_accuracy: 0.9339 - output8_binary_accuracy: 0.9358 - output9_binary_accuracy: 0.9333 - output10_binary_accuracy: 0.9821 - output11_binary_accuracy: 0.9912 - output12_binary_accuracy: 0.9981\n",
            "Epoch 00007: val_loss improved from 3.31619 to 3.30858, saving model to BERT/LSTM_addFeatures.h5\n",
            "252/252 [==============================] - 75s 297ms/step - loss: 2.9952 - output1_loss: 0.1056 - output2_loss: 0.1761 - output3_loss: 0.2916 - output4_loss: 0.9878 - output5_loss: 0.2731 - output6_loss: 0.2765 - output7_loss: 0.2778 - output8_loss: 0.2323 - output9_loss: 0.2385 - output10_loss: 0.0652 - output11_loss: 0.0526 - output12_loss: 0.0180 - output1_binary_accuracy: 0.9823 - output2_binary_accuracy: 0.9546 - output3_binary_accuracy: 0.9200 - output4_binary_accuracy: 0.8410 - output5_binary_accuracy: 0.9253 - output6_binary_accuracy: 0.9349 - output7_binary_accuracy: 0.9339 - output8_binary_accuracy: 0.9358 - output9_binary_accuracy: 0.9333 - output10_binary_accuracy: 0.9821 - output11_binary_accuracy: 0.9912 - output12_binary_accuracy: 0.9981 - val_loss: 3.3086 - val_output1_loss: 0.1006 - val_output2_loss: 0.2063 - val_output3_loss: 0.3186 - val_output4_loss: 1.0928 - val_output5_loss: 0.3075 - val_output6_loss: 0.2840 - val_output7_loss: 0.3237 - val_output8_loss: 0.2563 - val_output9_loss: 0.2857 - val_output10_loss: 0.0890 - val_output11_loss: 0.0396 - val_output12_loss: 0.0044 - val_output1_binary_accuracy: 0.9775 - val_output2_binary_accuracy: 0.9502 - val_output3_binary_accuracy: 0.9082 - val_output4_binary_accuracy: 0.8271 - val_output5_binary_accuracy: 0.9180 - val_output6_binary_accuracy: 0.9307 - val_output7_binary_accuracy: 0.9180 - val_output8_binary_accuracy: 0.9150 - val_output9_binary_accuracy: 0.8955 - val_output10_binary_accuracy: 0.9736 - val_output11_binary_accuracy: 0.9932 - val_output12_binary_accuracy: 1.0000 - lr: 3.0000e-04\n",
            "Epoch 8/15\n",
            "112/252 [============>.................] - ETA: 37s - loss: 2.9010 - output1_loss: 0.0856 - output2_loss: 0.1667 - output3_loss: 0.2847 - output4_loss: 0.9734 - output5_loss: 0.2548 - output6_loss: 0.2641 - output7_loss: 0.2798 - output8_loss: 0.2238 - output9_loss: 0.2394 - output10_loss: 0.0592 - output11_loss: 0.0543 - output12_loss: 0.0151 - output1_binary_accuracy: 0.9860 - output2_binary_accuracy: 0.9632 - output3_binary_accuracy: 0.9213 - output4_binary_accuracy: 0.8396 - output5_binary_accuracy: 0.9342 - output6_binary_accuracy: 0.9383 - output7_binary_accuracy: 0.9322 - output8_binary_accuracy: 0.9414 - output9_binary_accuracy: 0.9344 - output10_binary_accuracy: 0.9819 - output11_binary_accuracy: 0.9900 - output12_binary_accuracy: 0.9986Faile to load the data: BERT/vector/Train_198203_21013.npy\n",
            "157/252 [=================>............] - ETA: 25s - loss: 2.8961 - output1_loss: 0.0976 - output2_loss: 0.1670 - output3_loss: 0.2778 - output4_loss: 0.9643 - output5_loss: 0.2557 - output6_loss: 0.2718 - output7_loss: 0.2728 - output8_loss: 0.2294 - output9_loss: 0.2319 - output10_loss: 0.0605 - output11_loss: 0.0513 - output12_loss: 0.0162 - output1_binary_accuracy: 0.9835 - output2_binary_accuracy: 0.9602 - output3_binary_accuracy: 0.9244 - output4_binary_accuracy: 0.8394 - output5_binary_accuracy: 0.9319 - output6_binary_accuracy: 0.9369 - output7_binary_accuracy: 0.9341 - output8_binary_accuracy: 0.9397 - output9_binary_accuracy: 0.9375 - output10_binary_accuracy: 0.9815 - output11_binary_accuracy: 0.9908 - output12_binary_accuracy: 0.9984Faile to load the data: BERT/vector/Train_193849_20580.npy\n",
            "252/252 [==============================] - ETA: 0s - loss: 2.9045 - output1_loss: 0.0999 - output2_loss: 0.1673 - output3_loss: 0.2839 - output4_loss: 0.9685 - output5_loss: 0.2625 - output6_loss: 0.2706 - output7_loss: 0.2670 - output8_loss: 0.2246 - output9_loss: 0.2302 - output10_loss: 0.0615 - output11_loss: 0.0509 - output12_loss: 0.0177 - output1_binary_accuracy: 0.9824 - output2_binary_accuracy: 0.9591 - output3_binary_accuracy: 0.9216 - output4_binary_accuracy: 0.8405 - output5_binary_accuracy: 0.9287 - output6_binary_accuracy: 0.9365 - output7_binary_accuracy: 0.9351 - output8_binary_accuracy: 0.9395 - output9_binary_accuracy: 0.9371 - output10_binary_accuracy: 0.9824 - output11_binary_accuracy: 0.9916 - output12_binary_accuracy: 0.9981\n",
            "Epoch 00008: val_loss improved from 3.30858 to 3.24730, saving model to BERT/LSTM_addFeatures.h5\n",
            "252/252 [==============================] - 75s 299ms/step - loss: 2.9045 - output1_loss: 0.0999 - output2_loss: 0.1673 - output3_loss: 0.2839 - output4_loss: 0.9685 - output5_loss: 0.2625 - output6_loss: 0.2706 - output7_loss: 0.2670 - output8_loss: 0.2246 - output9_loss: 0.2302 - output10_loss: 0.0615 - output11_loss: 0.0509 - output12_loss: 0.0177 - output1_binary_accuracy: 0.9824 - output2_binary_accuracy: 0.9591 - output3_binary_accuracy: 0.9216 - output4_binary_accuracy: 0.8405 - output5_binary_accuracy: 0.9287 - output6_binary_accuracy: 0.9365 - output7_binary_accuracy: 0.9351 - output8_binary_accuracy: 0.9395 - output9_binary_accuracy: 0.9371 - output10_binary_accuracy: 0.9824 - output11_binary_accuracy: 0.9916 - output12_binary_accuracy: 0.9981 - val_loss: 3.2473 - val_output1_loss: 0.0992 - val_output2_loss: 0.2057 - val_output3_loss: 0.3183 - val_output4_loss: 1.0673 - val_output5_loss: 0.3085 - val_output6_loss: 0.3055 - val_output7_loss: 0.3257 - val_output8_loss: 0.2318 - val_output9_loss: 0.2441 - val_output10_loss: 0.0935 - val_output11_loss: 0.0420 - val_output12_loss: 0.0058 - val_output1_binary_accuracy: 0.9775 - val_output2_binary_accuracy: 0.9531 - val_output3_binary_accuracy: 0.9199 - val_output4_binary_accuracy: 0.8340 - val_output5_binary_accuracy: 0.9238 - val_output6_binary_accuracy: 0.9326 - val_output7_binary_accuracy: 0.9219 - val_output8_binary_accuracy: 0.9424 - val_output9_binary_accuracy: 0.9307 - val_output10_binary_accuracy: 0.9795 - val_output11_binary_accuracy: 0.9932 - val_output12_binary_accuracy: 1.0000 - lr: 3.0000e-04\n",
            "Epoch 9/15\n",
            "128/252 [==============>...............] - ETA: 33s - loss: 2.8323 - output1_loss: 0.1033 - output2_loss: 0.1581 - output3_loss: 0.2913 - output4_loss: 0.9574 - output5_loss: 0.2507 - output6_loss: 0.2697 - output7_loss: 0.2563 - output8_loss: 0.2137 - output9_loss: 0.2058 - output10_loss: 0.0615 - output11_loss: 0.0549 - output12_loss: 0.0096 - output1_binary_accuracy: 0.9819 - output2_binary_accuracy: 0.9617 - output3_binary_accuracy: 0.9216 - output4_binary_accuracy: 0.8428 - output5_binary_accuracy: 0.9243 - output6_binary_accuracy: 0.9360 - output7_binary_accuracy: 0.9343 - output8_binary_accuracy: 0.9443 - output9_binary_accuracy: 0.9463 - output10_binary_accuracy: 0.9836 - output11_binary_accuracy: 0.9907 - output12_binary_accuracy: 0.9990Faile to load the data: BERT/vector/Train_193849_20580.npy\n",
            "178/252 [====================>.........] - ETA: 19s - loss: 2.8381 - output1_loss: 0.1043 - output2_loss: 0.1592 - output3_loss: 0.2900 - output4_loss: 0.9476 - output5_loss: 0.2608 - output6_loss: 0.2713 - output7_loss: 0.2524 - output8_loss: 0.2134 - output9_loss: 0.2152 - output10_loss: 0.0600 - output11_loss: 0.0533 - output12_loss: 0.0106 - output1_binary_accuracy: 0.9819 - output2_binary_accuracy: 0.9603 - output3_binary_accuracy: 0.9213 - output4_binary_accuracy: 0.8453 - output5_binary_accuracy: 0.9236 - output6_binary_accuracy: 0.9354 - output7_binary_accuracy: 0.9350 - output8_binary_accuracy: 0.9426 - output9_binary_accuracy: 0.9419 - output10_binary_accuracy: 0.9823 - output11_binary_accuracy: 0.9905 - output12_binary_accuracy: 0.9988Faile to load the data: BERT/vector/Train_198203_21013.npy\n",
            "252/252 [==============================] - ETA: 0s - loss: 2.8253 - output1_loss: 0.0986 - output2_loss: 0.1652 - output3_loss: 0.2856 - output4_loss: 0.9348 - output5_loss: 0.2588 - output6_loss: 0.2656 - output7_loss: 0.2596 - output8_loss: 0.2179 - output9_loss: 0.2159 - output10_loss: 0.0578 - output11_loss: 0.0478 - output12_loss: 0.0176 - output1_binary_accuracy: 0.9833 - output2_binary_accuracy: 0.9591 - output3_binary_accuracy: 0.9219 - output4_binary_accuracy: 0.8487 - output5_binary_accuracy: 0.9267 - output6_binary_accuracy: 0.9366 - output7_binary_accuracy: 0.9358 - output8_binary_accuracy: 0.9417 - output9_binary_accuracy: 0.9392 - output10_binary_accuracy: 0.9834 - output11_binary_accuracy: 0.9918 - output12_binary_accuracy: 0.9981\n",
            "Epoch 00009: val_loss did not improve from 3.24730\n",
            "252/252 [==============================] - 75s 297ms/step - loss: 2.8253 - output1_loss: 0.0986 - output2_loss: 0.1652 - output3_loss: 0.2856 - output4_loss: 0.9348 - output5_loss: 0.2588 - output6_loss: 0.2656 - output7_loss: 0.2596 - output8_loss: 0.2179 - output9_loss: 0.2159 - output10_loss: 0.0578 - output11_loss: 0.0478 - output12_loss: 0.0176 - output1_binary_accuracy: 0.9833 - output2_binary_accuracy: 0.9591 - output3_binary_accuracy: 0.9219 - output4_binary_accuracy: 0.8487 - output5_binary_accuracy: 0.9267 - output6_binary_accuracy: 0.9366 - output7_binary_accuracy: 0.9358 - output8_binary_accuracy: 0.9417 - output9_binary_accuracy: 0.9392 - output10_binary_accuracy: 0.9834 - output11_binary_accuracy: 0.9918 - output12_binary_accuracy: 0.9981 - val_loss: 3.3172 - val_output1_loss: 0.1022 - val_output2_loss: 0.2538 - val_output3_loss: 0.3199 - val_output4_loss: 1.0926 - val_output5_loss: 0.3096 - val_output6_loss: 0.2774 - val_output7_loss: 0.3417 - val_output8_loss: 0.2271 - val_output9_loss: 0.2576 - val_output10_loss: 0.0911 - val_output11_loss: 0.0363 - val_output12_loss: 0.0079 - val_output1_binary_accuracy: 0.9814 - val_output2_binary_accuracy: 0.9209 - val_output3_binary_accuracy: 0.9229 - val_output4_binary_accuracy: 0.8164 - val_output5_binary_accuracy: 0.9248 - val_output6_binary_accuracy: 0.9365 - val_output7_binary_accuracy: 0.9131 - val_output8_binary_accuracy: 0.9424 - val_output9_binary_accuracy: 0.9385 - val_output10_binary_accuracy: 0.9795 - val_output11_binary_accuracy: 0.9922 - val_output12_binary_accuracy: 1.0000 - lr: 3.0000e-04\n",
            "Epoch 10/15\n",
            " 74/252 [=======>......................] - ETA: 47s - loss: 2.6854 - output1_loss: 0.0922 - output2_loss: 0.1568 - output3_loss: 0.2687 - output4_loss: 0.9080 - output5_loss: 0.2457 - output6_loss: 0.2471 - output7_loss: 0.2403 - output8_loss: 0.2098 - output9_loss: 0.2093 - output10_loss: 0.0423 - output11_loss: 0.0411 - output12_loss: 0.0241 - output1_binary_accuracy: 0.9835 - output2_binary_accuracy: 0.9595 - output3_binary_accuracy: 0.9257 - output4_binary_accuracy: 0.8450 - output5_binary_accuracy: 0.9350 - output6_binary_accuracy: 0.9375 - output7_binary_accuracy: 0.9426 - output8_binary_accuracy: 0.9510 - output9_binary_accuracy: 0.9430 - output10_binary_accuracy: 0.9890 - output11_binary_accuracy: 0.9928 - output12_binary_accuracy: 0.9966Faile to load the data: BERT/vector/Train_193849_20580.npy\n",
            "165/252 [==================>...........] - ETA: 23s - loss: 2.6219 - output1_loss: 0.0935 - output2_loss: 0.1570 - output3_loss: 0.2609 - output4_loss: 0.8768 - output5_loss: 0.2505 - output6_loss: 0.2495 - output7_loss: 0.2362 - output8_loss: 0.1946 - output9_loss: 0.1995 - output10_loss: 0.0439 - output11_loss: 0.0385 - output12_loss: 0.0211 - output1_binary_accuracy: 0.9843 - output2_binary_accuracy: 0.9591 - output3_binary_accuracy: 0.9273 - output4_binary_accuracy: 0.8561 - output5_binary_accuracy: 0.9288 - output6_binary_accuracy: 0.9390 - output7_binary_accuracy: 0.9443 - output8_binary_accuracy: 0.9527 - output9_binary_accuracy: 0.9460 - output10_binary_accuracy: 0.9890 - output11_binary_accuracy: 0.9932 - output12_binary_accuracy: 0.9973Faile to load the data: BERT/vector/Train_198203_21013.npy\n",
            "252/252 [==============================] - ETA: 0s - loss: 2.6181 - output1_loss: 0.0894 - output2_loss: 0.1538 - output3_loss: 0.2691 - output4_loss: 0.8661 - output5_loss: 0.2457 - output6_loss: 0.2467 - output7_loss: 0.2357 - output8_loss: 0.1986 - output9_loss: 0.2006 - output10_loss: 0.0518 - output11_loss: 0.0442 - output12_loss: 0.0163 - output1_binary_accuracy: 0.9849 - output2_binary_accuracy: 0.9604 - output3_binary_accuracy: 0.9244 - output4_binary_accuracy: 0.8581 - output5_binary_accuracy: 0.9322 - output6_binary_accuracy: 0.9389 - output7_binary_accuracy: 0.9425 - output8_binary_accuracy: 0.9503 - output9_binary_accuracy: 0.9458 - output10_binary_accuracy: 0.9861 - output11_binary_accuracy: 0.9923 - output12_binary_accuracy: 0.9981\n",
            "Epoch 00010: val_loss did not improve from 3.24730\n",
            "252/252 [==============================] - 75s 296ms/step - loss: 2.6181 - output1_loss: 0.0894 - output2_loss: 0.1538 - output3_loss: 0.2691 - output4_loss: 0.8661 - output5_loss: 0.2457 - output6_loss: 0.2467 - output7_loss: 0.2357 - output8_loss: 0.1986 - output9_loss: 0.2006 - output10_loss: 0.0518 - output11_loss: 0.0442 - output12_loss: 0.0163 - output1_binary_accuracy: 0.9849 - output2_binary_accuracy: 0.9604 - output3_binary_accuracy: 0.9244 - output4_binary_accuracy: 0.8581 - output5_binary_accuracy: 0.9322 - output6_binary_accuracy: 0.9389 - output7_binary_accuracy: 0.9425 - output8_binary_accuracy: 0.9503 - output9_binary_accuracy: 0.9458 - output10_binary_accuracy: 0.9861 - output11_binary_accuracy: 0.9923 - output12_binary_accuracy: 0.9981 - val_loss: 3.2665 - val_output1_loss: 0.0986 - val_output2_loss: 0.2122 - val_output3_loss: 0.3172 - val_output4_loss: 1.0993 - val_output5_loss: 0.3058 - val_output6_loss: 0.2735 - val_output7_loss: 0.3256 - val_output8_loss: 0.2558 - val_output9_loss: 0.2392 - val_output10_loss: 0.0965 - val_output11_loss: 0.0389 - val_output12_loss: 0.0040 - val_output1_binary_accuracy: 0.9785 - val_output2_binary_accuracy: 0.9561 - val_output3_binary_accuracy: 0.9082 - val_output4_binary_accuracy: 0.8311 - val_output5_binary_accuracy: 0.9219 - val_output6_binary_accuracy: 0.9375 - val_output7_binary_accuracy: 0.9209 - val_output8_binary_accuracy: 0.9170 - val_output9_binary_accuracy: 0.9414 - val_output10_binary_accuracy: 0.9775 - val_output11_binary_accuracy: 0.9932 - val_output12_binary_accuracy: 1.0000 - lr: 9.0000e-05\n",
            "Epoch 11/15\n",
            " 54/252 [=====>........................] - ETA: 52s - loss: 2.4938 - output1_loss: 0.0959 - output2_loss: 0.1464 - output3_loss: 0.2671 - output4_loss: 0.8216 - output5_loss: 0.2416 - output6_loss: 0.1913 - output7_loss: 0.2215 - output8_loss: 0.1938 - output9_loss: 0.2087 - output10_loss: 0.0425 - output11_loss: 0.0490 - output12_loss: 0.0142 - output1_binary_accuracy: 0.9809 - output2_binary_accuracy: 0.9612 - output3_binary_accuracy: 0.9288 - output4_binary_accuracy: 0.8600 - output5_binary_accuracy: 0.9346 - output6_binary_accuracy: 0.9549 - output7_binary_accuracy: 0.9462 - output8_binary_accuracy: 0.9439 - output9_binary_accuracy: 0.9416 - output10_binary_accuracy: 0.9896 - output11_binary_accuracy: 0.9907 - output12_binary_accuracy: 0.9983Faile to load the data: BERT/vector/Train_198203_21013.npy\n",
            "101/252 [===========>..................] - ETA: 40s - loss: 2.5419 - output1_loss: 0.0869 - output2_loss: 0.1560 - output3_loss: 0.2644 - output4_loss: 0.8442 - output5_loss: 0.2433 - output6_loss: 0.2386 - output7_loss: 0.2287 - output8_loss: 0.1783 - output9_loss: 0.2013 - output10_loss: 0.0410 - output11_loss: 0.0499 - output12_loss: 0.0092 - output1_binary_accuracy: 0.9821 - output2_binary_accuracy: 0.9629 - output3_binary_accuracy: 0.9285 - output4_binary_accuracy: 0.8552 - output5_binary_accuracy: 0.9372 - output6_binary_accuracy: 0.9443 - output7_binary_accuracy: 0.9418 - output8_binary_accuracy: 0.9536 - output9_binary_accuracy: 0.9459 - output10_binary_accuracy: 0.9895 - output11_binary_accuracy: 0.9920 - output12_binary_accuracy: 0.9991Faile to load the data: BERT/vector/Train_193849_20580.npy\n",
            "252/252 [==============================] - ETA: 0s - loss: 2.5432 - output1_loss: 0.0869 - output2_loss: 0.1473 - output3_loss: 0.2661 - output4_loss: 0.8412 - output5_loss: 0.2399 - output6_loss: 0.2382 - output7_loss: 0.2306 - output8_loss: 0.1927 - output9_loss: 0.1931 - output10_loss: 0.0484 - output11_loss: 0.0431 - output12_loss: 0.0156 - output1_binary_accuracy: 0.9838 - output2_binary_accuracy: 0.9649 - output3_binary_accuracy: 0.9281 - output4_binary_accuracy: 0.8627 - output5_binary_accuracy: 0.9335 - output6_binary_accuracy: 0.9431 - output7_binary_accuracy: 0.9400 - output8_binary_accuracy: 0.9501 - output9_binary_accuracy: 0.9475 - output10_binary_accuracy: 0.9874 - output11_binary_accuracy: 0.9921 - output12_binary_accuracy: 0.9981\n",
            "Epoch 00011: val_loss did not improve from 3.24730\n",
            "252/252 [==============================] - 75s 296ms/step - loss: 2.5432 - output1_loss: 0.0869 - output2_loss: 0.1473 - output3_loss: 0.2661 - output4_loss: 0.8412 - output5_loss: 0.2399 - output6_loss: 0.2382 - output7_loss: 0.2306 - output8_loss: 0.1927 - output9_loss: 0.1931 - output10_loss: 0.0484 - output11_loss: 0.0431 - output12_loss: 0.0156 - output1_binary_accuracy: 0.9838 - output2_binary_accuracy: 0.9649 - output3_binary_accuracy: 0.9281 - output4_binary_accuracy: 0.8627 - output5_binary_accuracy: 0.9335 - output6_binary_accuracy: 0.9431 - output7_binary_accuracy: 0.9400 - output8_binary_accuracy: 0.9501 - output9_binary_accuracy: 0.9475 - output10_binary_accuracy: 0.9874 - output11_binary_accuracy: 0.9921 - output12_binary_accuracy: 0.9981 - val_loss: 3.2532 - val_output1_loss: 0.0977 - val_output2_loss: 0.2078 - val_output3_loss: 0.3208 - val_output4_loss: 1.0860 - val_output5_loss: 0.3011 - val_output6_loss: 0.2720 - val_output7_loss: 0.3300 - val_output8_loss: 0.2567 - val_output9_loss: 0.2448 - val_output10_loss: 0.0957 - val_output11_loss: 0.0367 - val_output12_loss: 0.0038 - val_output1_binary_accuracy: 0.9795 - val_output2_binary_accuracy: 0.9502 - val_output3_binary_accuracy: 0.9023 - val_output4_binary_accuracy: 0.8223 - val_output5_binary_accuracy: 0.9189 - val_output6_binary_accuracy: 0.9365 - val_output7_binary_accuracy: 0.9199 - val_output8_binary_accuracy: 0.9180 - val_output9_binary_accuracy: 0.9316 - val_output10_binary_accuracy: 0.9814 - val_output11_binary_accuracy: 0.9932 - val_output12_binary_accuracy: 1.0000 - lr: 2.7000e-05\n",
            "Epoch 12/15\n",
            "162/252 [==================>...........] - ETA: 23s - loss: 2.4976 - output1_loss: 0.0809 - output2_loss: 0.1557 - output3_loss: 0.2556 - output4_loss: 0.8349 - output5_loss: 0.2336 - output6_loss: 0.2422 - output7_loss: 0.2190 - output8_loss: 0.1888 - output9_loss: 0.1752 - output10_loss: 0.0509 - output11_loss: 0.0416 - output12_loss: 0.0192 - output1_binary_accuracy: 0.9865 - output2_binary_accuracy: 0.9606 - output3_binary_accuracy: 0.9279 - output4_binary_accuracy: 0.8638 - output5_binary_accuracy: 0.9350 - output6_binary_accuracy: 0.9410 - output7_binary_accuracy: 0.9446 - output8_binary_accuracy: 0.9491 - output9_binary_accuracy: 0.9537 - output10_binary_accuracy: 0.9855 - output11_binary_accuracy: 0.9915 - output12_binary_accuracy: 0.9977Faile to load the data: BERT/vector/Train_198203_21013.npy\n",
            "245/252 [============================>.] - ETA: 1s - loss: 2.5151 - output1_loss: 0.0838 - output2_loss: 0.1483 - output3_loss: 0.2601 - output4_loss: 0.8320 - output5_loss: 0.2377 - output6_loss: 0.2383 - output7_loss: 0.2234 - output8_loss: 0.1936 - output9_loss: 0.1905 - output10_loss: 0.0488 - output11_loss: 0.0425 - output12_loss: 0.0161 - output1_binary_accuracy: 0.9853 - output2_binary_accuracy: 0.9616 - output3_binary_accuracy: 0.9277 - output4_binary_accuracy: 0.8656 - output5_binary_accuracy: 0.9328 - output6_binary_accuracy: 0.9412 - output7_binary_accuracy: 0.9444 - output8_binary_accuracy: 0.9492 - output9_binary_accuracy: 0.9499 - output10_binary_accuracy: 0.9865 - output11_binary_accuracy: 0.9916 - output12_binary_accuracy: 0.9981Faile to load the data: BERT/vector/Train_193849_20580.npy\n",
            "252/252 [==============================] - ETA: 0s - loss: 2.5201 - output1_loss: 0.0851 - output2_loss: 0.1483 - output3_loss: 0.2605 - output4_loss: 0.8327 - output5_loss: 0.2374 - output6_loss: 0.2383 - output7_loss: 0.2252 - output8_loss: 0.1956 - output9_loss: 0.1907 - output10_loss: 0.0487 - output11_loss: 0.0417 - output12_loss: 0.0158 - output1_binary_accuracy: 0.9851 - output2_binary_accuracy: 0.9617 - output3_binary_accuracy: 0.9281 - output4_binary_accuracy: 0.8650 - output5_binary_accuracy: 0.9324 - output6_binary_accuracy: 0.9411 - output7_binary_accuracy: 0.9444 - output8_binary_accuracy: 0.9492 - output9_binary_accuracy: 0.9500 - output10_binary_accuracy: 0.9866 - output11_binary_accuracy: 0.9917 - output12_binary_accuracy: 0.9981\n",
            "Epoch 00012: val_loss did not improve from 3.24730\n",
            "252/252 [==============================] - 74s 295ms/step - loss: 2.5201 - output1_loss: 0.0851 - output2_loss: 0.1483 - output3_loss: 0.2605 - output4_loss: 0.8327 - output5_loss: 0.2374 - output6_loss: 0.2383 - output7_loss: 0.2252 - output8_loss: 0.1956 - output9_loss: 0.1907 - output10_loss: 0.0487 - output11_loss: 0.0417 - output12_loss: 0.0158 - output1_binary_accuracy: 0.9851 - output2_binary_accuracy: 0.9617 - output3_binary_accuracy: 0.9281 - output4_binary_accuracy: 0.8650 - output5_binary_accuracy: 0.9324 - output6_binary_accuracy: 0.9411 - output7_binary_accuracy: 0.9444 - output8_binary_accuracy: 0.9492 - output9_binary_accuracy: 0.9500 - output10_binary_accuracy: 0.9866 - output11_binary_accuracy: 0.9917 - output12_binary_accuracy: 0.9981 - val_loss: 3.2635 - val_output1_loss: 0.0949 - val_output2_loss: 0.2085 - val_output3_loss: 0.3149 - val_output4_loss: 1.0920 - val_output5_loss: 0.3057 - val_output6_loss: 0.2785 - val_output7_loss: 0.3300 - val_output8_loss: 0.2567 - val_output9_loss: 0.2459 - val_output10_loss: 0.0954 - val_output11_loss: 0.0370 - val_output12_loss: 0.0040 - val_output1_binary_accuracy: 0.9795 - val_output2_binary_accuracy: 0.9512 - val_output3_binary_accuracy: 0.9180 - val_output4_binary_accuracy: 0.8262 - val_output5_binary_accuracy: 0.9229 - val_output6_binary_accuracy: 0.9355 - val_output7_binary_accuracy: 0.9199 - val_output8_binary_accuracy: 0.9170 - val_output9_binary_accuracy: 0.9316 - val_output10_binary_accuracy: 0.9814 - val_output11_binary_accuracy: 0.9932 - val_output12_binary_accuracy: 1.0000 - lr: 1.0000e-05\n",
            "Epoch 13/15\n",
            "102/252 [===========>..................] - ETA: 39s - loss: 2.5039 - output1_loss: 0.0917 - output2_loss: 0.1549 - output3_loss: 0.2777 - output4_loss: 0.8121 - output5_loss: 0.2367 - output6_loss: 0.2468 - output7_loss: 0.2121 - output8_loss: 0.1891 - output9_loss: 0.1954 - output10_loss: 0.0403 - output11_loss: 0.0369 - output12_loss: 0.0102 - output1_binary_accuracy: 0.9810 - output2_binary_accuracy: 0.9632 - output3_binary_accuracy: 0.9225 - output4_binary_accuracy: 0.8655 - output5_binary_accuracy: 0.9344 - output6_binary_accuracy: 0.9421 - output7_binary_accuracy: 0.9473 - output8_binary_accuracy: 0.9491 - output9_binary_accuracy: 0.9476 - output10_binary_accuracy: 0.9899 - output11_binary_accuracy: 0.9939 - output12_binary_accuracy: 0.9988Faile to load the data: BERT/vector/Train_198203_21013.npy\n",
            "209/252 [=======================>......] - ETA: 11s - loss: 2.5042 - output1_loss: 0.0871 - output2_loss: 0.1516 - output3_loss: 0.2615 - output4_loss: 0.8232 - output5_loss: 0.2302 - output6_loss: 0.2363 - output7_loss: 0.2219 - output8_loss: 0.1939 - output9_loss: 0.1939 - output10_loss: 0.0510 - output11_loss: 0.0393 - output12_loss: 0.0142 - output1_binary_accuracy: 0.9828 - output2_binary_accuracy: 0.9629 - output3_binary_accuracy: 0.9281 - output4_binary_accuracy: 0.8657 - output5_binary_accuracy: 0.9368 - output6_binary_accuracy: 0.9432 - output7_binary_accuracy: 0.9441 - output8_binary_accuracy: 0.9484 - output9_binary_accuracy: 0.9469 - output10_binary_accuracy: 0.9871 - output11_binary_accuracy: 0.9922 - output12_binary_accuracy: 0.9982Faile to load the data: BERT/vector/Train_193849_20580.npy\n",
            "252/252 [==============================] - ETA: 0s - loss: 2.5195 - output1_loss: 0.0873 - output2_loss: 0.1482 - output3_loss: 0.2638 - output4_loss: 0.8212 - output5_loss: 0.2356 - output6_loss: 0.2402 - output7_loss: 0.2285 - output8_loss: 0.1946 - output9_loss: 0.1927 - output10_loss: 0.0500 - output11_loss: 0.0422 - output12_loss: 0.0152 - output1_binary_accuracy: 0.9834 - output2_binary_accuracy: 0.9627 - output3_binary_accuracy: 0.9276 - output4_binary_accuracy: 0.8652 - output5_binary_accuracy: 0.9361 - output6_binary_accuracy: 0.9423 - output7_binary_accuracy: 0.9420 - output8_binary_accuracy: 0.9480 - output9_binary_accuracy: 0.9473 - output10_binary_accuracy: 0.9872 - output11_binary_accuracy: 0.9921 - output12_binary_accuracy: 0.9981\n",
            "Epoch 00013: val_loss did not improve from 3.24730\n",
            "252/252 [==============================] - 74s 295ms/step - loss: 2.5195 - output1_loss: 0.0873 - output2_loss: 0.1482 - output3_loss: 0.2638 - output4_loss: 0.8212 - output5_loss: 0.2356 - output6_loss: 0.2402 - output7_loss: 0.2285 - output8_loss: 0.1946 - output9_loss: 0.1927 - output10_loss: 0.0500 - output11_loss: 0.0422 - output12_loss: 0.0152 - output1_binary_accuracy: 0.9834 - output2_binary_accuracy: 0.9627 - output3_binary_accuracy: 0.9276 - output4_binary_accuracy: 0.8652 - output5_binary_accuracy: 0.9361 - output6_binary_accuracy: 0.9423 - output7_binary_accuracy: 0.9420 - output8_binary_accuracy: 0.9480 - output9_binary_accuracy: 0.9473 - output10_binary_accuracy: 0.9872 - output11_binary_accuracy: 0.9921 - output12_binary_accuracy: 0.9981 - val_loss: 3.2504 - val_output1_loss: 0.0988 - val_output2_loss: 0.2053 - val_output3_loss: 0.3178 - val_output4_loss: 1.0896 - val_output5_loss: 0.3089 - val_output6_loss: 0.2728 - val_output7_loss: 0.3247 - val_output8_loss: 0.2513 - val_output9_loss: 0.2448 - val_output10_loss: 0.0954 - val_output11_loss: 0.0370 - val_output12_loss: 0.0040 - val_output1_binary_accuracy: 0.9785 - val_output2_binary_accuracy: 0.9521 - val_output3_binary_accuracy: 0.9199 - val_output4_binary_accuracy: 0.8223 - val_output5_binary_accuracy: 0.9180 - val_output6_binary_accuracy: 0.9375 - val_output7_binary_accuracy: 0.9209 - val_output8_binary_accuracy: 0.9238 - val_output9_binary_accuracy: 0.9316 - val_output10_binary_accuracy: 0.9814 - val_output11_binary_accuracy: 0.9932 - val_output12_binary_accuracy: 1.0000 - lr: 1.0000e-05\n",
            "Epoch 14/15\n",
            " 15/252 [>.............................] - ETA: 1:00 - loss: 2.5589 - output1_loss: 0.0836 - output2_loss: 0.1394 - output3_loss: 0.2772 - output4_loss: 0.8330 - output5_loss: 0.2241 - output6_loss: 0.2910 - output7_loss: 0.2136 - output8_loss: 0.1971 - output9_loss: 0.1953 - output10_loss: 0.0365 - output11_loss: 0.0648 - output12_loss: 0.0034 - output1_binary_accuracy: 0.9812 - output2_binary_accuracy: 0.9667 - output3_binary_accuracy: 0.9292 - output4_binary_accuracy: 0.8646 - output5_binary_accuracy: 0.9312 - output6_binary_accuracy: 0.9333 - output7_binary_accuracy: 0.9396 - output8_binary_accuracy: 0.9458 - output9_binary_accuracy: 0.9396 - output10_binary_accuracy: 0.9917 - output11_binary_accuracy: 0.9896 - output12_binary_accuracy: 1.0000Faile to load the data: BERT/vector/Train_193849_20580.npy\n",
            "176/252 [===================>..........] - ETA: 20s - loss: 2.4580 - output1_loss: 0.0860 - output2_loss: 0.1402 - output3_loss: 0.2611 - output4_loss: 0.8076 - output5_loss: 0.2368 - output6_loss: 0.2298 - output7_loss: 0.2200 - output8_loss: 0.1874 - output9_loss: 0.1877 - output10_loss: 0.0458 - output11_loss: 0.0415 - output12_loss: 0.0140 - output1_binary_accuracy: 0.9838 - output2_binary_accuracy: 0.9634 - output3_binary_accuracy: 0.9284 - output4_binary_accuracy: 0.8679 - output5_binary_accuracy: 0.9331 - output6_binary_accuracy: 0.9458 - output7_binary_accuracy: 0.9432 - output8_binary_accuracy: 0.9494 - output9_binary_accuracy: 0.9483 - output10_binary_accuracy: 0.9876 - output11_binary_accuracy: 0.9920 - output12_binary_accuracy: 0.9982Faile to load the data: BERT/vector/Train_198203_21013.npy\n",
            "252/252 [==============================] - ETA: 0s - loss: 2.5027 - output1_loss: 0.0859 - output2_loss: 0.1452 - output3_loss: 0.2620 - output4_loss: 0.8213 - output5_loss: 0.2361 - output6_loss: 0.2363 - output7_loss: 0.2281 - output8_loss: 0.1909 - output9_loss: 0.1913 - output10_loss: 0.0484 - output11_loss: 0.0419 - output12_loss: 0.0154 - output1_binary_accuracy: 0.9843 - output2_binary_accuracy: 0.9627 - output3_binary_accuracy: 0.9280 - output4_binary_accuracy: 0.8663 - output5_binary_accuracy: 0.9333 - output6_binary_accuracy: 0.9428 - output7_binary_accuracy: 0.9422 - output8_binary_accuracy: 0.9490 - output9_binary_accuracy: 0.9470 - output10_binary_accuracy: 0.9869 - output11_binary_accuracy: 0.9919 - output12_binary_accuracy: 0.9981\n",
            "Epoch 00014: val_loss did not improve from 3.24730\n",
            "252/252 [==============================] - 75s 297ms/step - loss: 2.5027 - output1_loss: 0.0859 - output2_loss: 0.1452 - output3_loss: 0.2620 - output4_loss: 0.8213 - output5_loss: 0.2361 - output6_loss: 0.2363 - output7_loss: 0.2281 - output8_loss: 0.1909 - output9_loss: 0.1913 - output10_loss: 0.0484 - output11_loss: 0.0419 - output12_loss: 0.0154 - output1_binary_accuracy: 0.9843 - output2_binary_accuracy: 0.9627 - output3_binary_accuracy: 0.9280 - output4_binary_accuracy: 0.8663 - output5_binary_accuracy: 0.9333 - output6_binary_accuracy: 0.9428 - output7_binary_accuracy: 0.9422 - output8_binary_accuracy: 0.9490 - output9_binary_accuracy: 0.9470 - output10_binary_accuracy: 0.9869 - output11_binary_accuracy: 0.9919 - output12_binary_accuracy: 0.9981 - val_loss: 3.2759 - val_output1_loss: 0.0989 - val_output2_loss: 0.2094 - val_output3_loss: 0.3181 - val_output4_loss: 1.0967 - val_output5_loss: 0.3084 - val_output6_loss: 0.2802 - val_output7_loss: 0.3336 - val_output8_loss: 0.2480 - val_output9_loss: 0.2460 - val_output10_loss: 0.0956 - val_output11_loss: 0.0369 - val_output12_loss: 0.0040 - val_output1_binary_accuracy: 0.9785 - val_output2_binary_accuracy: 0.9521 - val_output3_binary_accuracy: 0.9150 - val_output4_binary_accuracy: 0.8223 - val_output5_binary_accuracy: 0.9199 - val_output6_binary_accuracy: 0.9346 - val_output7_binary_accuracy: 0.9199 - val_output8_binary_accuracy: 0.9238 - val_output9_binary_accuracy: 0.9326 - val_output10_binary_accuracy: 0.9824 - val_output11_binary_accuracy: 0.9932 - val_output12_binary_accuracy: 1.0000 - lr: 1.0000e-05\n",
            "Epoch 15/15\n",
            "101/252 [===========>..................] - ETA: 40s - loss: 2.5225 - output1_loss: 0.0904 - output2_loss: 0.1520 - output3_loss: 0.2513 - output4_loss: 0.8219 - output5_loss: 0.2386 - output6_loss: 0.2362 - output7_loss: 0.2228 - output8_loss: 0.2114 - output9_loss: 0.1942 - output10_loss: 0.0489 - output11_loss: 0.0422 - output12_loss: 0.0125 - output1_binary_accuracy: 0.9836 - output2_binary_accuracy: 0.9613 - output3_binary_accuracy: 0.9332 - output4_binary_accuracy: 0.8660 - output5_binary_accuracy: 0.9329 - output6_binary_accuracy: 0.9425 - output7_binary_accuracy: 0.9428 - output8_binary_accuracy: 0.9440 - output9_binary_accuracy: 0.9428 - output10_binary_accuracy: 0.9870 - output11_binary_accuracy: 0.9907 - output12_binary_accuracy: 0.9985Faile to load the data: BERT/vector/Train_198203_21013.npy\n",
            "153/252 [=================>............] - ETA: 26s - loss: 2.5342 - output1_loss: 0.0962 - output2_loss: 0.1549 - output3_loss: 0.2667 - output4_loss: 0.8183 - output5_loss: 0.2356 - output6_loss: 0.2409 - output7_loss: 0.2198 - output8_loss: 0.2014 - output9_loss: 0.1954 - output10_loss: 0.0466 - output11_loss: 0.0452 - output12_loss: 0.0132 - output1_binary_accuracy: 0.9826 - output2_binary_accuracy: 0.9614 - output3_binary_accuracy: 0.9271 - output4_binary_accuracy: 0.8648 - output5_binary_accuracy: 0.9348 - output6_binary_accuracy: 0.9426 - output7_binary_accuracy: 0.9432 - output8_binary_accuracy: 0.9463 - output9_binary_accuracy: 0.9449 - output10_binary_accuracy: 0.9879 - output11_binary_accuracy: 0.9910 - output12_binary_accuracy: 0.9986Faile to load the data: BERT/vector/Train_193849_20580.npy\n",
            "252/252 [==============================] - ETA: 0s - loss: 2.4945 - output1_loss: 0.0852 - output2_loss: 0.1471 - output3_loss: 0.2617 - output4_loss: 0.8195 - output5_loss: 0.2358 - output6_loss: 0.2355 - output7_loss: 0.2232 - output8_loss: 0.1914 - output9_loss: 0.1897 - output10_loss: 0.0485 - output11_loss: 0.0414 - output12_loss: 0.0154 - output1_binary_accuracy: 0.9849 - output2_binary_accuracy: 0.9629 - output3_binary_accuracy: 0.9283 - output4_binary_accuracy: 0.8662 - output5_binary_accuracy: 0.9348 - output6_binary_accuracy: 0.9425 - output7_binary_accuracy: 0.9436 - output8_binary_accuracy: 0.9500 - output9_binary_accuracy: 0.9499 - output10_binary_accuracy: 0.9872 - output11_binary_accuracy: 0.9918 - output12_binary_accuracy: 0.9981\n",
            "Epoch 00015: val_loss did not improve from 3.24730\n",
            "252/252 [==============================] - 75s 298ms/step - loss: 2.4945 - output1_loss: 0.0852 - output2_loss: 0.1471 - output3_loss: 0.2617 - output4_loss: 0.8195 - output5_loss: 0.2358 - output6_loss: 0.2355 - output7_loss: 0.2232 - output8_loss: 0.1914 - output9_loss: 0.1897 - output10_loss: 0.0485 - output11_loss: 0.0414 - output12_loss: 0.0154 - output1_binary_accuracy: 0.9849 - output2_binary_accuracy: 0.9629 - output3_binary_accuracy: 0.9283 - output4_binary_accuracy: 0.8662 - output5_binary_accuracy: 0.9348 - output6_binary_accuracy: 0.9425 - output7_binary_accuracy: 0.9436 - output8_binary_accuracy: 0.9500 - output9_binary_accuracy: 0.9499 - output10_binary_accuracy: 0.9872 - output11_binary_accuracy: 0.9918 - output12_binary_accuracy: 0.9981 - val_loss: 3.2788 - val_output1_loss: 0.0988 - val_output2_loss: 0.2102 - val_output3_loss: 0.3187 - val_output4_loss: 1.0982 - val_output5_loss: 0.3099 - val_output6_loss: 0.2793 - val_output7_loss: 0.3328 - val_output8_loss: 0.2490 - val_output9_loss: 0.2446 - val_output10_loss: 0.0965 - val_output11_loss: 0.0369 - val_output12_loss: 0.0040 - val_output1_binary_accuracy: 0.9785 - val_output2_binary_accuracy: 0.9521 - val_output3_binary_accuracy: 0.9199 - val_output4_binary_accuracy: 0.8252 - val_output5_binary_accuracy: 0.9209 - val_output6_binary_accuracy: 0.9346 - val_output7_binary_accuracy: 0.9199 - val_output8_binary_accuracy: 0.9248 - val_output9_binary_accuracy: 0.9326 - val_output10_binary_accuracy: 0.9814 - val_output11_binary_accuracy: 0.9932 - val_output12_binary_accuracy: 1.0000 - lr: 1.0000e-05\n"
          ],
          "name": "stdout"
        },
        {
          "output_type": "execute_result",
          "data": {
            "text/plain": [
              "<tensorflow.python.keras.callbacks.History at 0x7fece6325470>"
            ]
          },
          "metadata": {
            "tags": []
          },
          "execution_count": 15
        }
      ]
    },
    {
      "cell_type": "markdown",
      "metadata": {
        "id": "QMfSJxN--xs1",
        "colab_type": "text"
      },
      "source": [
        "## Prediction\n",
        "\n",
        "\n"
      ]
    },
    {
      "cell_type": "code",
      "metadata": {
        "id": "jsDym2PgJ6ml",
        "colab_type": "code",
        "outputId": "8508e34b-237a-43d3-83c5-ff3eba8e141d",
        "colab": {
          "base_uri": "https://localhost:8080/",
          "height": 1000
        }
      },
      "source": [
        "model.summary()"
      ],
      "execution_count": 16,
      "outputs": [
        {
          "output_type": "stream",
          "text": [
            "Model: \"model\"\n",
            "__________________________________________________________________________________________________\n",
            "Layer (type)                    Output Shape         Param #     Connected to                     \n",
            "==================================================================================================\n",
            "input_1 (InputLayer)            [(None, 1259, 768)]  0                                            \n",
            "__________________________________________________________________________________________________\n",
            "spatial_dropout1d (SpatialDropo (None, 1259, 768)    0           input_1[0][0]                    \n",
            "__________________________________________________________________________________________________\n",
            "bidirectional (Bidirectional)   (None, 1259, 128)    426496      spatial_dropout1d[0][0]          \n",
            "__________________________________________________________________________________________________\n",
            "bidirectional_1 (Bidirectional) (None, 1259, 128)    98816       bidirectional[0][0]              \n",
            "__________________________________________________________________________________________________\n",
            "global_max_pooling1d (GlobalMax (None, 128)          0           bidirectional_1[0][0]            \n",
            "__________________________________________________________________________________________________\n",
            "global_average_pooling1d (Globa (None, 128)          0           bidirectional_1[0][0]            \n",
            "__________________________________________________________________________________________________\n",
            "input_2 (InputLayer)            [(None, 24)]         0                                            \n",
            "__________________________________________________________________________________________________\n",
            "concatenate (Concatenate)       (None, 280)          0           global_max_pooling1d[0][0]       \n",
            "                                                                 global_average_pooling1d[0][0]   \n",
            "                                                                 input_2[0][0]                    \n",
            "__________________________________________________________________________________________________\n",
            "dense (Dense)                   (None, 280)          78680       concatenate[0][0]                \n",
            "__________________________________________________________________________________________________\n",
            "add (Add)                       (None, 280)          0           concatenate[0][0]                \n",
            "                                                                 dense[0][0]                      \n",
            "__________________________________________________________________________________________________\n",
            "dense_1 (Dense)                 (None, 280)          78680       add[0][0]                        \n",
            "__________________________________________________________________________________________________\n",
            "add_1 (Add)                     (None, 280)          0           add[0][0]                        \n",
            "                                                                 dense_1[0][0]                    \n",
            "__________________________________________________________________________________________________\n",
            "output1 (Dense)                 (None, 1)            281         add_1[0][0]                      \n",
            "__________________________________________________________________________________________________\n",
            "output2 (Dense)                 (None, 1)            281         add_1[0][0]                      \n",
            "__________________________________________________________________________________________________\n",
            "output3 (Dense)                 (None, 1)            281         add_1[0][0]                      \n",
            "__________________________________________________________________________________________________\n",
            "output4 (Dense)                 (None, 1)            281         add_1[0][0]                      \n",
            "__________________________________________________________________________________________________\n",
            "output5 (Dense)                 (None, 1)            281         add_1[0][0]                      \n",
            "__________________________________________________________________________________________________\n",
            "output6 (Dense)                 (None, 1)            281         add_1[0][0]                      \n",
            "__________________________________________________________________________________________________\n",
            "output7 (Dense)                 (None, 1)            281         add_1[0][0]                      \n",
            "__________________________________________________________________________________________________\n",
            "output8 (Dense)                 (None, 1)            281         add_1[0][0]                      \n",
            "__________________________________________________________________________________________________\n",
            "output9 (Dense)                 (None, 1)            281         add_1[0][0]                      \n",
            "__________________________________________________________________________________________________\n",
            "output10 (Dense)                (None, 1)            281         add_1[0][0]                      \n",
            "__________________________________________________________________________________________________\n",
            "output11 (Dense)                (None, 1)            281         add_1[0][0]                      \n",
            "__________________________________________________________________________________________________\n",
            "output12 (Dense)                (None, 1)            281         add_1[0][0]                      \n",
            "==================================================================================================\n",
            "Total params: 686,044\n",
            "Trainable params: 686,044\n",
            "Non-trainable params: 0\n",
            "__________________________________________________________________________________________________\n"
          ],
          "name": "stdout"
        }
      ]
    },
    {
      "cell_type": "code",
      "metadata": {
        "id": "onSOnIBxPXa0",
        "colab_type": "code",
        "colab": {}
      },
      "source": [
        "model.load_weights(Name)"
      ],
      "execution_count": 0,
      "outputs": []
    },
    {
      "cell_type": "code",
      "metadata": {
        "id": "2ZwqpZmP_pVV",
        "colab_type": "code",
        "colab": {}
      },
      "source": [
        "class testDataGenerator(tf.keras.utils.Sequence):\n",
        "    'Generates data for Keras'\n",
        "    def __init__(self, pdDataFrame, dbName, labels=['oQ', 'RQ', 'CQ', 'FD', 'FQ', 'IR', 'PA', 'PF', 'NF', 'GG', 'JK', 'O'],\\\n",
        "                 batch_size=25, dim=MAX_LEN, n_channels=N_CHANNELS,\\\n",
        "                 n_classes=N_CLASS, shuffle=False):\n",
        "        'Initialization'\n",
        "        self.dim = dim\n",
        "        self.batch_size = batch_size\n",
        "        self.labels = labels\n",
        "        self.list_IDs = pdDataFrame\n",
        "        self.n_channels = n_channels\n",
        "        self.n_classes = n_classes\n",
        "        self.shuffle = shuffle\n",
        "        self.dbName=dbName\n",
        "        self.on_epoch_end()\n",
        "\n",
        "    def __len__(self):\n",
        "        'Denotes the number of batches per epoch'\n",
        "        return int(np.floor(len(self.list_IDs) / self.batch_size))\n",
        "\n",
        "    def __getitem__(self, index):\n",
        "        'Generate one batch of data'\n",
        "        # Generate indexes of the batch\n",
        "        indexes = self.indexes[index*self.batch_size:(index+1)*self.batch_size]\n",
        "\n",
        "        # Find list of IDs\n",
        "        list_IDs_temp = self.list_IDs.iloc[indexes,:]\n",
        "\n",
        "        # Generate data\n",
        "        X = self.__data_generation(list_IDs_temp.reset_index(drop=True))\n",
        "\n",
        "        return X\n",
        "\n",
        "    def on_epoch_end(self):\n",
        "        'Updates indexes after each epoch'\n",
        "        self.indexes = np.arange(len(self.list_IDs))\n",
        "        if self.shuffle == True:\n",
        "            np.random.shuffle(self.indexes)\n",
        "\n",
        "    def __data_generation(self, list_IDs_temp):\n",
        "        'Generates data containing batch_size samples' # X : (n_samples, *dim, n_channels)\n",
        "         # Initialization\n",
        "        x = np.zeros((self.batch_size, self.dim, self.n_channels))\n",
        "\n",
        "        # Generate data\n",
        "        for i in range(len(list_IDs_temp)):\n",
        "            utterenceID=list_IDs_temp.loc[i,'id']\n",
        "            diaglogID=list_IDs_temp.loc[i,'diaglogID']\n",
        "            try:\n",
        "              temp=np.load('BERT/vector/'+self.dbName+'_'+str(utterenceID)+'_'+str(diaglogID)+'.npy')\n",
        "              x[i,0:temp.shape[0],:] =temp \n",
        "              del temp\n",
        "            except:\n",
        "              print('Faile to load the data: BERT/vector/'+self.dbName+'_'+str(utterenceID)+'_'+str(diaglogID)+'.npy')\n",
        "\n",
        "          \n",
        "        X=[x,np.array(list_IDs_temp.iloc[:,INDEX_Features])]\n",
        "        return X"
      ],
      "execution_count": 0,
      "outputs": []
    },
    {
      "cell_type": "code",
      "metadata": {
        "id": "pgnTSkm2_EBW",
        "colab_type": "code",
        "colab": {}
      },
      "source": [
        "test_generator=testDataGenerator(Test,'Test')"
      ],
      "execution_count": 0,
      "outputs": []
    },
    {
      "cell_type": "code",
      "metadata": {
        "id": "MneDN8jV-spA",
        "colab_type": "code",
        "outputId": "955a5457-c981-454b-eb5c-0b47ef571c3a",
        "colab": {
          "base_uri": "https://localhost:8080/",
          "height": 87
        }
      },
      "source": [
        "prediction = model.predict_generator(test_generator)"
      ],
      "execution_count": 20,
      "outputs": [
        {
          "output_type": "stream",
          "text": [
            "WARNING:tensorflow:From <ipython-input-20-342c80f366ab>:1: Model.predict_generator (from tensorflow.python.keras.engine.training) is deprecated and will be removed in a future version.\n",
            "Instructions for updating:\n",
            "Please use Model.predict, which supports generators.\n"
          ],
          "name": "stdout"
        }
      ]
    },
    {
      "cell_type": "code",
      "metadata": {
        "id": "P0iEXswMaFjG",
        "colab_type": "code",
        "colab": {}
      },
      "source": [
        "Prediction=np.array(prediction)"
      ],
      "execution_count": 0,
      "outputs": []
    },
    {
      "cell_type": "code",
      "metadata": {
        "id": "L3GWspxEe93u",
        "colab_type": "code",
        "colab": {}
      },
      "source": [
        "y_true=np.array(Test.iloc[:,0:N_CLASS])\n",
        "y_pred=Prediction"
      ],
      "execution_count": 0,
      "outputs": []
    },
    {
      "cell_type": "code",
      "metadata": {
        "id": "UHjjga8Rf5pB",
        "colab_type": "code",
        "colab": {}
      },
      "source": [
        "def hamming_score(y_true, y_pred, toggle_output=False):\n",
        "    '''\n",
        "    Compute the Hamming score (a.k.a. label-based accuracy) for the multi-label case\n",
        "    https://stackoverflow.com/q/32239577/395857\n",
        "    '''\n",
        "    acc_list = []\n",
        "    for i in range(y_pred.shape[1]):\n",
        "        set_true = set( np.where(y_true[i,:])[0])\n",
        "        set_pred = set( np.where(y_pred[:,i,0]>=0.5)[0])\n",
        "        if toggle_output:\n",
        "            print('set_true: {0}'.format([id2label[id] for id in set_true]), 'set_pred: {0}'.format([id2label[id] for id in set_pred]))\n",
        "        tmp_a = None\n",
        "        if len(set_true) == 0 and len(set_pred) == 0:\n",
        "            tmp_a = 1\n",
        "        else:\n",
        "            tmp_a = len(set_true.intersection(set_pred))/\\\n",
        "                    float( len(set_true.union(set_pred)) )\n",
        "        #print('tmp_a: {0}'.format(tmp_a))\n",
        "        acc_list.append(tmp_a)\n",
        "    return np.mean(acc_list)"
      ],
      "execution_count": 0,
      "outputs": []
    },
    {
      "cell_type": "code",
      "metadata": {
        "id": "PIWmhjAYgzlg",
        "colab_type": "code",
        "outputId": "db62f416-f094-4127-9408-0f3e2071c89e",
        "colab": {
          "base_uri": "https://localhost:8080/",
          "height": 34
        }
      },
      "source": [
        "hamming_score(y_true, y_pred, toggle_output=False)"
      ],
      "execution_count": 24,
      "outputs": [
        {
          "output_type": "execute_result",
          "data": {
            "text/plain": [
              "0.6816936936936936"
            ]
          },
          "metadata": {
            "tags": []
          },
          "execution_count": 24
        }
      ]
    },
    {
      "cell_type": "code",
      "metadata": {
        "id": "pHKfPrFie7Of",
        "colab_type": "code",
        "colab": {}
      },
      "source": [
        "   \n",
        "def f1(y_true, y_pred):\n",
        "    correct_preds, total_correct, total_preds = 0., 0., 0.\n",
        "    for i in range(y_true.shape[0]):\n",
        "        set_true = set( np.where(y_true[i,:])[0])\n",
        "        set_pred = set( np.where(y_pred[:,i,0]>=0.5)[0])\n",
        "        \n",
        "        correct_preds += len(set_true & set_pred)\n",
        "        total_preds += len(set_pred)\n",
        "        total_correct += len(set_true)\n",
        "\n",
        "    p = correct_preds / total_preds if correct_preds > 0 else 0\n",
        "    r = correct_preds / total_correct if correct_preds > 0 else 0\n",
        "    f1 = 2 * p * r / (p + r) if correct_preds > 0 else 0\n",
        "    return p, r, f1"
      ],
      "execution_count": 0,
      "outputs": []
    },
    {
      "cell_type": "code",
      "metadata": {
        "id": "seCa3eD5cvdx",
        "colab_type": "code",
        "outputId": "8346b926-f6d5-491f-9598-b9bc2416207a",
        "colab": {
          "base_uri": "https://localhost:8080/",
          "height": 34
        }
      },
      "source": [
        "f1(y_true, y_pred)"
      ],
      "execution_count": 26,
      "outputs": [
        {
          "output_type": "execute_result",
          "data": {
            "text/plain": [
              "(0.768624014022787, 0.6525297619047619, 0.7058350100603622)"
            ]
          },
          "metadata": {
            "tags": []
          },
          "execution_count": 26
        }
      ]
    }
  ]
}