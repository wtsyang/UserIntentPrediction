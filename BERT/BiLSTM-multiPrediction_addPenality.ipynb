{
  "nbformat": 4,
  "nbformat_minor": 0,
  "metadata": {
    "colab": {
      "name": "LSTM.ipynb",
      "provenance": [],
      "collapsed_sections": [],
      "authorship_tag": "ABX9TyPsgF+Yn5Ot3tdkoTEX3wMv",
      "include_colab_link": true
    },
    "kernelspec": {
      "name": "python3",
      "display_name": "Python 3"
    },
    "accelerator": "GPU"
  },
  "cells": [
    {
      "cell_type": "markdown",
      "metadata": {
        "id": "view-in-github",
        "colab_type": "text"
      },
      "source": [
        "<a href=\"https://colab.research.google.com/github/wtsyang/UserIntentPrediction/blob/BERT/BERT/LSTM-multiPrediction_addPenality.ipynb\" target=\"_parent\"><img src=\"https://colab.research.google.com/assets/colab-badge.svg\" alt=\"Open In Colab\"/></a>"
      ]
    },
    {
      "cell_type": "code",
      "metadata": {
        "id": "ot0Ha--FR-S1",
        "colab_type": "code",
        "outputId": "a1c54722-9ce8-491c-8592-aedbca02e604",
        "colab": {
          "base_uri": "https://localhost:8080/",
          "height": 138
        }
      },
      "source": [
        "from google.colab import drive # import drive from google colab\n",
        "\n",
        "ROOT = \"/content/drive\"     # default location for the drive\n",
        "print(ROOT)                 # print content of ROOT (Optional)\n",
        "\n",
        "drive.mount(ROOT)           # we mount the google drive at /content/drive"
      ],
      "execution_count": 1,
      "outputs": [
        {
          "output_type": "stream",
          "text": [
            "/content/drive\n",
            "Go to this URL in a browser: https://accounts.google.com/o/oauth2/auth?client_id=947318989803-6bn6qk8qdgf4n4g3pfee6491hc0brc4i.apps.googleusercontent.com&redirect_uri=urn%3aietf%3awg%3aoauth%3a2.0%3aoob&response_type=code&scope=email%20https%3a%2f%2fwww.googleapis.com%2fauth%2fdocs.test%20https%3a%2f%2fwww.googleapis.com%2fauth%2fdrive%20https%3a%2f%2fwww.googleapis.com%2fauth%2fdrive.photos.readonly%20https%3a%2f%2fwww.googleapis.com%2fauth%2fpeopleapi.readonly\n",
            "\n",
            "Enter your authorization code:\n",
            "··········\n",
            "Mounted at /content/drive\n"
          ],
          "name": "stdout"
        }
      ]
    },
    {
      "cell_type": "code",
      "metadata": {
        "id": "-6DT7DNwSNn9",
        "colab_type": "code",
        "outputId": "adbdb9a0-e6f5-425c-ba6f-51952db2648d",
        "colab": {
          "base_uri": "https://localhost:8080/",
          "height": 34
        }
      },
      "source": [
        "%cd '/content/drive/My Drive/UserIntentPrediction'"
      ],
      "execution_count": 2,
      "outputs": [
        {
          "output_type": "stream",
          "text": [
            "/content/drive/My Drive/UserIntentPrediction\n"
          ],
          "name": "stdout"
        }
      ]
    },
    {
      "cell_type": "code",
      "metadata": {
        "id": "De681umQRanU",
        "colab_type": "code",
        "outputId": "f1b3b6bd-fec8-4e90-ff1d-cc4ea69a7c4c",
        "colab": {
          "base_uri": "https://localhost:8080/",
          "height": 363
        }
      },
      "source": [
        "import numpy as np\n",
        "import pandas as pd\n",
        "import tensorflow as tf\n",
        "from tensorflow.keras.models import Model\n",
        "from tensorflow.keras.layers import Input, Dense, Embedding, SpatialDropout1D, add, concatenate\n",
        "from tensorflow.keras.layers  import LSTM, Bidirectional, GlobalMaxPooling1D, GlobalAveragePooling1D\n",
        "from tensorflow.keras.preprocessing import text, sequence\n",
        "from gensim.models import KeyedVectors\n",
        "from sklearn.model_selection  import train_test_split\n",
        "import pickle\n",
        "import sklearn\n",
        "from tensorflow.keras.utils import multi_gpu_model\n",
        "from tensorflow.keras.callbacks import ModelCheckpoint\n",
        "from tensorflow.keras.callbacks import ReduceLROnPlateau\n",
        "from tensorflow.keras import backend as K\n",
        "from tensorflow.python.framework import ops\n",
        "from tensorflow.python.ops import math_ops\n",
        "from tensorflow.python.framework import smart_cond\n",
        "from functools import partial\n",
        "from tensorflow.keras.models import load_weights\n",
        "\n",
        "print('Tensorflow Version:',tf.__version__)"
      ],
      "execution_count": 25,
      "outputs": [
        {
          "output_type": "error",
          "ename": "ImportError",
          "evalue": "ignored",
          "traceback": [
            "\u001b[0;31m---------------------------------------------------------------------------\u001b[0m",
            "\u001b[0;31mImportError\u001b[0m                               Traceback (most recent call last)",
            "\u001b[0;32m<ipython-input-25-9ac44b864388>\u001b[0m in \u001b[0;36m<module>\u001b[0;34m()\u001b[0m\n\u001b[1;32m     18\u001b[0m \u001b[0;32mfrom\u001b[0m \u001b[0mtensorflow\u001b[0m\u001b[0;34m.\u001b[0m\u001b[0mpython\u001b[0m\u001b[0;34m.\u001b[0m\u001b[0mframework\u001b[0m \u001b[0;32mimport\u001b[0m \u001b[0msmart_cond\u001b[0m\u001b[0;34m\u001b[0m\u001b[0;34m\u001b[0m\u001b[0m\n\u001b[1;32m     19\u001b[0m \u001b[0;32mfrom\u001b[0m \u001b[0mfunctools\u001b[0m \u001b[0;32mimport\u001b[0m \u001b[0mpartial\u001b[0m\u001b[0;34m\u001b[0m\u001b[0;34m\u001b[0m\u001b[0m\n\u001b[0;32m---> 20\u001b[0;31m \u001b[0;32mfrom\u001b[0m \u001b[0mtensorflow\u001b[0m\u001b[0;34m.\u001b[0m\u001b[0mkeras\u001b[0m\u001b[0;34m.\u001b[0m\u001b[0mmodels\u001b[0m \u001b[0;32mimport\u001b[0m \u001b[0mload_weights\u001b[0m\u001b[0;34m\u001b[0m\u001b[0;34m\u001b[0m\u001b[0m\n\u001b[0m\u001b[1;32m     21\u001b[0m \u001b[0;34m\u001b[0m\u001b[0m\n\u001b[1;32m     22\u001b[0m \u001b[0mprint\u001b[0m\u001b[0;34m(\u001b[0m\u001b[0;34m'Tensorflow Version:'\u001b[0m\u001b[0;34m,\u001b[0m\u001b[0mtf\u001b[0m\u001b[0;34m.\u001b[0m\u001b[0m__version__\u001b[0m\u001b[0;34m)\u001b[0m\u001b[0;34m\u001b[0m\u001b[0;34m\u001b[0m\u001b[0m\n",
            "\u001b[0;31mImportError\u001b[0m: cannot import name 'load_weights'",
            "",
            "\u001b[0;31m---------------------------------------------------------------------------\u001b[0;32m\nNOTE: If your import is failing due to a missing package, you can\nmanually install dependencies using either !pip or !apt.\n\nTo view examples of installing some common dependencies, click the\n\"Open Examples\" button below.\n\u001b[0;31m---------------------------------------------------------------------------\u001b[0m\n"
          ]
        }
      ]
    },
    {
      "cell_type": "code",
      "metadata": {
        "id": "yIpXSpeYR4rx",
        "colab_type": "code",
        "colab": {}
      },
      "source": [
        "NUM_MODELS = 1\n",
        "BATCH_SIZE = 32\n",
        "LSTM_UNITS = 128\n",
        "DENSE_HIDDEN_UNITS = 4 * LSTM_UNITS\n",
        "EPOCHS = 24\n",
        "MAX_LEN = 1259\n",
        "N_CHANNELS=768\n",
        "N_CLASS=12"
      ],
      "execution_count": 0,
      "outputs": []
    },
    {
      "cell_type": "markdown",
      "metadata": {
        "id": "7lcdmN7BSHGl",
        "colab_type": "text"
      },
      "source": [
        "## Loading the dataset\n"
      ]
    },
    {
      "cell_type": "code",
      "metadata": {
        "id": "5p2_0TqoR9ef",
        "colab_type": "code",
        "colab": {}
      },
      "source": [
        "Train=pd.read_csv('data/Train_Preprocessing.csv').reset_index(drop=True)\n",
        "Valid=pd.read_csv('data/Valid_Preprocessing.csv').reset_index(drop=True)\n",
        "Test=pd.read_csv('data/Test_Preprocessing.csv').reset_index(drop=True)"
      ],
      "execution_count": 0,
      "outputs": []
    },
    {
      "cell_type": "code",
      "metadata": {
        "id": "hjliEKeAhO4e",
        "colab_type": "code",
        "colab": {}
      },
      "source": [
        "class DataGenerator(tf.keras.utils.Sequence):\n",
        "    'Generates data for Keras'\n",
        "    def __init__(self, pdDataFrame, dbName, labels=['oQ', 'RQ', 'CQ', 'FD', 'FQ', 'IR', 'PA', 'PF', 'NF', 'GG', 'JK', 'O'],\\\n",
        "                 batch_size=BATCH_SIZE, dim=MAX_LEN, n_channels=N_CHANNELS,\\\n",
        "                 n_classes=N_CLASS, shuffle=True):\n",
        "        'Initialization'\n",
        "        self.dim = dim\n",
        "        self.batch_size = batch_size\n",
        "        self.labels = labels\n",
        "        self.list_IDs = pdDataFrame\n",
        "        self.n_channels = n_channels\n",
        "        self.n_classes = n_classes\n",
        "        self.shuffle = shuffle\n",
        "        self.dbName=dbName\n",
        "        self.on_epoch_end()\n",
        "\n",
        "    def __len__(self):\n",
        "        'Denotes the number of batches per epoch'\n",
        "        return int(np.floor(len(self.list_IDs) / self.batch_size))\n",
        "\n",
        "    def __getitem__(self, index):\n",
        "        'Generate one batch of data'\n",
        "        # Generate indexes of the batch\n",
        "        indexes = self.indexes[index*self.batch_size:(index+1)*self.batch_size]\n",
        "\n",
        "        # Find list of IDs\n",
        "        list_IDs_temp = self.list_IDs.iloc[indexes,:]\n",
        "\n",
        "        # Generate data\n",
        "        X, y = self.__data_generation(list_IDs_temp.reset_index(drop=True))\n",
        "\n",
        "        return X, y\n",
        "\n",
        "    def on_epoch_end(self):\n",
        "        'Updates indexes after each epoch'\n",
        "        self.indexes = np.arange(len(self.list_IDs))\n",
        "        if self.shuffle == True:\n",
        "            np.random.shuffle(self.indexes)\n",
        "\n",
        "    def __data_generation(self, list_IDs_temp):\n",
        "        'Generates data containing batch_size samples' # X : (n_samples, *dim, n_channels)\n",
        "        # Initialization\n",
        "        X = np.zeros((self.batch_size, self.dim, self.n_channels))\n",
        "        y = np.zeros((self.batch_size,self.n_classes), dtype=int)\n",
        "\n",
        "        # Generate data\n",
        "        for i in range(len(list_IDs_temp)):\n",
        "            utterenceID=list_IDs_temp.loc[i,'id']\n",
        "            diaglogID=list_IDs_temp.loc[i,'diaglogID']\n",
        "            try:\n",
        "              temp=np.load('BERT/vector/'+self.dbName+'_'+str(utterenceID)+'_'+str(diaglogID)+'.npy')\n",
        "              X[i,0:temp.shape[0],:] =temp \n",
        "              del temp\n",
        "            except:\n",
        "              print('Faile to load the data: BERT/vector/'+self.dbName+'_'+str(utterenceID)+'_'+str(diaglogID)+'.npy')\n",
        "            # Store sample\n",
        "            # Store class\n",
        "            y[i,:] = np.array(list_IDs_temp.iloc[i,0:12])\n",
        "        Y=[]\n",
        "        for i in range(self.n_classes):\n",
        "          Y+=[y[:,i].reshape((self.batch_size,))]\n",
        "        return X, Y"
      ],
      "execution_count": 0,
      "outputs": []
    },
    {
      "cell_type": "code",
      "metadata": {
        "id": "8ijHEnaK7opB",
        "colab_type": "code",
        "colab": {}
      },
      "source": [
        "training_generator = DataGenerator(Train,'Train')\n",
        "validation_generator = DataGenerator(Valid,'Valid')"
      ],
      "execution_count": 0,
      "outputs": []
    },
    {
      "cell_type": "code",
      "metadata": {
        "id": "QbBl5lHEfSGa",
        "colab_type": "code",
        "colab": {}
      },
      "source": [
        "classWeight_Dict={}\n",
        "for i in range(N_CLASS):\n",
        "  ratioTrue=np.sum(Train.iloc[:,i])/len(Train)\n",
        "  classWeight_Dict['output'+str(i+1)]={0:1+1/((1-ratioTrue)/(ratioTrue)+1),1:1+(1-ratioTrue)/(ratioTrue)/((1-ratioTrue)/(ratioTrue)+1)}"
      ],
      "execution_count": 0,
      "outputs": []
    },
    {
      "cell_type": "code",
      "metadata": {
        "id": "r8C5_nNdl9Xy",
        "colab_type": "code",
        "colab": {}
      },
      "source": [
        "classWeight_Dict['output4'][1]+=0.5"
      ],
      "execution_count": 0,
      "outputs": []
    },
    {
      "cell_type": "code",
      "metadata": {
        "id": "uaoPIhG5PE0e",
        "colab_type": "code",
        "colab": {
          "base_uri": "https://localhost:8080/",
          "height": 218
        },
        "outputId": "21932d37-7b9a-4406-a138-ac61af3dd930"
      },
      "source": [
        "classWeight_Dict"
      ],
      "execution_count": 43,
      "outputs": [
        {
          "output_type": "execute_result",
          "data": {
            "text/plain": [
              "{'output1': {0: 1.2345571818407344, 1: 1.7654428181592656},\n",
              " 'output10': {0: 1.0336144877201687, 1: 1.9663855122798313},\n",
              " 'output11': {0: 1.0100471347060282, 1: 1.9899528652939718},\n",
              " 'output12': {0: 1.0018605805011163, 1: 1.9981394194988837},\n",
              " 'output2': {0: 1.0604068469362442, 1: 1.9395931530637558},\n",
              " 'output3': {0: 1.074423220044654, 1: 1.925576779955346},\n",
              " 'output4': {0: 1.2470850905482511, 1: 2.252914909451749},\n",
              " 'output5': {0: 1.0875713222525427, 1: 1.912428677747457},\n",
              " 'output6': {0: 1.1071694368643017, 1: 1.8928305631356983},\n",
              " 'output7': {0: 1.3979161498387498, 1: 1.6020838501612502},\n",
              " 'output8': {0: 1.1070453981642272, 1: 1.8929546018357728},\n",
              " 'output9': {0: 1.076779955346068, 1: 1.923220044653932}}"
            ]
          },
          "metadata": {
            "tags": []
          },
          "execution_count": 43
        }
      ]
    },
    {
      "cell_type": "markdown",
      "metadata": {
        "id": "K2mz_N6c7mEx",
        "colab_type": "text"
      },
      "source": [
        "## Build the model\n"
      ]
    },
    {
      "cell_type": "code",
      "metadata": {
        "id": "fytjcvIOnMiA",
        "colab_type": "code",
        "colab": {}
      },
      "source": [
        "def binary_crossentropy(y_true, y_pred, weights,from_logits=False,label_smoothing=0):\n",
        "\n",
        "    y_pred = ops.convert_to_tensor(y_pred)\n",
        "    y_true = math_ops.cast(y_true, y_pred.dtype)\n",
        "    label_smoothing = ops.convert_to_tensor(label_smoothing, dtype=K.floatx())\n",
        "    def _smooth_labels():\n",
        "      return y_true * (1.0 - label_smoothing) + 0.5 * label_smoothing\n",
        "    y_true = smart_cond.smart_cond(label_smoothing,_smooth_labels, lambda: y_true)\n",
        "    \n",
        "    mask0 = tf.subtract(tf.constant(1.0, dtype=K.floatx()),y_true)\n",
        "    mask0=tf.math.scalar_mul(tf.constant(weights[0], dtype=K.floatx()),mask0)\n",
        "    mask1 =tf.math.scalar_mul(tf.constant(weights[1], dtype=K.floatx()),y_true)\n",
        "    mask=tf.math.add(mask0,mask1)\n",
        "\n",
        "    return K.mean(tf.math.multiply(K.binary_crossentropy(y_true, y_pred, from_logits=from_logits),mask), axis=-1)"
      ],
      "execution_count": 0,
      "outputs": []
    },
    {
      "cell_type": "code",
      "metadata": {
        "id": "jfKQSOUM5saC",
        "colab_type": "code",
        "colab": {}
      },
      "source": [
        "def build_model():\n",
        "    inputs = Input(shape=(MAX_LEN,N_CHANNELS))\n",
        "    x = SpatialDropout1D(0.2)(inputs)\n",
        "    x = Bidirectional(LSTM(LSTM_UNITS, return_sequences=True))(x)\n",
        "    x = Bidirectional(LSTM(LSTM_UNITS, return_sequences=True))(x)\n",
        "\n",
        "    hidden = concatenate([\n",
        "        GlobalMaxPooling1D()(x),\n",
        "        GlobalAveragePooling1D()(x),\n",
        "    ])\n",
        "    hidden = add([hidden, Dense(DENSE_HIDDEN_UNITS, activation='relu')(hidden)])\n",
        "    hidden = add([hidden, Dense(DENSE_HIDDEN_UNITS, activation='relu')(hidden)])\n",
        "    RESULT=[]\n",
        "    for i in range(N_CLASS):\n",
        "      RESULT+=[Dense(1, activation='sigmoid',name='output'+str(i+1))(hidden)]\n",
        "    LOSS={}\n",
        "    for i in  range(N_CLASS):\n",
        "      LOSS['output'+str(i+1)]=partial(binary_crossentropy, weights=classWeight_Dict['output'+str(i+1)])\n",
        "      LOSS['output'+str(i+1)].__name__ = 'loss'+str(i+1)\n",
        "\n",
        "    model = Model(inputs=inputs, outputs=RESULT)\n",
        "    model.compile(loss=LOSS, optimizer='adam',metrics=[tf.keras.metrics.binary_accuracy])\n",
        "\n",
        "    return model"
      ],
      "execution_count": 0,
      "outputs": []
    },
    {
      "cell_type": "code",
      "metadata": {
        "id": "N37opYym6CCC",
        "colab_type": "code",
        "outputId": "56400cef-642c-47a3-b023-f4a9d3a7da62",
        "colab": {
          "base_uri": "https://localhost:8080/",
          "height": 974
        }
      },
      "source": [
        "model = build_model()\n",
        "model.summary()"
      ],
      "execution_count": 46,
      "outputs": [
        {
          "output_type": "stream",
          "text": [
            "Model: \"model_1\"\n",
            "__________________________________________________________________________________________________\n",
            "Layer (type)                    Output Shape         Param #     Connected to                     \n",
            "==================================================================================================\n",
            "input_3 (InputLayer)            [(None, 1259, 768)]  0                                            \n",
            "__________________________________________________________________________________________________\n",
            "spatial_dropout1d_2 (SpatialDro (None, 1259, 768)    0           input_3[0][0]                    \n",
            "__________________________________________________________________________________________________\n",
            "bidirectional_4 (Bidirectional) (None, 1259, 256)    918528      spatial_dropout1d_2[0][0]        \n",
            "__________________________________________________________________________________________________\n",
            "bidirectional_5 (Bidirectional) (None, 1259, 256)    394240      bidirectional_4[0][0]            \n",
            "__________________________________________________________________________________________________\n",
            "global_max_pooling1d_2 (GlobalM (None, 256)          0           bidirectional_5[0][0]            \n",
            "__________________________________________________________________________________________________\n",
            "global_average_pooling1d_2 (Glo (None, 256)          0           bidirectional_5[0][0]            \n",
            "__________________________________________________________________________________________________\n",
            "concatenate_2 (Concatenate)     (None, 512)          0           global_max_pooling1d_2[0][0]     \n",
            "                                                                 global_average_pooling1d_2[0][0] \n",
            "__________________________________________________________________________________________________\n",
            "dense_4 (Dense)                 (None, 512)          262656      concatenate_2[0][0]              \n",
            "__________________________________________________________________________________________________\n",
            "add_4 (Add)                     (None, 512)          0           concatenate_2[0][0]              \n",
            "                                                                 dense_4[0][0]                    \n",
            "__________________________________________________________________________________________________\n",
            "dense_5 (Dense)                 (None, 512)          262656      add_4[0][0]                      \n",
            "__________________________________________________________________________________________________\n",
            "add_5 (Add)                     (None, 512)          0           add_4[0][0]                      \n",
            "                                                                 dense_5[0][0]                    \n",
            "__________________________________________________________________________________________________\n",
            "output1 (Dense)                 (None, 1)            513         add_5[0][0]                      \n",
            "__________________________________________________________________________________________________\n",
            "output2 (Dense)                 (None, 1)            513         add_5[0][0]                      \n",
            "__________________________________________________________________________________________________\n",
            "output3 (Dense)                 (None, 1)            513         add_5[0][0]                      \n",
            "__________________________________________________________________________________________________\n",
            "output4 (Dense)                 (None, 1)            513         add_5[0][0]                      \n",
            "__________________________________________________________________________________________________\n",
            "output5 (Dense)                 (None, 1)            513         add_5[0][0]                      \n",
            "__________________________________________________________________________________________________\n",
            "output6 (Dense)                 (None, 1)            513         add_5[0][0]                      \n",
            "__________________________________________________________________________________________________\n",
            "output7 (Dense)                 (None, 1)            513         add_5[0][0]                      \n",
            "__________________________________________________________________________________________________\n",
            "output8 (Dense)                 (None, 1)            513         add_5[0][0]                      \n",
            "__________________________________________________________________________________________________\n",
            "output9 (Dense)                 (None, 1)            513         add_5[0][0]                      \n",
            "__________________________________________________________________________________________________\n",
            "output10 (Dense)                (None, 1)            513         add_5[0][0]                      \n",
            "__________________________________________________________________________________________________\n",
            "output11 (Dense)                (None, 1)            513         add_5[0][0]                      \n",
            "__________________________________________________________________________________________________\n",
            "output12 (Dense)                (None, 1)            513         add_5[0][0]                      \n",
            "==================================================================================================\n",
            "Total params: 1,844,236\n",
            "Trainable params: 1,844,236\n",
            "Non-trainable params: 0\n",
            "__________________________________________________________________________________________________\n"
          ],
          "name": "stdout"
        }
      ]
    },
    {
      "cell_type": "code",
      "metadata": {
        "id": "8sb5GQmKeI_B",
        "colab_type": "code",
        "colab": {}
      },
      "source": [
        "callback=ReduceLROnPlateau(patience=1,min_lr=0.000001,factor=0.8)\n",
        "checkpointer = ModelCheckpoint(filepath='BERT/LSTM_addPenalty.h5', verbose=1, save_best_only=True)"
      ],
      "execution_count": 0,
      "outputs": []
    },
    {
      "cell_type": "code",
      "metadata": {
        "id": "4To3UbV67kft",
        "colab_type": "code",
        "outputId": "4e3ee704-f078-49b1-ceb9-d1e0918f7416",
        "colab": {
          "base_uri": "https://localhost:8080/",
          "height": 1000
        }
      },
      "source": [
        "model.fit_generator(\n",
        "    generator=training_generator,\n",
        "    validation_data=validation_generator,\n",
        "    epochs=EPOCHS,\n",
        "    verbose=1,\n",
        "    callbacks=[checkpointer,callback])"
      ],
      "execution_count": 48,
      "outputs": [
        {
          "output_type": "stream",
          "text": [
            "WARNING:tensorflow:From <ipython-input-48-d8713d19c50f>:6: Model.fit_generator (from tensorflow.python.keras.engine.training) is deprecated and will be removed in a future version.\n",
            "Instructions for updating:\n",
            "Please use Model.fit, which supports generators.\n",
            "Epoch 1/24\n",
            "251/251 [==============================] - ETA: 0s - loss: 4.6576 - output1_loss: 0.5021 - output2_loss: 0.3259 - output3_loss: 0.4150 - output4_loss: 0.9282 - output5_loss: 0.4340 - output6_loss: 0.4621 - output7_loss: 0.5524 - output8_loss: 0.3947 - output9_loss: 0.3864 - output10_loss: 0.1390 - output11_loss: 0.0853 - output12_loss: 0.0325 - output1_binary_accuracy: 0.8386 - output2_binary_accuracy: 0.9373 - output3_binary_accuracy: 0.9242 - output4_binary_accuracy: 0.7215 - output5_binary_accuracy: 0.9062 - output6_binary_accuracy: 0.8917 - output7_binary_accuracy: 0.8460 - output8_binary_accuracy: 0.9039 - output9_binary_accuracy: 0.9202 - output10_binary_accuracy: 0.9684 - output11_binary_accuracy: 0.9899 - output12_binary_accuracy: 0.9941 \n",
            "Epoch 00001: val_loss improved from inf to 3.68507, saving model to BERT/LSTM_addPenalty.h5\n",
            "251/251 [==============================] - 4612s 18s/step - loss: 4.6576 - output1_loss: 0.5021 - output2_loss: 0.3259 - output3_loss: 0.4150 - output4_loss: 0.9282 - output5_loss: 0.4340 - output6_loss: 0.4621 - output7_loss: 0.5524 - output8_loss: 0.3947 - output9_loss: 0.3864 - output10_loss: 0.1390 - output11_loss: 0.0853 - output12_loss: 0.0325 - output1_binary_accuracy: 0.8386 - output2_binary_accuracy: 0.9373 - output3_binary_accuracy: 0.9242 - output4_binary_accuracy: 0.7215 - output5_binary_accuracy: 0.9062 - output6_binary_accuracy: 0.8917 - output7_binary_accuracy: 0.8460 - output8_binary_accuracy: 0.9039 - output9_binary_accuracy: 0.9202 - output10_binary_accuracy: 0.9684 - output11_binary_accuracy: 0.9899 - output12_binary_accuracy: 0.9941 - val_loss: 3.6851 - val_output1_loss: 0.3708 - val_output2_loss: 0.2675 - val_output3_loss: 0.3510 - val_output4_loss: 0.8671 - val_output5_loss: 0.3575 - val_output6_loss: 0.3359 - val_output7_loss: 0.3964 - val_output8_loss: 0.2821 - val_output9_loss: 0.2910 - val_output10_loss: 0.1137 - val_output11_loss: 0.0485 - val_output12_loss: 0.0037 - val_output1_binary_accuracy: 0.8721 - val_output2_binary_accuracy: 0.9414 - val_output3_binary_accuracy: 0.9258 - val_output4_binary_accuracy: 0.7744 - val_output5_binary_accuracy: 0.9229 - val_output6_binary_accuracy: 0.9307 - val_output7_binary_accuracy: 0.8896 - val_output8_binary_accuracy: 0.9199 - val_output9_binary_accuracy: 0.9316 - val_output10_binary_accuracy: 0.9707 - val_output11_binary_accuracy: 0.9932 - val_output12_binary_accuracy: 1.0000 - lr: 0.0010\n",
            "Epoch 2/24\n",
            "251/251 [==============================] - ETA: 0s - loss: 3.7725 - output1_loss: 0.3260 - output2_loss: 0.2859 - output3_loss: 0.3534 - output4_loss: 0.8496 - output5_loss: 0.3642 - output6_loss: 0.3429 - output7_loss: 0.4240 - output8_loss: 0.3059 - output9_loss: 0.3325 - output10_loss: 0.0960 - output11_loss: 0.0703 - output12_loss: 0.0220 - output1_binary_accuracy: 0.9076 - output2_binary_accuracy: 0.9386 - output3_binary_accuracy: 0.9170 - output4_binary_accuracy: 0.7612 - output5_binary_accuracy: 0.9101 - output6_binary_accuracy: 0.9207 - output7_binary_accuracy: 0.8891 - output8_binary_accuracy: 0.9171 - output9_binary_accuracy: 0.9171 - output10_binary_accuracy: 0.9714 - output11_binary_accuracy: 0.9899 - output12_binary_accuracy: 0.9981\n",
            "Epoch 00002: val_loss improved from 3.68507 to 3.35286, saving model to BERT/LSTM_addPenalty.h5\n",
            "251/251 [==============================] - 112s 447ms/step - loss: 3.7725 - output1_loss: 0.3260 - output2_loss: 0.2859 - output3_loss: 0.3534 - output4_loss: 0.8496 - output5_loss: 0.3642 - output6_loss: 0.3429 - output7_loss: 0.4240 - output8_loss: 0.3059 - output9_loss: 0.3325 - output10_loss: 0.0960 - output11_loss: 0.0703 - output12_loss: 0.0220 - output1_binary_accuracy: 0.9076 - output2_binary_accuracy: 0.9386 - output3_binary_accuracy: 0.9170 - output4_binary_accuracy: 0.7612 - output5_binary_accuracy: 0.9101 - output6_binary_accuracy: 0.9207 - output7_binary_accuracy: 0.8891 - output8_binary_accuracy: 0.9171 - output9_binary_accuracy: 0.9171 - output10_binary_accuracy: 0.9714 - output11_binary_accuracy: 0.9899 - output12_binary_accuracy: 0.9981 - val_loss: 3.3529 - val_output1_loss: 0.3081 - val_output2_loss: 0.2669 - val_output3_loss: 0.3162 - val_output4_loss: 0.8026 - val_output5_loss: 0.3310 - val_output6_loss: 0.3066 - val_output7_loss: 0.3739 - val_output8_loss: 0.2418 - val_output9_loss: 0.2679 - val_output10_loss: 0.0894 - val_output11_loss: 0.0445 - val_output12_loss: 0.0038 - val_output1_binary_accuracy: 0.9199 - val_output2_binary_accuracy: 0.9473 - val_output3_binary_accuracy: 0.9297 - val_output4_binary_accuracy: 0.7803 - val_output5_binary_accuracy: 0.9229 - val_output6_binary_accuracy: 0.9346 - val_output7_binary_accuracy: 0.9111 - val_output8_binary_accuracy: 0.9424 - val_output9_binary_accuracy: 0.9277 - val_output10_binary_accuracy: 0.9756 - val_output11_binary_accuracy: 0.9932 - val_output12_binary_accuracy: 1.0000 - lr: 0.0010\n",
            "Epoch 3/24\n",
            "251/251 [==============================] - ETA: 0s - loss: 3.4635 - output1_loss: 0.2800 - output2_loss: 0.2576 - output3_loss: 0.3298 - output4_loss: 0.8064 - output5_loss: 0.3488 - output6_loss: 0.3228 - output7_loss: 0.3713 - output8_loss: 0.2795 - output9_loss: 0.3076 - output10_loss: 0.0795 - output11_loss: 0.0619 - output12_loss: 0.0182 - output1_binary_accuracy: 0.9259 - output2_binary_accuracy: 0.9457 - output3_binary_accuracy: 0.9175 - output4_binary_accuracy: 0.7826 - output5_binary_accuracy: 0.9158 - output6_binary_accuracy: 0.9258 - output7_binary_accuracy: 0.9089 - output8_binary_accuracy: 0.9224 - output9_binary_accuracy: 0.9155 - output10_binary_accuracy: 0.9762 - output11_binary_accuracy: 0.9898 - output12_binary_accuracy: 0.9981\n",
            "Epoch 00003: val_loss improved from 3.35286 to 3.29781, saving model to BERT/LSTM_addPenalty.h5\n",
            "251/251 [==============================] - 93s 370ms/step - loss: 3.4635 - output1_loss: 0.2800 - output2_loss: 0.2576 - output3_loss: 0.3298 - output4_loss: 0.8064 - output5_loss: 0.3488 - output6_loss: 0.3228 - output7_loss: 0.3713 - output8_loss: 0.2795 - output9_loss: 0.3076 - output10_loss: 0.0795 - output11_loss: 0.0619 - output12_loss: 0.0182 - output1_binary_accuracy: 0.9259 - output2_binary_accuracy: 0.9457 - output3_binary_accuracy: 0.9175 - output4_binary_accuracy: 0.7826 - output5_binary_accuracy: 0.9158 - output6_binary_accuracy: 0.9258 - output7_binary_accuracy: 0.9089 - output8_binary_accuracy: 0.9224 - output9_binary_accuracy: 0.9155 - output10_binary_accuracy: 0.9762 - output11_binary_accuracy: 0.9898 - output12_binary_accuracy: 0.9981 - val_loss: 3.2978 - val_output1_loss: 0.2421 - val_output2_loss: 0.2483 - val_output3_loss: 0.3309 - val_output4_loss: 0.8384 - val_output5_loss: 0.3282 - val_output6_loss: 0.3016 - val_output7_loss: 0.3714 - val_output8_loss: 0.2488 - val_output9_loss: 0.2496 - val_output10_loss: 0.0931 - val_output11_loss: 0.0400 - val_output12_loss: 0.0055 - val_output1_binary_accuracy: 0.9326 - val_output2_binary_accuracy: 0.9268 - val_output3_binary_accuracy: 0.9238 - val_output4_binary_accuracy: 0.7812 - val_output5_binary_accuracy: 0.9229 - val_output6_binary_accuracy: 0.9395 - val_output7_binary_accuracy: 0.9062 - val_output8_binary_accuracy: 0.9414 - val_output9_binary_accuracy: 0.9385 - val_output10_binary_accuracy: 0.9736 - val_output11_binary_accuracy: 0.9941 - val_output12_binary_accuracy: 1.0000 - lr: 0.0010\n",
            "Epoch 4/24\n",
            "251/251 [==============================] - ETA: 0s - loss: 3.2524 - output1_loss: 0.2472 - output2_loss: 0.2411 - output3_loss: 0.3156 - output4_loss: 0.7823 - output5_loss: 0.3275 - output6_loss: 0.2966 - output7_loss: 0.3443 - output8_loss: 0.2618 - output9_loss: 0.2838 - output10_loss: 0.0776 - output11_loss: 0.0559 - output12_loss: 0.0186 - output1_binary_accuracy: 0.9335 - output2_binary_accuracy: 0.9478 - output3_binary_accuracy: 0.9168 - output4_binary_accuracy: 0.7928 - output5_binary_accuracy: 0.9189 - output6_binary_accuracy: 0.9321 - output7_binary_accuracy: 0.9147 - output8_binary_accuracy: 0.9285 - output9_binary_accuracy: 0.9224 - output10_binary_accuracy: 0.9788 - output11_binary_accuracy: 0.9903 - output12_binary_accuracy: 0.9981\n",
            "Epoch 00004: val_loss did not improve from 3.29781\n",
            "251/251 [==============================] - 92s 368ms/step - loss: 3.2524 - output1_loss: 0.2472 - output2_loss: 0.2411 - output3_loss: 0.3156 - output4_loss: 0.7823 - output5_loss: 0.3275 - output6_loss: 0.2966 - output7_loss: 0.3443 - output8_loss: 0.2618 - output9_loss: 0.2838 - output10_loss: 0.0776 - output11_loss: 0.0559 - output12_loss: 0.0186 - output1_binary_accuracy: 0.9335 - output2_binary_accuracy: 0.9478 - output3_binary_accuracy: 0.9168 - output4_binary_accuracy: 0.7928 - output5_binary_accuracy: 0.9189 - output6_binary_accuracy: 0.9321 - output7_binary_accuracy: 0.9147 - output8_binary_accuracy: 0.9285 - output9_binary_accuracy: 0.9224 - output10_binary_accuracy: 0.9788 - output11_binary_accuracy: 0.9903 - output12_binary_accuracy: 0.9981 - val_loss: 3.3819 - val_output1_loss: 0.2541 - val_output2_loss: 0.2613 - val_output3_loss: 0.3372 - val_output4_loss: 0.8501 - val_output5_loss: 0.3519 - val_output6_loss: 0.3234 - val_output7_loss: 0.3735 - val_output8_loss: 0.2391 - val_output9_loss: 0.2349 - val_output10_loss: 0.0917 - val_output11_loss: 0.0632 - val_output12_loss: 0.0015 - val_output1_binary_accuracy: 0.9365 - val_output2_binary_accuracy: 0.9512 - val_output3_binary_accuracy: 0.9297 - val_output4_binary_accuracy: 0.8008 - val_output5_binary_accuracy: 0.9258 - val_output6_binary_accuracy: 0.9395 - val_output7_binary_accuracy: 0.9082 - val_output8_binary_accuracy: 0.9150 - val_output9_binary_accuracy: 0.9316 - val_output10_binary_accuracy: 0.9766 - val_output11_binary_accuracy: 0.9883 - val_output12_binary_accuracy: 1.0000 - lr: 0.0010\n",
            "Epoch 5/24\n",
            "251/251 [==============================] - ETA: 0s - loss: 2.9552 - output1_loss: 0.1980 - output2_loss: 0.2216 - output3_loss: 0.3026 - output4_loss: 0.7307 - output5_loss: 0.3010 - output6_loss: 0.2826 - output7_loss: 0.3007 - output8_loss: 0.2382 - output9_loss: 0.2486 - output10_loss: 0.0660 - output11_loss: 0.0483 - output12_loss: 0.0168 - output1_binary_accuracy: 0.9506 - output2_binary_accuracy: 0.9516 - output3_binary_accuracy: 0.9189 - output4_binary_accuracy: 0.8156 - output5_binary_accuracy: 0.9209 - output6_binary_accuracy: 0.9356 - output7_binary_accuracy: 0.9277 - output8_binary_accuracy: 0.9356 - output9_binary_accuracy: 0.9315 - output10_binary_accuracy: 0.9802 - output11_binary_accuracy: 0.9918 - output12_binary_accuracy: 0.9981\n",
            "Epoch 00005: val_loss improved from 3.29781 to 3.18605, saving model to BERT/LSTM_addPenalty.h5\n",
            "251/251 [==============================] - 93s 371ms/step - loss: 2.9552 - output1_loss: 0.1980 - output2_loss: 0.2216 - output3_loss: 0.3026 - output4_loss: 0.7307 - output5_loss: 0.3010 - output6_loss: 0.2826 - output7_loss: 0.3007 - output8_loss: 0.2382 - output9_loss: 0.2486 - output10_loss: 0.0660 - output11_loss: 0.0483 - output12_loss: 0.0168 - output1_binary_accuracy: 0.9506 - output2_binary_accuracy: 0.9516 - output3_binary_accuracy: 0.9189 - output4_binary_accuracy: 0.8156 - output5_binary_accuracy: 0.9209 - output6_binary_accuracy: 0.9356 - output7_binary_accuracy: 0.9277 - output8_binary_accuracy: 0.9356 - output9_binary_accuracy: 0.9315 - output10_binary_accuracy: 0.9802 - output11_binary_accuracy: 0.9918 - output12_binary_accuracy: 0.9981 - val_loss: 3.1860 - val_output1_loss: 0.2289 - val_output2_loss: 0.2305 - val_output3_loss: 0.3079 - val_output4_loss: 0.7902 - val_output5_loss: 0.3178 - val_output6_loss: 0.2849 - val_output7_loss: 0.3674 - val_output8_loss: 0.2658 - val_output9_loss: 0.2535 - val_output10_loss: 0.0880 - val_output11_loss: 0.0458 - val_output12_loss: 0.0053 - val_output1_binary_accuracy: 0.9355 - val_output2_binary_accuracy: 0.9541 - val_output3_binary_accuracy: 0.9209 - val_output4_binary_accuracy: 0.7705 - val_output5_binary_accuracy: 0.9209 - val_output6_binary_accuracy: 0.9443 - val_output7_binary_accuracy: 0.9082 - val_output8_binary_accuracy: 0.9062 - val_output9_binary_accuracy: 0.9199 - val_output10_binary_accuracy: 0.9775 - val_output11_binary_accuracy: 0.9941 - val_output12_binary_accuracy: 1.0000 - lr: 8.0000e-04\n",
            "Epoch 6/24\n",
            "251/251 [==============================] - ETA: 0s - loss: 2.7510 - output1_loss: 0.1729 - output2_loss: 0.2035 - output3_loss: 0.2903 - output4_loss: 0.6940 - output5_loss: 0.2896 - output6_loss: 0.2645 - output7_loss: 0.2779 - output8_loss: 0.2188 - output9_loss: 0.2237 - output10_loss: 0.0595 - output11_loss: 0.0418 - output12_loss: 0.0144 - output1_binary_accuracy: 0.9585 - output2_binary_accuracy: 0.9541 - output3_binary_accuracy: 0.9206 - output4_binary_accuracy: 0.8208 - output5_binary_accuracy: 0.9267 - output6_binary_accuracy: 0.9380 - output7_binary_accuracy: 0.9336 - output8_binary_accuracy: 0.9415 - output9_binary_accuracy: 0.9377 - output10_binary_accuracy: 0.9812 - output11_binary_accuracy: 0.9927 - output12_binary_accuracy: 0.9981\n",
            "Epoch 00006: val_loss did not improve from 3.18605\n",
            "251/251 [==============================] - 92s 365ms/step - loss: 2.7510 - output1_loss: 0.1729 - output2_loss: 0.2035 - output3_loss: 0.2903 - output4_loss: 0.6940 - output5_loss: 0.2896 - output6_loss: 0.2645 - output7_loss: 0.2779 - output8_loss: 0.2188 - output9_loss: 0.2237 - output10_loss: 0.0595 - output11_loss: 0.0418 - output12_loss: 0.0144 - output1_binary_accuracy: 0.9585 - output2_binary_accuracy: 0.9541 - output3_binary_accuracy: 0.9206 - output4_binary_accuracy: 0.8208 - output5_binary_accuracy: 0.9267 - output6_binary_accuracy: 0.9380 - output7_binary_accuracy: 0.9336 - output8_binary_accuracy: 0.9415 - output9_binary_accuracy: 0.9377 - output10_binary_accuracy: 0.9812 - output11_binary_accuracy: 0.9927 - output12_binary_accuracy: 0.9981 - val_loss: 3.3849 - val_output1_loss: 0.3032 - val_output2_loss: 0.2529 - val_output3_loss: 0.3338 - val_output4_loss: 0.8145 - val_output5_loss: 0.3807 - val_output6_loss: 0.2897 - val_output7_loss: 0.3753 - val_output8_loss: 0.2464 - val_output9_loss: 0.2473 - val_output10_loss: 0.1014 - val_output11_loss: 0.0382 - val_output12_loss: 0.0015 - val_output1_binary_accuracy: 0.9150 - val_output2_binary_accuracy: 0.9473 - val_output3_binary_accuracy: 0.9209 - val_output4_binary_accuracy: 0.7939 - val_output5_binary_accuracy: 0.9268 - val_output6_binary_accuracy: 0.9453 - val_output7_binary_accuracy: 0.9111 - val_output8_binary_accuracy: 0.9238 - val_output9_binary_accuracy: 0.9355 - val_output10_binary_accuracy: 0.9746 - val_output11_binary_accuracy: 0.9961 - val_output12_binary_accuracy: 1.0000 - lr: 8.0000e-04\n",
            "Epoch 7/24\n",
            "251/251 [==============================] - ETA: 0s - loss: 2.4577 - output1_loss: 0.1310 - output2_loss: 0.1763 - output3_loss: 0.2707 - output4_loss: 0.6384 - output5_loss: 0.2625 - output6_loss: 0.2456 - output7_loss: 0.2495 - output8_loss: 0.1843 - output9_loss: 0.2003 - output10_loss: 0.0499 - output11_loss: 0.0347 - output12_loss: 0.0145 - output1_binary_accuracy: 0.9674 - output2_binary_accuracy: 0.9588 - output3_binary_accuracy: 0.9229 - output4_binary_accuracy: 0.8390 - output5_binary_accuracy: 0.9302 - output6_binary_accuracy: 0.9420 - output7_binary_accuracy: 0.9376 - output8_binary_accuracy: 0.9493 - output9_binary_accuracy: 0.9458 - output10_binary_accuracy: 0.9841 - output11_binary_accuracy: 0.9944 - output12_binary_accuracy: 0.9981\n",
            "Epoch 00007: val_loss did not improve from 3.18605\n",
            "251/251 [==============================] - 92s 365ms/step - loss: 2.4577 - output1_loss: 0.1310 - output2_loss: 0.1763 - output3_loss: 0.2707 - output4_loss: 0.6384 - output5_loss: 0.2625 - output6_loss: 0.2456 - output7_loss: 0.2495 - output8_loss: 0.1843 - output9_loss: 0.2003 - output10_loss: 0.0499 - output11_loss: 0.0347 - output12_loss: 0.0145 - output1_binary_accuracy: 0.9674 - output2_binary_accuracy: 0.9588 - output3_binary_accuracy: 0.9229 - output4_binary_accuracy: 0.8390 - output5_binary_accuracy: 0.9302 - output6_binary_accuracy: 0.9420 - output7_binary_accuracy: 0.9376 - output8_binary_accuracy: 0.9493 - output9_binary_accuracy: 0.9458 - output10_binary_accuracy: 0.9841 - output11_binary_accuracy: 0.9944 - output12_binary_accuracy: 0.9981 - val_loss: 3.3333 - val_output1_loss: 0.2981 - val_output2_loss: 0.2501 - val_output3_loss: 0.3128 - val_output4_loss: 0.8283 - val_output5_loss: 0.3279 - val_output6_loss: 0.2948 - val_output7_loss: 0.3805 - val_output8_loss: 0.2486 - val_output9_loss: 0.2660 - val_output10_loss: 0.0801 - val_output11_loss: 0.0392 - val_output12_loss: 0.0068 - val_output1_binary_accuracy: 0.9375 - val_output2_binary_accuracy: 0.9395 - val_output3_binary_accuracy: 0.9082 - val_output4_binary_accuracy: 0.7988 - val_output5_binary_accuracy: 0.9053 - val_output6_binary_accuracy: 0.9453 - val_output7_binary_accuracy: 0.9053 - val_output8_binary_accuracy: 0.9346 - val_output9_binary_accuracy: 0.9131 - val_output10_binary_accuracy: 0.9785 - val_output11_binary_accuracy: 0.9961 - val_output12_binary_accuracy: 1.0000 - lr: 6.4000e-04\n",
            "Epoch 8/24\n",
            "251/251 [==============================] - ETA: 0s - loss: 2.1709 - output1_loss: 0.1087 - output2_loss: 0.1527 - output3_loss: 0.2479 - output4_loss: 0.5808 - output5_loss: 0.2274 - output6_loss: 0.2282 - output7_loss: 0.2037 - output8_loss: 0.1681 - output9_loss: 0.1719 - output10_loss: 0.0434 - output11_loss: 0.0268 - output12_loss: 0.0112 - output1_binary_accuracy: 0.9751 - output2_binary_accuracy: 0.9645 - output3_binary_accuracy: 0.9255 - output4_binary_accuracy: 0.8515 - output5_binary_accuracy: 0.9384 - output6_binary_accuracy: 0.9445 - output7_binary_accuracy: 0.9503 - output8_binary_accuracy: 0.9517 - output9_binary_accuracy: 0.9523 - output10_binary_accuracy: 0.9867 - output11_binary_accuracy: 0.9948 - output12_binary_accuracy: 0.9983\n",
            "Epoch 00008: val_loss did not improve from 3.18605\n",
            "251/251 [==============================] - 91s 363ms/step - loss: 2.1709 - output1_loss: 0.1087 - output2_loss: 0.1527 - output3_loss: 0.2479 - output4_loss: 0.5808 - output5_loss: 0.2274 - output6_loss: 0.2282 - output7_loss: 0.2037 - output8_loss: 0.1681 - output9_loss: 0.1719 - output10_loss: 0.0434 - output11_loss: 0.0268 - output12_loss: 0.0112 - output1_binary_accuracy: 0.9751 - output2_binary_accuracy: 0.9645 - output3_binary_accuracy: 0.9255 - output4_binary_accuracy: 0.8515 - output5_binary_accuracy: 0.9384 - output6_binary_accuracy: 0.9445 - output7_binary_accuracy: 0.9503 - output8_binary_accuracy: 0.9517 - output9_binary_accuracy: 0.9523 - output10_binary_accuracy: 0.9867 - output11_binary_accuracy: 0.9948 - output12_binary_accuracy: 0.9983 - val_loss: 3.5138 - val_output1_loss: 0.2920 - val_output2_loss: 0.2718 - val_output3_loss: 0.3262 - val_output4_loss: 0.8563 - val_output5_loss: 0.3608 - val_output6_loss: 0.2985 - val_output7_loss: 0.4015 - val_output8_loss: 0.2878 - val_output9_loss: 0.2732 - val_output10_loss: 0.1031 - val_output11_loss: 0.0408 - val_output12_loss: 0.0020 - val_output1_binary_accuracy: 0.9316 - val_output2_binary_accuracy: 0.9473 - val_output3_binary_accuracy: 0.9258 - val_output4_binary_accuracy: 0.7559 - val_output5_binary_accuracy: 0.8896 - val_output6_binary_accuracy: 0.9463 - val_output7_binary_accuracy: 0.9072 - val_output8_binary_accuracy: 0.9180 - val_output9_binary_accuracy: 0.9385 - val_output10_binary_accuracy: 0.9775 - val_output11_binary_accuracy: 0.9971 - val_output12_binary_accuracy: 1.0000 - lr: 5.1200e-04\n",
            "Epoch 9/24\n",
            "251/251 [==============================] - ETA: 0s - loss: 1.8878 - output1_loss: 0.0793 - output2_loss: 0.1339 - output3_loss: 0.2337 - output4_loss: 0.5131 - output5_loss: 0.2068 - output6_loss: 0.2018 - output7_loss: 0.1670 - output8_loss: 0.1418 - output9_loss: 0.1417 - output10_loss: 0.0354 - output11_loss: 0.0230 - output12_loss: 0.0105 - output1_binary_accuracy: 0.9841 - output2_binary_accuracy: 0.9691 - output3_binary_accuracy: 0.9333 - output4_binary_accuracy: 0.8675 - output5_binary_accuracy: 0.9424 - output6_binary_accuracy: 0.9493 - output7_binary_accuracy: 0.9583 - output8_binary_accuracy: 0.9613 - output9_binary_accuracy: 0.9590 - output10_binary_accuracy: 0.9898 - output11_binary_accuracy: 0.9951 - output12_binary_accuracy: 0.9983\n",
            "Epoch 00009: val_loss did not improve from 3.18605\n",
            "251/251 [==============================] - 91s 363ms/step - loss: 1.8878 - output1_loss: 0.0793 - output2_loss: 0.1339 - output3_loss: 0.2337 - output4_loss: 0.5131 - output5_loss: 0.2068 - output6_loss: 0.2018 - output7_loss: 0.1670 - output8_loss: 0.1418 - output9_loss: 0.1417 - output10_loss: 0.0354 - output11_loss: 0.0230 - output12_loss: 0.0105 - output1_binary_accuracy: 0.9841 - output2_binary_accuracy: 0.9691 - output3_binary_accuracy: 0.9333 - output4_binary_accuracy: 0.8675 - output5_binary_accuracy: 0.9424 - output6_binary_accuracy: 0.9493 - output7_binary_accuracy: 0.9583 - output8_binary_accuracy: 0.9613 - output9_binary_accuracy: 0.9590 - output10_binary_accuracy: 0.9898 - output11_binary_accuracy: 0.9951 - output12_binary_accuracy: 0.9983 - val_loss: 3.5667 - val_output1_loss: 0.3150 - val_output2_loss: 0.2621 - val_output3_loss: 0.3242 - val_output4_loss: 0.8972 - val_output5_loss: 0.3486 - val_output6_loss: 0.3184 - val_output7_loss: 0.4314 - val_output8_loss: 0.2484 - val_output9_loss: 0.2621 - val_output10_loss: 0.1144 - val_output11_loss: 0.0402 - val_output12_loss: 0.0046 - val_output1_binary_accuracy: 0.9365 - val_output2_binary_accuracy: 0.9473 - val_output3_binary_accuracy: 0.9170 - val_output4_binary_accuracy: 0.7725 - val_output5_binary_accuracy: 0.9111 - val_output6_binary_accuracy: 0.9414 - val_output7_binary_accuracy: 0.9053 - val_output8_binary_accuracy: 0.9277 - val_output9_binary_accuracy: 0.9355 - val_output10_binary_accuracy: 0.9775 - val_output11_binary_accuracy: 0.9951 - val_output12_binary_accuracy: 1.0000 - lr: 4.0960e-04\n",
            "Epoch 10/24\n",
            "251/251 [==============================] - ETA: 0s - loss: 1.6132 - output1_loss: 0.0652 - output2_loss: 0.1049 - output3_loss: 0.2063 - output4_loss: 0.4427 - output5_loss: 0.1778 - output6_loss: 0.1812 - output7_loss: 0.1455 - output8_loss: 0.1184 - output9_loss: 0.1144 - output10_loss: 0.0300 - output11_loss: 0.0170 - output12_loss: 0.0096 - output1_binary_accuracy: 0.9854 - output2_binary_accuracy: 0.9749 - output3_binary_accuracy: 0.9411 - output4_binary_accuracy: 0.8887 - output5_binary_accuracy: 0.9519 - output6_binary_accuracy: 0.9546 - output7_binary_accuracy: 0.9645 - output8_binary_accuracy: 0.9688 - output9_binary_accuracy: 0.9701 - output10_binary_accuracy: 0.9920 - output11_binary_accuracy: 0.9961 - output12_binary_accuracy: 0.9984\n",
            "Epoch 00010: val_loss did not improve from 3.18605\n",
            "251/251 [==============================] - 92s 365ms/step - loss: 1.6132 - output1_loss: 0.0652 - output2_loss: 0.1049 - output3_loss: 0.2063 - output4_loss: 0.4427 - output5_loss: 0.1778 - output6_loss: 0.1812 - output7_loss: 0.1455 - output8_loss: 0.1184 - output9_loss: 0.1144 - output10_loss: 0.0300 - output11_loss: 0.0170 - output12_loss: 0.0096 - output1_binary_accuracy: 0.9854 - output2_binary_accuracy: 0.9749 - output3_binary_accuracy: 0.9411 - output4_binary_accuracy: 0.8887 - output5_binary_accuracy: 0.9519 - output6_binary_accuracy: 0.9546 - output7_binary_accuracy: 0.9645 - output8_binary_accuracy: 0.9688 - output9_binary_accuracy: 0.9701 - output10_binary_accuracy: 0.9920 - output11_binary_accuracy: 0.9961 - output12_binary_accuracy: 0.9984 - val_loss: 4.0287 - val_output1_loss: 0.3509 - val_output2_loss: 0.3146 - val_output3_loss: 0.3770 - val_output4_loss: 1.0231 - val_output5_loss: 0.3951 - val_output6_loss: 0.3325 - val_output7_loss: 0.4556 - val_output8_loss: 0.2937 - val_output9_loss: 0.3282 - val_output10_loss: 0.1106 - val_output11_loss: 0.0442 - val_output12_loss: 0.0032 - val_output1_binary_accuracy: 0.9277 - val_output2_binary_accuracy: 0.9316 - val_output3_binary_accuracy: 0.9180 - val_output4_binary_accuracy: 0.7500 - val_output5_binary_accuracy: 0.9092 - val_output6_binary_accuracy: 0.9346 - val_output7_binary_accuracy: 0.8984 - val_output8_binary_accuracy: 0.9248 - val_output9_binary_accuracy: 0.9365 - val_output10_binary_accuracy: 0.9785 - val_output11_binary_accuracy: 0.9971 - val_output12_binary_accuracy: 1.0000 - lr: 3.2768e-04\n",
            "Epoch 11/24\n",
            "251/251 [==============================] - ETA: 0s - loss: 1.3631 - output1_loss: 0.0506 - output2_loss: 0.0829 - output3_loss: 0.1868 - output4_loss: 0.3675 - output5_loss: 0.1594 - output6_loss: 0.1624 - output7_loss: 0.1155 - output8_loss: 0.1003 - output9_loss: 0.0905 - output10_loss: 0.0249 - output11_loss: 0.0146 - output12_loss: 0.0075 - output1_binary_accuracy: 0.9889 - output2_binary_accuracy: 0.9790 - output3_binary_accuracy: 0.9475 - output4_binary_accuracy: 0.9120 - output5_binary_accuracy: 0.9547 - output6_binary_accuracy: 0.9558 - output7_binary_accuracy: 0.9710 - output8_binary_accuracy: 0.9741 - output9_binary_accuracy: 0.9765 - output10_binary_accuracy: 0.9930 - output11_binary_accuracy: 0.9968 - output12_binary_accuracy: 0.9988\n",
            "Epoch 00011: val_loss did not improve from 3.18605\n",
            "251/251 [==============================] - 91s 363ms/step - loss: 1.3631 - output1_loss: 0.0506 - output2_loss: 0.0829 - output3_loss: 0.1868 - output4_loss: 0.3675 - output5_loss: 0.1594 - output6_loss: 0.1624 - output7_loss: 0.1155 - output8_loss: 0.1003 - output9_loss: 0.0905 - output10_loss: 0.0249 - output11_loss: 0.0146 - output12_loss: 0.0075 - output1_binary_accuracy: 0.9889 - output2_binary_accuracy: 0.9790 - output3_binary_accuracy: 0.9475 - output4_binary_accuracy: 0.9120 - output5_binary_accuracy: 0.9547 - output6_binary_accuracy: 0.9558 - output7_binary_accuracy: 0.9710 - output8_binary_accuracy: 0.9741 - output9_binary_accuracy: 0.9765 - output10_binary_accuracy: 0.9930 - output11_binary_accuracy: 0.9968 - output12_binary_accuracy: 0.9988 - val_loss: 4.2625 - val_output1_loss: 0.3930 - val_output2_loss: 0.3343 - val_output3_loss: 0.4077 - val_output4_loss: 1.1154 - val_output5_loss: 0.4141 - val_output6_loss: 0.3505 - val_output7_loss: 0.4619 - val_output8_loss: 0.2844 - val_output9_loss: 0.3343 - val_output10_loss: 0.1155 - val_output11_loss: 0.0472 - val_output12_loss: 0.0044 - val_output1_binary_accuracy: 0.9375 - val_output2_binary_accuracy: 0.9424 - val_output3_binary_accuracy: 0.9277 - val_output4_binary_accuracy: 0.7246 - val_output5_binary_accuracy: 0.9160 - val_output6_binary_accuracy: 0.9375 - val_output7_binary_accuracy: 0.9062 - val_output8_binary_accuracy: 0.9336 - val_output9_binary_accuracy: 0.9287 - val_output10_binary_accuracy: 0.9795 - val_output11_binary_accuracy: 0.9922 - val_output12_binary_accuracy: 1.0000 - lr: 2.6214e-04\n",
            "Epoch 12/24\n",
            "251/251 [==============================] - ETA: 0s - loss: 1.1574 - output1_loss: 0.0414 - output2_loss: 0.0677 - output3_loss: 0.1710 - output4_loss: 0.3095 - output5_loss: 0.1303 - output6_loss: 0.1352 - output7_loss: 0.1027 - output8_loss: 0.0853 - output9_loss: 0.0738 - output10_loss: 0.0214 - output11_loss: 0.0129 - output12_loss: 0.0062 - output1_binary_accuracy: 0.9912 - output2_binary_accuracy: 0.9839 - output3_binary_accuracy: 0.9511 - output4_binary_accuracy: 0.9270 - output5_binary_accuracy: 0.9634 - output6_binary_accuracy: 0.9656 - output7_binary_accuracy: 0.9761 - output8_binary_accuracy: 0.9767 - output9_binary_accuracy: 0.9801 - output10_binary_accuracy: 0.9943 - output11_binary_accuracy: 0.9973 - output12_binary_accuracy: 0.9988\n",
            "Epoch 00012: val_loss did not improve from 3.18605\n",
            "251/251 [==============================] - 92s 365ms/step - loss: 1.1574 - output1_loss: 0.0414 - output2_loss: 0.0677 - output3_loss: 0.1710 - output4_loss: 0.3095 - output5_loss: 0.1303 - output6_loss: 0.1352 - output7_loss: 0.1027 - output8_loss: 0.0853 - output9_loss: 0.0738 - output10_loss: 0.0214 - output11_loss: 0.0129 - output12_loss: 0.0062 - output1_binary_accuracy: 0.9912 - output2_binary_accuracy: 0.9839 - output3_binary_accuracy: 0.9511 - output4_binary_accuracy: 0.9270 - output5_binary_accuracy: 0.9634 - output6_binary_accuracy: 0.9656 - output7_binary_accuracy: 0.9761 - output8_binary_accuracy: 0.9767 - output9_binary_accuracy: 0.9801 - output10_binary_accuracy: 0.9943 - output11_binary_accuracy: 0.9973 - output12_binary_accuracy: 0.9988 - val_loss: 4.5350 - val_output1_loss: 0.4036 - val_output2_loss: 0.3416 - val_output3_loss: 0.3747 - val_output4_loss: 1.1739 - val_output5_loss: 0.4524 - val_output6_loss: 0.3940 - val_output7_loss: 0.5030 - val_output8_loss: 0.3112 - val_output9_loss: 0.3822 - val_output10_loss: 0.1457 - val_output11_loss: 0.0491 - val_output12_loss: 0.0037 - val_output1_binary_accuracy: 0.9307 - val_output2_binary_accuracy: 0.9307 - val_output3_binary_accuracy: 0.9082 - val_output4_binary_accuracy: 0.7695 - val_output5_binary_accuracy: 0.9131 - val_output6_binary_accuracy: 0.9365 - val_output7_binary_accuracy: 0.9082 - val_output8_binary_accuracy: 0.9365 - val_output9_binary_accuracy: 0.9326 - val_output10_binary_accuracy: 0.9766 - val_output11_binary_accuracy: 0.9941 - val_output12_binary_accuracy: 1.0000 - lr: 2.0972e-04\n",
            "Epoch 13/24\n",
            "251/251 [==============================] - ETA: 0s - loss: 0.9724 - output1_loss: 0.0361 - output2_loss: 0.0584 - output3_loss: 0.1471 - output4_loss: 0.2523 - output5_loss: 0.1083 - output6_loss: 0.1163 - output7_loss: 0.0879 - output8_loss: 0.0658 - output9_loss: 0.0638 - output10_loss: 0.0177 - output11_loss: 0.0120 - output12_loss: 0.0066 - output1_binary_accuracy: 0.9923 - output2_binary_accuracy: 0.9871 - output3_binary_accuracy: 0.9562 - output4_binary_accuracy: 0.9417 - output5_binary_accuracy: 0.9724 - output6_binary_accuracy: 0.9680 - output7_binary_accuracy: 0.9753 - output8_binary_accuracy: 0.9846 - output9_binary_accuracy: 0.9827 - output10_binary_accuracy: 0.9954 - output11_binary_accuracy: 0.9971 - output12_binary_accuracy: 0.9989\n",
            "Epoch 00013: val_loss did not improve from 3.18605\n",
            "251/251 [==============================] - 92s 366ms/step - loss: 0.9724 - output1_loss: 0.0361 - output2_loss: 0.0584 - output3_loss: 0.1471 - output4_loss: 0.2523 - output5_loss: 0.1083 - output6_loss: 0.1163 - output7_loss: 0.0879 - output8_loss: 0.0658 - output9_loss: 0.0638 - output10_loss: 0.0177 - output11_loss: 0.0120 - output12_loss: 0.0066 - output1_binary_accuracy: 0.9923 - output2_binary_accuracy: 0.9871 - output3_binary_accuracy: 0.9562 - output4_binary_accuracy: 0.9417 - output5_binary_accuracy: 0.9724 - output6_binary_accuracy: 0.9680 - output7_binary_accuracy: 0.9753 - output8_binary_accuracy: 0.9846 - output9_binary_accuracy: 0.9827 - output10_binary_accuracy: 0.9954 - output11_binary_accuracy: 0.9971 - output12_binary_accuracy: 0.9989 - val_loss: 4.8687 - val_output1_loss: 0.4338 - val_output2_loss: 0.3577 - val_output3_loss: 0.4745 - val_output4_loss: 1.2621 - val_output5_loss: 0.4759 - val_output6_loss: 0.4066 - val_output7_loss: 0.5465 - val_output8_loss: 0.3244 - val_output9_loss: 0.3693 - val_output10_loss: 0.1649 - val_output11_loss: 0.0517 - val_output12_loss: 0.0012 - val_output1_binary_accuracy: 0.9336 - val_output2_binary_accuracy: 0.9336 - val_output3_binary_accuracy: 0.9277 - val_output4_binary_accuracy: 0.7305 - val_output5_binary_accuracy: 0.9062 - val_output6_binary_accuracy: 0.9404 - val_output7_binary_accuracy: 0.9053 - val_output8_binary_accuracy: 0.9375 - val_output9_binary_accuracy: 0.9277 - val_output10_binary_accuracy: 0.9775 - val_output11_binary_accuracy: 0.9941 - val_output12_binary_accuracy: 1.0000 - lr: 1.6777e-04\n",
            "Epoch 14/24\n",
            "251/251 [==============================] - ETA: 0s - loss: 0.8507 - output1_loss: 0.0334 - output2_loss: 0.0507 - output3_loss: 0.1387 - output4_loss: 0.2182 - output5_loss: 0.0985 - output6_loss: 0.1022 - output7_loss: 0.0701 - output8_loss: 0.0566 - output9_loss: 0.0509 - output10_loss: 0.0168 - output11_loss: 0.0089 - output12_loss: 0.0056 - output1_binary_accuracy: 0.9940 - output2_binary_accuracy: 0.9879 - output3_binary_accuracy: 0.9635 - output4_binary_accuracy: 0.9498 - output5_binary_accuracy: 0.9735 - output6_binary_accuracy: 0.9741 - output7_binary_accuracy: 0.9843 - output8_binary_accuracy: 0.9867 - output9_binary_accuracy: 0.9862 - output10_binary_accuracy: 0.9951 - output11_binary_accuracy: 0.9980 - output12_binary_accuracy: 0.9989\n",
            "Epoch 00014: val_loss did not improve from 3.18605\n",
            "251/251 [==============================] - 92s 365ms/step - loss: 0.8507 - output1_loss: 0.0334 - output2_loss: 0.0507 - output3_loss: 0.1387 - output4_loss: 0.2182 - output5_loss: 0.0985 - output6_loss: 0.1022 - output7_loss: 0.0701 - output8_loss: 0.0566 - output9_loss: 0.0509 - output10_loss: 0.0168 - output11_loss: 0.0089 - output12_loss: 0.0056 - output1_binary_accuracy: 0.9940 - output2_binary_accuracy: 0.9879 - output3_binary_accuracy: 0.9635 - output4_binary_accuracy: 0.9498 - output5_binary_accuracy: 0.9735 - output6_binary_accuracy: 0.9741 - output7_binary_accuracy: 0.9843 - output8_binary_accuracy: 0.9867 - output9_binary_accuracy: 0.9862 - output10_binary_accuracy: 0.9951 - output11_binary_accuracy: 0.9980 - output12_binary_accuracy: 0.9989 - val_loss: 4.9409 - val_output1_loss: 0.4339 - val_output2_loss: 0.3835 - val_output3_loss: 0.3950 - val_output4_loss: 1.3289 - val_output5_loss: 0.4882 - val_output6_loss: 0.4072 - val_output7_loss: 0.5429 - val_output8_loss: 0.3386 - val_output9_loss: 0.4131 - val_output10_loss: 0.1511 - val_output11_loss: 0.0551 - val_output12_loss: 0.0035 - val_output1_binary_accuracy: 0.9316 - val_output2_binary_accuracy: 0.9385 - val_output3_binary_accuracy: 0.9062 - val_output4_binary_accuracy: 0.7822 - val_output5_binary_accuracy: 0.8994 - val_output6_binary_accuracy: 0.9404 - val_output7_binary_accuracy: 0.8965 - val_output8_binary_accuracy: 0.9316 - val_output9_binary_accuracy: 0.9316 - val_output10_binary_accuracy: 0.9775 - val_output11_binary_accuracy: 0.9932 - val_output12_binary_accuracy: 1.0000 - lr: 1.3422e-04\n",
            "Epoch 15/24\n",
            "251/251 [==============================] - ETA: 0s - loss: 0.7655 - output1_loss: 0.0325 - output2_loss: 0.0438 - output3_loss: 0.1250 - output4_loss: 0.1834 - output5_loss: 0.0936 - output6_loss: 0.0932 - output7_loss: 0.0605 - output8_loss: 0.0548 - output9_loss: 0.0499 - output10_loss: 0.0144 - output11_loss: 0.0090 - output12_loss: 0.0053 - output1_binary_accuracy: 0.9940 - output2_binary_accuracy: 0.9907 - output3_binary_accuracy: 0.9644 - output4_binary_accuracy: 0.9605 - output5_binary_accuracy: 0.9755 - output6_binary_accuracy: 0.9762 - output7_binary_accuracy: 0.9869 - output8_binary_accuracy: 0.9862 - output9_binary_accuracy: 0.9871 - output10_binary_accuracy: 0.9956 - output11_binary_accuracy: 0.9981 - output12_binary_accuracy: 0.9990\n",
            "Epoch 00015: val_loss did not improve from 3.18605\n",
            "251/251 [==============================] - 93s 372ms/step - loss: 0.7655 - output1_loss: 0.0325 - output2_loss: 0.0438 - output3_loss: 0.1250 - output4_loss: 0.1834 - output5_loss: 0.0936 - output6_loss: 0.0932 - output7_loss: 0.0605 - output8_loss: 0.0548 - output9_loss: 0.0499 - output10_loss: 0.0144 - output11_loss: 0.0090 - output12_loss: 0.0053 - output1_binary_accuracy: 0.9940 - output2_binary_accuracy: 0.9907 - output3_binary_accuracy: 0.9644 - output4_binary_accuracy: 0.9605 - output5_binary_accuracy: 0.9755 - output6_binary_accuracy: 0.9762 - output7_binary_accuracy: 0.9869 - output8_binary_accuracy: 0.9862 - output9_binary_accuracy: 0.9871 - output10_binary_accuracy: 0.9956 - output11_binary_accuracy: 0.9981 - output12_binary_accuracy: 0.9990 - val_loss: 5.1782 - val_output1_loss: 0.4395 - val_output2_loss: 0.3997 - val_output3_loss: 0.4344 - val_output4_loss: 1.4088 - val_output5_loss: 0.5039 - val_output6_loss: 0.4315 - val_output7_loss: 0.5821 - val_output8_loss: 0.3339 - val_output9_loss: 0.4420 - val_output10_loss: 0.1463 - val_output11_loss: 0.0533 - val_output12_loss: 0.0027 - val_output1_binary_accuracy: 0.9297 - val_output2_binary_accuracy: 0.9434 - val_output3_binary_accuracy: 0.9199 - val_output4_binary_accuracy: 0.7861 - val_output5_binary_accuracy: 0.9053 - val_output6_binary_accuracy: 0.9355 - val_output7_binary_accuracy: 0.8965 - val_output8_binary_accuracy: 0.9316 - val_output9_binary_accuracy: 0.9307 - val_output10_binary_accuracy: 0.9785 - val_output11_binary_accuracy: 0.9932 - val_output12_binary_accuracy: 1.0000 - lr: 1.0737e-04\n",
            "Epoch 16/24\n",
            "251/251 [==============================] - ETA: 0s - loss: 0.6632 - output1_loss: 0.0288 - output2_loss: 0.0395 - output3_loss: 0.1097 - output4_loss: 0.1586 - output5_loss: 0.0825 - output6_loss: 0.0813 - output7_loss: 0.0518 - output8_loss: 0.0472 - output9_loss: 0.0367 - output10_loss: 0.0149 - output11_loss: 0.0076 - output12_loss: 0.0046 - output1_binary_accuracy: 0.9937 - output2_binary_accuracy: 0.9914 - output3_binary_accuracy: 0.9712 - output4_binary_accuracy: 0.9654 - output5_binary_accuracy: 0.9782 - output6_binary_accuracy: 0.9790 - output7_binary_accuracy: 0.9892 - output8_binary_accuracy: 0.9893 - output9_binary_accuracy: 0.9918 - output10_binary_accuracy: 0.9961 - output11_binary_accuracy: 0.9981 - output12_binary_accuracy: 0.9991\n",
            "Epoch 00016: val_loss did not improve from 3.18605\n",
            "251/251 [==============================] - 93s 370ms/step - loss: 0.6632 - output1_loss: 0.0288 - output2_loss: 0.0395 - output3_loss: 0.1097 - output4_loss: 0.1586 - output5_loss: 0.0825 - output6_loss: 0.0813 - output7_loss: 0.0518 - output8_loss: 0.0472 - output9_loss: 0.0367 - output10_loss: 0.0149 - output11_loss: 0.0076 - output12_loss: 0.0046 - output1_binary_accuracy: 0.9937 - output2_binary_accuracy: 0.9914 - output3_binary_accuracy: 0.9712 - output4_binary_accuracy: 0.9654 - output5_binary_accuracy: 0.9782 - output6_binary_accuracy: 0.9790 - output7_binary_accuracy: 0.9892 - output8_binary_accuracy: 0.9893 - output9_binary_accuracy: 0.9918 - output10_binary_accuracy: 0.9961 - output11_binary_accuracy: 0.9981 - output12_binary_accuracy: 0.9991 - val_loss: 5.4245 - val_output1_loss: 0.4748 - val_output2_loss: 0.4317 - val_output3_loss: 0.4525 - val_output4_loss: 1.4572 - val_output5_loss: 0.5422 - val_output6_loss: 0.4624 - val_output7_loss: 0.5801 - val_output8_loss: 0.3627 - val_output9_loss: 0.4335 - val_output10_loss: 0.1699 - val_output11_loss: 0.0554 - val_output12_loss: 0.0022 - val_output1_binary_accuracy: 0.9268 - val_output2_binary_accuracy: 0.9434 - val_output3_binary_accuracy: 0.9209 - val_output4_binary_accuracy: 0.7676 - val_output5_binary_accuracy: 0.9053 - val_output6_binary_accuracy: 0.9355 - val_output7_binary_accuracy: 0.9043 - val_output8_binary_accuracy: 0.9355 - val_output9_binary_accuracy: 0.9248 - val_output10_binary_accuracy: 0.9775 - val_output11_binary_accuracy: 0.9932 - val_output12_binary_accuracy: 1.0000 - lr: 8.5899e-05\n",
            "Epoch 17/24\n",
            "251/251 [==============================] - ETA: 0s - loss: 0.5964 - output1_loss: 0.0267 - output2_loss: 0.0330 - output3_loss: 0.1014 - output4_loss: 0.1326 - output5_loss: 0.0688 - output6_loss: 0.0775 - output7_loss: 0.0548 - output8_loss: 0.0432 - output9_loss: 0.0333 - output10_loss: 0.0137 - output11_loss: 0.0073 - output12_loss: 0.0041 - output1_binary_accuracy: 0.9939 - output2_binary_accuracy: 0.9915 - output3_binary_accuracy: 0.9725 - output4_binary_accuracy: 0.9721 - output5_binary_accuracy: 0.9829 - output6_binary_accuracy: 0.9780 - output7_binary_accuracy: 0.9862 - output8_binary_accuracy: 0.9889 - output9_binary_accuracy: 0.9928 - output10_binary_accuracy: 0.9965 - output11_binary_accuracy: 0.9986 - output12_binary_accuracy: 0.9991\n",
            "Epoch 00017: val_loss did not improve from 3.18605\n",
            "251/251 [==============================] - 92s 368ms/step - loss: 0.5964 - output1_loss: 0.0267 - output2_loss: 0.0330 - output3_loss: 0.1014 - output4_loss: 0.1326 - output5_loss: 0.0688 - output6_loss: 0.0775 - output7_loss: 0.0548 - output8_loss: 0.0432 - output9_loss: 0.0333 - output10_loss: 0.0137 - output11_loss: 0.0073 - output12_loss: 0.0041 - output1_binary_accuracy: 0.9939 - output2_binary_accuracy: 0.9915 - output3_binary_accuracy: 0.9725 - output4_binary_accuracy: 0.9721 - output5_binary_accuracy: 0.9829 - output6_binary_accuracy: 0.9780 - output7_binary_accuracy: 0.9862 - output8_binary_accuracy: 0.9889 - output9_binary_accuracy: 0.9928 - output10_binary_accuracy: 0.9965 - output11_binary_accuracy: 0.9986 - output12_binary_accuracy: 0.9991 - val_loss: 5.5297 - val_output1_loss: 0.4857 - val_output2_loss: 0.4182 - val_output3_loss: 0.4368 - val_output4_loss: 1.5076 - val_output5_loss: 0.5496 - val_output6_loss: 0.4415 - val_output7_loss: 0.6125 - val_output8_loss: 0.3810 - val_output9_loss: 0.4576 - val_output10_loss: 0.1838 - val_output11_loss: 0.0531 - val_output12_loss: 0.0021 - val_output1_binary_accuracy: 0.9287 - val_output2_binary_accuracy: 0.9453 - val_output3_binary_accuracy: 0.9082 - val_output4_binary_accuracy: 0.7715 - val_output5_binary_accuracy: 0.9092 - val_output6_binary_accuracy: 0.9316 - val_output7_binary_accuracy: 0.9033 - val_output8_binary_accuracy: 0.9316 - val_output9_binary_accuracy: 0.9287 - val_output10_binary_accuracy: 0.9785 - val_output11_binary_accuracy: 0.9951 - val_output12_binary_accuracy: 1.0000 - lr: 6.8719e-05\n",
            "Epoch 18/24\n",
            "251/251 [==============================] - ETA: 0s - loss: 0.5417 - output1_loss: 0.0237 - output2_loss: 0.0322 - output3_loss: 0.0973 - output4_loss: 0.1166 - output5_loss: 0.0654 - output6_loss: 0.0657 - output7_loss: 0.0463 - output8_loss: 0.0383 - output9_loss: 0.0335 - output10_loss: 0.0122 - output11_loss: 0.0062 - output12_loss: 0.0044 - output1_binary_accuracy: 0.9950 - output2_binary_accuracy: 0.9925 - output3_binary_accuracy: 0.9751 - output4_binary_accuracy: 0.9766 - output5_binary_accuracy: 0.9846 - output6_binary_accuracy: 0.9834 - output7_binary_accuracy: 0.9895 - output8_binary_accuracy: 0.9918 - output9_binary_accuracy: 0.9919 - output10_binary_accuracy: 0.9966 - output11_binary_accuracy: 0.9988 - output12_binary_accuracy: 0.9990\n",
            "Epoch 00018: val_loss did not improve from 3.18605\n",
            "251/251 [==============================] - 93s 369ms/step - loss: 0.5417 - output1_loss: 0.0237 - output2_loss: 0.0322 - output3_loss: 0.0973 - output4_loss: 0.1166 - output5_loss: 0.0654 - output6_loss: 0.0657 - output7_loss: 0.0463 - output8_loss: 0.0383 - output9_loss: 0.0335 - output10_loss: 0.0122 - output11_loss: 0.0062 - output12_loss: 0.0044 - output1_binary_accuracy: 0.9950 - output2_binary_accuracy: 0.9925 - output3_binary_accuracy: 0.9751 - output4_binary_accuracy: 0.9766 - output5_binary_accuracy: 0.9846 - output6_binary_accuracy: 0.9834 - output7_binary_accuracy: 0.9895 - output8_binary_accuracy: 0.9918 - output9_binary_accuracy: 0.9919 - output10_binary_accuracy: 0.9966 - output11_binary_accuracy: 0.9988 - output12_binary_accuracy: 0.9990 - val_loss: 5.6806 - val_output1_loss: 0.4934 - val_output2_loss: 0.4145 - val_output3_loss: 0.4628 - val_output4_loss: 1.5693 - val_output5_loss: 0.5641 - val_output6_loss: 0.4631 - val_output7_loss: 0.6089 - val_output8_loss: 0.3884 - val_output9_loss: 0.4761 - val_output10_loss: 0.1818 - val_output11_loss: 0.0560 - val_output12_loss: 0.0022 - val_output1_binary_accuracy: 0.9258 - val_output2_binary_accuracy: 0.9453 - val_output3_binary_accuracy: 0.9092 - val_output4_binary_accuracy: 0.7695 - val_output5_binary_accuracy: 0.8984 - val_output6_binary_accuracy: 0.9336 - val_output7_binary_accuracy: 0.9023 - val_output8_binary_accuracy: 0.9287 - val_output9_binary_accuracy: 0.9287 - val_output10_binary_accuracy: 0.9756 - val_output11_binary_accuracy: 0.9932 - val_output12_binary_accuracy: 1.0000 - lr: 5.4976e-05\n",
            "Epoch 19/24\n",
            "251/251 [==============================] - ETA: 0s - loss: 0.5064 - output1_loss: 0.0220 - output2_loss: 0.0283 - output3_loss: 0.0859 - output4_loss: 0.1135 - output5_loss: 0.0590 - output6_loss: 0.0656 - output7_loss: 0.0453 - output8_loss: 0.0370 - output9_loss: 0.0272 - output10_loss: 0.0118 - output11_loss: 0.0066 - output12_loss: 0.0040 - output1_binary_accuracy: 0.9954 - output2_binary_accuracy: 0.9938 - output3_binary_accuracy: 0.9788 - output4_binary_accuracy: 0.9755 - output5_binary_accuracy: 0.9861 - output6_binary_accuracy: 0.9827 - output7_binary_accuracy: 0.9905 - output8_binary_accuracy: 0.9927 - output9_binary_accuracy: 0.9943 - output10_binary_accuracy: 0.9971 - output11_binary_accuracy: 0.9988 - output12_binary_accuracy: 0.9993\n",
            "Epoch 00019: val_loss did not improve from 3.18605\n",
            "251/251 [==============================] - 92s 367ms/step - loss: 0.5064 - output1_loss: 0.0220 - output2_loss: 0.0283 - output3_loss: 0.0859 - output4_loss: 0.1135 - output5_loss: 0.0590 - output6_loss: 0.0656 - output7_loss: 0.0453 - output8_loss: 0.0370 - output9_loss: 0.0272 - output10_loss: 0.0118 - output11_loss: 0.0066 - output12_loss: 0.0040 - output1_binary_accuracy: 0.9954 - output2_binary_accuracy: 0.9938 - output3_binary_accuracy: 0.9788 - output4_binary_accuracy: 0.9755 - output5_binary_accuracy: 0.9861 - output6_binary_accuracy: 0.9827 - output7_binary_accuracy: 0.9905 - output8_binary_accuracy: 0.9927 - output9_binary_accuracy: 0.9943 - output10_binary_accuracy: 0.9971 - output11_binary_accuracy: 0.9988 - output12_binary_accuracy: 0.9993 - val_loss: 5.9579 - val_output1_loss: 0.4989 - val_output2_loss: 0.4443 - val_output3_loss: 0.4985 - val_output4_loss: 1.6875 - val_output5_loss: 0.5664 - val_output6_loss: 0.4780 - val_output7_loss: 0.6418 - val_output8_loss: 0.3997 - val_output9_loss: 0.4873 - val_output10_loss: 0.1968 - val_output11_loss: 0.0568 - val_output12_loss: 0.0020 - val_output1_binary_accuracy: 0.9268 - val_output2_binary_accuracy: 0.9453 - val_output3_binary_accuracy: 0.9160 - val_output4_binary_accuracy: 0.7812 - val_output5_binary_accuracy: 0.8965 - val_output6_binary_accuracy: 0.9316 - val_output7_binary_accuracy: 0.8965 - val_output8_binary_accuracy: 0.9287 - val_output9_binary_accuracy: 0.9346 - val_output10_binary_accuracy: 0.9766 - val_output11_binary_accuracy: 0.9941 - val_output12_binary_accuracy: 1.0000 - lr: 4.3980e-05\n",
            "Epoch 20/24\n",
            "251/251 [==============================] - ETA: 0s - loss: 0.4766 - output1_loss: 0.0227 - output2_loss: 0.0285 - output3_loss: 0.0836 - output4_loss: 0.1009 - output5_loss: 0.0612 - output6_loss: 0.0584 - output7_loss: 0.0385 - output8_loss: 0.0365 - output9_loss: 0.0242 - output10_loss: 0.0117 - output11_loss: 0.0068 - output12_loss: 0.0036 - output1_binary_accuracy: 0.9950 - output2_binary_accuracy: 0.9945 - output3_binary_accuracy: 0.9811 - output4_binary_accuracy: 0.9795 - output5_binary_accuracy: 0.9846 - output6_binary_accuracy: 0.9861 - output7_binary_accuracy: 0.9913 - output8_binary_accuracy: 0.9909 - output9_binary_accuracy: 0.9950 - output10_binary_accuracy: 0.9970 - output11_binary_accuracy: 0.9988 - output12_binary_accuracy: 0.9995\n",
            "Epoch 00020: val_loss did not improve from 3.18605\n",
            "251/251 [==============================] - 93s 370ms/step - loss: 0.4766 - output1_loss: 0.0227 - output2_loss: 0.0285 - output3_loss: 0.0836 - output4_loss: 0.1009 - output5_loss: 0.0612 - output6_loss: 0.0584 - output7_loss: 0.0385 - output8_loss: 0.0365 - output9_loss: 0.0242 - output10_loss: 0.0117 - output11_loss: 0.0068 - output12_loss: 0.0036 - output1_binary_accuracy: 0.9950 - output2_binary_accuracy: 0.9945 - output3_binary_accuracy: 0.9811 - output4_binary_accuracy: 0.9795 - output5_binary_accuracy: 0.9846 - output6_binary_accuracy: 0.9861 - output7_binary_accuracy: 0.9913 - output8_binary_accuracy: 0.9909 - output9_binary_accuracy: 0.9950 - output10_binary_accuracy: 0.9970 - output11_binary_accuracy: 0.9988 - output12_binary_accuracy: 0.9995 - val_loss: 5.9663 - val_output1_loss: 0.5075 - val_output2_loss: 0.4554 - val_output3_loss: 0.4982 - val_output4_loss: 1.6242 - val_output5_loss: 0.5828 - val_output6_loss: 0.5010 - val_output7_loss: 0.6597 - val_output8_loss: 0.3999 - val_output9_loss: 0.4846 - val_output10_loss: 0.1925 - val_output11_loss: 0.0588 - val_output12_loss: 0.0017 - val_output1_binary_accuracy: 0.9297 - val_output2_binary_accuracy: 0.9463 - val_output3_binary_accuracy: 0.9131 - val_output4_binary_accuracy: 0.7588 - val_output5_binary_accuracy: 0.8984 - val_output6_binary_accuracy: 0.9365 - val_output7_binary_accuracy: 0.9004 - val_output8_binary_accuracy: 0.9316 - val_output9_binary_accuracy: 0.9268 - val_output10_binary_accuracy: 0.9766 - val_output11_binary_accuracy: 0.9932 - val_output12_binary_accuracy: 1.0000 - lr: 3.5184e-05\n",
            "Epoch 21/24\n",
            "251/251 [==============================] - ETA: 0s - loss: 0.4684 - output1_loss: 0.0235 - output2_loss: 0.0293 - output3_loss: 0.0762 - output4_loss: 0.1075 - output5_loss: 0.0553 - output6_loss: 0.0550 - output7_loss: 0.0423 - output8_loss: 0.0330 - output9_loss: 0.0264 - output10_loss: 0.0104 - output11_loss: 0.0060 - output12_loss: 0.0034 - output1_binary_accuracy: 0.9950 - output2_binary_accuracy: 0.9943 - output3_binary_accuracy: 0.9812 - output4_binary_accuracy: 0.9751 - output5_binary_accuracy: 0.9888 - output6_binary_accuracy: 0.9861 - output7_binary_accuracy: 0.9909 - output8_binary_accuracy: 0.9925 - output9_binary_accuracy: 0.9934 - output10_binary_accuracy: 0.9970 - output11_binary_accuracy: 0.9989 - output12_binary_accuracy: 0.9993\n",
            "Epoch 00021: val_loss did not improve from 3.18605\n",
            "251/251 [==============================] - 92s 368ms/step - loss: 0.4684 - output1_loss: 0.0235 - output2_loss: 0.0293 - output3_loss: 0.0762 - output4_loss: 0.1075 - output5_loss: 0.0553 - output6_loss: 0.0550 - output7_loss: 0.0423 - output8_loss: 0.0330 - output9_loss: 0.0264 - output10_loss: 0.0104 - output11_loss: 0.0060 - output12_loss: 0.0034 - output1_binary_accuracy: 0.9950 - output2_binary_accuracy: 0.9943 - output3_binary_accuracy: 0.9812 - output4_binary_accuracy: 0.9751 - output5_binary_accuracy: 0.9888 - output6_binary_accuracy: 0.9861 - output7_binary_accuracy: 0.9909 - output8_binary_accuracy: 0.9925 - output9_binary_accuracy: 0.9934 - output10_binary_accuracy: 0.9970 - output11_binary_accuracy: 0.9989 - output12_binary_accuracy: 0.9993 - val_loss: 6.0535 - val_output1_loss: 0.5044 - val_output2_loss: 0.4518 - val_output3_loss: 0.4847 - val_output4_loss: 1.7129 - val_output5_loss: 0.5911 - val_output6_loss: 0.5041 - val_output7_loss: 0.6505 - val_output8_loss: 0.4065 - val_output9_loss: 0.4926 - val_output10_loss: 0.1927 - val_output11_loss: 0.0599 - val_output12_loss: 0.0022 - val_output1_binary_accuracy: 0.9248 - val_output2_binary_accuracy: 0.9424 - val_output3_binary_accuracy: 0.9092 - val_output4_binary_accuracy: 0.7812 - val_output5_binary_accuracy: 0.8994 - val_output6_binary_accuracy: 0.9355 - val_output7_binary_accuracy: 0.9014 - val_output8_binary_accuracy: 0.9316 - val_output9_binary_accuracy: 0.9277 - val_output10_binary_accuracy: 0.9775 - val_output11_binary_accuracy: 0.9932 - val_output12_binary_accuracy: 1.0000 - lr: 2.8147e-05\n",
            "Epoch 22/24\n",
            "251/251 [==============================] - ETA: 0s - loss: 0.4411 - output1_loss: 0.0207 - output2_loss: 0.0244 - output3_loss: 0.0732 - output4_loss: 0.0971 - output5_loss: 0.0531 - output6_loss: 0.0546 - output7_loss: 0.0397 - output8_loss: 0.0328 - output9_loss: 0.0252 - output10_loss: 0.0108 - output11_loss: 0.0067 - output12_loss: 0.0029 - output1_binary_accuracy: 0.9953 - output2_binary_accuracy: 0.9958 - output3_binary_accuracy: 0.9832 - output4_binary_accuracy: 0.9788 - output5_binary_accuracy: 0.9872 - output6_binary_accuracy: 0.9871 - output7_binary_accuracy: 0.9909 - output8_binary_accuracy: 0.9941 - output9_binary_accuracy: 0.9944 - output10_binary_accuracy: 0.9971 - output11_binary_accuracy: 0.9985 - output12_binary_accuracy: 0.9995\n",
            "Epoch 00022: val_loss did not improve from 3.18605\n",
            "251/251 [==============================] - 93s 370ms/step - loss: 0.4411 - output1_loss: 0.0207 - output2_loss: 0.0244 - output3_loss: 0.0732 - output4_loss: 0.0971 - output5_loss: 0.0531 - output6_loss: 0.0546 - output7_loss: 0.0397 - output8_loss: 0.0328 - output9_loss: 0.0252 - output10_loss: 0.0108 - output11_loss: 0.0067 - output12_loss: 0.0029 - output1_binary_accuracy: 0.9953 - output2_binary_accuracy: 0.9958 - output3_binary_accuracy: 0.9832 - output4_binary_accuracy: 0.9788 - output5_binary_accuracy: 0.9872 - output6_binary_accuracy: 0.9871 - output7_binary_accuracy: 0.9909 - output8_binary_accuracy: 0.9941 - output9_binary_accuracy: 0.9944 - output10_binary_accuracy: 0.9971 - output11_binary_accuracy: 0.9985 - output12_binary_accuracy: 0.9995 - val_loss: 6.1455 - val_output1_loss: 0.5146 - val_output2_loss: 0.4497 - val_output3_loss: 0.5090 - val_output4_loss: 1.7423 - val_output5_loss: 0.6090 - val_output6_loss: 0.4947 - val_output7_loss: 0.6582 - val_output8_loss: 0.4124 - val_output9_loss: 0.4939 - val_output10_loss: 0.2000 - val_output11_loss: 0.0599 - val_output12_loss: 0.0018 - val_output1_binary_accuracy: 0.9248 - val_output2_binary_accuracy: 0.9463 - val_output3_binary_accuracy: 0.9131 - val_output4_binary_accuracy: 0.7764 - val_output5_binary_accuracy: 0.9053 - val_output6_binary_accuracy: 0.9365 - val_output7_binary_accuracy: 0.8965 - val_output8_binary_accuracy: 0.9326 - val_output9_binary_accuracy: 0.9248 - val_output10_binary_accuracy: 0.9766 - val_output11_binary_accuracy: 0.9932 - val_output12_binary_accuracy: 1.0000 - lr: 2.2518e-05\n",
            "Epoch 23/24\n",
            "251/251 [==============================] - ETA: 0s - loss: 0.4248 - output1_loss: 0.0197 - output2_loss: 0.0252 - output3_loss: 0.0728 - output4_loss: 0.0880 - output5_loss: 0.0511 - output6_loss: 0.0553 - output7_loss: 0.0357 - output8_loss: 0.0337 - output9_loss: 0.0230 - output10_loss: 0.0105 - output11_loss: 0.0061 - output12_loss: 0.0036 - output1_binary_accuracy: 0.9950 - output2_binary_accuracy: 0.9945 - output3_binary_accuracy: 0.9836 - output4_binary_accuracy: 0.9842 - output5_binary_accuracy: 0.9882 - output6_binary_accuracy: 0.9875 - output7_binary_accuracy: 0.9932 - output8_binary_accuracy: 0.9919 - output9_binary_accuracy: 0.9961 - output10_binary_accuracy: 0.9976 - output11_binary_accuracy: 0.9988 - output12_binary_accuracy: 0.9996\n",
            "Epoch 00023: val_loss did not improve from 3.18605\n",
            "251/251 [==============================] - 92s 368ms/step - loss: 0.4248 - output1_loss: 0.0197 - output2_loss: 0.0252 - output3_loss: 0.0728 - output4_loss: 0.0880 - output5_loss: 0.0511 - output6_loss: 0.0553 - output7_loss: 0.0357 - output8_loss: 0.0337 - output9_loss: 0.0230 - output10_loss: 0.0105 - output11_loss: 0.0061 - output12_loss: 0.0036 - output1_binary_accuracy: 0.9950 - output2_binary_accuracy: 0.9945 - output3_binary_accuracy: 0.9836 - output4_binary_accuracy: 0.9842 - output5_binary_accuracy: 0.9882 - output6_binary_accuracy: 0.9875 - output7_binary_accuracy: 0.9932 - output8_binary_accuracy: 0.9919 - output9_binary_accuracy: 0.9961 - output10_binary_accuracy: 0.9976 - output11_binary_accuracy: 0.9988 - output12_binary_accuracy: 0.9996 - val_loss: 6.1597 - val_output1_loss: 0.5120 - val_output2_loss: 0.4513 - val_output3_loss: 0.5020 - val_output4_loss: 1.7365 - val_output5_loss: 0.6087 - val_output6_loss: 0.5130 - val_output7_loss: 0.6441 - val_output8_loss: 0.4162 - val_output9_loss: 0.5097 - val_output10_loss: 0.2042 - val_output11_loss: 0.0603 - val_output12_loss: 0.0017 - val_output1_binary_accuracy: 0.9258 - val_output2_binary_accuracy: 0.9482 - val_output3_binary_accuracy: 0.9092 - val_output4_binary_accuracy: 0.7637 - val_output5_binary_accuracy: 0.9082 - val_output6_binary_accuracy: 0.9336 - val_output7_binary_accuracy: 0.9053 - val_output8_binary_accuracy: 0.9346 - val_output9_binary_accuracy: 0.9258 - val_output10_binary_accuracy: 0.9766 - val_output11_binary_accuracy: 0.9932 - val_output12_binary_accuracy: 1.0000 - lr: 1.8014e-05\n",
            "Epoch 24/24\n",
            "251/251 [==============================] - ETA: 0s - loss: 0.4271 - output1_loss: 0.0212 - output2_loss: 0.0271 - output3_loss: 0.0712 - output4_loss: 0.0871 - output5_loss: 0.0518 - output6_loss: 0.0538 - output7_loss: 0.0356 - output8_loss: 0.0347 - output9_loss: 0.0231 - output10_loss: 0.0110 - output11_loss: 0.0069 - output12_loss: 0.0036 - output1_binary_accuracy: 0.9955 - output2_binary_accuracy: 0.9946 - output3_binary_accuracy: 0.9844 - output4_binary_accuracy: 0.9839 - output5_binary_accuracy: 0.9878 - output6_binary_accuracy: 0.9859 - output7_binary_accuracy: 0.9924 - output8_binary_accuracy: 0.9918 - output9_binary_accuracy: 0.9961 - output10_binary_accuracy: 0.9971 - output11_binary_accuracy: 0.9985 - output12_binary_accuracy: 0.9993\n",
            "Epoch 00024: val_loss did not improve from 3.18605\n",
            "251/251 [==============================] - 93s 371ms/step - loss: 0.4271 - output1_loss: 0.0212 - output2_loss: 0.0271 - output3_loss: 0.0712 - output4_loss: 0.0871 - output5_loss: 0.0518 - output6_loss: 0.0538 - output7_loss: 0.0356 - output8_loss: 0.0347 - output9_loss: 0.0231 - output10_loss: 0.0110 - output11_loss: 0.0069 - output12_loss: 0.0036 - output1_binary_accuracy: 0.9955 - output2_binary_accuracy: 0.9946 - output3_binary_accuracy: 0.9844 - output4_binary_accuracy: 0.9839 - output5_binary_accuracy: 0.9878 - output6_binary_accuracy: 0.9859 - output7_binary_accuracy: 0.9924 - output8_binary_accuracy: 0.9918 - output9_binary_accuracy: 0.9961 - output10_binary_accuracy: 0.9971 - output11_binary_accuracy: 0.9985 - output12_binary_accuracy: 0.9993 - val_loss: 6.2538 - val_output1_loss: 0.5181 - val_output2_loss: 0.4709 - val_output3_loss: 0.5089 - val_output4_loss: 1.7669 - val_output5_loss: 0.6214 - val_output6_loss: 0.5266 - val_output7_loss: 0.6763 - val_output8_loss: 0.4171 - val_output9_loss: 0.4912 - val_output10_loss: 0.1946 - val_output11_loss: 0.0600 - val_output12_loss: 0.0018 - val_output1_binary_accuracy: 0.9258 - val_output2_binary_accuracy: 0.9463 - val_output3_binary_accuracy: 0.9141 - val_output4_binary_accuracy: 0.7695 - val_output5_binary_accuracy: 0.9053 - val_output6_binary_accuracy: 0.9346 - val_output7_binary_accuracy: 0.8994 - val_output8_binary_accuracy: 0.9355 - val_output9_binary_accuracy: 0.9268 - val_output10_binary_accuracy: 0.9766 - val_output11_binary_accuracy: 0.9932 - val_output12_binary_accuracy: 1.0000 - lr: 1.4412e-05\n"
          ],
          "name": "stdout"
        },
        {
          "output_type": "execute_result",
          "data": {
            "text/plain": [
              "<tensorflow.python.keras.callbacks.History at 0x7f95839b44a8>"
            ]
          },
          "metadata": {
            "tags": []
          },
          "execution_count": 48
        }
      ]
    },
    {
      "cell_type": "markdown",
      "metadata": {
        "id": "QMfSJxN--xs1",
        "colab_type": "text"
      },
      "source": [
        "## Prediction\n",
        "\n",
        "\n"
      ]
    },
    {
      "cell_type": "code",
      "metadata": {
        "id": "jsDym2PgJ6ml",
        "colab_type": "code",
        "colab": {
          "base_uri": "https://localhost:8080/",
          "height": 974
        },
        "outputId": "72ca176b-bc45-42d3-a96e-5bc263daa6f8"
      },
      "source": [
        "model.summary()"
      ],
      "execution_count": 49,
      "outputs": [
        {
          "output_type": "stream",
          "text": [
            "Model: \"model_1\"\n",
            "__________________________________________________________________________________________________\n",
            "Layer (type)                    Output Shape         Param #     Connected to                     \n",
            "==================================================================================================\n",
            "input_3 (InputLayer)            [(None, 1259, 768)]  0                                            \n",
            "__________________________________________________________________________________________________\n",
            "spatial_dropout1d_2 (SpatialDro (None, 1259, 768)    0           input_3[0][0]                    \n",
            "__________________________________________________________________________________________________\n",
            "bidirectional_4 (Bidirectional) (None, 1259, 256)    918528      spatial_dropout1d_2[0][0]        \n",
            "__________________________________________________________________________________________________\n",
            "bidirectional_5 (Bidirectional) (None, 1259, 256)    394240      bidirectional_4[0][0]            \n",
            "__________________________________________________________________________________________________\n",
            "global_max_pooling1d_2 (GlobalM (None, 256)          0           bidirectional_5[0][0]            \n",
            "__________________________________________________________________________________________________\n",
            "global_average_pooling1d_2 (Glo (None, 256)          0           bidirectional_5[0][0]            \n",
            "__________________________________________________________________________________________________\n",
            "concatenate_2 (Concatenate)     (None, 512)          0           global_max_pooling1d_2[0][0]     \n",
            "                                                                 global_average_pooling1d_2[0][0] \n",
            "__________________________________________________________________________________________________\n",
            "dense_4 (Dense)                 (None, 512)          262656      concatenate_2[0][0]              \n",
            "__________________________________________________________________________________________________\n",
            "add_4 (Add)                     (None, 512)          0           concatenate_2[0][0]              \n",
            "                                                                 dense_4[0][0]                    \n",
            "__________________________________________________________________________________________________\n",
            "dense_5 (Dense)                 (None, 512)          262656      add_4[0][0]                      \n",
            "__________________________________________________________________________________________________\n",
            "add_5 (Add)                     (None, 512)          0           add_4[0][0]                      \n",
            "                                                                 dense_5[0][0]                    \n",
            "__________________________________________________________________________________________________\n",
            "output1 (Dense)                 (None, 1)            513         add_5[0][0]                      \n",
            "__________________________________________________________________________________________________\n",
            "output2 (Dense)                 (None, 1)            513         add_5[0][0]                      \n",
            "__________________________________________________________________________________________________\n",
            "output3 (Dense)                 (None, 1)            513         add_5[0][0]                      \n",
            "__________________________________________________________________________________________________\n",
            "output4 (Dense)                 (None, 1)            513         add_5[0][0]                      \n",
            "__________________________________________________________________________________________________\n",
            "output5 (Dense)                 (None, 1)            513         add_5[0][0]                      \n",
            "__________________________________________________________________________________________________\n",
            "output6 (Dense)                 (None, 1)            513         add_5[0][0]                      \n",
            "__________________________________________________________________________________________________\n",
            "output7 (Dense)                 (None, 1)            513         add_5[0][0]                      \n",
            "__________________________________________________________________________________________________\n",
            "output8 (Dense)                 (None, 1)            513         add_5[0][0]                      \n",
            "__________________________________________________________________________________________________\n",
            "output9 (Dense)                 (None, 1)            513         add_5[0][0]                      \n",
            "__________________________________________________________________________________________________\n",
            "output10 (Dense)                (None, 1)            513         add_5[0][0]                      \n",
            "__________________________________________________________________________________________________\n",
            "output11 (Dense)                (None, 1)            513         add_5[0][0]                      \n",
            "__________________________________________________________________________________________________\n",
            "output12 (Dense)                (None, 1)            513         add_5[0][0]                      \n",
            "==================================================================================================\n",
            "Total params: 1,844,236\n",
            "Trainable params: 1,844,236\n",
            "Non-trainable params: 0\n",
            "__________________________________________________________________________________________________\n"
          ],
          "name": "stdout"
        }
      ]
    },
    {
      "cell_type": "code",
      "metadata": {
        "id": "1WhPRX7SJk5c",
        "colab_type": "code",
        "colab": {}
      },
      "source": [
        "model.load_weights('BERT/LSTM.h5')"
      ],
      "execution_count": 0,
      "outputs": []
    },
    {
      "cell_type": "code",
      "metadata": {
        "id": "onSOnIBxPXa0",
        "colab_type": "code",
        "colab": {}
      },
      "source": [
        "model.load_weights('BERT/LSTM_addPenalty.h5')"
      ],
      "execution_count": 0,
      "outputs": []
    },
    {
      "cell_type": "code",
      "metadata": {
        "id": "2ZwqpZmP_pVV",
        "colab_type": "code",
        "colab": {}
      },
      "source": [
        "class testDataGenerator(tf.keras.utils.Sequence):\n",
        "    'Generates data for Keras'\n",
        "    def __init__(self, pdDataFrame, dbName, labels=['oQ', 'RQ', 'CQ', 'FD', 'FQ', 'IR', 'PA', 'PF', 'NF', 'GG', 'JK', 'O'],\\\n",
        "                 batch_size=25, dim=MAX_LEN, n_channels=N_CHANNELS,\\\n",
        "                 n_classes=N_CLASS, shuffle=False):\n",
        "        'Initialization'\n",
        "        self.dim = dim\n",
        "        self.batch_size = batch_size\n",
        "        self.labels = labels\n",
        "        self.list_IDs = pdDataFrame\n",
        "        self.n_channels = n_channels\n",
        "        self.n_classes = n_classes\n",
        "        self.shuffle = shuffle\n",
        "        self.dbName=dbName\n",
        "        self.on_epoch_end()\n",
        "\n",
        "    def __len__(self):\n",
        "        'Denotes the number of batches per epoch'\n",
        "        return int(np.floor(len(self.list_IDs) / self.batch_size))\n",
        "\n",
        "    def __getitem__(self, index):\n",
        "        'Generate one batch of data'\n",
        "        # Generate indexes of the batch\n",
        "        indexes = self.indexes[index*self.batch_size:(index+1)*self.batch_size]\n",
        "\n",
        "        # Find list of IDs\n",
        "        list_IDs_temp = self.list_IDs.iloc[indexes,:]\n",
        "\n",
        "        # Generate data\n",
        "        X = self.__data_generation(list_IDs_temp.reset_index(drop=True))\n",
        "\n",
        "        return X\n",
        "\n",
        "    def on_epoch_end(self):\n",
        "        'Updates indexes after each epoch'\n",
        "        self.indexes = np.arange(len(self.list_IDs))\n",
        "        if self.shuffle == True:\n",
        "            np.random.shuffle(self.indexes)\n",
        "\n",
        "    def __data_generation(self, list_IDs_temp):\n",
        "        'Generates data containing batch_size samples' # X : (n_samples, *dim, n_channels)\n",
        "        # Initialization\n",
        "        X = np.zeros((self.batch_size, self.dim, self.n_channels))\n",
        "        #y = np.zeros((self.batch_size,self.n_classes), dtype=int)\n",
        "\n",
        "        # Generate data\n",
        "        for i in range(len(list_IDs_temp)):\n",
        "            utterenceID=list_IDs_temp.loc[i,'id']\n",
        "            diaglogID=list_IDs_temp.loc[i,'diaglogID']\n",
        "            try:\n",
        "              temp=np.load('BERT/vector/'+self.dbName+'_'+str(utterenceID)+'_'+str(diaglogID)+'.npy')\n",
        "              X[i,0:temp.shape[0],:] =temp \n",
        "              del temp\n",
        "            except:\n",
        "              print('Faile to load the data: BERT/vector/'+self.dbName+'_'+str(utterenceID)+'_'+str(diaglogID)+'.npy')\n",
        "            # Store sample\n",
        "            # Store class\n",
        "            #y[i,:] = np.array(list_IDs_temp.iloc[i,0:12])\n",
        "\n",
        "        return X"
      ],
      "execution_count": 0,
      "outputs": []
    },
    {
      "cell_type": "code",
      "metadata": {
        "id": "pgnTSkm2_EBW",
        "colab_type": "code",
        "colab": {}
      },
      "source": [
        "test_generator=testDataGenerator(Test,'Test')"
      ],
      "execution_count": 0,
      "outputs": []
    },
    {
      "cell_type": "code",
      "metadata": {
        "id": "MneDN8jV-spA",
        "colab_type": "code",
        "colab": {}
      },
      "source": [
        "prediction = model.predict_generator(test_generator)"
      ],
      "execution_count": 0,
      "outputs": []
    },
    {
      "cell_type": "code",
      "metadata": {
        "id": "P0iEXswMaFjG",
        "colab_type": "code",
        "colab": {}
      },
      "source": [
        "Prediction=np.array(prediction)"
      ],
      "execution_count": 0,
      "outputs": []
    },
    {
      "cell_type": "code",
      "metadata": {
        "id": "lfKCnqyr_dH-",
        "colab_type": "code",
        "outputId": "8fbbd57f-572e-4a44-aa6c-64e6c33000a9",
        "colab": {
          "base_uri": "https://localhost:8080/",
          "height": 34
        }
      },
      "source": [
        "IOU=0\n",
        "for i in range(len(Test)):\n",
        "  pred=Prediction[0:N_CLASS,i,0]\n",
        "  labels=np.array(Test.iloc[i,0:N_CLASS])\n",
        "  ioU=np.sum((pred>=0.5)&(labels==1))/np.sum( (pred>=0.5) | (labels==1))\n",
        "  IOU+=ioU\n",
        "IOU=IOU/len(Test)\n",
        "print(IOU)"
      ],
      "execution_count": 56,
      "outputs": [
        {
          "output_type": "stream",
          "text": [
            "0.6326846846846844\n"
          ],
          "name": "stdout"
        }
      ]
    },
    {
      "cell_type": "code",
      "metadata": {
        "id": "DavG4UnTDpVw",
        "colab_type": "code",
        "outputId": "de450b10-9b47-4435-84b4-17fbd4c08af5",
        "colab": {
          "base_uri": "https://localhost:8080/",
          "height": 34
        }
      },
      "source": [
        "ACC=0\n",
        "for i in range(len(Test)):\n",
        "  pred=Prediction[0:N_CLASS,i,0]\n",
        "  labels=np.array(Test.iloc[i,0:N_CLASS])\n",
        "  acc=np.sum((pred>=0.5)==labels)/12\n",
        "  ACC+=acc\n",
        "ACC=ACC/len(Test)\n",
        "print(ACC)"
      ],
      "execution_count": 57,
      "outputs": [
        {
          "output_type": "stream",
          "text": [
            "0.9196396396396386\n"
          ],
          "name": "stdout"
        }
      ]
    },
    {
      "cell_type": "code",
      "metadata": {
        "id": "dV-AOnmQh8B3",
        "colab_type": "code",
        "colab": {
          "base_uri": "https://localhost:8080/",
          "height": 218
        },
        "outputId": "1d3bb70a-b31e-4ea8-cd96-0f8dbec5bf9e"
      },
      "source": [
        "for i in range(N_CLASS):\n",
        "  print(np.sum(Test.iloc[:,i]==1)/len(Test),np.sum((Prediction[i,:,0]>=0.5)==(Test.iloc[:,i]))/len(Test))"
      ],
      "execution_count": 58,
      "outputs": [
        {
          "output_type": "stream",
          "text": [
            "0.23135135135135135 0.918918918918919\n",
            "0.05837837837837838 0.9556756756756757\n",
            "0.08108108108108109 0.8983783783783784\n",
            "0.24756756756756756 0.7416216216216216\n",
            "0.0918918918918919 0.9037837837837838\n",
            "0.11135135135135135 0.9308108108108109\n",
            "0.4043243243243243 0.9037837837837838\n",
            "0.11891891891891893 0.9059459459459459\n",
            "0.07243243243243243 0.9167567567567567\n",
            "0.02918918918918919 0.9751351351351352\n",
            "0.004324324324324324 0.987027027027027\n",
            "0.002162162162162162 0.9978378378378379\n"
          ],
          "name": "stdout"
        }
      ]
    },
    {
      "cell_type": "code",
      "metadata": {
        "id": "96IhGmpUPb3x",
        "colab_type": "code",
        "colab": {}
      },
      "source": [
        ""
      ],
      "execution_count": 0,
      "outputs": []
    }
  ]
}