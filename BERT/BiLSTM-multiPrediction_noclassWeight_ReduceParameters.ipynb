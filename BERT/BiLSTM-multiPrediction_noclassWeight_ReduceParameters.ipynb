{
  "nbformat": 4,
  "nbformat_minor": 0,
  "metadata": {
    "colab": {
      "name": "LSTM.ipynb",
      "provenance": [],
      "collapsed_sections": [],
      "authorship_tag": "ABX9TyPPUdPGsiIBGYWVblX3KFit",
      "include_colab_link": true
    },
    "kernelspec": {
      "name": "python3",
      "display_name": "Python 3"
    },
    "accelerator": "GPU"
  },
  "cells": [
    {
      "cell_type": "markdown",
      "metadata": {
        "id": "view-in-github",
        "colab_type": "text"
      },
      "source": [
        "<a href=\"https://colab.research.google.com/github/wtsyang/UserIntentPrediction/blob/BERT/BERT/LSTM-multiPrediction_noclassWeight_ReduceParameters.ipynb\" target=\"_parent\"><img src=\"https://colab.research.google.com/assets/colab-badge.svg\" alt=\"Open In Colab\"/></a>"
      ]
    },
    {
      "cell_type": "code",
      "metadata": {
        "id": "ot0Ha--FR-S1",
        "colab_type": "code",
        "outputId": "f8690c2c-d0e9-4d0e-a51b-7aa79ed6d2a1",
        "colab": {
          "base_uri": "https://localhost:8080/",
          "height": 50
        }
      },
      "source": [
        "from google.colab import drive # import drive from google colab\n",
        "\n",
        "ROOT = \"/content/drive\"     # default location for the drive\n",
        "print(ROOT)                 # print content of ROOT (Optional)\n",
        "\n",
        "drive.mount(ROOT)           # we mount the google drive at /content/drive"
      ],
      "execution_count": 1,
      "outputs": [
        {
          "output_type": "stream",
          "text": [
            "/content/drive\n",
            "Drive already mounted at /content/drive; to attempt to forcibly remount, call drive.mount(\"/content/drive\", force_remount=True).\n"
          ],
          "name": "stdout"
        }
      ]
    },
    {
      "cell_type": "code",
      "metadata": {
        "id": "-6DT7DNwSNn9",
        "colab_type": "code",
        "outputId": "3c6913f5-59c7-4fc0-dd05-195e792d6596",
        "colab": {
          "base_uri": "https://localhost:8080/",
          "height": 34
        }
      },
      "source": [
        "%cd '/content/drive/My Drive/UserIntentPrediction'"
      ],
      "execution_count": 2,
      "outputs": [
        {
          "output_type": "stream",
          "text": [
            "/content/drive/My Drive/UserIntentPrediction\n"
          ],
          "name": "stdout"
        }
      ]
    },
    {
      "cell_type": "code",
      "metadata": {
        "id": "De681umQRanU",
        "colab_type": "code",
        "outputId": "9a846ddf-6b21-47c9-c407-90955e9d21eb",
        "colab": {
          "base_uri": "https://localhost:8080/",
          "height": 34
        }
      },
      "source": [
        "import numpy as np\n",
        "import pandas as pd\n",
        "import tensorflow as tf\n",
        "from tensorflow.keras.models import Model\n",
        "from tensorflow.keras.layers import Input, Dense, Embedding, SpatialDropout1D, add, concatenate\n",
        "from tensorflow.keras.layers  import LSTM, Bidirectional, GlobalMaxPooling1D, GlobalAveragePooling1D\n",
        "from tensorflow.keras.preprocessing import text, sequence\n",
        "from gensim.models import KeyedVectors\n",
        "from sklearn.model_selection  import train_test_split\n",
        "import pickle\n",
        "import sklearn\n",
        "from tensorflow.keras.utils import multi_gpu_model\n",
        "from tensorflow.keras.callbacks import ModelCheckpoint\n",
        "from tensorflow.keras.callbacks import ReduceLROnPlateau\n",
        "from tensorflow.keras import backend as K\n",
        "from tensorflow.python.framework import ops\n",
        "from tensorflow.python.ops import math_ops\n",
        "from tensorflow.python.framework import smart_cond\n",
        "from functools import partial\n",
        "\n",
        "print('Tensorflow Version:',tf.__version__)"
      ],
      "execution_count": 3,
      "outputs": [
        {
          "output_type": "stream",
          "text": [
            "Tensorflow Version: 2.2.0-rc2\n"
          ],
          "name": "stdout"
        }
      ]
    },
    {
      "cell_type": "code",
      "metadata": {
        "id": "yIpXSpeYR4rx",
        "colab_type": "code",
        "colab": {}
      },
      "source": [
        "NUM_MODELS = 1\n",
        "BATCH_SIZE = 32\n",
        "LSTM_UNITS = 64\n",
        "DENSE_HIDDEN_UNITS = 4 * LSTM_UNITS\n",
        "EPOCHS = 24\n",
        "MAX_LEN = 1259\n",
        "N_CHANNELS=768\n",
        "N_CLASS=12"
      ],
      "execution_count": 0,
      "outputs": []
    },
    {
      "cell_type": "markdown",
      "metadata": {
        "id": "7lcdmN7BSHGl",
        "colab_type": "text"
      },
      "source": [
        "## Loading the dataset\n"
      ]
    },
    {
      "cell_type": "code",
      "metadata": {
        "id": "5p2_0TqoR9ef",
        "colab_type": "code",
        "colab": {}
      },
      "source": [
        "Train=pd.read_csv('data/Train_Preprocessing.csv').reset_index(drop=True)\n",
        "Valid=pd.read_csv('data/Valid_Preprocessing.csv').reset_index(drop=True)\n",
        "Test=pd.read_csv('data/Test_Preprocessing.csv').reset_index(drop=True)"
      ],
      "execution_count": 0,
      "outputs": []
    },
    {
      "cell_type": "code",
      "metadata": {
        "id": "hjliEKeAhO4e",
        "colab_type": "code",
        "colab": {}
      },
      "source": [
        "class DataGenerator(tf.keras.utils.Sequence):\n",
        "    'Generates data for Keras'\n",
        "    def __init__(self, pdDataFrame, dbName, labels=['oQ', 'RQ', 'CQ', 'FD', 'FQ', 'IR', 'PA', 'PF', 'NF', 'GG', 'JK', 'O'],\\\n",
        "                 batch_size=BATCH_SIZE, dim=MAX_LEN, n_channels=N_CHANNELS,\\\n",
        "                 n_classes=N_CLASS, shuffle=True):\n",
        "        'Initialization'\n",
        "        self.dim = dim\n",
        "        self.batch_size = batch_size\n",
        "        self.labels = labels\n",
        "        self.list_IDs = pdDataFrame\n",
        "        self.n_channels = n_channels\n",
        "        self.n_classes = n_classes\n",
        "        self.shuffle = shuffle\n",
        "        self.dbName=dbName\n",
        "        self.on_epoch_end()\n",
        "\n",
        "    def __len__(self):\n",
        "        'Denotes the number of batches per epoch'\n",
        "        return int(np.floor(len(self.list_IDs) / self.batch_size))\n",
        "\n",
        "    def __getitem__(self, index):\n",
        "        'Generate one batch of data'\n",
        "        # Generate indexes of the batch\n",
        "        indexes = self.indexes[index*self.batch_size:(index+1)*self.batch_size]\n",
        "\n",
        "        # Find list of IDs\n",
        "        list_IDs_temp = self.list_IDs.iloc[indexes,:]\n",
        "\n",
        "        # Generate data\n",
        "        X, y = self.__data_generation(list_IDs_temp.reset_index(drop=True))\n",
        "\n",
        "        return X, y\n",
        "\n",
        "    def on_epoch_end(self):\n",
        "        'Updates indexes after each epoch'\n",
        "        self.indexes = np.arange(len(self.list_IDs))\n",
        "        if self.shuffle == True:\n",
        "            np.random.shuffle(self.indexes)\n",
        "\n",
        "    def __data_generation(self, list_IDs_temp):\n",
        "        'Generates data containing batch_size samples' # X : (n_samples, *dim, n_channels)\n",
        "        # Initialization\n",
        "        X = np.zeros((self.batch_size, self.dim, self.n_channels))\n",
        "        y = np.zeros((self.batch_size,self.n_classes), dtype=int)\n",
        "\n",
        "        # Generate data\n",
        "        for i in range(len(list_IDs_temp)):\n",
        "            utterenceID=list_IDs_temp.loc[i,'id']\n",
        "            diaglogID=list_IDs_temp.loc[i,'diaglogID']\n",
        "            try:\n",
        "              temp=np.load('BERT/vector/'+self.dbName+'_'+str(utterenceID)+'_'+str(diaglogID)+'.npy')\n",
        "              X[i,0:temp.shape[0],:] =temp \n",
        "              del temp\n",
        "            except:\n",
        "              print('Faile to load the data: BERT/vector/'+self.dbName+'_'+str(utterenceID)+'_'+str(diaglogID)+'.npy')\n",
        "            # Store sample\n",
        "            # Store class\n",
        "            y[i,:] = np.array(list_IDs_temp.iloc[i,0:12])\n",
        "        Y=[]\n",
        "        for i in range(self.n_classes):\n",
        "          Y+=[y[:,i].reshape((self.batch_size,))]\n",
        "        return X, Y"
      ],
      "execution_count": 0,
      "outputs": []
    },
    {
      "cell_type": "code",
      "metadata": {
        "id": "8ijHEnaK7opB",
        "colab_type": "code",
        "colab": {}
      },
      "source": [
        "training_generator = DataGenerator(Train,'Train')\n",
        "validation_generator = DataGenerator(Valid,'Valid')"
      ],
      "execution_count": 0,
      "outputs": []
    },
    {
      "cell_type": "code",
      "metadata": {
        "id": "QbBl5lHEfSGa",
        "colab_type": "code",
        "colab": {}
      },
      "source": [
        "classWeight_Dict={}\n",
        "for i in range(N_CLASS):\n",
        "  ratioTrue=np.sum(Train.iloc[:,i])/len(Train)\n",
        "  classWeight_Dict['output'+str(i+1)]={0:1.0,1:1.0}"
      ],
      "execution_count": 0,
      "outputs": []
    },
    {
      "cell_type": "code",
      "metadata": {
        "id": "uaoPIhG5PE0e",
        "colab_type": "code",
        "outputId": "b933e6f2-c1bb-453a-82f9-8be69f6efa2a",
        "colab": {
          "base_uri": "https://localhost:8080/",
          "height": 218
        }
      },
      "source": [
        "classWeight_Dict"
      ],
      "execution_count": 9,
      "outputs": [
        {
          "output_type": "execute_result",
          "data": {
            "text/plain": [
              "{'output1': {0: 1.0, 1: 1.0},\n",
              " 'output10': {0: 1.0, 1: 1.0},\n",
              " 'output11': {0: 1.0, 1: 1.0},\n",
              " 'output12': {0: 1.0, 1: 1.0},\n",
              " 'output2': {0: 1.0, 1: 1.0},\n",
              " 'output3': {0: 1.0, 1: 1.0},\n",
              " 'output4': {0: 1.0, 1: 1.0},\n",
              " 'output5': {0: 1.0, 1: 1.0},\n",
              " 'output6': {0: 1.0, 1: 1.0},\n",
              " 'output7': {0: 1.0, 1: 1.0},\n",
              " 'output8': {0: 1.0, 1: 1.0},\n",
              " 'output9': {0: 1.0, 1: 1.0}}"
            ]
          },
          "metadata": {
            "tags": []
          },
          "execution_count": 9
        }
      ]
    },
    {
      "cell_type": "markdown",
      "metadata": {
        "id": "K2mz_N6c7mEx",
        "colab_type": "text"
      },
      "source": [
        "## Build the model\n"
      ]
    },
    {
      "cell_type": "code",
      "metadata": {
        "id": "fytjcvIOnMiA",
        "colab_type": "code",
        "colab": {}
      },
      "source": [
        "def binary_crossentropy(y_true, y_pred, weights,from_logits=False,label_smoothing=0):\n",
        "\n",
        "    y_pred = ops.convert_to_tensor(y_pred)\n",
        "    y_true = math_ops.cast(y_true, y_pred.dtype)\n",
        "    label_smoothing = ops.convert_to_tensor(label_smoothing, dtype=K.floatx())\n",
        "    def _smooth_labels():\n",
        "      return y_true * (1.0 - label_smoothing) + 0.5 * label_smoothing\n",
        "    y_true = smart_cond.smart_cond(label_smoothing,_smooth_labels, lambda: y_true)\n",
        "    \n",
        "    mask0 = tf.subtract(tf.constant(1.0, dtype=K.floatx()),y_true)\n",
        "    mask0=tf.math.scalar_mul(tf.constant(weights[0], dtype=K.floatx()),mask0)\n",
        "    mask1 =tf.math.scalar_mul(tf.constant(weights[1], dtype=K.floatx()),y_true)\n",
        "    mask=tf.math.add(mask0,mask1)\n",
        "\n",
        "    return K.mean(tf.math.multiply(K.binary_crossentropy(y_true, y_pred, from_logits=from_logits),mask), axis=-1)"
      ],
      "execution_count": 0,
      "outputs": []
    },
    {
      "cell_type": "code",
      "metadata": {
        "id": "jfKQSOUM5saC",
        "colab_type": "code",
        "colab": {}
      },
      "source": [
        "def build_model():\n",
        "    inputs = Input(shape=(MAX_LEN,N_CHANNELS))\n",
        "    x = SpatialDropout1D(0.2)(inputs)\n",
        "    x = Bidirectional(LSTM(LSTM_UNITS, return_sequences=True))(x)\n",
        "    x = Bidirectional(LSTM(LSTM_UNITS, return_sequences=True))(x)\n",
        "\n",
        "    hidden = concatenate([\n",
        "        GlobalMaxPooling1D()(x),\n",
        "        GlobalAveragePooling1D()(x),\n",
        "    ])\n",
        "    hidden = add([hidden, Dense(DENSE_HIDDEN_UNITS, activation='relu')(hidden)])\n",
        "    hidden = add([hidden, Dense(DENSE_HIDDEN_UNITS, activation='relu')(hidden)])\n",
        "    RESULT=[]\n",
        "    for i in range(N_CLASS):\n",
        "      RESULT+=[Dense(1, activation='sigmoid',name='output'+str(i+1))(hidden)]\n",
        "    LOSS={}\n",
        "    for i in  range(N_CLASS):\n",
        "      LOSS['output'+str(i+1)]=partial(binary_crossentropy, weights=classWeight_Dict['output'+str(i+1)])\n",
        "      LOSS['output'+str(i+1)].__name__ = 'loss'+str(i+1)\n",
        "\n",
        "    model = Model(inputs=inputs, outputs=RESULT)\n",
        "    model.compile(loss=LOSS, optimizer='adam',metrics=[tf.keras.metrics.binary_accuracy])\n",
        "\n",
        "    return model"
      ],
      "execution_count": 0,
      "outputs": []
    },
    {
      "cell_type": "code",
      "metadata": {
        "id": "N37opYym6CCC",
        "colab_type": "code",
        "outputId": "bf8c5745-a291-4b66-e556-3ded5198f7e4",
        "colab": {
          "base_uri": "https://localhost:8080/",
          "height": 974
        }
      },
      "source": [
        "model = build_model()\n",
        "model.summary()"
      ],
      "execution_count": 12,
      "outputs": [
        {
          "output_type": "stream",
          "text": [
            "Model: \"model\"\n",
            "__________________________________________________________________________________________________\n",
            "Layer (type)                    Output Shape         Param #     Connected to                     \n",
            "==================================================================================================\n",
            "input_1 (InputLayer)            [(None, 1259, 768)]  0                                            \n",
            "__________________________________________________________________________________________________\n",
            "spatial_dropout1d (SpatialDropo (None, 1259, 768)    0           input_1[0][0]                    \n",
            "__________________________________________________________________________________________________\n",
            "bidirectional (Bidirectional)   (None, 1259, 128)    426496      spatial_dropout1d[0][0]          \n",
            "__________________________________________________________________________________________________\n",
            "bidirectional_1 (Bidirectional) (None, 1259, 128)    98816       bidirectional[0][0]              \n",
            "__________________________________________________________________________________________________\n",
            "global_max_pooling1d (GlobalMax (None, 128)          0           bidirectional_1[0][0]            \n",
            "__________________________________________________________________________________________________\n",
            "global_average_pooling1d (Globa (None, 128)          0           bidirectional_1[0][0]            \n",
            "__________________________________________________________________________________________________\n",
            "concatenate (Concatenate)       (None, 256)          0           global_max_pooling1d[0][0]       \n",
            "                                                                 global_average_pooling1d[0][0]   \n",
            "__________________________________________________________________________________________________\n",
            "dense (Dense)                   (None, 256)          65792       concatenate[0][0]                \n",
            "__________________________________________________________________________________________________\n",
            "add (Add)                       (None, 256)          0           concatenate[0][0]                \n",
            "                                                                 dense[0][0]                      \n",
            "__________________________________________________________________________________________________\n",
            "dense_1 (Dense)                 (None, 256)          65792       add[0][0]                        \n",
            "__________________________________________________________________________________________________\n",
            "add_1 (Add)                     (None, 256)          0           add[0][0]                        \n",
            "                                                                 dense_1[0][0]                    \n",
            "__________________________________________________________________________________________________\n",
            "output1 (Dense)                 (None, 1)            257         add_1[0][0]                      \n",
            "__________________________________________________________________________________________________\n",
            "output2 (Dense)                 (None, 1)            257         add_1[0][0]                      \n",
            "__________________________________________________________________________________________________\n",
            "output3 (Dense)                 (None, 1)            257         add_1[0][0]                      \n",
            "__________________________________________________________________________________________________\n",
            "output4 (Dense)                 (None, 1)            257         add_1[0][0]                      \n",
            "__________________________________________________________________________________________________\n",
            "output5 (Dense)                 (None, 1)            257         add_1[0][0]                      \n",
            "__________________________________________________________________________________________________\n",
            "output6 (Dense)                 (None, 1)            257         add_1[0][0]                      \n",
            "__________________________________________________________________________________________________\n",
            "output7 (Dense)                 (None, 1)            257         add_1[0][0]                      \n",
            "__________________________________________________________________________________________________\n",
            "output8 (Dense)                 (None, 1)            257         add_1[0][0]                      \n",
            "__________________________________________________________________________________________________\n",
            "output9 (Dense)                 (None, 1)            257         add_1[0][0]                      \n",
            "__________________________________________________________________________________________________\n",
            "output10 (Dense)                (None, 1)            257         add_1[0][0]                      \n",
            "__________________________________________________________________________________________________\n",
            "output11 (Dense)                (None, 1)            257         add_1[0][0]                      \n",
            "__________________________________________________________________________________________________\n",
            "output12 (Dense)                (None, 1)            257         add_1[0][0]                      \n",
            "==================================================================================================\n",
            "Total params: 659,980\n",
            "Trainable params: 659,980\n",
            "Non-trainable params: 0\n",
            "__________________________________________________________________________________________________\n"
          ],
          "name": "stdout"
        }
      ]
    },
    {
      "cell_type": "code",
      "metadata": {
        "id": "8sb5GQmKeI_B",
        "colab_type": "code",
        "colab": {}
      },
      "source": [
        "callback=ReduceLROnPlateau(patience=1,min_lr=0.0001,factor=0.3)\n",
        "Name='BERT/LSTM_noClassweight_64.h5'\n",
        "checkpointer = ModelCheckpoint(filepath=Name, verbose=1, save_best_only=True)"
      ],
      "execution_count": 0,
      "outputs": []
    },
    {
      "cell_type": "code",
      "metadata": {
        "id": "4To3UbV67kft",
        "colab_type": "code",
        "outputId": "a4515189-dcc8-4196-8ee9-a92880ed8335",
        "colab": {
          "base_uri": "https://localhost:8080/",
          "height": 1000
        }
      },
      "source": [
        "model.fit_generator(\n",
        "    generator=training_generator,\n",
        "    validation_data=validation_generator,\n",
        "    epochs=EPOCHS,\n",
        "    verbose=1,\n",
        "    callbacks=[checkpointer,callback])"
      ],
      "execution_count": 14,
      "outputs": [
        {
          "output_type": "stream",
          "text": [
            "WARNING:tensorflow:From <ipython-input-14-d8713d19c50f>:6: Model.fit_generator (from tensorflow.python.keras.engine.training) is deprecated and will be removed in a future version.\n",
            "Instructions for updating:\n",
            "Please use Model.fit, which supports generators.\n",
            "Epoch 1/24\n",
            "251/251 [==============================] - ETA: 0s - loss: 3.0150 - output1_loss: 0.3439 - output2_loss: 0.2140 - output3_loss: 0.2682 - output4_loss: 0.5320 - output5_loss: 0.2848 - output6_loss: 0.3094 - output7_loss: 0.3815 - output8_loss: 0.2586 - output9_loss: 0.2502 - output10_loss: 0.0977 - output11_loss: 0.0536 - output12_loss: 0.0211 - output1_binary_accuracy: 0.8410 - output2_binary_accuracy: 0.9396 - output3_binary_accuracy: 0.9247 - output4_binary_accuracy: 0.7573 - output5_binary_accuracy: 0.9105 - output6_binary_accuracy: 0.8892 - output7_binary_accuracy: 0.8325 - output8_binary_accuracy: 0.9019 - output9_binary_accuracy: 0.9197 - output10_binary_accuracy: 0.9686 - output11_binary_accuracy: 0.9895 - output12_binary_accuracy: 0.9975 \n",
            "Epoch 00001: val_loss improved from inf to 2.41746, saving model to BERT/LSTM_noClassweight_64.h5\n",
            "251/251 [==============================] - 4463s 18s/step - loss: 3.0150 - output1_loss: 0.3439 - output2_loss: 0.2140 - output3_loss: 0.2682 - output4_loss: 0.5320 - output5_loss: 0.2848 - output6_loss: 0.3094 - output7_loss: 0.3815 - output8_loss: 0.2586 - output9_loss: 0.2502 - output10_loss: 0.0977 - output11_loss: 0.0536 - output12_loss: 0.0211 - output1_binary_accuracy: 0.8410 - output2_binary_accuracy: 0.9396 - output3_binary_accuracy: 0.9247 - output4_binary_accuracy: 0.7573 - output5_binary_accuracy: 0.9105 - output6_binary_accuracy: 0.8892 - output7_binary_accuracy: 0.8325 - output8_binary_accuracy: 0.9019 - output9_binary_accuracy: 0.9197 - output10_binary_accuracy: 0.9686 - output11_binary_accuracy: 0.9895 - output12_binary_accuracy: 0.9975 - val_loss: 2.4175 - val_output1_loss: 0.2204 - val_output2_loss: 0.1890 - val_output3_loss: 0.2239 - val_output4_loss: 0.4898 - val_output5_loss: 0.2315 - val_output6_loss: 0.2674 - val_output7_loss: 0.2916 - val_output8_loss: 0.1852 - val_output9_loss: 0.1964 - val_output10_loss: 0.0853 - val_output11_loss: 0.0352 - val_output12_loss: 0.0016 - val_output1_binary_accuracy: 0.9170 - val_output2_binary_accuracy: 0.9395 - val_output3_binary_accuracy: 0.9287 - val_output4_binary_accuracy: 0.7695 - val_output5_binary_accuracy: 0.9189 - val_output6_binary_accuracy: 0.8975 - val_output7_binary_accuracy: 0.8838 - val_output8_binary_accuracy: 0.9258 - val_output9_binary_accuracy: 0.9326 - val_output10_binary_accuracy: 0.9619 - val_output11_binary_accuracy: 0.9932 - val_output12_binary_accuracy: 1.0000 - lr: 0.0010\n",
            "Epoch 2/24\n",
            "251/251 [==============================] - ETA: 0s - loss: 2.4573 - output1_loss: 0.2404 - output2_loss: 0.1913 - output3_loss: 0.2278 - output4_loss: 0.4911 - output5_loss: 0.2417 - output6_loss: 0.2282 - output7_loss: 0.2860 - output8_loss: 0.2107 - output9_loss: 0.2193 - output10_loss: 0.0654 - output11_loss: 0.0431 - output12_loss: 0.0123 - output1_binary_accuracy: 0.8983 - output2_binary_accuracy: 0.9394 - output3_binary_accuracy: 0.9252 - output4_binary_accuracy: 0.7759 - output5_binary_accuracy: 0.9148 - output6_binary_accuracy: 0.9145 - output7_binary_accuracy: 0.8902 - output8_binary_accuracy: 0.9185 - output9_binary_accuracy: 0.9229 - output10_binary_accuracy: 0.9732 - output11_binary_accuracy: 0.9900 - output12_binary_accuracy: 0.9981\n",
            "Epoch 00002: val_loss improved from 2.41746 to 2.22008, saving model to BERT/LSTM_noClassweight_64.h5\n",
            "251/251 [==============================] - 99s 396ms/step - loss: 2.4573 - output1_loss: 0.2404 - output2_loss: 0.1913 - output3_loss: 0.2278 - output4_loss: 0.4911 - output5_loss: 0.2417 - output6_loss: 0.2282 - output7_loss: 0.2860 - output8_loss: 0.2107 - output9_loss: 0.2193 - output10_loss: 0.0654 - output11_loss: 0.0431 - output12_loss: 0.0123 - output1_binary_accuracy: 0.8983 - output2_binary_accuracy: 0.9394 - output3_binary_accuracy: 0.9252 - output4_binary_accuracy: 0.7759 - output5_binary_accuracy: 0.9148 - output6_binary_accuracy: 0.9145 - output7_binary_accuracy: 0.8902 - output8_binary_accuracy: 0.9185 - output9_binary_accuracy: 0.9229 - output10_binary_accuracy: 0.9732 - output11_binary_accuracy: 0.9900 - output12_binary_accuracy: 0.9981 - val_loss: 2.2201 - val_output1_loss: 0.2071 - val_output2_loss: 0.1745 - val_output3_loss: 0.2162 - val_output4_loss: 0.4825 - val_output5_loss: 0.2215 - val_output6_loss: 0.2072 - val_output7_loss: 0.2618 - val_output8_loss: 0.1672 - val_output9_loss: 0.1821 - val_output10_loss: 0.0712 - val_output11_loss: 0.0260 - val_output12_loss: 0.0027 - val_output1_binary_accuracy: 0.9189 - val_output2_binary_accuracy: 0.9404 - val_output3_binary_accuracy: 0.9287 - val_output4_binary_accuracy: 0.7773 - val_output5_binary_accuracy: 0.9229 - val_output6_binary_accuracy: 0.9141 - val_output7_binary_accuracy: 0.8984 - val_output8_binary_accuracy: 0.9307 - val_output9_binary_accuracy: 0.9336 - val_output10_binary_accuracy: 0.9658 - val_output11_binary_accuracy: 0.9932 - val_output12_binary_accuracy: 1.0000 - lr: 0.0010\n",
            "Epoch 3/24\n",
            "251/251 [==============================] - ETA: 0s - loss: 2.2656 - output1_loss: 0.1988 - output2_loss: 0.1730 - output3_loss: 0.2139 - output4_loss: 0.4703 - output5_loss: 0.2234 - output6_loss: 0.2142 - output7_loss: 0.2616 - output8_loss: 0.1978 - output9_loss: 0.2057 - output10_loss: 0.0564 - output11_loss: 0.0391 - output12_loss: 0.0113 - output1_binary_accuracy: 0.9198 - output2_binary_accuracy: 0.9421 - output3_binary_accuracy: 0.9246 - output4_binary_accuracy: 0.7888 - output5_binary_accuracy: 0.9173 - output6_binary_accuracy: 0.9227 - output7_binary_accuracy: 0.9008 - output8_binary_accuracy: 0.9219 - output9_binary_accuracy: 0.9221 - output10_binary_accuracy: 0.9782 - output11_binary_accuracy: 0.9899 - output12_binary_accuracy: 0.9981\n",
            "Epoch 00003: val_loss improved from 2.22008 to 2.07974, saving model to BERT/LSTM_noClassweight_64.h5\n",
            "251/251 [==============================] - 84s 335ms/step - loss: 2.2656 - output1_loss: 0.1988 - output2_loss: 0.1730 - output3_loss: 0.2139 - output4_loss: 0.4703 - output5_loss: 0.2234 - output6_loss: 0.2142 - output7_loss: 0.2616 - output8_loss: 0.1978 - output9_loss: 0.2057 - output10_loss: 0.0564 - output11_loss: 0.0391 - output12_loss: 0.0113 - output1_binary_accuracy: 0.9198 - output2_binary_accuracy: 0.9421 - output3_binary_accuracy: 0.9246 - output4_binary_accuracy: 0.7888 - output5_binary_accuracy: 0.9173 - output6_binary_accuracy: 0.9227 - output7_binary_accuracy: 0.9008 - output8_binary_accuracy: 0.9219 - output9_binary_accuracy: 0.9221 - output10_binary_accuracy: 0.9782 - output11_binary_accuracy: 0.9899 - output12_binary_accuracy: 0.9981 - val_loss: 2.0797 - val_output1_loss: 0.1706 - val_output2_loss: 0.1596 - val_output3_loss: 0.2054 - val_output4_loss: 0.4550 - val_output5_loss: 0.2141 - val_output6_loss: 0.1950 - val_output7_loss: 0.2498 - val_output8_loss: 0.1696 - val_output9_loss: 0.1745 - val_output10_loss: 0.0613 - val_output11_loss: 0.0230 - val_output12_loss: 0.0018 - val_output1_binary_accuracy: 0.9268 - val_output2_binary_accuracy: 0.9482 - val_output3_binary_accuracy: 0.9277 - val_output4_binary_accuracy: 0.8008 - val_output5_binary_accuracy: 0.9287 - val_output6_binary_accuracy: 0.9346 - val_output7_binary_accuracy: 0.9033 - val_output8_binary_accuracy: 0.9375 - val_output9_binary_accuracy: 0.9326 - val_output10_binary_accuracy: 0.9785 - val_output11_binary_accuracy: 0.9932 - val_output12_binary_accuracy: 1.0000 - lr: 0.0010\n",
            "Epoch 4/24\n",
            "251/251 [==============================] - ETA: 0s - loss: 2.1255 - output1_loss: 0.1733 - output2_loss: 0.1614 - output3_loss: 0.2053 - output4_loss: 0.4562 - output5_loss: 0.2137 - output6_loss: 0.1965 - output7_loss: 0.2398 - output8_loss: 0.1828 - output9_loss: 0.1957 - output10_loss: 0.0536 - output11_loss: 0.0365 - output12_loss: 0.0107 - output1_binary_accuracy: 0.9324 - output2_binary_accuracy: 0.9478 - output3_binary_accuracy: 0.9242 - output4_binary_accuracy: 0.7983 - output5_binary_accuracy: 0.9207 - output6_binary_accuracy: 0.9314 - output7_binary_accuracy: 0.9107 - output8_binary_accuracy: 0.9258 - output9_binary_accuracy: 0.9242 - output10_binary_accuracy: 0.9782 - output11_binary_accuracy: 0.9900 - output12_binary_accuracy: 0.9981\n",
            "Epoch 00004: val_loss did not improve from 2.07974\n",
            "251/251 [==============================] - 83s 331ms/step - loss: 2.1255 - output1_loss: 0.1733 - output2_loss: 0.1614 - output3_loss: 0.2053 - output4_loss: 0.4562 - output5_loss: 0.2137 - output6_loss: 0.1965 - output7_loss: 0.2398 - output8_loss: 0.1828 - output9_loss: 0.1957 - output10_loss: 0.0536 - output11_loss: 0.0365 - output12_loss: 0.0107 - output1_binary_accuracy: 0.9324 - output2_binary_accuracy: 0.9478 - output3_binary_accuracy: 0.9242 - output4_binary_accuracy: 0.7983 - output5_binary_accuracy: 0.9207 - output6_binary_accuracy: 0.9314 - output7_binary_accuracy: 0.9107 - output8_binary_accuracy: 0.9258 - output9_binary_accuracy: 0.9242 - output10_binary_accuracy: 0.9782 - output11_binary_accuracy: 0.9900 - output12_binary_accuracy: 0.9981 - val_loss: 2.1085 - val_output1_loss: 0.1788 - val_output2_loss: 0.1495 - val_output3_loss: 0.2173 - val_output4_loss: 0.4611 - val_output5_loss: 0.2214 - val_output6_loss: 0.2018 - val_output7_loss: 0.2584 - val_output8_loss: 0.1593 - val_output9_loss: 0.1667 - val_output10_loss: 0.0679 - val_output11_loss: 0.0247 - val_output12_loss: 0.0014 - val_output1_binary_accuracy: 0.9229 - val_output2_binary_accuracy: 0.9512 - val_output3_binary_accuracy: 0.9277 - val_output4_binary_accuracy: 0.7979 - val_output5_binary_accuracy: 0.9297 - val_output6_binary_accuracy: 0.9258 - val_output7_binary_accuracy: 0.8994 - val_output8_binary_accuracy: 0.9326 - val_output9_binary_accuracy: 0.9336 - val_output10_binary_accuracy: 0.9727 - val_output11_binary_accuracy: 0.9932 - val_output12_binary_accuracy: 1.0000 - lr: 0.0010\n",
            "Epoch 5/24\n",
            "251/251 [==============================] - ETA: 0s - loss: 1.9342 - output1_loss: 0.1385 - output2_loss: 0.1424 - output3_loss: 0.1962 - output4_loss: 0.4328 - output5_loss: 0.1994 - output6_loss: 0.1837 - output7_loss: 0.2099 - output8_loss: 0.1659 - output9_loss: 0.1774 - output10_loss: 0.0461 - output11_loss: 0.0319 - output12_loss: 0.0101 - output1_binary_accuracy: 0.9495 - output2_binary_accuracy: 0.9521 - output3_binary_accuracy: 0.9250 - output4_binary_accuracy: 0.8108 - output5_binary_accuracy: 0.9242 - output6_binary_accuracy: 0.9376 - output7_binary_accuracy: 0.9224 - output8_binary_accuracy: 0.9364 - output9_binary_accuracy: 0.9263 - output10_binary_accuracy: 0.9806 - output11_binary_accuracy: 0.9912 - output12_binary_accuracy: 0.9981\n",
            "Epoch 00005: val_loss improved from 2.07974 to 2.00955, saving model to BERT/LSTM_noClassweight_64.h5\n",
            "251/251 [==============================] - 83s 333ms/step - loss: 1.9342 - output1_loss: 0.1385 - output2_loss: 0.1424 - output3_loss: 0.1962 - output4_loss: 0.4328 - output5_loss: 0.1994 - output6_loss: 0.1837 - output7_loss: 0.2099 - output8_loss: 0.1659 - output9_loss: 0.1774 - output10_loss: 0.0461 - output11_loss: 0.0319 - output12_loss: 0.0101 - output1_binary_accuracy: 0.9495 - output2_binary_accuracy: 0.9521 - output3_binary_accuracy: 0.9250 - output4_binary_accuracy: 0.8108 - output5_binary_accuracy: 0.9242 - output6_binary_accuracy: 0.9376 - output7_binary_accuracy: 0.9224 - output8_binary_accuracy: 0.9364 - output9_binary_accuracy: 0.9263 - output10_binary_accuracy: 0.9806 - output11_binary_accuracy: 0.9912 - output12_binary_accuracy: 0.9981 - val_loss: 2.0096 - val_output1_loss: 0.1672 - val_output2_loss: 0.1554 - val_output3_loss: 0.2000 - val_output4_loss: 0.4519 - val_output5_loss: 0.2209 - val_output6_loss: 0.1874 - val_output7_loss: 0.2356 - val_output8_loss: 0.1538 - val_output9_loss: 0.1603 - val_output10_loss: 0.0551 - val_output11_loss: 0.0202 - val_output12_loss: 0.0017 - val_output1_binary_accuracy: 0.9336 - val_output2_binary_accuracy: 0.9492 - val_output3_binary_accuracy: 0.9277 - val_output4_binary_accuracy: 0.7998 - val_output5_binary_accuracy: 0.9229 - val_output6_binary_accuracy: 0.9375 - val_output7_binary_accuracy: 0.9092 - val_output8_binary_accuracy: 0.9395 - val_output9_binary_accuracy: 0.9355 - val_output10_binary_accuracy: 0.9805 - val_output11_binary_accuracy: 0.9961 - val_output12_binary_accuracy: 1.0000 - lr: 3.0000e-04\n",
            "Epoch 6/24\n",
            "251/251 [==============================] - ETA: 0s - loss: 1.8735 - output1_loss: 0.1308 - output2_loss: 0.1404 - output3_loss: 0.1911 - output4_loss: 0.4278 - output5_loss: 0.1932 - output6_loss: 0.1794 - output7_loss: 0.2004 - output8_loss: 0.1568 - output9_loss: 0.1710 - output10_loss: 0.0427 - output11_loss: 0.0302 - output12_loss: 0.0095 - output1_binary_accuracy: 0.9516 - output2_binary_accuracy: 0.9534 - output3_binary_accuracy: 0.9250 - output4_binary_accuracy: 0.8157 - output5_binary_accuracy: 0.9267 - output6_binary_accuracy: 0.9394 - output7_binary_accuracy: 0.9248 - output8_binary_accuracy: 0.9396 - output9_binary_accuracy: 0.9288 - output10_binary_accuracy: 0.9829 - output11_binary_accuracy: 0.9914 - output12_binary_accuracy: 0.9981\n",
            "Epoch 00006: val_loss improved from 2.00955 to 1.99356, saving model to BERT/LSTM_noClassweight_64.h5\n",
            "251/251 [==============================] - 83s 332ms/step - loss: 1.8735 - output1_loss: 0.1308 - output2_loss: 0.1404 - output3_loss: 0.1911 - output4_loss: 0.4278 - output5_loss: 0.1932 - output6_loss: 0.1794 - output7_loss: 0.2004 - output8_loss: 0.1568 - output9_loss: 0.1710 - output10_loss: 0.0427 - output11_loss: 0.0302 - output12_loss: 0.0095 - output1_binary_accuracy: 0.9516 - output2_binary_accuracy: 0.9534 - output3_binary_accuracy: 0.9250 - output4_binary_accuracy: 0.8157 - output5_binary_accuracy: 0.9267 - output6_binary_accuracy: 0.9394 - output7_binary_accuracy: 0.9248 - output8_binary_accuracy: 0.9396 - output9_binary_accuracy: 0.9288 - output10_binary_accuracy: 0.9829 - output11_binary_accuracy: 0.9914 - output12_binary_accuracy: 0.9981 - val_loss: 1.9936 - val_output1_loss: 0.1653 - val_output2_loss: 0.1530 - val_output3_loss: 0.1950 - val_output4_loss: 0.4481 - val_output5_loss: 0.2053 - val_output6_loss: 0.1902 - val_output7_loss: 0.2459 - val_output8_loss: 0.1479 - val_output9_loss: 0.1613 - val_output10_loss: 0.0570 - val_output11_loss: 0.0228 - val_output12_loss: 0.0017 - val_output1_binary_accuracy: 0.9385 - val_output2_binary_accuracy: 0.9521 - val_output3_binary_accuracy: 0.9297 - val_output4_binary_accuracy: 0.8037 - val_output5_binary_accuracy: 0.9326 - val_output6_binary_accuracy: 0.9404 - val_output7_binary_accuracy: 0.9033 - val_output8_binary_accuracy: 0.9434 - val_output9_binary_accuracy: 0.9395 - val_output10_binary_accuracy: 0.9785 - val_output11_binary_accuracy: 0.9961 - val_output12_binary_accuracy: 1.0000 - lr: 3.0000e-04\n",
            "Epoch 7/24\n",
            "251/251 [==============================] - ETA: 0s - loss: 1.8134 - output1_loss: 0.1229 - output2_loss: 0.1327 - output3_loss: 0.1899 - output4_loss: 0.4204 - output5_loss: 0.1886 - output6_loss: 0.1753 - output7_loss: 0.1916 - output8_loss: 0.1517 - output9_loss: 0.1611 - output10_loss: 0.0418 - output11_loss: 0.0286 - output12_loss: 0.0090 - output1_binary_accuracy: 0.9554 - output2_binary_accuracy: 0.9568 - output3_binary_accuracy: 0.9260 - output4_binary_accuracy: 0.8196 - output5_binary_accuracy: 0.9285 - output6_binary_accuracy: 0.9400 - output7_binary_accuracy: 0.9282 - output8_binary_accuracy: 0.9421 - output9_binary_accuracy: 0.9324 - output10_binary_accuracy: 0.9827 - output11_binary_accuracy: 0.9917 - output12_binary_accuracy: 0.9981\n",
            "Epoch 00007: val_loss did not improve from 1.99356\n",
            "251/251 [==============================] - 83s 329ms/step - loss: 1.8134 - output1_loss: 0.1229 - output2_loss: 0.1327 - output3_loss: 0.1899 - output4_loss: 0.4204 - output5_loss: 0.1886 - output6_loss: 0.1753 - output7_loss: 0.1916 - output8_loss: 0.1517 - output9_loss: 0.1611 - output10_loss: 0.0418 - output11_loss: 0.0286 - output12_loss: 0.0090 - output1_binary_accuracy: 0.9554 - output2_binary_accuracy: 0.9568 - output3_binary_accuracy: 0.9260 - output4_binary_accuracy: 0.8196 - output5_binary_accuracy: 0.9285 - output6_binary_accuracy: 0.9400 - output7_binary_accuracy: 0.9282 - output8_binary_accuracy: 0.9421 - output9_binary_accuracy: 0.9324 - output10_binary_accuracy: 0.9827 - output11_binary_accuracy: 0.9917 - output12_binary_accuracy: 0.9981 - val_loss: 2.0061 - val_output1_loss: 0.1657 - val_output2_loss: 0.1549 - val_output3_loss: 0.1969 - val_output4_loss: 0.4485 - val_output5_loss: 0.2171 - val_output6_loss: 0.1876 - val_output7_loss: 0.2527 - val_output8_loss: 0.1479 - val_output9_loss: 0.1532 - val_output10_loss: 0.0553 - val_output11_loss: 0.0233 - val_output12_loss: 0.0028 - val_output1_binary_accuracy: 0.9355 - val_output2_binary_accuracy: 0.9512 - val_output3_binary_accuracy: 0.9238 - val_output4_binary_accuracy: 0.8027 - val_output5_binary_accuracy: 0.9307 - val_output6_binary_accuracy: 0.9346 - val_output7_binary_accuracy: 0.8994 - val_output8_binary_accuracy: 0.9434 - val_output9_binary_accuracy: 0.9395 - val_output10_binary_accuracy: 0.9795 - val_output11_binary_accuracy: 0.9961 - val_output12_binary_accuracy: 1.0000 - lr: 3.0000e-04\n",
            "Epoch 8/24\n",
            "251/251 [==============================] - ETA: 0s - loss: 1.7097 - output1_loss: 0.1040 - output2_loss: 0.1247 - output3_loss: 0.1827 - output4_loss: 0.4027 - output5_loss: 0.1785 - output6_loss: 0.1700 - output7_loss: 0.1787 - output8_loss: 0.1432 - output9_loss: 0.1508 - output10_loss: 0.0386 - output11_loss: 0.0275 - output12_loss: 0.0085 - output1_binary_accuracy: 0.9633 - output2_binary_accuracy: 0.9569 - output3_binary_accuracy: 0.9267 - output4_binary_accuracy: 0.8282 - output5_binary_accuracy: 0.9310 - output6_binary_accuracy: 0.9416 - output7_binary_accuracy: 0.9340 - output8_binary_accuracy: 0.9475 - output9_binary_accuracy: 0.9384 - output10_binary_accuracy: 0.9848 - output11_binary_accuracy: 0.9915 - output12_binary_accuracy: 0.9983\n",
            "Epoch 00008: val_loss improved from 1.99356 to 1.98700, saving model to BERT/LSTM_noClassweight_64.h5\n",
            "251/251 [==============================] - 82s 328ms/step - loss: 1.7097 - output1_loss: 0.1040 - output2_loss: 0.1247 - output3_loss: 0.1827 - output4_loss: 0.4027 - output5_loss: 0.1785 - output6_loss: 0.1700 - output7_loss: 0.1787 - output8_loss: 0.1432 - output9_loss: 0.1508 - output10_loss: 0.0386 - output11_loss: 0.0275 - output12_loss: 0.0085 - output1_binary_accuracy: 0.9633 - output2_binary_accuracy: 0.9569 - output3_binary_accuracy: 0.9267 - output4_binary_accuracy: 0.8282 - output5_binary_accuracy: 0.9310 - output6_binary_accuracy: 0.9416 - output7_binary_accuracy: 0.9340 - output8_binary_accuracy: 0.9475 - output9_binary_accuracy: 0.9384 - output10_binary_accuracy: 0.9848 - output11_binary_accuracy: 0.9915 - output12_binary_accuracy: 0.9983 - val_loss: 1.9870 - val_output1_loss: 0.1705 - val_output2_loss: 0.1554 - val_output3_loss: 0.1982 - val_output4_loss: 0.4500 - val_output5_loss: 0.2105 - val_output6_loss: 0.1847 - val_output7_loss: 0.2367 - val_output8_loss: 0.1517 - val_output9_loss: 0.1489 - val_output10_loss: 0.0563 - val_output11_loss: 0.0226 - val_output12_loss: 0.0017 - val_output1_binary_accuracy: 0.9277 - val_output2_binary_accuracy: 0.9521 - val_output3_binary_accuracy: 0.9277 - val_output4_binary_accuracy: 0.8008 - val_output5_binary_accuracy: 0.9297 - val_output6_binary_accuracy: 0.9365 - val_output7_binary_accuracy: 0.9121 - val_output8_binary_accuracy: 0.9385 - val_output9_binary_accuracy: 0.9414 - val_output10_binary_accuracy: 0.9775 - val_output11_binary_accuracy: 0.9961 - val_output12_binary_accuracy: 1.0000 - lr: 1.0000e-04\n",
            "Epoch 9/24\n",
            "251/251 [==============================] - ETA: 0s - loss: 1.6846 - output1_loss: 0.0988 - output2_loss: 0.1214 - output3_loss: 0.1817 - output4_loss: 0.4002 - output5_loss: 0.1756 - output6_loss: 0.1676 - output7_loss: 0.1760 - output8_loss: 0.1408 - output9_loss: 0.1512 - output10_loss: 0.0366 - output11_loss: 0.0262 - output12_loss: 0.0085 - output1_binary_accuracy: 0.9678 - output2_binary_accuracy: 0.9583 - output3_binary_accuracy: 0.9268 - output4_binary_accuracy: 0.8282 - output5_binary_accuracy: 0.9336 - output6_binary_accuracy: 0.9425 - output7_binary_accuracy: 0.9353 - output8_binary_accuracy: 0.9465 - output9_binary_accuracy: 0.9392 - output10_binary_accuracy: 0.9868 - output11_binary_accuracy: 0.9927 - output12_binary_accuracy: 0.9981\n",
            "Epoch 00009: val_loss did not improve from 1.98700\n",
            "251/251 [==============================] - 82s 327ms/step - loss: 1.6846 - output1_loss: 0.0988 - output2_loss: 0.1214 - output3_loss: 0.1817 - output4_loss: 0.4002 - output5_loss: 0.1756 - output6_loss: 0.1676 - output7_loss: 0.1760 - output8_loss: 0.1408 - output9_loss: 0.1512 - output10_loss: 0.0366 - output11_loss: 0.0262 - output12_loss: 0.0085 - output1_binary_accuracy: 0.9678 - output2_binary_accuracy: 0.9583 - output3_binary_accuracy: 0.9268 - output4_binary_accuracy: 0.8282 - output5_binary_accuracy: 0.9336 - output6_binary_accuracy: 0.9425 - output7_binary_accuracy: 0.9353 - output8_binary_accuracy: 0.9465 - output9_binary_accuracy: 0.9392 - output10_binary_accuracy: 0.9868 - output11_binary_accuracy: 0.9927 - output12_binary_accuracy: 0.9981 - val_loss: 2.0075 - val_output1_loss: 0.1730 - val_output2_loss: 0.1621 - val_output3_loss: 0.1947 - val_output4_loss: 0.4467 - val_output5_loss: 0.2128 - val_output6_loss: 0.1847 - val_output7_loss: 0.2419 - val_output8_loss: 0.1610 - val_output9_loss: 0.1524 - val_output10_loss: 0.0538 - val_output11_loss: 0.0224 - val_output12_loss: 0.0019 - val_output1_binary_accuracy: 0.9346 - val_output2_binary_accuracy: 0.9521 - val_output3_binary_accuracy: 0.9258 - val_output4_binary_accuracy: 0.8096 - val_output5_binary_accuracy: 0.9307 - val_output6_binary_accuracy: 0.9385 - val_output7_binary_accuracy: 0.9121 - val_output8_binary_accuracy: 0.9385 - val_output9_binary_accuracy: 0.9424 - val_output10_binary_accuracy: 0.9805 - val_output11_binary_accuracy: 0.9961 - val_output12_binary_accuracy: 1.0000 - lr: 1.0000e-04\n",
            "Epoch 10/24\n",
            "251/251 [==============================] - ETA: 0s - loss: 1.6499 - output1_loss: 0.0942 - output2_loss: 0.1160 - output3_loss: 0.1786 - output4_loss: 0.3957 - output5_loss: 0.1748 - output6_loss: 0.1638 - output7_loss: 0.1691 - output8_loss: 0.1395 - output9_loss: 0.1471 - output10_loss: 0.0368 - output11_loss: 0.0253 - output12_loss: 0.0091 - output1_binary_accuracy: 0.9671 - output2_binary_accuracy: 0.9578 - output3_binary_accuracy: 0.9283 - output4_binary_accuracy: 0.8334 - output5_binary_accuracy: 0.9344 - output6_binary_accuracy: 0.9438 - output7_binary_accuracy: 0.9371 - output8_binary_accuracy: 0.9483 - output9_binary_accuracy: 0.9410 - output10_binary_accuracy: 0.9858 - output11_binary_accuracy: 0.9932 - output12_binary_accuracy: 0.9981\n",
            "Epoch 00010: val_loss did not improve from 1.98700\n",
            "251/251 [==============================] - 82s 327ms/step - loss: 1.6499 - output1_loss: 0.0942 - output2_loss: 0.1160 - output3_loss: 0.1786 - output4_loss: 0.3957 - output5_loss: 0.1748 - output6_loss: 0.1638 - output7_loss: 0.1691 - output8_loss: 0.1395 - output9_loss: 0.1471 - output10_loss: 0.0368 - output11_loss: 0.0253 - output12_loss: 0.0091 - output1_binary_accuracy: 0.9671 - output2_binary_accuracy: 0.9578 - output3_binary_accuracy: 0.9283 - output4_binary_accuracy: 0.8334 - output5_binary_accuracy: 0.9344 - output6_binary_accuracy: 0.9438 - output7_binary_accuracy: 0.9371 - output8_binary_accuracy: 0.9483 - output9_binary_accuracy: 0.9410 - output10_binary_accuracy: 0.9858 - output11_binary_accuracy: 0.9932 - output12_binary_accuracy: 0.9981 - val_loss: 2.0205 - val_output1_loss: 0.1730 - val_output2_loss: 0.1609 - val_output3_loss: 0.1995 - val_output4_loss: 0.4484 - val_output5_loss: 0.2148 - val_output6_loss: 0.1857 - val_output7_loss: 0.2439 - val_output8_loss: 0.1578 - val_output9_loss: 0.1537 - val_output10_loss: 0.0580 - val_output11_loss: 0.0233 - val_output12_loss: 0.0016 - val_output1_binary_accuracy: 0.9307 - val_output2_binary_accuracy: 0.9502 - val_output3_binary_accuracy: 0.9238 - val_output4_binary_accuracy: 0.8086 - val_output5_binary_accuracy: 0.9287 - val_output6_binary_accuracy: 0.9404 - val_output7_binary_accuracy: 0.9082 - val_output8_binary_accuracy: 0.9385 - val_output9_binary_accuracy: 0.9385 - val_output10_binary_accuracy: 0.9785 - val_output11_binary_accuracy: 0.9961 - val_output12_binary_accuracy: 1.0000 - lr: 1.0000e-04\n",
            "Epoch 11/24\n",
            "251/251 [==============================] - ETA: 0s - loss: 1.6318 - output1_loss: 0.0914 - output2_loss: 0.1175 - output3_loss: 0.1792 - output4_loss: 0.3918 - output5_loss: 0.1731 - output6_loss: 0.1630 - output7_loss: 0.1672 - output8_loss: 0.1370 - output9_loss: 0.1442 - output10_loss: 0.0341 - output11_loss: 0.0250 - output12_loss: 0.0083 - output1_binary_accuracy: 0.9697 - output2_binary_accuracy: 0.9595 - output3_binary_accuracy: 0.9267 - output4_binary_accuracy: 0.8327 - output5_binary_accuracy: 0.9346 - output6_binary_accuracy: 0.9448 - output7_binary_accuracy: 0.9390 - output8_binary_accuracy: 0.9486 - output9_binary_accuracy: 0.9416 - output10_binary_accuracy: 0.9878 - output11_binary_accuracy: 0.9927 - output12_binary_accuracy: 0.9981\n",
            "Epoch 00011: val_loss did not improve from 1.98700\n",
            "251/251 [==============================] - 82s 326ms/step - loss: 1.6318 - output1_loss: 0.0914 - output2_loss: 0.1175 - output3_loss: 0.1792 - output4_loss: 0.3918 - output5_loss: 0.1731 - output6_loss: 0.1630 - output7_loss: 0.1672 - output8_loss: 0.1370 - output9_loss: 0.1442 - output10_loss: 0.0341 - output11_loss: 0.0250 - output12_loss: 0.0083 - output1_binary_accuracy: 0.9697 - output2_binary_accuracy: 0.9595 - output3_binary_accuracy: 0.9267 - output4_binary_accuracy: 0.8327 - output5_binary_accuracy: 0.9346 - output6_binary_accuracy: 0.9448 - output7_binary_accuracy: 0.9390 - output8_binary_accuracy: 0.9486 - output9_binary_accuracy: 0.9416 - output10_binary_accuracy: 0.9878 - output11_binary_accuracy: 0.9927 - output12_binary_accuracy: 0.9981 - val_loss: 2.0421 - val_output1_loss: 0.1840 - val_output2_loss: 0.1594 - val_output3_loss: 0.1997 - val_output4_loss: 0.4492 - val_output5_loss: 0.2171 - val_output6_loss: 0.1862 - val_output7_loss: 0.2436 - val_output8_loss: 0.1646 - val_output9_loss: 0.1533 - val_output10_loss: 0.0604 - val_output11_loss: 0.0231 - val_output12_loss: 0.0016 - val_output1_binary_accuracy: 0.9297 - val_output2_binary_accuracy: 0.9502 - val_output3_binary_accuracy: 0.9258 - val_output4_binary_accuracy: 0.7979 - val_output5_binary_accuracy: 0.9297 - val_output6_binary_accuracy: 0.9385 - val_output7_binary_accuracy: 0.9121 - val_output8_binary_accuracy: 0.9375 - val_output9_binary_accuracy: 0.9404 - val_output10_binary_accuracy: 0.9756 - val_output11_binary_accuracy: 0.9961 - val_output12_binary_accuracy: 1.0000 - lr: 1.0000e-04\n",
            "Epoch 12/24\n",
            "251/251 [==============================] - ETA: 0s - loss: 1.6014 - output1_loss: 0.0864 - output2_loss: 0.1141 - output3_loss: 0.1782 - output4_loss: 0.3878 - output5_loss: 0.1688 - output6_loss: 0.1603 - output7_loss: 0.1636 - output8_loss: 0.1341 - output9_loss: 0.1396 - output10_loss: 0.0355 - output11_loss: 0.0248 - output12_loss: 0.0081 - output1_binary_accuracy: 0.9704 - output2_binary_accuracy: 0.9610 - output3_binary_accuracy: 0.9274 - output4_binary_accuracy: 0.8381 - output5_binary_accuracy: 0.9328 - output6_binary_accuracy: 0.9466 - output7_binary_accuracy: 0.9396 - output8_binary_accuracy: 0.9493 - output9_binary_accuracy: 0.9443 - output10_binary_accuracy: 0.9866 - output11_binary_accuracy: 0.9930 - output12_binary_accuracy: 0.9981\n",
            "Epoch 00012: val_loss did not improve from 1.98700\n",
            "251/251 [==============================] - 82s 325ms/step - loss: 1.6014 - output1_loss: 0.0864 - output2_loss: 0.1141 - output3_loss: 0.1782 - output4_loss: 0.3878 - output5_loss: 0.1688 - output6_loss: 0.1603 - output7_loss: 0.1636 - output8_loss: 0.1341 - output9_loss: 0.1396 - output10_loss: 0.0355 - output11_loss: 0.0248 - output12_loss: 0.0081 - output1_binary_accuracy: 0.9704 - output2_binary_accuracy: 0.9610 - output3_binary_accuracy: 0.9274 - output4_binary_accuracy: 0.8381 - output5_binary_accuracy: 0.9328 - output6_binary_accuracy: 0.9466 - output7_binary_accuracy: 0.9396 - output8_binary_accuracy: 0.9493 - output9_binary_accuracy: 0.9443 - output10_binary_accuracy: 0.9866 - output11_binary_accuracy: 0.9930 - output12_binary_accuracy: 0.9981 - val_loss: 2.0436 - val_output1_loss: 0.1830 - val_output2_loss: 0.1650 - val_output3_loss: 0.1966 - val_output4_loss: 0.4488 - val_output5_loss: 0.2163 - val_output6_loss: 0.1857 - val_output7_loss: 0.2446 - val_output8_loss: 0.1653 - val_output9_loss: 0.1546 - val_output10_loss: 0.0597 - val_output11_loss: 0.0224 - val_output12_loss: 0.0015 - val_output1_binary_accuracy: 0.9326 - val_output2_binary_accuracy: 0.9502 - val_output3_binary_accuracy: 0.9248 - val_output4_binary_accuracy: 0.8027 - val_output5_binary_accuracy: 0.9287 - val_output6_binary_accuracy: 0.9404 - val_output7_binary_accuracy: 0.9102 - val_output8_binary_accuracy: 0.9365 - val_output9_binary_accuracy: 0.9385 - val_output10_binary_accuracy: 0.9756 - val_output11_binary_accuracy: 0.9961 - val_output12_binary_accuracy: 1.0000 - lr: 1.0000e-04\n",
            "Epoch 13/24\n",
            "251/251 [==============================] - ETA: 0s - loss: 1.5713 - output1_loss: 0.0849 - output2_loss: 0.1104 - output3_loss: 0.1757 - output4_loss: 0.3836 - output5_loss: 0.1672 - output6_loss: 0.1595 - output7_loss: 0.1583 - output8_loss: 0.1297 - output9_loss: 0.1380 - output10_loss: 0.0322 - output11_loss: 0.0235 - output12_loss: 0.0084 - output1_binary_accuracy: 0.9710 - output2_binary_accuracy: 0.9615 - output3_binary_accuracy: 0.9277 - output4_binary_accuracy: 0.8403 - output5_binary_accuracy: 0.9366 - output6_binary_accuracy: 0.9453 - output7_binary_accuracy: 0.9420 - output8_binary_accuracy: 0.9508 - output9_binary_accuracy: 0.9452 - output10_binary_accuracy: 0.9883 - output11_binary_accuracy: 0.9927 - output12_binary_accuracy: 0.9981\n",
            "Epoch 00013: val_loss did not improve from 1.98700\n",
            "251/251 [==============================] - 82s 326ms/step - loss: 1.5713 - output1_loss: 0.0849 - output2_loss: 0.1104 - output3_loss: 0.1757 - output4_loss: 0.3836 - output5_loss: 0.1672 - output6_loss: 0.1595 - output7_loss: 0.1583 - output8_loss: 0.1297 - output9_loss: 0.1380 - output10_loss: 0.0322 - output11_loss: 0.0235 - output12_loss: 0.0084 - output1_binary_accuracy: 0.9710 - output2_binary_accuracy: 0.9615 - output3_binary_accuracy: 0.9277 - output4_binary_accuracy: 0.8403 - output5_binary_accuracy: 0.9366 - output6_binary_accuracy: 0.9453 - output7_binary_accuracy: 0.9420 - output8_binary_accuracy: 0.9508 - output9_binary_accuracy: 0.9452 - output10_binary_accuracy: 0.9883 - output11_binary_accuracy: 0.9927 - output12_binary_accuracy: 0.9981 - val_loss: 2.0453 - val_output1_loss: 0.1809 - val_output2_loss: 0.1708 - val_output3_loss: 0.2008 - val_output4_loss: 0.4482 - val_output5_loss: 0.2131 - val_output6_loss: 0.1888 - val_output7_loss: 0.2458 - val_output8_loss: 0.1581 - val_output9_loss: 0.1573 - val_output10_loss: 0.0567 - val_output11_loss: 0.0228 - val_output12_loss: 0.0018 - val_output1_binary_accuracy: 0.9316 - val_output2_binary_accuracy: 0.9492 - val_output3_binary_accuracy: 0.9258 - val_output4_binary_accuracy: 0.8047 - val_output5_binary_accuracy: 0.9287 - val_output6_binary_accuracy: 0.9355 - val_output7_binary_accuracy: 0.9131 - val_output8_binary_accuracy: 0.9404 - val_output9_binary_accuracy: 0.9346 - val_output10_binary_accuracy: 0.9785 - val_output11_binary_accuracy: 0.9961 - val_output12_binary_accuracy: 1.0000 - lr: 1.0000e-04\n",
            "Epoch 14/24\n",
            "251/251 [==============================] - ETA: 0s - loss: 1.5589 - output1_loss: 0.0794 - output2_loss: 0.1101 - output3_loss: 0.1745 - output4_loss: 0.3804 - output5_loss: 0.1658 - output6_loss: 0.1580 - output7_loss: 0.1606 - output8_loss: 0.1290 - output9_loss: 0.1374 - output10_loss: 0.0323 - output11_loss: 0.0235 - output12_loss: 0.0079 - output1_binary_accuracy: 0.9719 - output2_binary_accuracy: 0.9614 - output3_binary_accuracy: 0.9284 - output4_binary_accuracy: 0.8416 - output5_binary_accuracy: 0.9366 - output6_binary_accuracy: 0.9462 - output7_binary_accuracy: 0.9405 - output8_binary_accuracy: 0.9493 - output9_binary_accuracy: 0.9441 - output10_binary_accuracy: 0.9879 - output11_binary_accuracy: 0.9932 - output12_binary_accuracy: 0.9981\n",
            "Epoch 00014: val_loss did not improve from 1.98700\n",
            "251/251 [==============================] - 82s 325ms/step - loss: 1.5589 - output1_loss: 0.0794 - output2_loss: 0.1101 - output3_loss: 0.1745 - output4_loss: 0.3804 - output5_loss: 0.1658 - output6_loss: 0.1580 - output7_loss: 0.1606 - output8_loss: 0.1290 - output9_loss: 0.1374 - output10_loss: 0.0323 - output11_loss: 0.0235 - output12_loss: 0.0079 - output1_binary_accuracy: 0.9719 - output2_binary_accuracy: 0.9614 - output3_binary_accuracy: 0.9284 - output4_binary_accuracy: 0.8416 - output5_binary_accuracy: 0.9366 - output6_binary_accuracy: 0.9462 - output7_binary_accuracy: 0.9405 - output8_binary_accuracy: 0.9493 - output9_binary_accuracy: 0.9441 - output10_binary_accuracy: 0.9879 - output11_binary_accuracy: 0.9932 - output12_binary_accuracy: 0.9981 - val_loss: 2.0558 - val_output1_loss: 0.1905 - val_output2_loss: 0.1692 - val_output3_loss: 0.1991 - val_output4_loss: 0.4527 - val_output5_loss: 0.2171 - val_output6_loss: 0.1865 - val_output7_loss: 0.2476 - val_output8_loss: 0.1554 - val_output9_loss: 0.1542 - val_output10_loss: 0.0593 - val_output11_loss: 0.0228 - val_output12_loss: 0.0015 - val_output1_binary_accuracy: 0.9307 - val_output2_binary_accuracy: 0.9482 - val_output3_binary_accuracy: 0.9277 - val_output4_binary_accuracy: 0.8008 - val_output5_binary_accuracy: 0.9287 - val_output6_binary_accuracy: 0.9385 - val_output7_binary_accuracy: 0.9092 - val_output8_binary_accuracy: 0.9404 - val_output9_binary_accuracy: 0.9375 - val_output10_binary_accuracy: 0.9785 - val_output11_binary_accuracy: 0.9961 - val_output12_binary_accuracy: 1.0000 - lr: 1.0000e-04\n",
            "Epoch 15/24\n",
            "251/251 [==============================] - ETA: 0s - loss: 1.5217 - output1_loss: 0.0742 - output2_loss: 0.1085 - output3_loss: 0.1752 - output4_loss: 0.3728 - output5_loss: 0.1612 - output6_loss: 0.1564 - output7_loss: 0.1534 - output8_loss: 0.1277 - output9_loss: 0.1308 - output10_loss: 0.0318 - output11_loss: 0.0224 - output12_loss: 0.0073 - output1_binary_accuracy: 0.9746 - output2_binary_accuracy: 0.9617 - output3_binary_accuracy: 0.9298 - output4_binary_accuracy: 0.8452 - output5_binary_accuracy: 0.9382 - output6_binary_accuracy: 0.9477 - output7_binary_accuracy: 0.9446 - output8_binary_accuracy: 0.9508 - output9_binary_accuracy: 0.9492 - output10_binary_accuracy: 0.9866 - output11_binary_accuracy: 0.9932 - output12_binary_accuracy: 0.9983\n",
            "Epoch 00015: val_loss did not improve from 1.98700\n",
            "251/251 [==============================] - 82s 325ms/step - loss: 1.5217 - output1_loss: 0.0742 - output2_loss: 0.1085 - output3_loss: 0.1752 - output4_loss: 0.3728 - output5_loss: 0.1612 - output6_loss: 0.1564 - output7_loss: 0.1534 - output8_loss: 0.1277 - output9_loss: 0.1308 - output10_loss: 0.0318 - output11_loss: 0.0224 - output12_loss: 0.0073 - output1_binary_accuracy: 0.9746 - output2_binary_accuracy: 0.9617 - output3_binary_accuracy: 0.9298 - output4_binary_accuracy: 0.8452 - output5_binary_accuracy: 0.9382 - output6_binary_accuracy: 0.9477 - output7_binary_accuracy: 0.9446 - output8_binary_accuracy: 0.9508 - output9_binary_accuracy: 0.9492 - output10_binary_accuracy: 0.9866 - output11_binary_accuracy: 0.9932 - output12_binary_accuracy: 0.9983 - val_loss: 2.0742 - val_output1_loss: 0.1937 - val_output2_loss: 0.1718 - val_output3_loss: 0.1993 - val_output4_loss: 0.4533 - val_output5_loss: 0.2145 - val_output6_loss: 0.1847 - val_output7_loss: 0.2540 - val_output8_loss: 0.1641 - val_output9_loss: 0.1547 - val_output10_loss: 0.0588 - val_output11_loss: 0.0235 - val_output12_loss: 0.0019 - val_output1_binary_accuracy: 0.9307 - val_output2_binary_accuracy: 0.9502 - val_output3_binary_accuracy: 0.9268 - val_output4_binary_accuracy: 0.8047 - val_output5_binary_accuracy: 0.9297 - val_output6_binary_accuracy: 0.9395 - val_output7_binary_accuracy: 0.9082 - val_output8_binary_accuracy: 0.9395 - val_output9_binary_accuracy: 0.9395 - val_output10_binary_accuracy: 0.9785 - val_output11_binary_accuracy: 0.9951 - val_output12_binary_accuracy: 1.0000 - lr: 1.0000e-04\n",
            "Epoch 16/24\n",
            "251/251 [==============================] - ETA: 0s - loss: 1.4973 - output1_loss: 0.0729 - output2_loss: 0.1056 - output3_loss: 0.1714 - output4_loss: 0.3693 - output5_loss: 0.1591 - output6_loss: 0.1562 - output7_loss: 0.1519 - output8_loss: 0.1210 - output9_loss: 0.1302 - output10_loss: 0.0300 - output11_loss: 0.0221 - output12_loss: 0.0076 - output1_binary_accuracy: 0.9761 - output2_binary_accuracy: 0.9630 - output3_binary_accuracy: 0.9307 - output4_binary_accuracy: 0.8467 - output5_binary_accuracy: 0.9374 - output6_binary_accuracy: 0.9461 - output7_binary_accuracy: 0.9437 - output8_binary_accuracy: 0.9541 - output9_binary_accuracy: 0.9467 - output10_binary_accuracy: 0.9880 - output11_binary_accuracy: 0.9929 - output12_binary_accuracy: 0.9981\n",
            "Epoch 00016: val_loss did not improve from 1.98700\n",
            "251/251 [==============================] - 82s 327ms/step - loss: 1.4973 - output1_loss: 0.0729 - output2_loss: 0.1056 - output3_loss: 0.1714 - output4_loss: 0.3693 - output5_loss: 0.1591 - output6_loss: 0.1562 - output7_loss: 0.1519 - output8_loss: 0.1210 - output9_loss: 0.1302 - output10_loss: 0.0300 - output11_loss: 0.0221 - output12_loss: 0.0076 - output1_binary_accuracy: 0.9761 - output2_binary_accuracy: 0.9630 - output3_binary_accuracy: 0.9307 - output4_binary_accuracy: 0.8467 - output5_binary_accuracy: 0.9374 - output6_binary_accuracy: 0.9461 - output7_binary_accuracy: 0.9437 - output8_binary_accuracy: 0.9541 - output9_binary_accuracy: 0.9467 - output10_binary_accuracy: 0.9880 - output11_binary_accuracy: 0.9929 - output12_binary_accuracy: 0.9981 - val_loss: 2.0744 - val_output1_loss: 0.1933 - val_output2_loss: 0.1711 - val_output3_loss: 0.1951 - val_output4_loss: 0.4586 - val_output5_loss: 0.2172 - val_output6_loss: 0.1860 - val_output7_loss: 0.2524 - val_output8_loss: 0.1577 - val_output9_loss: 0.1586 - val_output10_loss: 0.0588 - val_output11_loss: 0.0236 - val_output12_loss: 0.0019 - val_output1_binary_accuracy: 0.9355 - val_output2_binary_accuracy: 0.9502 - val_output3_binary_accuracy: 0.9277 - val_output4_binary_accuracy: 0.7979 - val_output5_binary_accuracy: 0.9307 - val_output6_binary_accuracy: 0.9385 - val_output7_binary_accuracy: 0.9062 - val_output8_binary_accuracy: 0.9385 - val_output9_binary_accuracy: 0.9365 - val_output10_binary_accuracy: 0.9785 - val_output11_binary_accuracy: 0.9951 - val_output12_binary_accuracy: 1.0000 - lr: 1.0000e-04\n",
            "Epoch 17/24\n",
            "251/251 [==============================] - ETA: 0s - loss: 1.4795 - output1_loss: 0.0706 - output2_loss: 0.1037 - output3_loss: 0.1709 - output4_loss: 0.3667 - output5_loss: 0.1564 - output6_loss: 0.1511 - output7_loss: 0.1485 - output8_loss: 0.1208 - output9_loss: 0.1307 - output10_loss: 0.0312 - output11_loss: 0.0211 - output12_loss: 0.0079 - output1_binary_accuracy: 0.9776 - output2_binary_accuracy: 0.9625 - output3_binary_accuracy: 0.9295 - output4_binary_accuracy: 0.8476 - output5_binary_accuracy: 0.9392 - output6_binary_accuracy: 0.9487 - output7_binary_accuracy: 0.9448 - output8_binary_accuracy: 0.9557 - output9_binary_accuracy: 0.9463 - output10_binary_accuracy: 0.9875 - output11_binary_accuracy: 0.9938 - output12_binary_accuracy: 0.9981\n",
            "Epoch 00017: val_loss did not improve from 1.98700\n",
            "251/251 [==============================] - 82s 325ms/step - loss: 1.4795 - output1_loss: 0.0706 - output2_loss: 0.1037 - output3_loss: 0.1709 - output4_loss: 0.3667 - output5_loss: 0.1564 - output6_loss: 0.1511 - output7_loss: 0.1485 - output8_loss: 0.1208 - output9_loss: 0.1307 - output10_loss: 0.0312 - output11_loss: 0.0211 - output12_loss: 0.0079 - output1_binary_accuracy: 0.9776 - output2_binary_accuracy: 0.9625 - output3_binary_accuracy: 0.9295 - output4_binary_accuracy: 0.8476 - output5_binary_accuracy: 0.9392 - output6_binary_accuracy: 0.9487 - output7_binary_accuracy: 0.9448 - output8_binary_accuracy: 0.9557 - output9_binary_accuracy: 0.9463 - output10_binary_accuracy: 0.9875 - output11_binary_accuracy: 0.9938 - output12_binary_accuracy: 0.9981 - val_loss: 2.0886 - val_output1_loss: 0.1932 - val_output2_loss: 0.1746 - val_output3_loss: 0.1994 - val_output4_loss: 0.4664 - val_output5_loss: 0.2122 - val_output6_loss: 0.1906 - val_output7_loss: 0.2513 - val_output8_loss: 0.1627 - val_output9_loss: 0.1536 - val_output10_loss: 0.0592 - val_output11_loss: 0.0232 - val_output12_loss: 0.0021 - val_output1_binary_accuracy: 0.9375 - val_output2_binary_accuracy: 0.9492 - val_output3_binary_accuracy: 0.9277 - val_output4_binary_accuracy: 0.7998 - val_output5_binary_accuracy: 0.9307 - val_output6_binary_accuracy: 0.9375 - val_output7_binary_accuracy: 0.9102 - val_output8_binary_accuracy: 0.9365 - val_output9_binary_accuracy: 0.9404 - val_output10_binary_accuracy: 0.9775 - val_output11_binary_accuracy: 0.9961 - val_output12_binary_accuracy: 1.0000 - lr: 1.0000e-04\n",
            "Epoch 18/24\n",
            "251/251 [==============================] - ETA: 0s - loss: 1.4574 - output1_loss: 0.0680 - output2_loss: 0.0994 - output3_loss: 0.1705 - output4_loss: 0.3622 - output5_loss: 0.1552 - output6_loss: 0.1534 - output7_loss: 0.1431 - output8_loss: 0.1204 - output9_loss: 0.1255 - output10_loss: 0.0301 - output11_loss: 0.0216 - output12_loss: 0.0079 - output1_binary_accuracy: 0.9775 - output2_binary_accuracy: 0.9654 - output3_binary_accuracy: 0.9316 - output4_binary_accuracy: 0.8501 - output5_binary_accuracy: 0.9402 - output6_binary_accuracy: 0.9462 - output7_binary_accuracy: 0.9467 - output8_binary_accuracy: 0.9551 - output9_binary_accuracy: 0.9477 - output10_binary_accuracy: 0.9884 - output11_binary_accuracy: 0.9935 - output12_binary_accuracy: 0.9981\n",
            "Epoch 00018: val_loss did not improve from 1.98700\n",
            "251/251 [==============================] - 82s 326ms/step - loss: 1.4574 - output1_loss: 0.0680 - output2_loss: 0.0994 - output3_loss: 0.1705 - output4_loss: 0.3622 - output5_loss: 0.1552 - output6_loss: 0.1534 - output7_loss: 0.1431 - output8_loss: 0.1204 - output9_loss: 0.1255 - output10_loss: 0.0301 - output11_loss: 0.0216 - output12_loss: 0.0079 - output1_binary_accuracy: 0.9775 - output2_binary_accuracy: 0.9654 - output3_binary_accuracy: 0.9316 - output4_binary_accuracy: 0.8501 - output5_binary_accuracy: 0.9402 - output6_binary_accuracy: 0.9462 - output7_binary_accuracy: 0.9467 - output8_binary_accuracy: 0.9551 - output9_binary_accuracy: 0.9477 - output10_binary_accuracy: 0.9884 - output11_binary_accuracy: 0.9935 - output12_binary_accuracy: 0.9981 - val_loss: 2.1286 - val_output1_loss: 0.1997 - val_output2_loss: 0.1790 - val_output3_loss: 0.2006 - val_output4_loss: 0.4628 - val_output5_loss: 0.2237 - val_output6_loss: 0.1855 - val_output7_loss: 0.2592 - val_output8_loss: 0.1689 - val_output9_loss: 0.1657 - val_output10_loss: 0.0584 - val_output11_loss: 0.0236 - val_output12_loss: 0.0018 - val_output1_binary_accuracy: 0.9355 - val_output2_binary_accuracy: 0.9463 - val_output3_binary_accuracy: 0.9268 - val_output4_binary_accuracy: 0.8047 - val_output5_binary_accuracy: 0.9258 - val_output6_binary_accuracy: 0.9395 - val_output7_binary_accuracy: 0.9043 - val_output8_binary_accuracy: 0.9346 - val_output9_binary_accuracy: 0.9287 - val_output10_binary_accuracy: 0.9785 - val_output11_binary_accuracy: 0.9951 - val_output12_binary_accuracy: 1.0000 - lr: 1.0000e-04\n",
            "Epoch 19/24\n",
            "251/251 [==============================] - ETA: 0s - loss: 1.4239 - output1_loss: 0.0627 - output2_loss: 0.0998 - output3_loss: 0.1685 - output4_loss: 0.3583 - output5_loss: 0.1518 - output6_loss: 0.1497 - output7_loss: 0.1396 - output8_loss: 0.1143 - output9_loss: 0.1238 - output10_loss: 0.0274 - output11_loss: 0.0204 - output12_loss: 0.0077 - output1_binary_accuracy: 0.9800 - output2_binary_accuracy: 0.9648 - output3_binary_accuracy: 0.9318 - output4_binary_accuracy: 0.8513 - output5_binary_accuracy: 0.9421 - output6_binary_accuracy: 0.9497 - output7_binary_accuracy: 0.9485 - output8_binary_accuracy: 0.9579 - output9_binary_accuracy: 0.9508 - output10_binary_accuracy: 0.9898 - output11_binary_accuracy: 0.9939 - output12_binary_accuracy: 0.9981\n",
            "Epoch 00019: val_loss did not improve from 1.98700\n",
            "251/251 [==============================] - 82s 326ms/step - loss: 1.4239 - output1_loss: 0.0627 - output2_loss: 0.0998 - output3_loss: 0.1685 - output4_loss: 0.3583 - output5_loss: 0.1518 - output6_loss: 0.1497 - output7_loss: 0.1396 - output8_loss: 0.1143 - output9_loss: 0.1238 - output10_loss: 0.0274 - output11_loss: 0.0204 - output12_loss: 0.0077 - output1_binary_accuracy: 0.9800 - output2_binary_accuracy: 0.9648 - output3_binary_accuracy: 0.9318 - output4_binary_accuracy: 0.8513 - output5_binary_accuracy: 0.9421 - output6_binary_accuracy: 0.9497 - output7_binary_accuracy: 0.9485 - output8_binary_accuracy: 0.9579 - output9_binary_accuracy: 0.9508 - output10_binary_accuracy: 0.9898 - output11_binary_accuracy: 0.9939 - output12_binary_accuracy: 0.9981 - val_loss: 2.1346 - val_output1_loss: 0.2004 - val_output2_loss: 0.1800 - val_output3_loss: 0.2015 - val_output4_loss: 0.4617 - val_output5_loss: 0.2254 - val_output6_loss: 0.1932 - val_output7_loss: 0.2575 - val_output8_loss: 0.1601 - val_output9_loss: 0.1691 - val_output10_loss: 0.0608 - val_output11_loss: 0.0235 - val_output12_loss: 0.0015 - val_output1_binary_accuracy: 0.9375 - val_output2_binary_accuracy: 0.9482 - val_output3_binary_accuracy: 0.9238 - val_output4_binary_accuracy: 0.8018 - val_output5_binary_accuracy: 0.9180 - val_output6_binary_accuracy: 0.9395 - val_output7_binary_accuracy: 0.9092 - val_output8_binary_accuracy: 0.9404 - val_output9_binary_accuracy: 0.9365 - val_output10_binary_accuracy: 0.9775 - val_output11_binary_accuracy: 0.9951 - val_output12_binary_accuracy: 1.0000 - lr: 1.0000e-04\n",
            "Epoch 20/24\n",
            "251/251 [==============================] - ETA: 0s - loss: 1.3981 - output1_loss: 0.0609 - output2_loss: 0.0946 - output3_loss: 0.1633 - output4_loss: 0.3520 - output5_loss: 0.1487 - output6_loss: 0.1514 - output7_loss: 0.1370 - output8_loss: 0.1132 - output9_loss: 0.1227 - output10_loss: 0.0264 - output11_loss: 0.0205 - output12_loss: 0.0073 - output1_binary_accuracy: 0.9821 - output2_binary_accuracy: 0.9665 - output3_binary_accuracy: 0.9325 - output4_binary_accuracy: 0.8546 - output5_binary_accuracy: 0.9412 - output6_binary_accuracy: 0.9482 - output7_binary_accuracy: 0.9493 - output8_binary_accuracy: 0.9593 - output9_binary_accuracy: 0.9504 - output10_binary_accuracy: 0.9899 - output11_binary_accuracy: 0.9935 - output12_binary_accuracy: 0.9981\n",
            "Epoch 00020: val_loss did not improve from 1.98700\n",
            "251/251 [==============================] - 82s 325ms/step - loss: 1.3981 - output1_loss: 0.0609 - output2_loss: 0.0946 - output3_loss: 0.1633 - output4_loss: 0.3520 - output5_loss: 0.1487 - output6_loss: 0.1514 - output7_loss: 0.1370 - output8_loss: 0.1132 - output9_loss: 0.1227 - output10_loss: 0.0264 - output11_loss: 0.0205 - output12_loss: 0.0073 - output1_binary_accuracy: 0.9821 - output2_binary_accuracy: 0.9665 - output3_binary_accuracy: 0.9325 - output4_binary_accuracy: 0.8546 - output5_binary_accuracy: 0.9412 - output6_binary_accuracy: 0.9482 - output7_binary_accuracy: 0.9493 - output8_binary_accuracy: 0.9593 - output9_binary_accuracy: 0.9504 - output10_binary_accuracy: 0.9899 - output11_binary_accuracy: 0.9935 - output12_binary_accuracy: 0.9981 - val_loss: 2.1322 - val_output1_loss: 0.2064 - val_output2_loss: 0.1796 - val_output3_loss: 0.2002 - val_output4_loss: 0.4626 - val_output5_loss: 0.2229 - val_output6_loss: 0.1928 - val_output7_loss: 0.2549 - val_output8_loss: 0.1611 - val_output9_loss: 0.1634 - val_output10_loss: 0.0608 - val_output11_loss: 0.0255 - val_output12_loss: 0.0019 - val_output1_binary_accuracy: 0.9277 - val_output2_binary_accuracy: 0.9473 - val_output3_binary_accuracy: 0.9219 - val_output4_binary_accuracy: 0.8076 - val_output5_binary_accuracy: 0.9219 - val_output6_binary_accuracy: 0.9375 - val_output7_binary_accuracy: 0.9082 - val_output8_binary_accuracy: 0.9424 - val_output9_binary_accuracy: 0.9375 - val_output10_binary_accuracy: 0.9785 - val_output11_binary_accuracy: 0.9951 - val_output12_binary_accuracy: 1.0000 - lr: 1.0000e-04\n",
            "Epoch 21/24\n",
            "251/251 [==============================] - ETA: 0s - loss: 1.3832 - output1_loss: 0.0605 - output2_loss: 0.0947 - output3_loss: 0.1655 - output4_loss: 0.3455 - output5_loss: 0.1490 - output6_loss: 0.1488 - output7_loss: 0.1330 - output8_loss: 0.1123 - output9_loss: 0.1191 - output10_loss: 0.0275 - output11_loss: 0.0201 - output12_loss: 0.0072 - output1_binary_accuracy: 0.9811 - output2_binary_accuracy: 0.9665 - output3_binary_accuracy: 0.9336 - output4_binary_accuracy: 0.8574 - output5_binary_accuracy: 0.9421 - output6_binary_accuracy: 0.9497 - output7_binary_accuracy: 0.9532 - output8_binary_accuracy: 0.9588 - output9_binary_accuracy: 0.9500 - output10_binary_accuracy: 0.9897 - output11_binary_accuracy: 0.9940 - output12_binary_accuracy: 0.9981\n",
            "Epoch 00021: val_loss did not improve from 1.98700\n",
            "251/251 [==============================] - 82s 325ms/step - loss: 1.3832 - output1_loss: 0.0605 - output2_loss: 0.0947 - output3_loss: 0.1655 - output4_loss: 0.3455 - output5_loss: 0.1490 - output6_loss: 0.1488 - output7_loss: 0.1330 - output8_loss: 0.1123 - output9_loss: 0.1191 - output10_loss: 0.0275 - output11_loss: 0.0201 - output12_loss: 0.0072 - output1_binary_accuracy: 0.9811 - output2_binary_accuracy: 0.9665 - output3_binary_accuracy: 0.9336 - output4_binary_accuracy: 0.8574 - output5_binary_accuracy: 0.9421 - output6_binary_accuracy: 0.9497 - output7_binary_accuracy: 0.9532 - output8_binary_accuracy: 0.9588 - output9_binary_accuracy: 0.9500 - output10_binary_accuracy: 0.9897 - output11_binary_accuracy: 0.9940 - output12_binary_accuracy: 0.9981 - val_loss: 2.1641 - val_output1_loss: 0.2059 - val_output2_loss: 0.1871 - val_output3_loss: 0.2053 - val_output4_loss: 0.4678 - val_output5_loss: 0.2271 - val_output6_loss: 0.1928 - val_output7_loss: 0.2586 - val_output8_loss: 0.1706 - val_output9_loss: 0.1661 - val_output10_loss: 0.0564 - val_output11_loss: 0.0245 - val_output12_loss: 0.0019 - val_output1_binary_accuracy: 0.9385 - val_output2_binary_accuracy: 0.9492 - val_output3_binary_accuracy: 0.9229 - val_output4_binary_accuracy: 0.8057 - val_output5_binary_accuracy: 0.9287 - val_output6_binary_accuracy: 0.9385 - val_output7_binary_accuracy: 0.9072 - val_output8_binary_accuracy: 0.9346 - val_output9_binary_accuracy: 0.9375 - val_output10_binary_accuracy: 0.9814 - val_output11_binary_accuracy: 0.9951 - val_output12_binary_accuracy: 1.0000 - lr: 1.0000e-04\n",
            "Epoch 22/24\n",
            "251/251 [==============================] - ETA: 0s - loss: 1.3599 - output1_loss: 0.0606 - output2_loss: 0.0904 - output3_loss: 0.1631 - output4_loss: 0.3406 - output5_loss: 0.1458 - output6_loss: 0.1467 - output7_loss: 0.1324 - output8_loss: 0.1100 - output9_loss: 0.1156 - output10_loss: 0.0268 - output11_loss: 0.0205 - output12_loss: 0.0074 - output1_binary_accuracy: 0.9803 - output2_binary_accuracy: 0.9681 - output3_binary_accuracy: 0.9336 - output4_binary_accuracy: 0.8593 - output5_binary_accuracy: 0.9425 - output6_binary_accuracy: 0.9508 - output7_binary_accuracy: 0.9527 - output8_binary_accuracy: 0.9598 - output9_binary_accuracy: 0.9542 - output10_binary_accuracy: 0.9905 - output11_binary_accuracy: 0.9938 - output12_binary_accuracy: 0.9981\n",
            "Epoch 00022: val_loss did not improve from 1.98700\n",
            "251/251 [==============================] - 82s 327ms/step - loss: 1.3599 - output1_loss: 0.0606 - output2_loss: 0.0904 - output3_loss: 0.1631 - output4_loss: 0.3406 - output5_loss: 0.1458 - output6_loss: 0.1467 - output7_loss: 0.1324 - output8_loss: 0.1100 - output9_loss: 0.1156 - output10_loss: 0.0268 - output11_loss: 0.0205 - output12_loss: 0.0074 - output1_binary_accuracy: 0.9803 - output2_binary_accuracy: 0.9681 - output3_binary_accuracy: 0.9336 - output4_binary_accuracy: 0.8593 - output5_binary_accuracy: 0.9425 - output6_binary_accuracy: 0.9508 - output7_binary_accuracy: 0.9527 - output8_binary_accuracy: 0.9598 - output9_binary_accuracy: 0.9542 - output10_binary_accuracy: 0.9905 - output11_binary_accuracy: 0.9938 - output12_binary_accuracy: 0.9981 - val_loss: 2.2096 - val_output1_loss: 0.2132 - val_output2_loss: 0.1911 - val_output3_loss: 0.2003 - val_output4_loss: 0.4709 - val_output5_loss: 0.2293 - val_output6_loss: 0.1911 - val_output7_loss: 0.2667 - val_output8_loss: 0.1854 - val_output9_loss: 0.1678 - val_output10_loss: 0.0685 - val_output11_loss: 0.0236 - val_output12_loss: 0.0018 - val_output1_binary_accuracy: 0.9307 - val_output2_binary_accuracy: 0.9512 - val_output3_binary_accuracy: 0.9258 - val_output4_binary_accuracy: 0.8027 - val_output5_binary_accuracy: 0.9199 - val_output6_binary_accuracy: 0.9375 - val_output7_binary_accuracy: 0.9043 - val_output8_binary_accuracy: 0.9326 - val_output9_binary_accuracy: 0.9395 - val_output10_binary_accuracy: 0.9746 - val_output11_binary_accuracy: 0.9951 - val_output12_binary_accuracy: 1.0000 - lr: 1.0000e-04\n",
            "Epoch 23/24\n",
            "251/251 [==============================] - ETA: 0s - loss: 1.3269 - output1_loss: 0.0557 - output2_loss: 0.0862 - output3_loss: 0.1616 - output4_loss: 0.3360 - output5_loss: 0.1454 - output6_loss: 0.1420 - output7_loss: 0.1283 - output8_loss: 0.1058 - output9_loss: 0.1148 - output10_loss: 0.0249 - output11_loss: 0.0191 - output12_loss: 0.0072 - output1_binary_accuracy: 0.9834 - output2_binary_accuracy: 0.9688 - output3_binary_accuracy: 0.9354 - output4_binary_accuracy: 0.8606 - output5_binary_accuracy: 0.9445 - output6_binary_accuracy: 0.9512 - output7_binary_accuracy: 0.9565 - output8_binary_accuracy: 0.9620 - output9_binary_accuracy: 0.9553 - output10_binary_accuracy: 0.9907 - output11_binary_accuracy: 0.9939 - output12_binary_accuracy: 0.9981\n",
            "Epoch 00023: val_loss did not improve from 1.98700\n",
            "251/251 [==============================] - 82s 326ms/step - loss: 1.3269 - output1_loss: 0.0557 - output2_loss: 0.0862 - output3_loss: 0.1616 - output4_loss: 0.3360 - output5_loss: 0.1454 - output6_loss: 0.1420 - output7_loss: 0.1283 - output8_loss: 0.1058 - output9_loss: 0.1148 - output10_loss: 0.0249 - output11_loss: 0.0191 - output12_loss: 0.0072 - output1_binary_accuracy: 0.9834 - output2_binary_accuracy: 0.9688 - output3_binary_accuracy: 0.9354 - output4_binary_accuracy: 0.8606 - output5_binary_accuracy: 0.9445 - output6_binary_accuracy: 0.9512 - output7_binary_accuracy: 0.9565 - output8_binary_accuracy: 0.9620 - output9_binary_accuracy: 0.9553 - output10_binary_accuracy: 0.9907 - output11_binary_accuracy: 0.9939 - output12_binary_accuracy: 0.9981 - val_loss: 2.2407 - val_output1_loss: 0.2163 - val_output2_loss: 0.1960 - val_output3_loss: 0.2023 - val_output4_loss: 0.4793 - val_output5_loss: 0.2292 - val_output6_loss: 0.1894 - val_output7_loss: 0.2783 - val_output8_loss: 0.1922 - val_output9_loss: 0.1663 - val_output10_loss: 0.0660 - val_output11_loss: 0.0238 - val_output12_loss: 0.0016 - val_output1_binary_accuracy: 0.9297 - val_output2_binary_accuracy: 0.9521 - val_output3_binary_accuracy: 0.9268 - val_output4_binary_accuracy: 0.8057 - val_output5_binary_accuracy: 0.9248 - val_output6_binary_accuracy: 0.9414 - val_output7_binary_accuracy: 0.9102 - val_output8_binary_accuracy: 0.9307 - val_output9_binary_accuracy: 0.9385 - val_output10_binary_accuracy: 0.9756 - val_output11_binary_accuracy: 0.9951 - val_output12_binary_accuracy: 1.0000 - lr: 1.0000e-04\n",
            "Epoch 24/24\n",
            "251/251 [==============================] - ETA: 0s - loss: 1.2988 - output1_loss: 0.0532 - output2_loss: 0.0849 - output3_loss: 0.1600 - output4_loss: 0.3299 - output5_loss: 0.1412 - output6_loss: 0.1435 - output7_loss: 0.1249 - output8_loss: 0.1031 - output9_loss: 0.1088 - output10_loss: 0.0239 - output11_loss: 0.0180 - output12_loss: 0.0074 - output1_binary_accuracy: 0.9831 - output2_binary_accuracy: 0.9706 - output3_binary_accuracy: 0.9336 - output4_binary_accuracy: 0.8670 - output5_binary_accuracy: 0.9452 - output6_binary_accuracy: 0.9504 - output7_binary_accuracy: 0.9585 - output8_binary_accuracy: 0.9607 - output9_binary_accuracy: 0.9580 - output10_binary_accuracy: 0.9918 - output11_binary_accuracy: 0.9939 - output12_binary_accuracy: 0.9981\n",
            "Epoch 00024: val_loss did not improve from 1.98700\n",
            "251/251 [==============================] - 82s 326ms/step - loss: 1.2988 - output1_loss: 0.0532 - output2_loss: 0.0849 - output3_loss: 0.1600 - output4_loss: 0.3299 - output5_loss: 0.1412 - output6_loss: 0.1435 - output7_loss: 0.1249 - output8_loss: 0.1031 - output9_loss: 0.1088 - output10_loss: 0.0239 - output11_loss: 0.0180 - output12_loss: 0.0074 - output1_binary_accuracy: 0.9831 - output2_binary_accuracy: 0.9706 - output3_binary_accuracy: 0.9336 - output4_binary_accuracy: 0.8670 - output5_binary_accuracy: 0.9452 - output6_binary_accuracy: 0.9504 - output7_binary_accuracy: 0.9585 - output8_binary_accuracy: 0.9607 - output9_binary_accuracy: 0.9580 - output10_binary_accuracy: 0.9918 - output11_binary_accuracy: 0.9939 - output12_binary_accuracy: 0.9981 - val_loss: 2.2338 - val_output1_loss: 0.2151 - val_output2_loss: 0.1918 - val_output3_loss: 0.2041 - val_output4_loss: 0.4738 - val_output5_loss: 0.2295 - val_output6_loss: 0.1936 - val_output7_loss: 0.2694 - val_output8_loss: 0.1914 - val_output9_loss: 0.1742 - val_output10_loss: 0.0646 - val_output11_loss: 0.0248 - val_output12_loss: 0.0017 - val_output1_binary_accuracy: 0.9326 - val_output2_binary_accuracy: 0.9443 - val_output3_binary_accuracy: 0.9238 - val_output4_binary_accuracy: 0.8047 - val_output5_binary_accuracy: 0.9238 - val_output6_binary_accuracy: 0.9385 - val_output7_binary_accuracy: 0.9082 - val_output8_binary_accuracy: 0.9307 - val_output9_binary_accuracy: 0.9346 - val_output10_binary_accuracy: 0.9795 - val_output11_binary_accuracy: 0.9951 - val_output12_binary_accuracy: 1.0000 - lr: 1.0000e-04\n"
          ],
          "name": "stdout"
        },
        {
          "output_type": "execute_result",
          "data": {
            "text/plain": [
              "<tensorflow.python.keras.callbacks.History at 0x7f463e4773c8>"
            ]
          },
          "metadata": {
            "tags": []
          },
          "execution_count": 14
        }
      ]
    },
    {
      "cell_type": "code",
      "metadata": {
        "id": "em7kchEipeVs",
        "colab_type": "code",
        "colab": {
          "base_uri": "https://localhost:8080/",
          "height": 34
        },
        "outputId": "26a110ce-b5b3-47d2-d6fc-08d8f494c1c0"
      },
      "source": [
        "Name"
      ],
      "execution_count": 17,
      "outputs": [
        {
          "output_type": "execute_result",
          "data": {
            "text/plain": [
              "'BERT/LSTM_noClassweight_64.h5'"
            ]
          },
          "metadata": {
            "tags": []
          },
          "execution_count": 17
        }
      ]
    },
    {
      "cell_type": "markdown",
      "metadata": {
        "id": "QMfSJxN--xs1",
        "colab_type": "text"
      },
      "source": [
        "## Prediction\n",
        "\n",
        "\n"
      ]
    },
    {
      "cell_type": "code",
      "metadata": {
        "id": "jsDym2PgJ6ml",
        "colab_type": "code",
        "outputId": "3ef0b140-e949-483e-f1cc-f02f2e037b0d",
        "colab": {
          "base_uri": "https://localhost:8080/",
          "height": 974
        }
      },
      "source": [
        "model.summary()"
      ],
      "execution_count": 15,
      "outputs": [
        {
          "output_type": "stream",
          "text": [
            "Model: \"model\"\n",
            "__________________________________________________________________________________________________\n",
            "Layer (type)                    Output Shape         Param #     Connected to                     \n",
            "==================================================================================================\n",
            "input_1 (InputLayer)            [(None, 1259, 768)]  0                                            \n",
            "__________________________________________________________________________________________________\n",
            "spatial_dropout1d (SpatialDropo (None, 1259, 768)    0           input_1[0][0]                    \n",
            "__________________________________________________________________________________________________\n",
            "bidirectional (Bidirectional)   (None, 1259, 128)    426496      spatial_dropout1d[0][0]          \n",
            "__________________________________________________________________________________________________\n",
            "bidirectional_1 (Bidirectional) (None, 1259, 128)    98816       bidirectional[0][0]              \n",
            "__________________________________________________________________________________________________\n",
            "global_max_pooling1d (GlobalMax (None, 128)          0           bidirectional_1[0][0]            \n",
            "__________________________________________________________________________________________________\n",
            "global_average_pooling1d (Globa (None, 128)          0           bidirectional_1[0][0]            \n",
            "__________________________________________________________________________________________________\n",
            "concatenate (Concatenate)       (None, 256)          0           global_max_pooling1d[0][0]       \n",
            "                                                                 global_average_pooling1d[0][0]   \n",
            "__________________________________________________________________________________________________\n",
            "dense (Dense)                   (None, 256)          65792       concatenate[0][0]                \n",
            "__________________________________________________________________________________________________\n",
            "add (Add)                       (None, 256)          0           concatenate[0][0]                \n",
            "                                                                 dense[0][0]                      \n",
            "__________________________________________________________________________________________________\n",
            "dense_1 (Dense)                 (None, 256)          65792       add[0][0]                        \n",
            "__________________________________________________________________________________________________\n",
            "add_1 (Add)                     (None, 256)          0           add[0][0]                        \n",
            "                                                                 dense_1[0][0]                    \n",
            "__________________________________________________________________________________________________\n",
            "output1 (Dense)                 (None, 1)            257         add_1[0][0]                      \n",
            "__________________________________________________________________________________________________\n",
            "output2 (Dense)                 (None, 1)            257         add_1[0][0]                      \n",
            "__________________________________________________________________________________________________\n",
            "output3 (Dense)                 (None, 1)            257         add_1[0][0]                      \n",
            "__________________________________________________________________________________________________\n",
            "output4 (Dense)                 (None, 1)            257         add_1[0][0]                      \n",
            "__________________________________________________________________________________________________\n",
            "output5 (Dense)                 (None, 1)            257         add_1[0][0]                      \n",
            "__________________________________________________________________________________________________\n",
            "output6 (Dense)                 (None, 1)            257         add_1[0][0]                      \n",
            "__________________________________________________________________________________________________\n",
            "output7 (Dense)                 (None, 1)            257         add_1[0][0]                      \n",
            "__________________________________________________________________________________________________\n",
            "output8 (Dense)                 (None, 1)            257         add_1[0][0]                      \n",
            "__________________________________________________________________________________________________\n",
            "output9 (Dense)                 (None, 1)            257         add_1[0][0]                      \n",
            "__________________________________________________________________________________________________\n",
            "output10 (Dense)                (None, 1)            257         add_1[0][0]                      \n",
            "__________________________________________________________________________________________________\n",
            "output11 (Dense)                (None, 1)            257         add_1[0][0]                      \n",
            "__________________________________________________________________________________________________\n",
            "output12 (Dense)                (None, 1)            257         add_1[0][0]                      \n",
            "==================================================================================================\n",
            "Total params: 659,980\n",
            "Trainable params: 659,980\n",
            "Non-trainable params: 0\n",
            "__________________________________________________________________________________________________\n"
          ],
          "name": "stdout"
        }
      ]
    },
    {
      "cell_type": "code",
      "metadata": {
        "id": "onSOnIBxPXa0",
        "colab_type": "code",
        "colab": {}
      },
      "source": [
        "model.load_weights(Name)"
      ],
      "execution_count": 0,
      "outputs": []
    },
    {
      "cell_type": "code",
      "metadata": {
        "id": "2ZwqpZmP_pVV",
        "colab_type": "code",
        "colab": {}
      },
      "source": [
        "class testDataGenerator(tf.keras.utils.Sequence):\n",
        "    'Generates data for Keras'\n",
        "    def __init__(self, pdDataFrame, dbName, labels=['oQ', 'RQ', 'CQ', 'FD', 'FQ', 'IR', 'PA', 'PF', 'NF', 'GG', 'JK', 'O'],\\\n",
        "                 batch_size=25, dim=MAX_LEN, n_channels=N_CHANNELS,\\\n",
        "                 n_classes=N_CLASS, shuffle=False):\n",
        "        'Initialization'\n",
        "        self.dim = dim\n",
        "        self.batch_size = batch_size\n",
        "        self.labels = labels\n",
        "        self.list_IDs = pdDataFrame\n",
        "        self.n_channels = n_channels\n",
        "        self.n_classes = n_classes\n",
        "        self.shuffle = shuffle\n",
        "        self.dbName=dbName\n",
        "        self.on_epoch_end()\n",
        "\n",
        "    def __len__(self):\n",
        "        'Denotes the number of batches per epoch'\n",
        "        return int(np.floor(len(self.list_IDs) / self.batch_size))\n",
        "\n",
        "    def __getitem__(self, index):\n",
        "        'Generate one batch of data'\n",
        "        # Generate indexes of the batch\n",
        "        indexes = self.indexes[index*self.batch_size:(index+1)*self.batch_size]\n",
        "\n",
        "        # Find list of IDs\n",
        "        list_IDs_temp = self.list_IDs.iloc[indexes,:]\n",
        "\n",
        "        # Generate data\n",
        "        X = self.__data_generation(list_IDs_temp.reset_index(drop=True))\n",
        "\n",
        "        return X\n",
        "\n",
        "    def on_epoch_end(self):\n",
        "        'Updates indexes after each epoch'\n",
        "        self.indexes = np.arange(len(self.list_IDs))\n",
        "        if self.shuffle == True:\n",
        "            np.random.shuffle(self.indexes)\n",
        "\n",
        "    def __data_generation(self, list_IDs_temp):\n",
        "        'Generates data containing batch_size samples' # X : (n_samples, *dim, n_channels)\n",
        "        # Initialization\n",
        "        X = np.zeros((self.batch_size, self.dim, self.n_channels))\n",
        "        #y = np.zeros((self.batch_size,self.n_classes), dtype=int)\n",
        "\n",
        "        # Generate data\n",
        "        for i in range(len(list_IDs_temp)):\n",
        "            utterenceID=list_IDs_temp.loc[i,'id']\n",
        "            diaglogID=list_IDs_temp.loc[i,'diaglogID']\n",
        "            try:\n",
        "              temp=np.load('BERT/vector/'+self.dbName+'_'+str(utterenceID)+'_'+str(diaglogID)+'.npy')\n",
        "              X[i,0:temp.shape[0],:] =temp \n",
        "              del temp\n",
        "            except:\n",
        "              print('Faile to load the data: BERT/vector/'+self.dbName+'_'+str(utterenceID)+'_'+str(diaglogID)+'.npy')\n",
        "            # Store sample\n",
        "            # Store class\n",
        "            #y[i,:] = np.array(list_IDs_temp.iloc[i,0:12])\n",
        "\n",
        "        return X"
      ],
      "execution_count": 0,
      "outputs": []
    },
    {
      "cell_type": "code",
      "metadata": {
        "id": "pgnTSkm2_EBW",
        "colab_type": "code",
        "colab": {}
      },
      "source": [
        "test_generator=testDataGenerator(Test,'Test')"
      ],
      "execution_count": 0,
      "outputs": []
    },
    {
      "cell_type": "code",
      "metadata": {
        "id": "MneDN8jV-spA",
        "colab_type": "code",
        "outputId": "121ad953-10ca-44ec-c365-0046322bfe0a",
        "colab": {
          "base_uri": "https://localhost:8080/",
          "height": 87
        }
      },
      "source": [
        "prediction = model.predict_generator(test_generator)"
      ],
      "execution_count": 21,
      "outputs": [
        {
          "output_type": "stream",
          "text": [
            "WARNING:tensorflow:From <ipython-input-21-342c80f366ab>:1: Model.predict_generator (from tensorflow.python.keras.engine.training) is deprecated and will be removed in a future version.\n",
            "Instructions for updating:\n",
            "Please use Model.predict, which supports generators.\n"
          ],
          "name": "stdout"
        }
      ]
    },
    {
      "cell_type": "code",
      "metadata": {
        "id": "P0iEXswMaFjG",
        "colab_type": "code",
        "colab": {}
      },
      "source": [
        "Prediction=np.array(prediction)"
      ],
      "execution_count": 0,
      "outputs": []
    },
    {
      "cell_type": "code",
      "metadata": {
        "id": "96IhGmpUPb3x",
        "colab_type": "code",
        "colab": {}
      },
      "source": [
        "y_true=np.array(Test.iloc[:,0:N_CLASS])\n",
        "y_pred=Prediction"
      ],
      "execution_count": 0,
      "outputs": []
    },
    {
      "cell_type": "code",
      "metadata": {
        "id": "FKuuDSTFOj0I",
        "colab_type": "code",
        "colab": {}
      },
      "source": [
        "def hamming_score(y_true, y_pred, toggle_output=False):\n",
        "    '''\n",
        "    Compute the Hamming score (a.k.a. label-based accuracy) for the multi-label case\n",
        "    https://stackoverflow.com/q/32239577/395857\n",
        "    '''\n",
        "    acc_list = []\n",
        "    for i in range(y_pred.shape[1]):\n",
        "        set_true = set( np.where(y_true[i,:])[0])\n",
        "        set_pred = set( np.where(y_pred[:,i,0]>=0.5)[0])\n",
        "        if toggle_output:\n",
        "            print('set_true: {0}'.format([id2label[id] for id in set_true]), 'set_pred: {0}'.format([id2label[id] for id in set_pred]))\n",
        "        tmp_a = None\n",
        "        if len(set_true) == 0 and len(set_pred) == 0:\n",
        "            tmp_a = 1\n",
        "        else:\n",
        "            tmp_a = len(set_true.intersection(set_pred))/\\\n",
        "                    float( len(set_true.union(set_pred)) )\n",
        "        #print('tmp_a: {0}'.format(tmp_a))\n",
        "        acc_list.append(tmp_a)\n",
        "    return np.mean(acc_list)"
      ],
      "execution_count": 0,
      "outputs": []
    },
    {
      "cell_type": "code",
      "metadata": {
        "id": "qPO4UZTAOlXI",
        "colab_type": "code",
        "colab": {
          "base_uri": "https://localhost:8080/",
          "height": 34
        },
        "outputId": "880a8cfe-5843-4247-c143-f17a0312fc76"
      },
      "source": [
        "hamming_score(y_true, y_pred, toggle_output=False)\n"
      ],
      "execution_count": 28,
      "outputs": [
        {
          "output_type": "execute_result",
          "data": {
            "text/plain": [
              "0.6282342342342341"
            ]
          },
          "metadata": {
            "tags": []
          },
          "execution_count": 28
        }
      ]
    },
    {
      "cell_type": "code",
      "metadata": {
        "id": "rLsKXKbnOmfQ",
        "colab_type": "code",
        "colab": {}
      },
      "source": [
        "def f1(y_true, y_pred):\n",
        "    correct_preds, total_correct, total_preds = 0., 0., 0.\n",
        "    for i in range(y_true.shape[0]):\n",
        "        set_true = set( np.where(y_true[i,:])[0])\n",
        "        set_pred = set( np.where(y_pred[:,i,0]>=0.5)[0])\n",
        "        \n",
        "        correct_preds += len(set_true & set_pred)\n",
        "        total_preds += len(set_pred)\n",
        "        total_correct += len(set_true)\n",
        "\n",
        "    p = correct_preds / total_preds if correct_preds > 0 else 0\n",
        "    r = correct_preds / total_correct if correct_preds > 0 else 0\n",
        "    f1 = 2 * p * r / (p + r) if correct_preds > 0 else 0\n",
        "    return p, r, f1"
      ],
      "execution_count": 0,
      "outputs": []
    },
    {
      "cell_type": "code",
      "metadata": {
        "id": "In2dJ6dTOn3y",
        "colab_type": "code",
        "colab": {
          "base_uri": "https://localhost:8080/",
          "height": 34
        },
        "outputId": "7767c0da-0ced-4306-e334-ed7df96019e1"
      },
      "source": [
        "f1(y_true, y_pred)\n"
      ],
      "execution_count": 30,
      "outputs": [
        {
          "output_type": "execute_result",
          "data": {
            "text/plain": [
              "(0.7703631010794897, 0.5840773809523809, 0.6644096487515869)"
            ]
          },
          "metadata": {
            "tags": []
          },
          "execution_count": 30
        }
      ]
    },
    {
      "cell_type": "code",
      "metadata": {
        "id": "PXQF4mr0OpC9",
        "colab_type": "code",
        "colab": {}
      },
      "source": [
        ""
      ],
      "execution_count": 0,
      "outputs": []
    }
  ]
}