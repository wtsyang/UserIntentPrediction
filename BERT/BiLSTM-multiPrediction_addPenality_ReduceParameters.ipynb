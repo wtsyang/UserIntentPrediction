{
  "nbformat": 4,
  "nbformat_minor": 0,
  "metadata": {
    "colab": {
      "name": "LSTM.ipynb",
      "provenance": [],
      "collapsed_sections": [],
      "authorship_tag": "ABX9TyPfMIdOmUHlP8jtJnNVUMjA",
      "include_colab_link": true
    },
    "kernelspec": {
      "name": "python3",
      "display_name": "Python 3"
    },
    "accelerator": "GPU"
  },
  "cells": [
    {
      "cell_type": "markdown",
      "metadata": {
        "id": "view-in-github",
        "colab_type": "text"
      },
      "source": [
        "<a href=\"https://colab.research.google.com/github/wtsyang/UserIntentPrediction/blob/BERT/BERT/LSTM-multiPrediction_addPenality_ReduceParameters.ipynb\" target=\"_parent\"><img src=\"https://colab.research.google.com/assets/colab-badge.svg\" alt=\"Open In Colab\"/></a>"
      ]
    },
    {
      "cell_type": "code",
      "metadata": {
        "id": "ot0Ha--FR-S1",
        "colab_type": "code",
        "outputId": "17e17346-bbe6-4cb4-a069-ddc8bf38140d",
        "colab": {
          "base_uri": "https://localhost:8080/",
          "height": 50
        }
      },
      "source": [
        "from google.colab import drive # import drive from google colab\n",
        "\n",
        "ROOT = \"/content/drive\"     # default location for the drive\n",
        "print(ROOT)                 # print content of ROOT (Optional)\n",
        "\n",
        "drive.mount(ROOT)           # we mount the google drive at /content/drive"
      ],
      "execution_count": 2,
      "outputs": [
        {
          "output_type": "stream",
          "text": [
            "/content/drive\n",
            "Drive already mounted at /content/drive; to attempt to forcibly remount, call drive.mount(\"/content/drive\", force_remount=True).\n"
          ],
          "name": "stdout"
        }
      ]
    },
    {
      "cell_type": "code",
      "metadata": {
        "id": "-6DT7DNwSNn9",
        "colab_type": "code",
        "outputId": "f6e8176f-f09c-41a6-e3be-3a6c9c3f7cd8",
        "colab": {
          "base_uri": "https://localhost:8080/",
          "height": 34
        }
      },
      "source": [
        "%cd '/content/drive/My Drive/UserIntentPrediction'"
      ],
      "execution_count": 3,
      "outputs": [
        {
          "output_type": "stream",
          "text": [
            "/content/drive/My Drive/UserIntentPrediction\n"
          ],
          "name": "stdout"
        }
      ]
    },
    {
      "cell_type": "code",
      "metadata": {
        "id": "De681umQRanU",
        "colab_type": "code",
        "outputId": "8505b8d1-830d-425b-eaa7-898b2c282af8",
        "colab": {
          "base_uri": "https://localhost:8080/",
          "height": 34
        }
      },
      "source": [
        "import numpy as np\n",
        "import pandas as pd\n",
        "import tensorflow as tf\n",
        "from tensorflow.keras.models import Model\n",
        "from tensorflow.keras.layers import Input, Dense, Embedding, SpatialDropout1D, add, concatenate\n",
        "from tensorflow.keras.layers  import LSTM, Bidirectional, GlobalMaxPooling1D, GlobalAveragePooling1D\n",
        "from tensorflow.keras.preprocessing import text, sequence\n",
        "from gensim.models import KeyedVectors\n",
        "from sklearn.model_selection  import train_test_split\n",
        "import pickle\n",
        "import sklearn\n",
        "from tensorflow.keras.utils import multi_gpu_model\n",
        "from tensorflow.keras.callbacks import ModelCheckpoint\n",
        "from tensorflow.keras.callbacks import ReduceLROnPlateau\n",
        "from tensorflow.keras import backend as K\n",
        "from tensorflow.python.framework import ops\n",
        "from tensorflow.python.ops import math_ops\n",
        "from tensorflow.python.framework import smart_cond\n",
        "from functools import partial\n",
        "\n",
        "print('Tensorflow Version:',tf.__version__)"
      ],
      "execution_count": 4,
      "outputs": [
        {
          "output_type": "stream",
          "text": [
            "Tensorflow Version: 2.2.0-rc2\n"
          ],
          "name": "stdout"
        }
      ]
    },
    {
      "cell_type": "code",
      "metadata": {
        "id": "yIpXSpeYR4rx",
        "colab_type": "code",
        "colab": {}
      },
      "source": [
        "NUM_MODELS = 1\n",
        "BATCH_SIZE = 32\n",
        "LSTM_UNITS = 64\n",
        "DENSE_HIDDEN_UNITS = 4 * LSTM_UNITS\n",
        "EPOCHS = 24\n",
        "MAX_LEN = 1259\n",
        "N_CHANNELS=768\n",
        "N_CLASS=12"
      ],
      "execution_count": 0,
      "outputs": []
    },
    {
      "cell_type": "markdown",
      "metadata": {
        "id": "7lcdmN7BSHGl",
        "colab_type": "text"
      },
      "source": [
        "## Loading the dataset\n"
      ]
    },
    {
      "cell_type": "code",
      "metadata": {
        "id": "5p2_0TqoR9ef",
        "colab_type": "code",
        "colab": {}
      },
      "source": [
        "Train=pd.read_csv('data/Train_Preprocessing.csv').reset_index(drop=True)\n",
        "Valid=pd.read_csv('data/Valid_Preprocessing.csv').reset_index(drop=True)\n",
        "Test=pd.read_csv('data/Test_Preprocessing.csv').reset_index(drop=True)"
      ],
      "execution_count": 0,
      "outputs": []
    },
    {
      "cell_type": "code",
      "metadata": {
        "id": "hjliEKeAhO4e",
        "colab_type": "code",
        "colab": {}
      },
      "source": [
        "class DataGenerator(tf.keras.utils.Sequence):\n",
        "    'Generates data for Keras'\n",
        "    def __init__(self, pdDataFrame, dbName, labels=['oQ', 'RQ', 'CQ', 'FD', 'FQ', 'IR', 'PA', 'PF', 'NF', 'GG', 'JK', 'O'],\\\n",
        "                 batch_size=BATCH_SIZE, dim=MAX_LEN, n_channels=N_CHANNELS,\\\n",
        "                 n_classes=N_CLASS, shuffle=True):\n",
        "        'Initialization'\n",
        "        self.dim = dim\n",
        "        self.batch_size = batch_size\n",
        "        self.labels = labels\n",
        "        self.list_IDs = pdDataFrame\n",
        "        self.n_channels = n_channels\n",
        "        self.n_classes = n_classes\n",
        "        self.shuffle = shuffle\n",
        "        self.dbName=dbName\n",
        "        self.on_epoch_end()\n",
        "\n",
        "    def __len__(self):\n",
        "        'Denotes the number of batches per epoch'\n",
        "        return int(np.floor(len(self.list_IDs) / self.batch_size))\n",
        "\n",
        "    def __getitem__(self, index):\n",
        "        'Generate one batch of data'\n",
        "        # Generate indexes of the batch\n",
        "        indexes = self.indexes[index*self.batch_size:(index+1)*self.batch_size]\n",
        "\n",
        "        # Find list of IDs\n",
        "        list_IDs_temp = self.list_IDs.iloc[indexes,:]\n",
        "\n",
        "        # Generate data\n",
        "        X, y = self.__data_generation(list_IDs_temp.reset_index(drop=True))\n",
        "\n",
        "        return X, y\n",
        "\n",
        "    def on_epoch_end(self):\n",
        "        'Updates indexes after each epoch'\n",
        "        self.indexes = np.arange(len(self.list_IDs))\n",
        "        if self.shuffle == True:\n",
        "            np.random.shuffle(self.indexes)\n",
        "\n",
        "    def __data_generation(self, list_IDs_temp):\n",
        "        'Generates data containing batch_size samples' # X : (n_samples, *dim, n_channels)\n",
        "        # Initialization\n",
        "        X = np.zeros((self.batch_size, self.dim, self.n_channels))\n",
        "        y = np.zeros((self.batch_size,self.n_classes), dtype=int)\n",
        "\n",
        "        # Generate data\n",
        "        for i in range(len(list_IDs_temp)):\n",
        "            utterenceID=list_IDs_temp.loc[i,'id']\n",
        "            diaglogID=list_IDs_temp.loc[i,'diaglogID']\n",
        "            try:\n",
        "              temp=np.load('BERT/vector/'+self.dbName+'_'+str(utterenceID)+'_'+str(diaglogID)+'.npy')\n",
        "              X[i,0:temp.shape[0],:] =temp \n",
        "              del temp\n",
        "            except:\n",
        "              print('Faile to load the data: BERT/vector/'+self.dbName+'_'+str(utterenceID)+'_'+str(diaglogID)+'.npy')\n",
        "            # Store sample\n",
        "            # Store class\n",
        "            y[i,:] = np.array(list_IDs_temp.iloc[i,0:12])\n",
        "        Y=[]\n",
        "        for i in range(self.n_classes):\n",
        "          Y+=[y[:,i].reshape((self.batch_size,))]\n",
        "        return X, Y"
      ],
      "execution_count": 0,
      "outputs": []
    },
    {
      "cell_type": "code",
      "metadata": {
        "id": "8ijHEnaK7opB",
        "colab_type": "code",
        "colab": {}
      },
      "source": [
        "training_generator = DataGenerator(Train,'Train')\n",
        "validation_generator = DataGenerator(Valid,'Valid')"
      ],
      "execution_count": 0,
      "outputs": []
    },
    {
      "cell_type": "code",
      "metadata": {
        "id": "QbBl5lHEfSGa",
        "colab_type": "code",
        "colab": {}
      },
      "source": [
        "classWeight_Dict={}\n",
        "for i in range(N_CLASS):\n",
        "  ratioTrue=np.sum(Train.iloc[:,i])/len(Train)\n",
        "  classWeight_Dict['output'+str(i+1)]={0:1+1/((1-ratioTrue)/(ratioTrue)+1),1:1+(1-ratioTrue)/(ratioTrue)/((1-ratioTrue)/(ratioTrue)+1)}"
      ],
      "execution_count": 0,
      "outputs": []
    },
    {
      "cell_type": "code",
      "metadata": {
        "id": "r8C5_nNdl9Xy",
        "colab_type": "code",
        "colab": {}
      },
      "source": [
        "classWeight_Dict['output4'][1]+=1\n",
        "classWeight_Dict['output4'][0]+=1"
      ],
      "execution_count": 0,
      "outputs": []
    },
    {
      "cell_type": "code",
      "metadata": {
        "id": "uaoPIhG5PE0e",
        "colab_type": "code",
        "outputId": "f073ce75-06ad-48e8-e115-2444e876ba5a",
        "colab": {
          "base_uri": "https://localhost:8080/",
          "height": 218
        }
      },
      "source": [
        "classWeight_Dict"
      ],
      "execution_count": 11,
      "outputs": [
        {
          "output_type": "execute_result",
          "data": {
            "text/plain": [
              "{'output1': {0: 1.2345571818407344, 1: 1.7654428181592656},\n",
              " 'output10': {0: 1.0336144877201687, 1: 1.9663855122798313},\n",
              " 'output11': {0: 1.0100471347060282, 1: 1.9899528652939718},\n",
              " 'output12': {0: 1.0018605805011163, 1: 1.9981394194988837},\n",
              " 'output2': {0: 1.0604068469362442, 1: 1.9395931530637558},\n",
              " 'output3': {0: 1.074423220044654, 1: 1.925576779955346},\n",
              " 'output4': {0: 2.247085090548251, 1: 2.752914909451749},\n",
              " 'output5': {0: 1.0875713222525427, 1: 1.912428677747457},\n",
              " 'output6': {0: 1.1071694368643017, 1: 1.8928305631356983},\n",
              " 'output7': {0: 1.3979161498387498, 1: 1.6020838501612502},\n",
              " 'output8': {0: 1.1070453981642272, 1: 1.8929546018357728},\n",
              " 'output9': {0: 1.076779955346068, 1: 1.923220044653932}}"
            ]
          },
          "metadata": {
            "tags": []
          },
          "execution_count": 11
        }
      ]
    },
    {
      "cell_type": "markdown",
      "metadata": {
        "id": "K2mz_N6c7mEx",
        "colab_type": "text"
      },
      "source": [
        "## Build the model\n"
      ]
    },
    {
      "cell_type": "code",
      "metadata": {
        "id": "fytjcvIOnMiA",
        "colab_type": "code",
        "colab": {}
      },
      "source": [
        "def binary_crossentropy(y_true, y_pred, weights,from_logits=False,label_smoothing=0):\n",
        "\n",
        "    y_pred = ops.convert_to_tensor(y_pred)\n",
        "    y_true = math_ops.cast(y_true, y_pred.dtype)\n",
        "    label_smoothing = ops.convert_to_tensor(label_smoothing, dtype=K.floatx())\n",
        "    def _smooth_labels():\n",
        "      return y_true * (1.0 - label_smoothing) + 0.5 * label_smoothing\n",
        "    y_true = smart_cond.smart_cond(label_smoothing,_smooth_labels, lambda: y_true)\n",
        "    \n",
        "    mask0 = tf.subtract(tf.constant(1.0, dtype=K.floatx()),y_true)\n",
        "    mask0=tf.math.scalar_mul(tf.constant(weights[0], dtype=K.floatx()),mask0)\n",
        "    mask1 =tf.math.scalar_mul(tf.constant(weights[1], dtype=K.floatx()),y_true)\n",
        "    mask=tf.math.add(mask0,mask1)\n",
        "\n",
        "    return K.mean(tf.math.multiply(K.binary_crossentropy(y_true, y_pred, from_logits=from_logits),mask), axis=-1)"
      ],
      "execution_count": 0,
      "outputs": []
    },
    {
      "cell_type": "code",
      "metadata": {
        "id": "jfKQSOUM5saC",
        "colab_type": "code",
        "colab": {}
      },
      "source": [
        "def build_model():\n",
        "    inputs = Input(shape=(MAX_LEN,N_CHANNELS))\n",
        "    x = SpatialDropout1D(0.2)(inputs)\n",
        "    x = Bidirectional(LSTM(LSTM_UNITS, return_sequences=True))(x)\n",
        "    x = Bidirectional(LSTM(LSTM_UNITS, return_sequences=True))(x)\n",
        "\n",
        "    hidden = concatenate([\n",
        "        GlobalMaxPooling1D()(x),\n",
        "        GlobalAveragePooling1D()(x),\n",
        "    ])\n",
        "    hidden = add([hidden, Dense(DENSE_HIDDEN_UNITS, activation='relu')(hidden)])\n",
        "    hidden = add([hidden, Dense(DENSE_HIDDEN_UNITS, activation='relu')(hidden)])\n",
        "    RESULT=[]\n",
        "    for i in range(N_CLASS):\n",
        "      RESULT+=[Dense(1, activation='sigmoid',name='output'+str(i+1))(hidden)]\n",
        "    LOSS={}\n",
        "    for i in  range(N_CLASS):\n",
        "      LOSS['output'+str(i+1)]=partial(binary_crossentropy, weights=classWeight_Dict['output'+str(i+1)])\n",
        "      LOSS['output'+str(i+1)].__name__ = 'loss'+str(i+1)\n",
        "\n",
        "    model = Model(inputs=inputs, outputs=RESULT)\n",
        "    model.compile(loss=LOSS, optimizer='adam',metrics=[tf.keras.metrics.binary_accuracy])\n",
        "\n",
        "    return model"
      ],
      "execution_count": 0,
      "outputs": []
    },
    {
      "cell_type": "code",
      "metadata": {
        "id": "N37opYym6CCC",
        "colab_type": "code",
        "outputId": "bcd45ad7-7557-4f3e-d634-a60c4dd8cd6a",
        "colab": {
          "base_uri": "https://localhost:8080/",
          "height": 974
        }
      },
      "source": [
        "model = build_model()\n",
        "model.summary()"
      ],
      "execution_count": 17,
      "outputs": [
        {
          "output_type": "stream",
          "text": [
            "Model: \"model_1\"\n",
            "__________________________________________________________________________________________________\n",
            "Layer (type)                    Output Shape         Param #     Connected to                     \n",
            "==================================================================================================\n",
            "input_2 (InputLayer)            [(None, 1259, 768)]  0                                            \n",
            "__________________________________________________________________________________________________\n",
            "spatial_dropout1d_1 (SpatialDro (None, 1259, 768)    0           input_2[0][0]                    \n",
            "__________________________________________________________________________________________________\n",
            "bidirectional_2 (Bidirectional) (None, 1259, 128)    426496      spatial_dropout1d_1[0][0]        \n",
            "__________________________________________________________________________________________________\n",
            "bidirectional_3 (Bidirectional) (None, 1259, 128)    98816       bidirectional_2[0][0]            \n",
            "__________________________________________________________________________________________________\n",
            "global_max_pooling1d_1 (GlobalM (None, 128)          0           bidirectional_3[0][0]            \n",
            "__________________________________________________________________________________________________\n",
            "global_average_pooling1d_1 (Glo (None, 128)          0           bidirectional_3[0][0]            \n",
            "__________________________________________________________________________________________________\n",
            "concatenate_1 (Concatenate)     (None, 256)          0           global_max_pooling1d_1[0][0]     \n",
            "                                                                 global_average_pooling1d_1[0][0] \n",
            "__________________________________________________________________________________________________\n",
            "dense_2 (Dense)                 (None, 256)          65792       concatenate_1[0][0]              \n",
            "__________________________________________________________________________________________________\n",
            "add_2 (Add)                     (None, 256)          0           concatenate_1[0][0]              \n",
            "                                                                 dense_2[0][0]                    \n",
            "__________________________________________________________________________________________________\n",
            "dense_3 (Dense)                 (None, 256)          65792       add_2[0][0]                      \n",
            "__________________________________________________________________________________________________\n",
            "add_3 (Add)                     (None, 256)          0           add_2[0][0]                      \n",
            "                                                                 dense_3[0][0]                    \n",
            "__________________________________________________________________________________________________\n",
            "output1 (Dense)                 (None, 1)            257         add_3[0][0]                      \n",
            "__________________________________________________________________________________________________\n",
            "output2 (Dense)                 (None, 1)            257         add_3[0][0]                      \n",
            "__________________________________________________________________________________________________\n",
            "output3 (Dense)                 (None, 1)            257         add_3[0][0]                      \n",
            "__________________________________________________________________________________________________\n",
            "output4 (Dense)                 (None, 1)            257         add_3[0][0]                      \n",
            "__________________________________________________________________________________________________\n",
            "output5 (Dense)                 (None, 1)            257         add_3[0][0]                      \n",
            "__________________________________________________________________________________________________\n",
            "output6 (Dense)                 (None, 1)            257         add_3[0][0]                      \n",
            "__________________________________________________________________________________________________\n",
            "output7 (Dense)                 (None, 1)            257         add_3[0][0]                      \n",
            "__________________________________________________________________________________________________\n",
            "output8 (Dense)                 (None, 1)            257         add_3[0][0]                      \n",
            "__________________________________________________________________________________________________\n",
            "output9 (Dense)                 (None, 1)            257         add_3[0][0]                      \n",
            "__________________________________________________________________________________________________\n",
            "output10 (Dense)                (None, 1)            257         add_3[0][0]                      \n",
            "__________________________________________________________________________________________________\n",
            "output11 (Dense)                (None, 1)            257         add_3[0][0]                      \n",
            "__________________________________________________________________________________________________\n",
            "output12 (Dense)                (None, 1)            257         add_3[0][0]                      \n",
            "==================================================================================================\n",
            "Total params: 659,980\n",
            "Trainable params: 659,980\n",
            "Non-trainable params: 0\n",
            "__________________________________________________________________________________________________\n"
          ],
          "name": "stdout"
        }
      ]
    },
    {
      "cell_type": "code",
      "metadata": {
        "id": "8sb5GQmKeI_B",
        "colab_type": "code",
        "colab": {}
      },
      "source": [
        "callback=ReduceLROnPlateau(patience=1,min_lr=0.0001)\n",
        "Name='BERT/LSTM_addPenalty_64.h5'\n",
        "checkpointer = ModelCheckpoint(filepath=Name, verbose=1, save_best_only=True)"
      ],
      "execution_count": 0,
      "outputs": []
    },
    {
      "cell_type": "code",
      "metadata": {
        "id": "4To3UbV67kft",
        "colab_type": "code",
        "outputId": "effbb37d-af3e-4878-c0a8-e5ac52da3158",
        "colab": {
          "base_uri": "https://localhost:8080/",
          "height": 1000
        }
      },
      "source": [
        "model.fit_generator(\n",
        "    generator=training_generator,\n",
        "    validation_data=validation_generator,\n",
        "    epochs=EPOCHS,\n",
        "    verbose=1,\n",
        "    callbacks=[checkpointer,callback])"
      ],
      "execution_count": 0,
      "outputs": [
        {
          "output_type": "stream",
          "text": [
            "WARNING:tensorflow:From <ipython-input-19-d8713d19c50f>:6: Model.fit_generator (from tensorflow.python.keras.engine.training) is deprecated and will be removed in a future version.\n",
            "Instructions for updating:\n",
            "Please use Model.fit, which supports generators.\n",
            "Faile to load the data: BERT/vector/Train_191516_20324.npy\n",
            "Epoch 1/24\n",
            "251/251 [==============================] - ETA: 0s - loss: 5.1928 - output1_loss: 0.5226 - output2_loss: 0.3363 - output3_loss: 0.4234 - output4_loss: 1.3469 - output5_loss: 0.4524 - output6_loss: 0.4756 - output7_loss: 0.5649 - output8_loss: 0.4033 - output9_loss: 0.3940 - output10_loss: 0.1494 - output11_loss: 0.0902 - output12_loss: 0.0337 - output1_binary_accuracy: 0.8369 - output2_binary_accuracy: 0.9384 - output3_binary_accuracy: 0.9258 - output4_binary_accuracy: 0.7536 - output5_binary_accuracy: 0.9126 - output6_binary_accuracy: 0.8873 - output7_binary_accuracy: 0.8368 - output8_binary_accuracy: 0.8953 - output9_binary_accuracy: 0.9196 - output10_binary_accuracy: 0.9617 - output11_binary_accuracy: 0.9867 - output12_binary_accuracy: 0.9933 \n",
            "Epoch 00001: val_loss improved from inf to 4.10511, saving model to BERT/LSTM_addPenalty_64.h5\n",
            "251/251 [==============================] - 4517s 18s/step - loss: 5.1928 - output1_loss: 0.5226 - output2_loss: 0.3363 - output3_loss: 0.4234 - output4_loss: 1.3469 - output5_loss: 0.4524 - output6_loss: 0.4756 - output7_loss: 0.5649 - output8_loss: 0.4033 - output9_loss: 0.3940 - output10_loss: 0.1494 - output11_loss: 0.0902 - output12_loss: 0.0337 - output1_binary_accuracy: 0.8369 - output2_binary_accuracy: 0.9384 - output3_binary_accuracy: 0.9258 - output4_binary_accuracy: 0.7536 - output5_binary_accuracy: 0.9126 - output6_binary_accuracy: 0.8873 - output7_binary_accuracy: 0.8368 - output8_binary_accuracy: 0.8953 - output9_binary_accuracy: 0.9196 - output10_binary_accuracy: 0.9617 - output11_binary_accuracy: 0.9867 - output12_binary_accuracy: 0.9933 - val_loss: 4.1051 - val_output1_loss: 0.3171 - val_output2_loss: 0.2914 - val_output3_loss: 0.3599 - val_output4_loss: 1.2121 - val_output5_loss: 0.3688 - val_output6_loss: 0.3700 - val_output7_loss: 0.4313 - val_output8_loss: 0.2702 - val_output9_loss: 0.2991 - val_output10_loss: 0.1182 - val_output11_loss: 0.0518 - val_output12_loss: 0.0152 - val_output1_binary_accuracy: 0.9248 - val_output2_binary_accuracy: 0.9385 - val_output3_binary_accuracy: 0.9268 - val_output4_binary_accuracy: 0.7861 - val_output5_binary_accuracy: 0.9170 - val_output6_binary_accuracy: 0.9092 - val_output7_binary_accuracy: 0.8916 - val_output8_binary_accuracy: 0.9141 - val_output9_binary_accuracy: 0.9326 - val_output10_binary_accuracy: 0.9648 - val_output11_binary_accuracy: 0.9932 - val_output12_binary_accuracy: 1.0000 - lr: 0.0010\n",
            "Epoch 2/24\n",
            "251/251 [==============================] - ETA: 0s - loss: 4.2212 - output1_loss: 0.3325 - output2_loss: 0.3009 - output3_loss: 0.3632 - output4_loss: 1.2142 - output5_loss: 0.3694 - output6_loss: 0.3626 - output7_loss: 0.4321 - output8_loss: 0.3177 - output9_loss: 0.3373 - output10_loss: 0.0986 - output11_loss: 0.0715 - output12_loss: 0.0210 - output1_binary_accuracy: 0.9049 - output2_binary_accuracy: 0.9382 - output3_binary_accuracy: 0.9193 - output4_binary_accuracy: 0.7811 - output5_binary_accuracy: 0.9132 - output6_binary_accuracy: 0.9147 - output7_binary_accuracy: 0.8858 - output8_binary_accuracy: 0.9105 - output9_binary_accuracy: 0.9158 - output10_binary_accuracy: 0.9712 - output11_binary_accuracy: 0.9899 - output12_binary_accuracy: 0.9983\n",
            "Epoch 00002: val_loss improved from 4.10511 to 3.93768, saving model to BERT/LSTM_addPenalty_64.h5\n",
            "251/251 [==============================] - 168s 669ms/step - loss: 4.2212 - output1_loss: 0.3325 - output2_loss: 0.3009 - output3_loss: 0.3632 - output4_loss: 1.2142 - output5_loss: 0.3694 - output6_loss: 0.3626 - output7_loss: 0.4321 - output8_loss: 0.3177 - output9_loss: 0.3373 - output10_loss: 0.0986 - output11_loss: 0.0715 - output12_loss: 0.0210 - output1_binary_accuracy: 0.9049 - output2_binary_accuracy: 0.9382 - output3_binary_accuracy: 0.9193 - output4_binary_accuracy: 0.7811 - output5_binary_accuracy: 0.9132 - output6_binary_accuracy: 0.9147 - output7_binary_accuracy: 0.8858 - output8_binary_accuracy: 0.9105 - output9_binary_accuracy: 0.9158 - output10_binary_accuracy: 0.9712 - output11_binary_accuracy: 0.9899 - output12_binary_accuracy: 0.9983 - val_loss: 3.9377 - val_output1_loss: 0.2964 - val_output2_loss: 0.2683 - val_output3_loss: 0.3437 - val_output4_loss: 1.2044 - val_output5_loss: 0.3599 - val_output6_loss: 0.3616 - val_output7_loss: 0.3971 - val_output8_loss: 0.2497 - val_output9_loss: 0.2948 - val_output10_loss: 0.1121 - val_output11_loss: 0.0470 - val_output12_loss: 0.0026 - val_output1_binary_accuracy: 0.9102 - val_output2_binary_accuracy: 0.9375 - val_output3_binary_accuracy: 0.9229 - val_output4_binary_accuracy: 0.7891 - val_output5_binary_accuracy: 0.9209 - val_output6_binary_accuracy: 0.9189 - val_output7_binary_accuracy: 0.8926 - val_output8_binary_accuracy: 0.9346 - val_output9_binary_accuracy: 0.9238 - val_output10_binary_accuracy: 0.9688 - val_output11_binary_accuracy: 0.9932 - val_output12_binary_accuracy: 1.0000 - lr: 0.0010\n",
            "Epoch 3/24\n",
            "251/251 [==============================] - ETA: 0s - loss: 3.9402 - output1_loss: 0.2792 - output2_loss: 0.2815 - output3_loss: 0.3415 - output4_loss: 1.1752 - output5_loss: 0.3462 - output6_loss: 0.3328 - output7_loss: 0.3954 - output8_loss: 0.2954 - output9_loss: 0.3225 - output10_loss: 0.0853 - output11_loss: 0.0643 - output12_loss: 0.0208 - output1_binary_accuracy: 0.9226 - output2_binary_accuracy: 0.9371 - output3_binary_accuracy: 0.9162 - output4_binary_accuracy: 0.7915 - output5_binary_accuracy: 0.9109 - output6_binary_accuracy: 0.9198 - output7_binary_accuracy: 0.8985 - output8_binary_accuracy: 0.9207 - output9_binary_accuracy: 0.9131 - output10_binary_accuracy: 0.9747 - output11_binary_accuracy: 0.9899 - output12_binary_accuracy: 0.9981\n",
            "Epoch 00003: val_loss improved from 3.93768 to 3.73463, saving model to BERT/LSTM_addPenalty_64.h5\n",
            "251/251 [==============================] - 165s 656ms/step - loss: 3.9402 - output1_loss: 0.2792 - output2_loss: 0.2815 - output3_loss: 0.3415 - output4_loss: 1.1752 - output5_loss: 0.3462 - output6_loss: 0.3328 - output7_loss: 0.3954 - output8_loss: 0.2954 - output9_loss: 0.3225 - output10_loss: 0.0853 - output11_loss: 0.0643 - output12_loss: 0.0208 - output1_binary_accuracy: 0.9226 - output2_binary_accuracy: 0.9371 - output3_binary_accuracy: 0.9162 - output4_binary_accuracy: 0.7915 - output5_binary_accuracy: 0.9109 - output6_binary_accuracy: 0.9198 - output7_binary_accuracy: 0.8985 - output8_binary_accuracy: 0.9207 - output9_binary_accuracy: 0.9131 - output10_binary_accuracy: 0.9747 - output11_binary_accuracy: 0.9899 - output12_binary_accuracy: 0.9981 - val_loss: 3.7346 - val_output1_loss: 0.2486 - val_output2_loss: 0.2923 - val_output3_loss: 0.3333 - val_output4_loss: 1.1517 - val_output5_loss: 0.3520 - val_output6_loss: 0.3108 - val_output7_loss: 0.3755 - val_output8_loss: 0.2657 - val_output9_loss: 0.2670 - val_output10_loss: 0.0912 - val_output11_loss: 0.0422 - val_output12_loss: 0.0045 - val_output1_binary_accuracy: 0.9365 - val_output2_binary_accuracy: 0.9375 - val_output3_binary_accuracy: 0.9277 - val_output4_binary_accuracy: 0.7949 - val_output5_binary_accuracy: 0.9219 - val_output6_binary_accuracy: 0.9355 - val_output7_binary_accuracy: 0.9014 - val_output8_binary_accuracy: 0.9102 - val_output9_binary_accuracy: 0.9277 - val_output10_binary_accuracy: 0.9717 - val_output11_binary_accuracy: 0.9932 - val_output12_binary_accuracy: 1.0000 - lr: 0.0010\n",
            "Epoch 4/24\n",
            "251/251 [==============================] - ETA: 0s - loss: 3.7399 - output1_loss: 0.2583 - output2_loss: 0.2614 - output3_loss: 0.3243 - output4_loss: 1.1379 - output5_loss: 0.3354 - output6_loss: 0.3109 - output7_loss: 0.3666 - output8_loss: 0.2798 - output9_loss: 0.3072 - output10_loss: 0.0792 - output11_loss: 0.0600 - output12_loss: 0.0189 - output1_binary_accuracy: 0.9300 - output2_binary_accuracy: 0.9401 - output3_binary_accuracy: 0.9175 - output4_binary_accuracy: 0.8004 - output5_binary_accuracy: 0.9137 - output6_binary_accuracy: 0.9268 - output7_binary_accuracy: 0.9074 - output8_binary_accuracy: 0.9224 - output9_binary_accuracy: 0.9167 - output10_binary_accuracy: 0.9775 - output11_binary_accuracy: 0.9910 - output12_binary_accuracy: 0.9981\n",
            "Epoch 00004: val_loss improved from 3.73463 to 3.71126, saving model to BERT/LSTM_addPenalty_64.h5\n",
            "251/251 [==============================] - 161s 642ms/step - loss: 3.7399 - output1_loss: 0.2583 - output2_loss: 0.2614 - output3_loss: 0.3243 - output4_loss: 1.1379 - output5_loss: 0.3354 - output6_loss: 0.3109 - output7_loss: 0.3666 - output8_loss: 0.2798 - output9_loss: 0.3072 - output10_loss: 0.0792 - output11_loss: 0.0600 - output12_loss: 0.0189 - output1_binary_accuracy: 0.9300 - output2_binary_accuracy: 0.9401 - output3_binary_accuracy: 0.9175 - output4_binary_accuracy: 0.8004 - output5_binary_accuracy: 0.9137 - output6_binary_accuracy: 0.9268 - output7_binary_accuracy: 0.9074 - output8_binary_accuracy: 0.9224 - output9_binary_accuracy: 0.9167 - output10_binary_accuracy: 0.9775 - output11_binary_accuracy: 0.9910 - output12_binary_accuracy: 0.9981 - val_loss: 3.7113 - val_output1_loss: 0.2806 - val_output2_loss: 0.2613 - val_output3_loss: 0.3137 - val_output4_loss: 1.1974 - val_output5_loss: 0.3453 - val_output6_loss: 0.2955 - val_output7_loss: 0.3812 - val_output8_loss: 0.2403 - val_output9_loss: 0.2688 - val_output10_loss: 0.0863 - val_output11_loss: 0.0374 - val_output12_loss: 0.0034 - val_output1_binary_accuracy: 0.9189 - val_output2_binary_accuracy: 0.9463 - val_output3_binary_accuracy: 0.9180 - val_output4_binary_accuracy: 0.7744 - val_output5_binary_accuracy: 0.9268 - val_output6_binary_accuracy: 0.9336 - val_output7_binary_accuracy: 0.9062 - val_output8_binary_accuracy: 0.9316 - val_output9_binary_accuracy: 0.9248 - val_output10_binary_accuracy: 0.9756 - val_output11_binary_accuracy: 0.9961 - val_output12_binary_accuracy: 1.0000 - lr: 0.0010\n",
            "Epoch 5/24\n",
            "251/251 [==============================] - ETA: 0s - loss: 3.5416 - output1_loss: 0.2234 - output2_loss: 0.2457 - output3_loss: 0.3165 - output4_loss: 1.0889 - output5_loss: 0.3194 - output6_loss: 0.3012 - output7_loss: 0.3347 - output8_loss: 0.2679 - output9_loss: 0.2950 - output10_loss: 0.0758 - output11_loss: 0.0548 - output12_loss: 0.0181 - output1_binary_accuracy: 0.9440 - output2_binary_accuracy: 0.9441 - output3_binary_accuracy: 0.9131 - output4_binary_accuracy: 0.8116 - output5_binary_accuracy: 0.9183 - output6_binary_accuracy: 0.9282 - output7_binary_accuracy: 0.9163 - output8_binary_accuracy: 0.9252 - output9_binary_accuracy: 0.9219 - output10_binary_accuracy: 0.9763 - output11_binary_accuracy: 0.9912 - output12_binary_accuracy: 0.9981\n",
            "Epoch 00005: val_loss improved from 3.71126 to 3.58325, saving model to BERT/LSTM_addPenalty_64.h5\n",
            "251/251 [==============================] - 161s 642ms/step - loss: 3.5416 - output1_loss: 0.2234 - output2_loss: 0.2457 - output3_loss: 0.3165 - output4_loss: 1.0889 - output5_loss: 0.3194 - output6_loss: 0.3012 - output7_loss: 0.3347 - output8_loss: 0.2679 - output9_loss: 0.2950 - output10_loss: 0.0758 - output11_loss: 0.0548 - output12_loss: 0.0181 - output1_binary_accuracy: 0.9440 - output2_binary_accuracy: 0.9441 - output3_binary_accuracy: 0.9131 - output4_binary_accuracy: 0.8116 - output5_binary_accuracy: 0.9183 - output6_binary_accuracy: 0.9282 - output7_binary_accuracy: 0.9163 - output8_binary_accuracy: 0.9252 - output9_binary_accuracy: 0.9219 - output10_binary_accuracy: 0.9763 - output11_binary_accuracy: 0.9912 - output12_binary_accuracy: 0.9981 - val_loss: 3.5833 - val_output1_loss: 0.2312 - val_output2_loss: 0.2530 - val_output3_loss: 0.3251 - val_output4_loss: 1.1325 - val_output5_loss: 0.3341 - val_output6_loss: 0.3024 - val_output7_loss: 0.3742 - val_output8_loss: 0.2356 - val_output9_loss: 0.2631 - val_output10_loss: 0.0904 - val_output11_loss: 0.0391 - val_output12_loss: 0.0026 - val_output1_binary_accuracy: 0.9326 - val_output2_binary_accuracy: 0.9434 - val_output3_binary_accuracy: 0.9150 - val_output4_binary_accuracy: 0.8057 - val_output5_binary_accuracy: 0.9258 - val_output6_binary_accuracy: 0.9336 - val_output7_binary_accuracy: 0.9014 - val_output8_binary_accuracy: 0.9316 - val_output9_binary_accuracy: 0.9346 - val_output10_binary_accuracy: 0.9746 - val_output11_binary_accuracy: 0.9951 - val_output12_binary_accuracy: 1.0000 - lr: 0.0010\n",
            "Epoch 6/24\n",
            "251/251 [==============================] - ETA: 0s - loss: 3.3515 - output1_loss: 0.1953 - output2_loss: 0.2311 - output3_loss: 0.3061 - output4_loss: 1.0424 - output5_loss: 0.3089 - output6_loss: 0.2930 - output7_loss: 0.3170 - output8_loss: 0.2547 - output9_loss: 0.2677 - output10_loss: 0.0678 - output11_loss: 0.0504 - output12_loss: 0.0169 - output1_binary_accuracy: 0.9518 - output2_binary_accuracy: 0.9468 - output3_binary_accuracy: 0.9199 - output4_binary_accuracy: 0.8218 - output5_binary_accuracy: 0.9212 - output6_binary_accuracy: 0.9314 - output7_binary_accuracy: 0.9203 - output8_binary_accuracy: 0.9319 - output9_binary_accuracy: 0.9247 - output10_binary_accuracy: 0.9798 - output11_binary_accuracy: 0.9923 - output12_binary_accuracy: 0.9981\n",
            "Epoch 00006: val_loss did not improve from 3.58325\n",
            "251/251 [==============================] - 161s 643ms/step - loss: 3.3515 - output1_loss: 0.1953 - output2_loss: 0.2311 - output3_loss: 0.3061 - output4_loss: 1.0424 - output5_loss: 0.3089 - output6_loss: 0.2930 - output7_loss: 0.3170 - output8_loss: 0.2547 - output9_loss: 0.2677 - output10_loss: 0.0678 - output11_loss: 0.0504 - output12_loss: 0.0169 - output1_binary_accuracy: 0.9518 - output2_binary_accuracy: 0.9468 - output3_binary_accuracy: 0.9199 - output4_binary_accuracy: 0.8218 - output5_binary_accuracy: 0.9212 - output6_binary_accuracy: 0.9314 - output7_binary_accuracy: 0.9203 - output8_binary_accuracy: 0.9319 - output9_binary_accuracy: 0.9247 - output10_binary_accuracy: 0.9798 - output11_binary_accuracy: 0.9923 - output12_binary_accuracy: 0.9981 - val_loss: 3.7253 - val_output1_loss: 0.2663 - val_output2_loss: 0.2675 - val_output3_loss: 0.3435 - val_output4_loss: 1.1890 - val_output5_loss: 0.3571 - val_output6_loss: 0.2994 - val_output7_loss: 0.3975 - val_output8_loss: 0.2240 - val_output9_loss: 0.2573 - val_output10_loss: 0.0772 - val_output11_loss: 0.0437 - val_output12_loss: 0.0025 - val_output1_binary_accuracy: 0.9297 - val_output2_binary_accuracy: 0.9453 - val_output3_binary_accuracy: 0.9258 - val_output4_binary_accuracy: 0.7969 - val_output5_binary_accuracy: 0.9229 - val_output6_binary_accuracy: 0.9385 - val_output7_binary_accuracy: 0.9053 - val_output8_binary_accuracy: 0.9395 - val_output9_binary_accuracy: 0.9199 - val_output10_binary_accuracy: 0.9727 - val_output11_binary_accuracy: 0.9961 - val_output12_binary_accuracy: 1.0000 - lr: 0.0010\n",
            "Epoch 7/24\n",
            "251/251 [==============================] - ETA: 0s - loss: 2.9721 - output1_loss: 0.1514 - output2_loss: 0.2071 - output3_loss: 0.2836 - output4_loss: 0.9431 - output5_loss: 0.2789 - output6_loss: 0.2628 - output7_loss: 0.2757 - output8_loss: 0.2202 - output9_loss: 0.2338 - output10_loss: 0.0581 - output11_loss: 0.0410 - output12_loss: 0.0163 - output1_binary_accuracy: 0.9644 - output2_binary_accuracy: 0.9517 - output3_binary_accuracy: 0.9257 - output4_binary_accuracy: 0.8442 - output5_binary_accuracy: 0.9299 - output6_binary_accuracy: 0.9396 - output7_binary_accuracy: 0.9336 - output8_binary_accuracy: 0.9421 - output9_binary_accuracy: 0.9336 - output10_binary_accuracy: 0.9807 - output11_binary_accuracy: 0.9929 - output12_binary_accuracy: 0.9981\n",
            "Epoch 00007: val_loss improved from 3.58325 to 3.55069, saving model to BERT/LSTM_addPenalty_64.h5\n",
            "251/251 [==============================] - 163s 650ms/step - loss: 2.9721 - output1_loss: 0.1514 - output2_loss: 0.2071 - output3_loss: 0.2836 - output4_loss: 0.9431 - output5_loss: 0.2789 - output6_loss: 0.2628 - output7_loss: 0.2757 - output8_loss: 0.2202 - output9_loss: 0.2338 - output10_loss: 0.0581 - output11_loss: 0.0410 - output12_loss: 0.0163 - output1_binary_accuracy: 0.9644 - output2_binary_accuracy: 0.9517 - output3_binary_accuracy: 0.9257 - output4_binary_accuracy: 0.8442 - output5_binary_accuracy: 0.9299 - output6_binary_accuracy: 0.9396 - output7_binary_accuracy: 0.9336 - output8_binary_accuracy: 0.9421 - output9_binary_accuracy: 0.9336 - output10_binary_accuracy: 0.9807 - output11_binary_accuracy: 0.9929 - output12_binary_accuracy: 0.9981 - val_loss: 3.5507 - val_output1_loss: 0.2458 - val_output2_loss: 0.2386 - val_output3_loss: 0.3246 - val_output4_loss: 1.1536 - val_output5_loss: 0.3362 - val_output6_loss: 0.2836 - val_output7_loss: 0.3496 - val_output8_loss: 0.2377 - val_output9_loss: 0.2594 - val_output10_loss: 0.0798 - val_output11_loss: 0.0398 - val_output12_loss: 0.0020 - val_output1_binary_accuracy: 0.9326 - val_output2_binary_accuracy: 0.9375 - val_output3_binary_accuracy: 0.9209 - val_output4_binary_accuracy: 0.7969 - val_output5_binary_accuracy: 0.9102 - val_output6_binary_accuracy: 0.9414 - val_output7_binary_accuracy: 0.9180 - val_output8_binary_accuracy: 0.9268 - val_output9_binary_accuracy: 0.9258 - val_output10_binary_accuracy: 0.9775 - val_output11_binary_accuracy: 0.9951 - val_output12_binary_accuracy: 1.0000 - lr: 1.0000e-04\n",
            "Epoch 8/24\n",
            "251/251 [==============================] - ETA: 0s - loss: 2.8597 - output1_loss: 0.1373 - output2_loss: 0.2001 - output3_loss: 0.2757 - output4_loss: 0.9119 - output5_loss: 0.2703 - output6_loss: 0.2589 - output7_loss: 0.2614 - output8_loss: 0.2134 - output9_loss: 0.2253 - output10_loss: 0.0527 - output11_loss: 0.0377 - output12_loss: 0.0151 - output1_binary_accuracy: 0.9692 - output2_binary_accuracy: 0.9537 - output3_binary_accuracy: 0.9228 - output4_binary_accuracy: 0.8516 - output5_binary_accuracy: 0.9290 - output6_binary_accuracy: 0.9385 - output7_binary_accuracy: 0.9361 - output8_binary_accuracy: 0.9457 - output9_binary_accuracy: 0.9369 - output10_binary_accuracy: 0.9834 - output11_binary_accuracy: 0.9929 - output12_binary_accuracy: 0.9981\n",
            "Epoch 00008: val_loss did not improve from 3.55069\n",
            "251/251 [==============================] - 162s 646ms/step - loss: 2.8597 - output1_loss: 0.1373 - output2_loss: 0.2001 - output3_loss: 0.2757 - output4_loss: 0.9119 - output5_loss: 0.2703 - output6_loss: 0.2589 - output7_loss: 0.2614 - output8_loss: 0.2134 - output9_loss: 0.2253 - output10_loss: 0.0527 - output11_loss: 0.0377 - output12_loss: 0.0151 - output1_binary_accuracy: 0.9692 - output2_binary_accuracy: 0.9537 - output3_binary_accuracy: 0.9228 - output4_binary_accuracy: 0.8516 - output5_binary_accuracy: 0.9290 - output6_binary_accuracy: 0.9385 - output7_binary_accuracy: 0.9361 - output8_binary_accuracy: 0.9457 - output9_binary_accuracy: 0.9369 - output10_binary_accuracy: 0.9834 - output11_binary_accuracy: 0.9929 - output12_binary_accuracy: 0.9981 - val_loss: 3.5519 - val_output1_loss: 0.2428 - val_output2_loss: 0.2422 - val_output3_loss: 0.3269 - val_output4_loss: 1.1523 - val_output5_loss: 0.3424 - val_output6_loss: 0.2824 - val_output7_loss: 0.3518 - val_output8_loss: 0.2354 - val_output9_loss: 0.2546 - val_output10_loss: 0.0791 - val_output11_loss: 0.0395 - val_output12_loss: 0.0025 - val_output1_binary_accuracy: 0.9375 - val_output2_binary_accuracy: 0.9385 - val_output3_binary_accuracy: 0.9180 - val_output4_binary_accuracy: 0.8018 - val_output5_binary_accuracy: 0.9111 - val_output6_binary_accuracy: 0.9385 - val_output7_binary_accuracy: 0.9170 - val_output8_binary_accuracy: 0.9316 - val_output9_binary_accuracy: 0.9238 - val_output10_binary_accuracy: 0.9785 - val_output11_binary_accuracy: 0.9941 - val_output12_binary_accuracy: 1.0000 - lr: 1.0000e-04\n",
            "Epoch 9/24\n",
            "251/251 [==============================] - ETA: 0s - loss: 2.7781 - output1_loss: 0.1268 - output2_loss: 0.1941 - output3_loss: 0.2720 - output4_loss: 0.8864 - output5_loss: 0.2629 - output6_loss: 0.2528 - output7_loss: 0.2512 - output8_loss: 0.2082 - output9_loss: 0.2194 - output10_loss: 0.0517 - output11_loss: 0.0376 - output12_loss: 0.0151 - output1_binary_accuracy: 0.9709 - output2_binary_accuracy: 0.9544 - output3_binary_accuracy: 0.9233 - output4_binary_accuracy: 0.8533 - output5_binary_accuracy: 0.9319 - output6_binary_accuracy: 0.9405 - output7_binary_accuracy: 0.9385 - output8_binary_accuracy: 0.9455 - output9_binary_accuracy: 0.9360 - output10_binary_accuracy: 0.9842 - output11_binary_accuracy: 0.9940 - output12_binary_accuracy: 0.9981\n",
            "Epoch 00009: val_loss did not improve from 3.55069\n",
            "251/251 [==============================] - 161s 640ms/step - loss: 2.7781 - output1_loss: 0.1268 - output2_loss: 0.1941 - output3_loss: 0.2720 - output4_loss: 0.8864 - output5_loss: 0.2629 - output6_loss: 0.2528 - output7_loss: 0.2512 - output8_loss: 0.2082 - output9_loss: 0.2194 - output10_loss: 0.0517 - output11_loss: 0.0376 - output12_loss: 0.0151 - output1_binary_accuracy: 0.9709 - output2_binary_accuracy: 0.9544 - output3_binary_accuracy: 0.9233 - output4_binary_accuracy: 0.8533 - output5_binary_accuracy: 0.9319 - output6_binary_accuracy: 0.9405 - output7_binary_accuracy: 0.9385 - output8_binary_accuracy: 0.9455 - output9_binary_accuracy: 0.9360 - output10_binary_accuracy: 0.9842 - output11_binary_accuracy: 0.9940 - output12_binary_accuracy: 0.9981 - val_loss: 3.5542 - val_output1_loss: 0.2438 - val_output2_loss: 0.2449 - val_output3_loss: 0.3277 - val_output4_loss: 1.1440 - val_output5_loss: 0.3433 - val_output6_loss: 0.2815 - val_output7_loss: 0.3537 - val_output8_loss: 0.2402 - val_output9_loss: 0.2541 - val_output10_loss: 0.0785 - val_output11_loss: 0.0400 - val_output12_loss: 0.0026 - val_output1_binary_accuracy: 0.9365 - val_output2_binary_accuracy: 0.9385 - val_output3_binary_accuracy: 0.9189 - val_output4_binary_accuracy: 0.8057 - val_output5_binary_accuracy: 0.9121 - val_output6_binary_accuracy: 0.9404 - val_output7_binary_accuracy: 0.9160 - val_output8_binary_accuracy: 0.9307 - val_output9_binary_accuracy: 0.9268 - val_output10_binary_accuracy: 0.9785 - val_output11_binary_accuracy: 0.9941 - val_output12_binary_accuracy: 1.0000 - lr: 1.0000e-05\n",
            "Epoch 10/24\n",
            "251/251 [==============================] - ETA: 0s - loss: 2.7744 - output1_loss: 0.1306 - output2_loss: 0.1936 - output3_loss: 0.2713 - output4_loss: 0.8905 - output5_loss: 0.2616 - output6_loss: 0.2523 - output7_loss: 0.2517 - output8_loss: 0.2043 - output9_loss: 0.2179 - output10_loss: 0.0504 - output11_loss: 0.0356 - output12_loss: 0.0145 - output1_binary_accuracy: 0.9688 - output2_binary_accuracy: 0.9551 - output3_binary_accuracy: 0.9257 - output4_binary_accuracy: 0.8526 - output5_binary_accuracy: 0.9315 - output6_binary_accuracy: 0.9400 - output7_binary_accuracy: 0.9382 - output8_binary_accuracy: 0.9462 - output9_binary_accuracy: 0.9377 - output10_binary_accuracy: 0.9848 - output11_binary_accuracy: 0.9938 - output12_binary_accuracy: 0.9981\n",
            "Epoch 00010: val_loss did not improve from 3.55069\n",
            "251/251 [==============================] - 160s 639ms/step - loss: 2.7744 - output1_loss: 0.1306 - output2_loss: 0.1936 - output3_loss: 0.2713 - output4_loss: 0.8905 - output5_loss: 0.2616 - output6_loss: 0.2523 - output7_loss: 0.2517 - output8_loss: 0.2043 - output9_loss: 0.2179 - output10_loss: 0.0504 - output11_loss: 0.0356 - output12_loss: 0.0145 - output1_binary_accuracy: 0.9688 - output2_binary_accuracy: 0.9551 - output3_binary_accuracy: 0.9257 - output4_binary_accuracy: 0.8526 - output5_binary_accuracy: 0.9315 - output6_binary_accuracy: 0.9400 - output7_binary_accuracy: 0.9382 - output8_binary_accuracy: 0.9462 - output9_binary_accuracy: 0.9377 - output10_binary_accuracy: 0.9848 - output11_binary_accuracy: 0.9938 - output12_binary_accuracy: 0.9981 - val_loss: 3.5626 - val_output1_loss: 0.2473 - val_output2_loss: 0.2456 - val_output3_loss: 0.3278 - val_output4_loss: 1.1531 - val_output5_loss: 0.3432 - val_output6_loss: 0.2734 - val_output7_loss: 0.3558 - val_output8_loss: 0.2406 - val_output9_loss: 0.2549 - val_output10_loss: 0.0783 - val_output11_loss: 0.0400 - val_output12_loss: 0.0026 - val_output1_binary_accuracy: 0.9355 - val_output2_binary_accuracy: 0.9385 - val_output3_binary_accuracy: 0.9189 - val_output4_binary_accuracy: 0.8057 - val_output5_binary_accuracy: 0.9121 - val_output6_binary_accuracy: 0.9424 - val_output7_binary_accuracy: 0.9150 - val_output8_binary_accuracy: 0.9307 - val_output9_binary_accuracy: 0.9258 - val_output10_binary_accuracy: 0.9785 - val_output11_binary_accuracy: 0.9941 - val_output12_binary_accuracy: 1.0000 - lr: 1.0000e-06\n",
            "Epoch 11/24\n",
            "251/251 [==============================] - ETA: 0s - loss: 2.7654 - output1_loss: 0.1276 - output2_loss: 0.1909 - output3_loss: 0.2744 - output4_loss: 0.8788 - output5_loss: 0.2645 - output6_loss: 0.2512 - output7_loss: 0.2488 - output8_loss: 0.2064 - output9_loss: 0.2207 - output10_loss: 0.0515 - output11_loss: 0.0364 - output12_loss: 0.0143 - output1_binary_accuracy: 0.9694 - output2_binary_accuracy: 0.9562 - output3_binary_accuracy: 0.9247 - output4_binary_accuracy: 0.8537 - output5_binary_accuracy: 0.9302 - output6_binary_accuracy: 0.9427 - output7_binary_accuracy: 0.9402 - output8_binary_accuracy: 0.9470 - output9_binary_accuracy: 0.9376 - output10_binary_accuracy: 0.9834 - output11_binary_accuracy: 0.9935 - output12_binary_accuracy: 0.9981\n",
            "Epoch 00011: val_loss did not improve from 3.55069\n",
            "251/251 [==============================] - 161s 642ms/step - loss: 2.7654 - output1_loss: 0.1276 - output2_loss: 0.1909 - output3_loss: 0.2744 - output4_loss: 0.8788 - output5_loss: 0.2645 - output6_loss: 0.2512 - output7_loss: 0.2488 - output8_loss: 0.2064 - output9_loss: 0.2207 - output10_loss: 0.0515 - output11_loss: 0.0364 - output12_loss: 0.0143 - output1_binary_accuracy: 0.9694 - output2_binary_accuracy: 0.9562 - output3_binary_accuracy: 0.9247 - output4_binary_accuracy: 0.8537 - output5_binary_accuracy: 0.9302 - output6_binary_accuracy: 0.9427 - output7_binary_accuracy: 0.9402 - output8_binary_accuracy: 0.9470 - output9_binary_accuracy: 0.9376 - output10_binary_accuracy: 0.9834 - output11_binary_accuracy: 0.9935 - output12_binary_accuracy: 0.9981 - val_loss: 3.5558 - val_output1_loss: 0.2474 - val_output2_loss: 0.2445 - val_output3_loss: 0.3233 - val_output4_loss: 1.1496 - val_output5_loss: 0.3409 - val_output6_loss: 0.2822 - val_output7_loss: 0.3550 - val_output8_loss: 0.2404 - val_output9_loss: 0.2518 - val_output10_loss: 0.0782 - val_output11_loss: 0.0399 - val_output12_loss: 0.0025 - val_output1_binary_accuracy: 0.9365 - val_output2_binary_accuracy: 0.9375 - val_output3_binary_accuracy: 0.9209 - val_output4_binary_accuracy: 0.8057 - val_output5_binary_accuracy: 0.9131 - val_output6_binary_accuracy: 0.9385 - val_output7_binary_accuracy: 0.9150 - val_output8_binary_accuracy: 0.9307 - val_output9_binary_accuracy: 0.9287 - val_output10_binary_accuracy: 0.9785 - val_output11_binary_accuracy: 0.9941 - val_output12_binary_accuracy: 1.0000 - lr: 1.0000e-06\n",
            "Epoch 12/24\n",
            "251/251 [==============================] - ETA: 0s - loss: 2.7714 - output1_loss: 0.1303 - output2_loss: 0.1907 - output3_loss: 0.2691 - output4_loss: 0.8883 - output5_loss: 0.2653 - output6_loss: 0.2522 - output7_loss: 0.2524 - output8_loss: 0.2054 - output9_loss: 0.2164 - output10_loss: 0.0503 - output11_loss: 0.0359 - output12_loss: 0.0150 - output1_binary_accuracy: 0.9695 - output2_binary_accuracy: 0.9567 - output3_binary_accuracy: 0.9257 - output4_binary_accuracy: 0.8545 - output5_binary_accuracy: 0.9299 - output6_binary_accuracy: 0.9391 - output7_binary_accuracy: 0.9391 - output8_binary_accuracy: 0.9467 - output9_binary_accuracy: 0.9373 - output10_binary_accuracy: 0.9857 - output11_binary_accuracy: 0.9940 - output12_binary_accuracy: 0.9981\n",
            "Epoch 00012: val_loss did not improve from 3.55069\n",
            "251/251 [==============================] - 161s 640ms/step - loss: 2.7714 - output1_loss: 0.1303 - output2_loss: 0.1907 - output3_loss: 0.2691 - output4_loss: 0.8883 - output5_loss: 0.2653 - output6_loss: 0.2522 - output7_loss: 0.2524 - output8_loss: 0.2054 - output9_loss: 0.2164 - output10_loss: 0.0503 - output11_loss: 0.0359 - output12_loss: 0.0150 - output1_binary_accuracy: 0.9695 - output2_binary_accuracy: 0.9567 - output3_binary_accuracy: 0.9257 - output4_binary_accuracy: 0.8545 - output5_binary_accuracy: 0.9299 - output6_binary_accuracy: 0.9391 - output7_binary_accuracy: 0.9391 - output8_binary_accuracy: 0.9467 - output9_binary_accuracy: 0.9373 - output10_binary_accuracy: 0.9857 - output11_binary_accuracy: 0.9940 - output12_binary_accuracy: 0.9981 - val_loss: 3.5545 - val_output1_loss: 0.2471 - val_output2_loss: 0.2454 - val_output3_loss: 0.3267 - val_output4_loss: 1.1506 - val_output5_loss: 0.3429 - val_output6_loss: 0.2737 - val_output7_loss: 0.3529 - val_output8_loss: 0.2405 - val_output9_loss: 0.2547 - val_output10_loss: 0.0772 - val_output11_loss: 0.0400 - val_output12_loss: 0.0026 - val_output1_binary_accuracy: 0.9365 - val_output2_binary_accuracy: 0.9375 - val_output3_binary_accuracy: 0.9199 - val_output4_binary_accuracy: 0.8047 - val_output5_binary_accuracy: 0.9121 - val_output6_binary_accuracy: 0.9414 - val_output7_binary_accuracy: 0.9170 - val_output8_binary_accuracy: 0.9307 - val_output9_binary_accuracy: 0.9258 - val_output10_binary_accuracy: 0.9795 - val_output11_binary_accuracy: 0.9941 - val_output12_binary_accuracy: 1.0000 - lr: 1.0000e-06\n",
            "Epoch 13/24\n",
            "251/251 [==============================] - ETA: 0s - loss: 2.7705 - output1_loss: 0.1330 - output2_loss: 0.1928 - output3_loss: 0.2723 - output4_loss: 0.8830 - output5_loss: 0.2620 - output6_loss: 0.2514 - output7_loss: 0.2520 - output8_loss: 0.2067 - output9_loss: 0.2178 - output10_loss: 0.0488 - output11_loss: 0.0359 - output12_loss: 0.0148 - output1_binary_accuracy: 0.9683 - output2_binary_accuracy: 0.9567 - output3_binary_accuracy: 0.9270 - output4_binary_accuracy: 0.8555 - output5_binary_accuracy: 0.9300 - output6_binary_accuracy: 0.9416 - output7_binary_accuracy: 0.9391 - output8_binary_accuracy: 0.9462 - output9_binary_accuracy: 0.9386 - output10_binary_accuracy: 0.9846 - output11_binary_accuracy: 0.9937 - output12_binary_accuracy: 0.9981\n",
            "Epoch 00013: val_loss did not improve from 3.55069\n",
            "251/251 [==============================] - 161s 640ms/step - loss: 2.7705 - output1_loss: 0.1330 - output2_loss: 0.1928 - output3_loss: 0.2723 - output4_loss: 0.8830 - output5_loss: 0.2620 - output6_loss: 0.2514 - output7_loss: 0.2520 - output8_loss: 0.2067 - output9_loss: 0.2178 - output10_loss: 0.0488 - output11_loss: 0.0359 - output12_loss: 0.0148 - output1_binary_accuracy: 0.9683 - output2_binary_accuracy: 0.9567 - output3_binary_accuracy: 0.9270 - output4_binary_accuracy: 0.8555 - output5_binary_accuracy: 0.9300 - output6_binary_accuracy: 0.9416 - output7_binary_accuracy: 0.9391 - output8_binary_accuracy: 0.9462 - output9_binary_accuracy: 0.9386 - output10_binary_accuracy: 0.9846 - output11_binary_accuracy: 0.9937 - output12_binary_accuracy: 0.9981 - val_loss: 3.5568 - val_output1_loss: 0.2421 - val_output2_loss: 0.2455 - val_output3_loss: 0.3285 - val_output4_loss: 1.1480 - val_output5_loss: 0.3435 - val_output6_loss: 0.2781 - val_output7_loss: 0.3556 - val_output8_loss: 0.2409 - val_output9_loss: 0.2548 - val_output10_loss: 0.0773 - val_output11_loss: 0.0401 - val_output12_loss: 0.0026 - val_output1_binary_accuracy: 0.9375 - val_output2_binary_accuracy: 0.9375 - val_output3_binary_accuracy: 0.9199 - val_output4_binary_accuracy: 0.8047 - val_output5_binary_accuracy: 0.9121 - val_output6_binary_accuracy: 0.9395 - val_output7_binary_accuracy: 0.9150 - val_output8_binary_accuracy: 0.9307 - val_output9_binary_accuracy: 0.9258 - val_output10_binary_accuracy: 0.9795 - val_output11_binary_accuracy: 0.9941 - val_output12_binary_accuracy: 1.0000 - lr: 1.0000e-06\n",
            "Epoch 14/24\n",
            "251/251 [==============================] - ETA: 0s - loss: 2.7593 - output1_loss: 0.1291 - output2_loss: 0.1906 - output3_loss: 0.2730 - output4_loss: 0.8777 - output5_loss: 0.2645 - output6_loss: 0.2522 - output7_loss: 0.2483 - output8_loss: 0.2029 - output9_loss: 0.2199 - output10_loss: 0.0508 - output11_loss: 0.0357 - output12_loss: 0.0146 - output1_binary_accuracy: 0.9711 - output2_binary_accuracy: 0.9572 - output3_binary_accuracy: 0.9255 - output4_binary_accuracy: 0.8568 - output5_binary_accuracy: 0.9297 - output6_binary_accuracy: 0.9401 - output7_binary_accuracy: 0.9376 - output8_binary_accuracy: 0.9480 - output9_binary_accuracy: 0.9374 - output10_binary_accuracy: 0.9846 - output11_binary_accuracy: 0.9940 - output12_binary_accuracy: 0.9981\n",
            "Epoch 00014: val_loss did not improve from 3.55069\n",
            "251/251 [==============================] - 160s 639ms/step - loss: 2.7593 - output1_loss: 0.1291 - output2_loss: 0.1906 - output3_loss: 0.2730 - output4_loss: 0.8777 - output5_loss: 0.2645 - output6_loss: 0.2522 - output7_loss: 0.2483 - output8_loss: 0.2029 - output9_loss: 0.2199 - output10_loss: 0.0508 - output11_loss: 0.0357 - output12_loss: 0.0146 - output1_binary_accuracy: 0.9711 - output2_binary_accuracy: 0.9572 - output3_binary_accuracy: 0.9255 - output4_binary_accuracy: 0.8568 - output5_binary_accuracy: 0.9297 - output6_binary_accuracy: 0.9401 - output7_binary_accuracy: 0.9376 - output8_binary_accuracy: 0.9480 - output9_binary_accuracy: 0.9374 - output10_binary_accuracy: 0.9846 - output11_binary_accuracy: 0.9940 - output12_binary_accuracy: 0.9981 - val_loss: 3.5680 - val_output1_loss: 0.2472 - val_output2_loss: 0.2453 - val_output3_loss: 0.3274 - val_output4_loss: 1.1547 - val_output5_loss: 0.3431 - val_output6_loss: 0.2792 - val_output7_loss: 0.3549 - val_output8_loss: 0.2417 - val_output9_loss: 0.2547 - val_output10_loss: 0.0774 - val_output11_loss: 0.0399 - val_output12_loss: 0.0025 - val_output1_binary_accuracy: 0.9365 - val_output2_binary_accuracy: 0.9375 - val_output3_binary_accuracy: 0.9199 - val_output4_binary_accuracy: 0.8037 - val_output5_binary_accuracy: 0.9121 - val_output6_binary_accuracy: 0.9404 - val_output7_binary_accuracy: 0.9150 - val_output8_binary_accuracy: 0.9307 - val_output9_binary_accuracy: 0.9258 - val_output10_binary_accuracy: 0.9785 - val_output11_binary_accuracy: 0.9941 - val_output12_binary_accuracy: 1.0000 - lr: 1.0000e-06\n",
            "Epoch 15/24\n",
            "251/251 [==============================] - ETA: 0s - loss: 2.7649 - output1_loss: 0.1321 - output2_loss: 0.1930 - output3_loss: 0.2711 - output4_loss: 0.8826 - output5_loss: 0.2593 - output6_loss: 0.2522 - output7_loss: 0.2504 - output8_loss: 0.2065 - output9_loss: 0.2161 - output10_loss: 0.0498 - output11_loss: 0.0372 - output12_loss: 0.0147 - output1_binary_accuracy: 0.9696 - output2_binary_accuracy: 0.9551 - output3_binary_accuracy: 0.9268 - output4_binary_accuracy: 0.8563 - output5_binary_accuracy: 0.9312 - output6_binary_accuracy: 0.9411 - output7_binary_accuracy: 0.9392 - output8_binary_accuracy: 0.9460 - output9_binary_accuracy: 0.9401 - output10_binary_accuracy: 0.9847 - output11_binary_accuracy: 0.9939 - output12_binary_accuracy: 0.9981\n",
            "Epoch 00015: val_loss did not improve from 3.55069\n",
            "251/251 [==============================] - 161s 642ms/step - loss: 2.7649 - output1_loss: 0.1321 - output2_loss: 0.1930 - output3_loss: 0.2711 - output4_loss: 0.8826 - output5_loss: 0.2593 - output6_loss: 0.2522 - output7_loss: 0.2504 - output8_loss: 0.2065 - output9_loss: 0.2161 - output10_loss: 0.0498 - output11_loss: 0.0372 - output12_loss: 0.0147 - output1_binary_accuracy: 0.9696 - output2_binary_accuracy: 0.9551 - output3_binary_accuracy: 0.9268 - output4_binary_accuracy: 0.8563 - output5_binary_accuracy: 0.9312 - output6_binary_accuracy: 0.9411 - output7_binary_accuracy: 0.9392 - output8_binary_accuracy: 0.9460 - output9_binary_accuracy: 0.9401 - output10_binary_accuracy: 0.9847 - output11_binary_accuracy: 0.9939 - output12_binary_accuracy: 0.9981 - val_loss: 3.5606 - val_output1_loss: 0.2473 - val_output2_loss: 0.2453 - val_output3_loss: 0.3268 - val_output4_loss: 1.1460 - val_output5_loss: 0.3429 - val_output6_loss: 0.2817 - val_output7_loss: 0.3540 - val_output8_loss: 0.2419 - val_output9_loss: 0.2535 - val_output10_loss: 0.0785 - val_output11_loss: 0.0400 - val_output12_loss: 0.0026 - val_output1_binary_accuracy: 0.9355 - val_output2_binary_accuracy: 0.9375 - val_output3_binary_accuracy: 0.9209 - val_output4_binary_accuracy: 0.8047 - val_output5_binary_accuracy: 0.9121 - val_output6_binary_accuracy: 0.9395 - val_output7_binary_accuracy: 0.9160 - val_output8_binary_accuracy: 0.9307 - val_output9_binary_accuracy: 0.9268 - val_output10_binary_accuracy: 0.9785 - val_output11_binary_accuracy: 0.9941 - val_output12_binary_accuracy: 1.0000 - lr: 1.0000e-06\n",
            "Epoch 16/24\n",
            "251/251 [==============================] - ETA: 0s - loss: 2.7747 - output1_loss: 0.1310 - output2_loss: 0.1929 - output3_loss: 0.2749 - output4_loss: 0.8822 - output5_loss: 0.2638 - output6_loss: 0.2538 - output7_loss: 0.2516 - output8_loss: 0.2030 - output9_loss: 0.2206 - output10_loss: 0.0506 - output11_loss: 0.0360 - output12_loss: 0.0143 - output1_binary_accuracy: 0.9685 - output2_binary_accuracy: 0.9552 - output3_binary_accuracy: 0.9252 - output4_binary_accuracy: 0.8546 - output5_binary_accuracy: 0.9284 - output6_binary_accuracy: 0.9407 - output7_binary_accuracy: 0.9396 - output8_binary_accuracy: 0.9451 - output9_binary_accuracy: 0.9379 - output10_binary_accuracy: 0.9837 - output11_binary_accuracy: 0.9940 - output12_binary_accuracy: 0.9981\n",
            "Epoch 00016: val_loss did not improve from 3.55069\n",
            "251/251 [==============================] - 162s 647ms/step - loss: 2.7747 - output1_loss: 0.1310 - output2_loss: 0.1929 - output3_loss: 0.2749 - output4_loss: 0.8822 - output5_loss: 0.2638 - output6_loss: 0.2538 - output7_loss: 0.2516 - output8_loss: 0.2030 - output9_loss: 0.2206 - output10_loss: 0.0506 - output11_loss: 0.0360 - output12_loss: 0.0143 - output1_binary_accuracy: 0.9685 - output2_binary_accuracy: 0.9552 - output3_binary_accuracy: 0.9252 - output4_binary_accuracy: 0.8546 - output5_binary_accuracy: 0.9284 - output6_binary_accuracy: 0.9407 - output7_binary_accuracy: 0.9396 - output8_binary_accuracy: 0.9451 - output9_binary_accuracy: 0.9379 - output10_binary_accuracy: 0.9837 - output11_binary_accuracy: 0.9940 - output12_binary_accuracy: 0.9981 - val_loss: 3.5641 - val_output1_loss: 0.2470 - val_output2_loss: 0.2454 - val_output3_loss: 0.3284 - val_output4_loss: 1.1519 - val_output5_loss: 0.3434 - val_output6_loss: 0.2825 - val_output7_loss: 0.3506 - val_output8_loss: 0.2412 - val_output9_loss: 0.2544 - val_output10_loss: 0.0768 - val_output11_loss: 0.0399 - val_output12_loss: 0.0025 - val_output1_binary_accuracy: 0.9355 - val_output2_binary_accuracy: 0.9365 - val_output3_binary_accuracy: 0.9199 - val_output4_binary_accuracy: 0.8057 - val_output5_binary_accuracy: 0.9121 - val_output6_binary_accuracy: 0.9385 - val_output7_binary_accuracy: 0.9160 - val_output8_binary_accuracy: 0.9307 - val_output9_binary_accuracy: 0.9258 - val_output10_binary_accuracy: 0.9795 - val_output11_binary_accuracy: 0.9941 - val_output12_binary_accuracy: 1.0000 - lr: 1.0000e-06\n",
            "Epoch 17/24\n",
            "251/251 [==============================] - ETA: 0s - loss: 2.7621 - output1_loss: 0.1314 - output2_loss: 0.1949 - output3_loss: 0.2716 - output4_loss: 0.8725 - output5_loss: 0.2613 - output6_loss: 0.2522 - output7_loss: 0.2522 - output8_loss: 0.2040 - output9_loss: 0.2225 - output10_loss: 0.0504 - output11_loss: 0.0348 - output12_loss: 0.0143 - output1_binary_accuracy: 0.9705 - output2_binary_accuracy: 0.9554 - output3_binary_accuracy: 0.9264 - output4_binary_accuracy: 0.8578 - output5_binary_accuracy: 0.9313 - output6_binary_accuracy: 0.9415 - output7_binary_accuracy: 0.9377 - output8_binary_accuracy: 0.9460 - output9_binary_accuracy: 0.9376 - output10_binary_accuracy: 0.9846 - output11_binary_accuracy: 0.9937 - output12_binary_accuracy: 0.9981\n",
            "Epoch 00017: val_loss did not improve from 3.55069\n",
            "251/251 [==============================] - 161s 641ms/step - loss: 2.7621 - output1_loss: 0.1314 - output2_loss: 0.1949 - output3_loss: 0.2716 - output4_loss: 0.8725 - output5_loss: 0.2613 - output6_loss: 0.2522 - output7_loss: 0.2522 - output8_loss: 0.2040 - output9_loss: 0.2225 - output10_loss: 0.0504 - output11_loss: 0.0348 - output12_loss: 0.0143 - output1_binary_accuracy: 0.9705 - output2_binary_accuracy: 0.9554 - output3_binary_accuracy: 0.9264 - output4_binary_accuracy: 0.8578 - output5_binary_accuracy: 0.9313 - output6_binary_accuracy: 0.9415 - output7_binary_accuracy: 0.9377 - output8_binary_accuracy: 0.9460 - output9_binary_accuracy: 0.9376 - output10_binary_accuracy: 0.9846 - output11_binary_accuracy: 0.9937 - output12_binary_accuracy: 0.9981 - val_loss: 3.5679 - val_output1_loss: 0.2474 - val_output2_loss: 0.2455 - val_output3_loss: 0.3278 - val_output4_loss: 1.1510 - val_output5_loss: 0.3433 - val_output6_loss: 0.2826 - val_output7_loss: 0.3549 - val_output8_loss: 0.2410 - val_output9_loss: 0.2534 - val_output10_loss: 0.0785 - val_output11_loss: 0.0400 - val_output12_loss: 0.0026 - val_output1_binary_accuracy: 0.9355 - val_output2_binary_accuracy: 0.9365 - val_output3_binary_accuracy: 0.9199 - val_output4_binary_accuracy: 0.8047 - val_output5_binary_accuracy: 0.9121 - val_output6_binary_accuracy: 0.9385 - val_output7_binary_accuracy: 0.9150 - val_output8_binary_accuracy: 0.9297 - val_output9_binary_accuracy: 0.9268 - val_output10_binary_accuracy: 0.9785 - val_output11_binary_accuracy: 0.9941 - val_output12_binary_accuracy: 1.0000 - lr: 1.0000e-06\n",
            "Epoch 18/24\n",
            "251/251 [==============================] - ETA: 0s - loss: 2.7724 - output1_loss: 0.1302 - output2_loss: 0.1927 - output3_loss: 0.2751 - output4_loss: 0.8808 - output5_loss: 0.2608 - output6_loss: 0.2541 - output7_loss: 0.2531 - output8_loss: 0.2065 - output9_loss: 0.2188 - output10_loss: 0.0511 - output11_loss: 0.0352 - output12_loss: 0.0140 - output1_binary_accuracy: 0.9701 - output2_binary_accuracy: 0.9557 - output3_binary_accuracy: 0.9243 - output4_binary_accuracy: 0.8547 - output5_binary_accuracy: 0.9325 - output6_binary_accuracy: 0.9392 - output7_binary_accuracy: 0.9385 - output8_binary_accuracy: 0.9455 - output9_binary_accuracy: 0.9368 - output10_binary_accuracy: 0.9842 - output11_binary_accuracy: 0.9944 - output12_binary_accuracy: 0.9981\n",
            "Epoch 00018: val_loss improved from 3.55069 to 3.54899, saving model to BERT/LSTM_addPenalty_64.h5\n",
            "251/251 [==============================] - 160s 639ms/step - loss: 2.7724 - output1_loss: 0.1302 - output2_loss: 0.1927 - output3_loss: 0.2751 - output4_loss: 0.8808 - output5_loss: 0.2608 - output6_loss: 0.2541 - output7_loss: 0.2531 - output8_loss: 0.2065 - output9_loss: 0.2188 - output10_loss: 0.0511 - output11_loss: 0.0352 - output12_loss: 0.0140 - output1_binary_accuracy: 0.9701 - output2_binary_accuracy: 0.9557 - output3_binary_accuracy: 0.9243 - output4_binary_accuracy: 0.8547 - output5_binary_accuracy: 0.9325 - output6_binary_accuracy: 0.9392 - output7_binary_accuracy: 0.9385 - output8_binary_accuracy: 0.9455 - output9_binary_accuracy: 0.9368 - output10_binary_accuracy: 0.9842 - output11_binary_accuracy: 0.9944 - output12_binary_accuracy: 0.9981 - val_loss: 3.5490 - val_output1_loss: 0.2470 - val_output2_loss: 0.2451 - val_output3_loss: 0.3272 - val_output4_loss: 1.1522 - val_output5_loss: 0.3357 - val_output6_loss: 0.2745 - val_output7_loss: 0.3545 - val_output8_loss: 0.2398 - val_output9_loss: 0.2544 - val_output10_loss: 0.0760 - val_output11_loss: 0.0399 - val_output12_loss: 0.0026 - val_output1_binary_accuracy: 0.9355 - val_output2_binary_accuracy: 0.9365 - val_output3_binary_accuracy: 0.9209 - val_output4_binary_accuracy: 0.8057 - val_output5_binary_accuracy: 0.9141 - val_output6_binary_accuracy: 0.9404 - val_output7_binary_accuracy: 0.9150 - val_output8_binary_accuracy: 0.9307 - val_output9_binary_accuracy: 0.9258 - val_output10_binary_accuracy: 0.9795 - val_output11_binary_accuracy: 0.9941 - val_output12_binary_accuracy: 1.0000 - lr: 1.0000e-06\n",
            "Epoch 19/24\n",
            " 46/251 [====>.........................] - ETA: 2:02 - loss: 2.8159 - output1_loss: 0.1403 - output2_loss: 0.2097 - output3_loss: 0.2734 - output4_loss: 0.8259 - output5_loss: 0.2897 - output6_loss: 0.2880 - output7_loss: 0.2528 - output8_loss: 0.1959 - output9_loss: 0.2428 - output10_loss: 0.0433 - output11_loss: 0.0424 - output12_loss: 0.0116 - output1_binary_accuracy: 0.9701 - output2_binary_accuracy: 0.9552 - output3_binary_accuracy: 0.9178 - output4_binary_accuracy: 0.8682 - output5_binary_accuracy: 0.9287 - output6_binary_accuracy: 0.9307 - output7_binary_accuracy: 0.9300 - output8_binary_accuracy: 0.9477 - output9_binary_accuracy: 0.9416 - output10_binary_accuracy: 0.9864 - output11_binary_accuracy: 0.9939 - output12_binary_accuracy: 0.9986"
          ],
          "name": "stdout"
        },
        {
          "output_type": "stream",
          "text": [
            "\n",
            "KeyboardInterrupt\n",
            "\n"
          ],
          "name": "stderr"
        }
      ]
    },
    {
      "cell_type": "markdown",
      "metadata": {
        "id": "QMfSJxN--xs1",
        "colab_type": "text"
      },
      "source": [
        "## Prediction\n",
        "\n",
        "\n"
      ]
    },
    {
      "cell_type": "code",
      "metadata": {
        "id": "jsDym2PgJ6ml",
        "colab_type": "code",
        "outputId": "90801de3-c81f-4b41-f8f0-f7f72caa6400",
        "colab": {
          "base_uri": "https://localhost:8080/",
          "height": 162
        }
      },
      "source": [
        "model.summary()"
      ],
      "execution_count": 1,
      "outputs": [
        {
          "output_type": "error",
          "ename": "NameError",
          "evalue": "ignored",
          "traceback": [
            "\u001b[0;31m---------------------------------------------------------------------------\u001b[0m",
            "\u001b[0;31mNameError\u001b[0m                                 Traceback (most recent call last)",
            "\u001b[0;32m<ipython-input-1-5f15418b3570>\u001b[0m in \u001b[0;36m<module>\u001b[0;34m()\u001b[0m\n\u001b[0;32m----> 1\u001b[0;31m \u001b[0mmodel\u001b[0m\u001b[0;34m.\u001b[0m\u001b[0msummary\u001b[0m\u001b[0;34m(\u001b[0m\u001b[0;34m)\u001b[0m\u001b[0;34m\u001b[0m\u001b[0;34m\u001b[0m\u001b[0m\n\u001b[0m",
            "\u001b[0;31mNameError\u001b[0m: name 'model' is not defined"
          ]
        }
      ]
    },
    {
      "cell_type": "code",
      "metadata": {
        "id": "onSOnIBxPXa0",
        "colab_type": "code",
        "colab": {}
      },
      "source": [
        "model.load_weights(Name)"
      ],
      "execution_count": 0,
      "outputs": []
    },
    {
      "cell_type": "code",
      "metadata": {
        "id": "2ZwqpZmP_pVV",
        "colab_type": "code",
        "colab": {}
      },
      "source": [
        "class testDataGenerator(tf.keras.utils.Sequence):\n",
        "    'Generates data for Keras'\n",
        "    def __init__(self, pdDataFrame, dbName, labels=['oQ', 'RQ', 'CQ', 'FD', 'FQ', 'IR', 'PA', 'PF', 'NF', 'GG', 'JK', 'O'],\\\n",
        "                 batch_size=25, dim=MAX_LEN, n_channels=N_CHANNELS,\\\n",
        "                 n_classes=N_CLASS, shuffle=False):\n",
        "        'Initialization'\n",
        "        self.dim = dim\n",
        "        self.batch_size = batch_size\n",
        "        self.labels = labels\n",
        "        self.list_IDs = pdDataFrame\n",
        "        self.n_channels = n_channels\n",
        "        self.n_classes = n_classes\n",
        "        self.shuffle = shuffle\n",
        "        self.dbName=dbName\n",
        "        self.on_epoch_end()\n",
        "\n",
        "    def __len__(self):\n",
        "        'Denotes the number of batches per epoch'\n",
        "        return int(np.floor(len(self.list_IDs) / self.batch_size))\n",
        "\n",
        "    def __getitem__(self, index):\n",
        "        'Generate one batch of data'\n",
        "        # Generate indexes of the batch\n",
        "        indexes = self.indexes[index*self.batch_size:(index+1)*self.batch_size]\n",
        "\n",
        "        # Find list of IDs\n",
        "        list_IDs_temp = self.list_IDs.iloc[indexes,:]\n",
        "\n",
        "        # Generate data\n",
        "        X = self.__data_generation(list_IDs_temp.reset_index(drop=True))\n",
        "\n",
        "        return X\n",
        "\n",
        "    def on_epoch_end(self):\n",
        "        'Updates indexes after each epoch'\n",
        "        self.indexes = np.arange(len(self.list_IDs))\n",
        "        if self.shuffle == True:\n",
        "            np.random.shuffle(self.indexes)\n",
        "\n",
        "    def __data_generation(self, list_IDs_temp):\n",
        "        'Generates data containing batch_size samples' # X : (n_samples, *dim, n_channels)\n",
        "        # Initialization\n",
        "        X = np.zeros((self.batch_size, self.dim, self.n_channels))\n",
        "        #y = np.zeros((self.batch_size,self.n_classes), dtype=int)\n",
        "\n",
        "        # Generate data\n",
        "        for i in range(len(list_IDs_temp)):\n",
        "            utterenceID=list_IDs_temp.loc[i,'id']\n",
        "            diaglogID=list_IDs_temp.loc[i,'diaglogID']\n",
        "            try:\n",
        "              temp=np.load('BERT/vector/'+self.dbName+'_'+str(utterenceID)+'_'+str(diaglogID)+'.npy')\n",
        "              X[i,0:temp.shape[0],:] =temp \n",
        "              del temp\n",
        "            except:\n",
        "              print('Faile to load the data: BERT/vector/'+self.dbName+'_'+str(utterenceID)+'_'+str(diaglogID)+'.npy')\n",
        "            # Store sample\n",
        "            # Store class\n",
        "            #y[i,:] = np.array(list_IDs_temp.iloc[i,0:12])\n",
        "\n",
        "        return X"
      ],
      "execution_count": 0,
      "outputs": []
    },
    {
      "cell_type": "code",
      "metadata": {
        "id": "pgnTSkm2_EBW",
        "colab_type": "code",
        "colab": {}
      },
      "source": [
        "test_generator=testDataGenerator(Test,'Test')"
      ],
      "execution_count": 0,
      "outputs": []
    },
    {
      "cell_type": "code",
      "metadata": {
        "id": "MneDN8jV-spA",
        "colab_type": "code",
        "colab": {
          "base_uri": "https://localhost:8080/",
          "height": 87
        },
        "outputId": "169f58fc-63a6-4c2f-8df4-f1810961b8a4"
      },
      "source": [
        "prediction = model.predict_generator(test_generator)"
      ],
      "execution_count": 22,
      "outputs": [
        {
          "output_type": "stream",
          "text": [
            "WARNING:tensorflow:From <ipython-input-22-342c80f366ab>:1: Model.predict_generator (from tensorflow.python.keras.engine.training) is deprecated and will be removed in a future version.\n",
            "Instructions for updating:\n",
            "Please use Model.predict, which supports generators.\n"
          ],
          "name": "stdout"
        }
      ]
    },
    {
      "cell_type": "code",
      "metadata": {
        "id": "P0iEXswMaFjG",
        "colab_type": "code",
        "colab": {}
      },
      "source": [
        "Prediction=np.array(prediction)"
      ],
      "execution_count": 0,
      "outputs": []
    },
    {
      "cell_type": "code",
      "metadata": {
        "id": "lfKCnqyr_dH-",
        "colab_type": "code",
        "outputId": "a69fed7f-cd21-48e5-83ef-34c5bdc78950",
        "colab": {
          "base_uri": "https://localhost:8080/",
          "height": 34
        }
      },
      "source": [
        "IOU=0\n",
        "for i in range(len(Test)):\n",
        "  pred=Prediction[0:N_CLASS,i,0]\n",
        "  labels=np.array(Test.iloc[i,0:N_CLASS])\n",
        "  ioU=np.sum((pred>=0.5)&(labels==1))/np.sum( (pred>=0.5) | (labels==1))\n",
        "  IOU+=ioU\n",
        "IOU=IOU/len(Test)\n",
        "print(IOU)"
      ],
      "execution_count": 24,
      "outputs": [
        {
          "output_type": "stream",
          "text": [
            "0.6418558558558557\n"
          ],
          "name": "stdout"
        }
      ]
    },
    {
      "cell_type": "code",
      "metadata": {
        "id": "DavG4UnTDpVw",
        "colab_type": "code",
        "outputId": "3dc92a27-1b38-48a0-8f12-e22671bef134",
        "colab": {
          "base_uri": "https://localhost:8080/",
          "height": 34
        }
      },
      "source": [
        "ACC=0\n",
        "for i in range(len(Test)):\n",
        "  pred=Prediction[0:N_CLASS,i,0]\n",
        "  labels=np.array(Test.iloc[i,0:N_CLASS])\n",
        "  acc=np.sum((pred>=0.5)==labels)/12\n",
        "  ACC+=acc\n",
        "ACC=ACC/len(Test)\n",
        "print(ACC)"
      ],
      "execution_count": 25,
      "outputs": [
        {
          "output_type": "stream",
          "text": [
            "0.9233333333333328\n"
          ],
          "name": "stdout"
        }
      ]
    },
    {
      "cell_type": "code",
      "metadata": {
        "id": "dV-AOnmQh8B3",
        "colab_type": "code",
        "outputId": "ad4f5029-d29a-4e9b-dfdd-5fadd50f304a",
        "colab": {
          "base_uri": "https://localhost:8080/",
          "height": 218
        }
      },
      "source": [
        "for i in range(N_CLASS):\n",
        "  print(np.sum(Test.iloc[:,i]==1)/len(Test),np.sum((Prediction[i,:,0]>=0.5)==(Test.iloc[:,i]))/len(Test))"
      ],
      "execution_count": 26,
      "outputs": [
        {
          "output_type": "stream",
          "text": [
            "0.23135135135135135 0.918918918918919\n",
            "0.05837837837837838 0.9394594594594594\n",
            "0.08108108108108109 0.9081081081081082\n",
            "0.24756756756756756 0.772972972972973\n",
            "0.0918918918918919 0.8972972972972973\n",
            "0.11135135135135135 0.9383783783783783\n",
            "0.4043243243243243 0.9048648648648648\n",
            "0.11891891891891893 0.9156756756756756\n",
            "0.07243243243243243 0.9264864864864865\n",
            "0.02918918918918919 0.9675675675675676\n",
            "0.004324324324324324 0.9924324324324324\n",
            "0.002162162162162162 0.9978378378378379\n"
          ],
          "name": "stdout"
        }
      ]
    },
    {
      "cell_type": "code",
      "metadata": {
        "id": "96IhGmpUPb3x",
        "colab_type": "code",
        "colab": {}
      },
      "source": [
        ""
      ],
      "execution_count": 0,
      "outputs": []
    }
  ]
}