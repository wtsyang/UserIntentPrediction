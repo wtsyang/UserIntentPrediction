{
  "nbformat": 4,
  "nbformat_minor": 0,
  "metadata": {
    "colab": {
      "name": "LSTM.ipynb",
      "provenance": [],
      "collapsed_sections": [],
      "include_colab_link": true
    },
    "kernelspec": {
      "name": "python3",
      "display_name": "Python 3"
    },
    "accelerator": "GPU"
  },
  "cells": [
    {
      "cell_type": "markdown",
      "metadata": {
        "id": "view-in-github",
        "colab_type": "text"
      },
      "source": [
        "<a href=\"https://colab.research.google.com/github/wtsyang/UserIntentPrediction/blob/BERT/BERT/BiLSTM-Context-encodeSentence.ipynb\" target=\"_parent\"><img src=\"https://colab.research.google.com/assets/colab-badge.svg\" alt=\"Open In Colab\"/></a>"
      ]
    },
    {
      "cell_type": "code",
      "metadata": {
        "id": "ot0Ha--FR-S1",
        "colab_type": "code",
        "colab": {
          "base_uri": "https://localhost:8080/",
          "height": 50
        },
        "outputId": "46c03a13-f4ad-4a23-fff0-6b4dfe8836a1"
      },
      "source": [
        "from google.colab import drive # import drive from google colab\n",
        "\n",
        "ROOT = \"/content/drive\"     # default location for the drive\n",
        "print(ROOT)                 # print content of ROOT (Optional)\n",
        "\n",
        "drive.mount(ROOT)           # we mount the google drive at /content/drive"
      ],
      "execution_count": 16,
      "outputs": [
        {
          "output_type": "stream",
          "text": [
            "/content/drive\n",
            "Drive already mounted at /content/drive; to attempt to forcibly remount, call drive.mount(\"/content/drive\", force_remount=True).\n"
          ],
          "name": "stdout"
        }
      ]
    },
    {
      "cell_type": "code",
      "metadata": {
        "id": "-6DT7DNwSNn9",
        "colab_type": "code",
        "colab": {
          "base_uri": "https://localhost:8080/",
          "height": 34
        },
        "outputId": "4aa49cd2-431e-44a3-eb72-dd8f344093e6"
      },
      "source": [
        "%cd '/content/drive/My Drive/UserIntentPrediction'"
      ],
      "execution_count": 17,
      "outputs": [
        {
          "output_type": "stream",
          "text": [
            "/content/drive/My Drive/UserIntentPrediction\n"
          ],
          "name": "stdout"
        }
      ]
    },
    {
      "cell_type": "code",
      "metadata": {
        "id": "De681umQRanU",
        "colab_type": "code",
        "colab": {
          "base_uri": "https://localhost:8080/",
          "height": 34
        },
        "outputId": "4fdfb638-75fe-42bb-96ee-cf305574d345"
      },
      "source": [
        "import numpy as np\n",
        "import pandas as pd\n",
        "import tensorflow as tf\n",
        "from tensorflow.keras.models import Model\n",
        "from tensorflow.keras.layers import Input, Dense, Embedding, SpatialDropout1D, add, concatenate\n",
        "from tensorflow.keras.layers  import LSTM, Bidirectional, GlobalMaxPooling1D, GlobalAveragePooling1D\n",
        "from tensorflow.keras.preprocessing import text, sequence\n",
        "from gensim.models import KeyedVectors\n",
        "from sklearn.model_selection  import train_test_split\n",
        "import pickle\n",
        "import sklearn\n",
        "from tensorflow.keras.utils import multi_gpu_model\n",
        "from tensorflow.keras.callbacks import ModelCheckpoint\n",
        "from tensorflow.keras.callbacks import ReduceLROnPlateau\n",
        "from tensorflow.keras import backend as K\n",
        "from tensorflow.python.framework import ops\n",
        "from tensorflow.python.ops import math_ops\n",
        "from tensorflow.python.framework import smart_cond\n",
        "from functools import partial\n",
        "from sklearn.metrics import precision_recall_fscore_support\n",
        "print('Tensorflow Version:',tf.__version__)"
      ],
      "execution_count": 18,
      "outputs": [
        {
          "output_type": "stream",
          "text": [
            "Tensorflow Version: 2.2.0-rc3\n"
          ],
          "name": "stdout"
        }
      ]
    },
    {
      "cell_type": "code",
      "metadata": {
        "id": "yIpXSpeYR4rx",
        "colab_type": "code",
        "colab": {}
      },
      "source": [
        "NUM_MODELS = 1\n",
        "BATCH_SIZE = 32\n",
        "LSTM_UNITS = 64\n",
        "DENSE_HIDDEN_UNITS = 4 * LSTM_UNITS \n",
        "EPOCHS = 15\n",
        "MAX_LEN = 1259\n",
        "N_CHANNELS=768\n",
        "N_CLASS=12"
      ],
      "execution_count": 0,
      "outputs": []
    },
    {
      "cell_type": "markdown",
      "metadata": {
        "id": "7lcdmN7BSHGl",
        "colab_type": "text"
      },
      "source": [
        "## Loading the dataset\n"
      ]
    },
    {
      "cell_type": "code",
      "metadata": {
        "id": "5p2_0TqoR9ef",
        "colab_type": "code",
        "colab": {}
      },
      "source": [
        "Train=pd.read_csv('data/Train_Preprocessing.csv').reset_index(drop=True)\n",
        "Valid=pd.read_csv('data/Valid_Preprocessing.csv').reset_index(drop=True)\n",
        "Test=pd.read_csv('data/Test_Preprocessing.csv').reset_index(drop=True)"
      ],
      "execution_count": 0,
      "outputs": []
    },
    {
      "cell_type": "code",
      "metadata": {
        "id": "hjliEKeAhO4e",
        "colab_type": "code",
        "colab": {}
      },
      "source": [
        "class DataGenerator(tf.keras.utils.Sequence):\n",
        "    'Generates data for Keras'\n",
        "    def __init__(self, pdDataFrame, dbName, labels=['oQ', 'RQ', 'CQ', 'FD', 'FQ', 'IR', 'PA', 'PF', 'NF', 'GG', 'JK', 'O'],\\\n",
        "                 batch_size=BATCH_SIZE, dim=MAX_LEN, n_channels=N_CHANNELS,\\\n",
        "                 n_classes=N_CLASS, shuffle=True):\n",
        "        'Initialization'\n",
        "        self.dim = dim\n",
        "        self.batch_size = batch_size\n",
        "        self.labels = labels\n",
        "        self.list_IDs = pdDataFrame\n",
        "        self.n_channels = n_channels\n",
        "        self.n_classes = n_classes\n",
        "        self.shuffle = shuffle\n",
        "        self.dbName=dbName\n",
        "        self.on_epoch_end()\n",
        "\n",
        "    def __len__(self):\n",
        "        'Denotes the number of batches per epoch'\n",
        "        return int(np.floor(len(self.list_IDs) / self.batch_size))\n",
        "\n",
        "    def __getitem__(self, index):\n",
        "        'Generate one batch of data'\n",
        "        # Generate indexes of the batch\n",
        "        indexes = self.indexes[index*self.batch_size:(index+1)*self.batch_size]\n",
        "\n",
        "        # Find list of IDs\n",
        "        list_IDs_temp = self.list_IDs.iloc[indexes,:]\n",
        "\n",
        "        # Generate data\n",
        "        X, y = self.__data_generation(list_IDs_temp.reset_index(drop=True))\n",
        "\n",
        "        return X, y\n",
        "\n",
        "    def on_epoch_end(self):\n",
        "        'Updates indexes after each epoch'\n",
        "        self.indexes = np.arange(len(self.list_IDs))\n",
        "        if self.shuffle == True:\n",
        "            np.random.shuffle(self.indexes)\n",
        "\n",
        "    def __data_generation(self, list_IDs_temp):\n",
        "        'Generates data containing batch_size samples' # X : (n_samples, *dim, n_channels)\n",
        "        # Initialization\n",
        "        X = np.zeros((self.batch_size, self.dim*3, self.n_channels))\n",
        "        y = np.zeros((self.batch_size,self.n_classes), dtype=int)\n",
        "\n",
        "        # Generate data\n",
        "        for i in range(len(list_IDs_temp)):\n",
        "            pos=list_IDs_temp.loc[i,'utterance_pos']\n",
        "            utterenceID=list_IDs_temp.loc[i,'id']\n",
        "            diaglogID=list_IDs_temp.loc[i,'diaglogID']\n",
        "            \n",
        "            if pos==1:\n",
        "              try:\n",
        "                temp=np.load('BERT/vector/'+self.dbName+'_'+str(utterenceID)+'_'+str(diaglogID)+'.npy')\n",
        "              except:\n",
        "                temp=np.zeros(( 512, self.n_channels))\n",
        "\n",
        "            elif pos==2:\n",
        "              try:\n",
        "                temp1=np.load('BERT/vector/'+self.dbName+'_'+str(utterenceID-1)+'_'+str(diaglogID)+'.npy')\n",
        "              except:\n",
        "                temp1=np.ones(( 512, self.n_channels))\n",
        "\n",
        "              try:\n",
        "                temp2=np.load('BERT/vector/'+self.dbName+'_'+str(utterenceID)+'_'+str(diaglogID)+'.npy')\n",
        "              except:\n",
        "                temp2=np.zeros(( 512, self.n_channels))\n",
        "\n",
        "              temp=np.concatenate((temp1,temp2),axis=0)\n",
        "\n",
        "            elif pos>=3:  \n",
        "              try:\n",
        "                temp1=np.load('BERT/vector/'+self.dbName+'_'+str(utterenceID-2)+'_'+str(diaglogID)+'.npy')\n",
        "              except:\n",
        "                temp1=np.ones(( 512, self.n_channels))\n",
        "\n",
        "              try:\n",
        "                temp2=np.load('BERT/vector/'+self.dbName+'_'+str(utterenceID-1)+'_'+str(diaglogID)+'.npy')\n",
        "              except:\n",
        "                temp2=np.ones(( 512, self.n_channels))              \n",
        "              \n",
        "              try:\n",
        "                temp3=np.load('BERT/vector/'+self.dbName+'_'+str(utterenceID)+'_'+str(diaglogID)+'.npy')\n",
        "              except:\n",
        "                temp3=np.ones(( 512, self.n_channels))   \n",
        "\n",
        "              temp=np.concatenate((temp1,temp2,temp3),axis=0)\n",
        "\n",
        "            # Store sample\n",
        "            X[i,0:temp.shape[0],:] =temp \n",
        "\n",
        "            # Store class\n",
        "            y[i,:] = np.array(list_IDs_temp.iloc[i,0:self.n_classes])\n",
        "\n",
        "        Y=[]\n",
        "        for i in range(self.n_classes):\n",
        "          Y+=[y[:,i].reshape((self.batch_size,))]\n",
        "        Pos=np.array(list_IDs_temp.loc[:,'utterance_pos'])\n",
        "        return [X,Pos], Y"
      ],
      "execution_count": 0,
      "outputs": []
    },
    {
      "cell_type": "code",
      "metadata": {
        "id": "8ijHEnaK7opB",
        "colab_type": "code",
        "colab": {}
      },
      "source": [
        "training_generator = DataGenerator(Train,'Train')\n",
        "validation_generator = DataGenerator(Valid,'Valid')"
      ],
      "execution_count": 0,
      "outputs": []
    },
    {
      "cell_type": "code",
      "metadata": {
        "id": "QbBl5lHEfSGa",
        "colab_type": "code",
        "colab": {}
      },
      "source": [
        "classWeight_Dict={}\n",
        "for i in range(N_CLASS):\n",
        "  ratioTrue=np.sum(Train.iloc[:,i])/len(Train)\n",
        "  classWeight_Dict['output'+str(i+1)]={0:1+1/((1-ratioTrue)/(ratioTrue)+1),1:1+(1-ratioTrue)/(ratioTrue)/((1-ratioTrue)/(ratioTrue)+1)}"
      ],
      "execution_count": 0,
      "outputs": []
    },
    {
      "cell_type": "code",
      "metadata": {
        "id": "r8C5_nNdl9Xy",
        "colab_type": "code",
        "colab": {}
      },
      "source": [
        "classWeight_Dict['output4'][1]+=1\n",
        "classWeight_Dict['output4'][0]+=1"
      ],
      "execution_count": 0,
      "outputs": []
    },
    {
      "cell_type": "code",
      "metadata": {
        "id": "uaoPIhG5PE0e",
        "colab_type": "code",
        "colab": {
          "base_uri": "https://localhost:8080/",
          "height": 218
        },
        "outputId": "4252fd35-7a77-48a7-efef-297e002baca2"
      },
      "source": [
        "classWeight_Dict"
      ],
      "execution_count": 25,
      "outputs": [
        {
          "output_type": "execute_result",
          "data": {
            "text/plain": [
              "{'output1': {0: 1.2345571818407344, 1: 1.7654428181592656},\n",
              " 'output10': {0: 1.0336144877201687, 1: 1.9663855122798313},\n",
              " 'output11': {0: 1.0100471347060282, 1: 1.9899528652939718},\n",
              " 'output12': {0: 1.0018605805011163, 1: 1.9981394194988837},\n",
              " 'output2': {0: 1.0604068469362442, 1: 1.9395931530637558},\n",
              " 'output3': {0: 1.074423220044654, 1: 1.925576779955346},\n",
              " 'output4': {0: 2.247085090548251, 1: 2.752914909451749},\n",
              " 'output5': {0: 1.0875713222525427, 1: 1.912428677747457},\n",
              " 'output6': {0: 1.1071694368643017, 1: 1.8928305631356983},\n",
              " 'output7': {0: 1.3979161498387498, 1: 1.6020838501612502},\n",
              " 'output8': {0: 1.1070453981642272, 1: 1.8929546018357728},\n",
              " 'output9': {0: 1.076779955346068, 1: 1.923220044653932}}"
            ]
          },
          "metadata": {
            "tags": []
          },
          "execution_count": 25
        }
      ]
    },
    {
      "cell_type": "markdown",
      "metadata": {
        "id": "K2mz_N6c7mEx",
        "colab_type": "text"
      },
      "source": [
        "## Build the model\n"
      ]
    },
    {
      "cell_type": "code",
      "metadata": {
        "id": "fytjcvIOnMiA",
        "colab_type": "code",
        "colab": {}
      },
      "source": [
        "def binary_crossentropy(y_true, y_pred, weights,from_logits=False,label_smoothing=0):\n",
        "\n",
        "    y_pred = ops.convert_to_tensor(y_pred)\n",
        "    y_true = math_ops.cast(y_true, y_pred.dtype)\n",
        "    label_smoothing = ops.convert_to_tensor(label_smoothing, dtype=K.floatx())\n",
        "    def _smooth_labels():\n",
        "      return y_true * (1.0 - label_smoothing) + 0.5 * label_smoothing\n",
        "    y_true = smart_cond.smart_cond(label_smoothing,_smooth_labels, lambda: y_true)\n",
        "    \n",
        "    mask0 = tf.subtract(tf.constant(1.0, dtype=K.floatx()),y_true)\n",
        "    mask0=tf.math.scalar_mul(tf.constant(weights[0], dtype=K.floatx()),mask0)\n",
        "    mask1 =tf.math.scalar_mul(tf.constant(weights[1], dtype=K.floatx()),y_true)\n",
        "    mask=tf.math.add(mask0,mask1)\n",
        "\n",
        "    return K.mean(tf.math.multiply(K.binary_crossentropy(y_true, y_pred, from_logits=from_logits),mask), axis=-1)"
      ],
      "execution_count": 0,
      "outputs": []
    },
    {
      "cell_type": "code",
      "metadata": {
        "id": "jfKQSOUM5saC",
        "colab_type": "code",
        "colab": {}
      },
      "source": [
        "def build_model():\n",
        "    inputs1 = Input(shape=(MAX_LEN*3,N_CHANNELS))\n",
        "    inputs2 = Input(shape=(1,))\n",
        "    x = SpatialDropout1D(0.2)(inputs1)\n",
        "    x = Bidirectional(LSTM(LSTM_UNITS, return_sequences=True))(x)\n",
        "    x = Bidirectional(LSTM(LSTM_UNITS, return_sequences=True))(x)\n",
        "\n",
        "    hidden = concatenate([\n",
        "        GlobalMaxPooling1D()(x),\n",
        "        GlobalAveragePooling1D()(x),\n",
        "        inputs2,\n",
        "    ])\n",
        "\n",
        "    hidden = add([hidden, Dense(DENSE_HIDDEN_UNITS+1, activation='relu')(hidden)])\n",
        "    hidden = add([hidden, Dense(DENSE_HIDDEN_UNITS+1, activation='relu')(hidden)])\n",
        "    RESULT=[]\n",
        "    for i in range(N_CLASS):\n",
        "      RESULT+=[Dense(1, activation='sigmoid',name='output'+str(i+1))(hidden)]\n",
        "    LOSS={}\n",
        "    for i in  range(N_CLASS):\n",
        "      LOSS['output'+str(i+1)]=partial(binary_crossentropy, weights=classWeight_Dict['output'+str(i+1)])\n",
        "      LOSS['output'+str(i+1)].__name__ = 'loss'+str(i+1)\n",
        "\n",
        "    inputs={'inputs1':inputs1,'inputs2':inputs2}\n",
        "    model = Model(inputs=inputs, outputs=RESULT)\n",
        "    model.compile(loss=LOSS, optimizer='adam',metrics=[tf.keras.metrics.binary_accuracy])\n",
        "\n",
        "    return model"
      ],
      "execution_count": 0,
      "outputs": []
    },
    {
      "cell_type": "code",
      "metadata": {
        "id": "N37opYym6CCC",
        "colab_type": "code",
        "colab": {
          "base_uri": "https://localhost:8080/",
          "height": 1000
        },
        "outputId": "ef5f6622-2902-4700-91f1-f037563dfbd5"
      },
      "source": [
        "model = build_model()\n",
        "model.summary()"
      ],
      "execution_count": 28,
      "outputs": [
        {
          "output_type": "stream",
          "text": [
            "Model: \"model_1\"\n",
            "__________________________________________________________________________________________________\n",
            "Layer (type)                    Output Shape         Param #     Connected to                     \n",
            "==================================================================================================\n",
            "input_3 (InputLayer)            [(None, 3777, 768)]  0                                            \n",
            "__________________________________________________________________________________________________\n",
            "spatial_dropout1d_1 (SpatialDro (None, 3777, 768)    0           input_3[0][0]                    \n",
            "__________________________________________________________________________________________________\n",
            "bidirectional_2 (Bidirectional) (None, 3777, 128)    426496      spatial_dropout1d_1[0][0]        \n",
            "__________________________________________________________________________________________________\n",
            "bidirectional_3 (Bidirectional) (None, 3777, 128)    98816       bidirectional_2[0][0]            \n",
            "__________________________________________________________________________________________________\n",
            "global_max_pooling1d_1 (GlobalM (None, 128)          0           bidirectional_3[0][0]            \n",
            "__________________________________________________________________________________________________\n",
            "global_average_pooling1d_1 (Glo (None, 128)          0           bidirectional_3[0][0]            \n",
            "__________________________________________________________________________________________________\n",
            "input_4 (InputLayer)            [(None, 1)]          0                                            \n",
            "__________________________________________________________________________________________________\n",
            "concatenate_1 (Concatenate)     (None, 257)          0           global_max_pooling1d_1[0][0]     \n",
            "                                                                 global_average_pooling1d_1[0][0] \n",
            "                                                                 input_4[0][0]                    \n",
            "__________________________________________________________________________________________________\n",
            "dense_2 (Dense)                 (None, 257)          66306       concatenate_1[0][0]              \n",
            "__________________________________________________________________________________________________\n",
            "add_2 (Add)                     (None, 257)          0           concatenate_1[0][0]              \n",
            "                                                                 dense_2[0][0]                    \n",
            "__________________________________________________________________________________________________\n",
            "dense_3 (Dense)                 (None, 257)          66306       add_2[0][0]                      \n",
            "__________________________________________________________________________________________________\n",
            "add_3 (Add)                     (None, 257)          0           add_2[0][0]                      \n",
            "                                                                 dense_3[0][0]                    \n",
            "__________________________________________________________________________________________________\n",
            "output1 (Dense)                 (None, 1)            258         add_3[0][0]                      \n",
            "__________________________________________________________________________________________________\n",
            "output2 (Dense)                 (None, 1)            258         add_3[0][0]                      \n",
            "__________________________________________________________________________________________________\n",
            "output3 (Dense)                 (None, 1)            258         add_3[0][0]                      \n",
            "__________________________________________________________________________________________________\n",
            "output4 (Dense)                 (None, 1)            258         add_3[0][0]                      \n",
            "__________________________________________________________________________________________________\n",
            "output5 (Dense)                 (None, 1)            258         add_3[0][0]                      \n",
            "__________________________________________________________________________________________________\n",
            "output6 (Dense)                 (None, 1)            258         add_3[0][0]                      \n",
            "__________________________________________________________________________________________________\n",
            "output7 (Dense)                 (None, 1)            258         add_3[0][0]                      \n",
            "__________________________________________________________________________________________________\n",
            "output8 (Dense)                 (None, 1)            258         add_3[0][0]                      \n",
            "__________________________________________________________________________________________________\n",
            "output9 (Dense)                 (None, 1)            258         add_3[0][0]                      \n",
            "__________________________________________________________________________________________________\n",
            "output10 (Dense)                (None, 1)            258         add_3[0][0]                      \n",
            "__________________________________________________________________________________________________\n",
            "output11 (Dense)                (None, 1)            258         add_3[0][0]                      \n",
            "__________________________________________________________________________________________________\n",
            "output12 (Dense)                (None, 1)            258         add_3[0][0]                      \n",
            "==================================================================================================\n",
            "Total params: 661,020\n",
            "Trainable params: 661,020\n",
            "Non-trainable params: 0\n",
            "__________________________________________________________________________________________________\n"
          ],
          "name": "stdout"
        }
      ]
    },
    {
      "cell_type": "code",
      "metadata": {
        "id": "8sb5GQmKeI_B",
        "colab_type": "code",
        "colab": {}
      },
      "source": [
        "callback=ReduceLROnPlateau(patience=1,min_lr=0.00001,factor=0.3)\n",
        "Name='BERT/BiLSTM_Context_addPositionEncoding.h5'\n",
        "checkpointer = ModelCheckpoint(filepath=Name, verbose=1, save_best_only=True)"
      ],
      "execution_count": 0,
      "outputs": []
    },
    {
      "cell_type": "code",
      "metadata": {
        "id": "4To3UbV67kft",
        "colab_type": "code",
        "colab": {
          "base_uri": "https://localhost:8080/",
          "height": 1000
        },
        "outputId": "4d45f4d7-2d35-492a-a093-b975c17fadc0"
      },
      "source": [
        "model.fit_generator(\n",
        "    generator=training_generator,\n",
        "    validation_data=validation_generator,\n",
        "    epochs=EPOCHS,\n",
        "    verbose=1,\n",
        "    callbacks=[checkpointer,callback])"
      ],
      "execution_count": 30,
      "outputs": [
        {
          "output_type": "stream",
          "text": [
            "Epoch 1/15\n",
            "251/251 [==============================] - ETA: 0s - loss: 5.1678 - output1_loss: 0.2560 - output2_loss: 0.3429 - output3_loss: 0.4171 - output4_loss: 1.3025 - output5_loss: 0.4456 - output6_loss: 0.5108 - output7_loss: 0.6946 - output8_loss: 0.4630 - output9_loss: 0.3962 - output10_loss: 0.2081 - output11_loss: 0.1013 - output12_loss: 0.0297 - output1_binary_accuracy: 0.9553 - output2_binary_accuracy: 0.9346 - output3_binary_accuracy: 0.9262 - output4_binary_accuracy: 0.7514 - output5_binary_accuracy: 0.9124 - output6_binary_accuracy: 0.8889 - output7_binary_accuracy: 0.7745 - output8_binary_accuracy: 0.8855 - output9_binary_accuracy: 0.9122 - output10_binary_accuracy: 0.9646 - output11_binary_accuracy: 0.9898 - output12_binary_accuracy: 0.9981 \n",
            "Epoch 00001: val_loss improved from inf to 4.34725, saving model to BERT/BiLSTM_Context_addPositionEncoding.h5\n",
            "251/251 [==============================] - 5338s 21s/step - loss: 5.1678 - output1_loss: 0.2560 - output2_loss: 0.3429 - output3_loss: 0.4171 - output4_loss: 1.3025 - output5_loss: 0.4456 - output6_loss: 0.5108 - output7_loss: 0.6946 - output8_loss: 0.4630 - output9_loss: 0.3962 - output10_loss: 0.2081 - output11_loss: 0.1013 - output12_loss: 0.0297 - output1_binary_accuracy: 0.9553 - output2_binary_accuracy: 0.9346 - output3_binary_accuracy: 0.9262 - output4_binary_accuracy: 0.7514 - output5_binary_accuracy: 0.9124 - output6_binary_accuracy: 0.8889 - output7_binary_accuracy: 0.7745 - output8_binary_accuracy: 0.8855 - output9_binary_accuracy: 0.9122 - output10_binary_accuracy: 0.9646 - output11_binary_accuracy: 0.9898 - output12_binary_accuracy: 0.9981 - val_loss: 4.3473 - val_output1_loss: 0.1564 - val_output2_loss: 0.2797 - val_output3_loss: 0.3930 - val_output4_loss: 1.1968 - val_output5_loss: 0.3906 - val_output6_loss: 0.4866 - val_output7_loss: 0.5419 - val_output8_loss: 0.3414 - val_output9_loss: 0.3273 - val_output10_loss: 0.1645 - val_output11_loss: 0.0633 - val_output12_loss: 0.0057 - val_output1_binary_accuracy: 0.9707 - val_output2_binary_accuracy: 0.9385 - val_output3_binary_accuracy: 0.9277 - val_output4_binary_accuracy: 0.7930 - val_output5_binary_accuracy: 0.9189 - val_output6_binary_accuracy: 0.8965 - val_output7_binary_accuracy: 0.8545 - val_output8_binary_accuracy: 0.9092 - val_output9_binary_accuracy: 0.9326 - val_output10_binary_accuracy: 0.9590 - val_output11_binary_accuracy: 0.9932 - val_output12_binary_accuracy: 1.0000 - lr: 0.0010\n",
            "Epoch 2/15\n",
            "251/251 [==============================] - ETA: 0s - loss: 4.3289 - output1_loss: 0.1455 - output2_loss: 0.2788 - output3_loss: 0.3847 - output4_loss: 1.2203 - output5_loss: 0.3903 - output6_loss: 0.4539 - output7_loss: 0.4947 - output8_loss: 0.3738 - output9_loss: 0.3368 - output10_loss: 0.1377 - output11_loss: 0.0883 - output12_loss: 0.0242 - output1_binary_accuracy: 0.9780 - output2_binary_accuracy: 0.9349 - output3_binary_accuracy: 0.9247 - output4_binary_accuracy: 0.7765 - output5_binary_accuracy: 0.9099 - output6_binary_accuracy: 0.8924 - output7_binary_accuracy: 0.8670 - output8_binary_accuracy: 0.8998 - output9_binary_accuracy: 0.9146 - output10_binary_accuracy: 0.9643 - output11_binary_accuracy: 0.9899 - output12_binary_accuracy: 0.9981\n",
            "Epoch 00002: val_loss improved from 4.34725 to 3.96341, saving model to BERT/BiLSTM_Context_addPositionEncoding.h5\n",
            "251/251 [==============================] - 439s 2s/step - loss: 4.3289 - output1_loss: 0.1455 - output2_loss: 0.2788 - output3_loss: 0.3847 - output4_loss: 1.2203 - output5_loss: 0.3903 - output6_loss: 0.4539 - output7_loss: 0.4947 - output8_loss: 0.3738 - output9_loss: 0.3368 - output10_loss: 0.1377 - output11_loss: 0.0883 - output12_loss: 0.0242 - output1_binary_accuracy: 0.9780 - output2_binary_accuracy: 0.9349 - output3_binary_accuracy: 0.9247 - output4_binary_accuracy: 0.7765 - output5_binary_accuracy: 0.9099 - output6_binary_accuracy: 0.8924 - output7_binary_accuracy: 0.8670 - output8_binary_accuracy: 0.8998 - output9_binary_accuracy: 0.9146 - output10_binary_accuracy: 0.9643 - output11_binary_accuracy: 0.9899 - output12_binary_accuracy: 0.9981 - val_loss: 3.9634 - val_output1_loss: 0.1371 - val_output2_loss: 0.2667 - val_output3_loss: 0.3477 - val_output4_loss: 1.1650 - val_output5_loss: 0.3537 - val_output6_loss: 0.4391 - val_output7_loss: 0.4411 - val_output8_loss: 0.2932 - val_output9_loss: 0.3095 - val_output10_loss: 0.1429 - val_output11_loss: 0.0628 - val_output12_loss: 0.0046 - val_output1_binary_accuracy: 0.9775 - val_output2_binary_accuracy: 0.9268 - val_output3_binary_accuracy: 0.9268 - val_output4_binary_accuracy: 0.7900 - val_output5_binary_accuracy: 0.9189 - val_output6_binary_accuracy: 0.8936 - val_output7_binary_accuracy: 0.8818 - val_output8_binary_accuracy: 0.9307 - val_output9_binary_accuracy: 0.9326 - val_output10_binary_accuracy: 0.9600 - val_output11_binary_accuracy: 0.9932 - val_output12_binary_accuracy: 1.0000 - lr: 0.0010\n",
            "Epoch 3/15\n",
            "251/251 [==============================] - ETA: 0s - loss: 3.9906 - output1_loss: 0.1218 - output2_loss: 0.2615 - output3_loss: 0.3578 - output4_loss: 1.1864 - output5_loss: 0.3447 - output6_loss: 0.3918 - output7_loss: 0.4372 - output8_loss: 0.3392 - output9_loss: 0.3272 - output10_loss: 0.1193 - output11_loss: 0.0826 - output12_loss: 0.0212 - output1_binary_accuracy: 0.9829 - output2_binary_accuracy: 0.9319 - output3_binary_accuracy: 0.9176 - output4_binary_accuracy: 0.7933 - output5_binary_accuracy: 0.9133 - output6_binary_accuracy: 0.9060 - output7_binary_accuracy: 0.8840 - output8_binary_accuracy: 0.9084 - output9_binary_accuracy: 0.9166 - output10_binary_accuracy: 0.9685 - output11_binary_accuracy: 0.9900 - output12_binary_accuracy: 0.9981\n",
            "Epoch 00003: val_loss improved from 3.96341 to 3.77886, saving model to BERT/BiLSTM_Context_addPositionEncoding.h5\n",
            "251/251 [==============================] - 434s 2s/step - loss: 3.9906 - output1_loss: 0.1218 - output2_loss: 0.2615 - output3_loss: 0.3578 - output4_loss: 1.1864 - output5_loss: 0.3447 - output6_loss: 0.3918 - output7_loss: 0.4372 - output8_loss: 0.3392 - output9_loss: 0.3272 - output10_loss: 0.1193 - output11_loss: 0.0826 - output12_loss: 0.0212 - output1_binary_accuracy: 0.9829 - output2_binary_accuracy: 0.9319 - output3_binary_accuracy: 0.9176 - output4_binary_accuracy: 0.7933 - output5_binary_accuracy: 0.9133 - output6_binary_accuracy: 0.9060 - output7_binary_accuracy: 0.8840 - output8_binary_accuracy: 0.9084 - output9_binary_accuracy: 0.9166 - output10_binary_accuracy: 0.9685 - output11_binary_accuracy: 0.9900 - output12_binary_accuracy: 0.9981 - val_loss: 3.7789 - val_output1_loss: 0.1142 - val_output2_loss: 0.2452 - val_output3_loss: 0.3267 - val_output4_loss: 1.1878 - val_output5_loss: 0.3273 - val_output6_loss: 0.3584 - val_output7_loss: 0.4258 - val_output8_loss: 0.3007 - val_output9_loss: 0.3016 - val_output10_loss: 0.1321 - val_output11_loss: 0.0562 - val_output12_loss: 0.0028 - val_output1_binary_accuracy: 0.9814 - val_output2_binary_accuracy: 0.9287 - val_output3_binary_accuracy: 0.9248 - val_output4_binary_accuracy: 0.7871 - val_output5_binary_accuracy: 0.9111 - val_output6_binary_accuracy: 0.9189 - val_output7_binary_accuracy: 0.8809 - val_output8_binary_accuracy: 0.9102 - val_output9_binary_accuracy: 0.9160 - val_output10_binary_accuracy: 0.9580 - val_output11_binary_accuracy: 0.9932 - val_output12_binary_accuracy: 1.0000 - lr: 0.0010\n",
            "Epoch 4/15\n",
            "251/251 [==============================] - ETA: 0s - loss: 3.7609 - output1_loss: 0.1127 - output2_loss: 0.2454 - output3_loss: 0.3409 - output4_loss: 1.1504 - output5_loss: 0.3281 - output6_loss: 0.3534 - output7_loss: 0.4115 - output8_loss: 0.3068 - output9_loss: 0.3115 - output10_loss: 0.1023 - output11_loss: 0.0777 - output12_loss: 0.0202 - output1_binary_accuracy: 0.9836 - output2_binary_accuracy: 0.9346 - output3_binary_accuracy: 0.9199 - output4_binary_accuracy: 0.7972 - output5_binary_accuracy: 0.9167 - output6_binary_accuracy: 0.9173 - output7_binary_accuracy: 0.8931 - output8_binary_accuracy: 0.9202 - output9_binary_accuracy: 0.9150 - output10_binary_accuracy: 0.9697 - output11_binary_accuracy: 0.9899 - output12_binary_accuracy: 0.9981\n",
            "Epoch 00004: val_loss did not improve from 3.77886\n",
            "251/251 [==============================] - 432s 2s/step - loss: 3.7609 - output1_loss: 0.1127 - output2_loss: 0.2454 - output3_loss: 0.3409 - output4_loss: 1.1504 - output5_loss: 0.3281 - output6_loss: 0.3534 - output7_loss: 0.4115 - output8_loss: 0.3068 - output9_loss: 0.3115 - output10_loss: 0.1023 - output11_loss: 0.0777 - output12_loss: 0.0202 - output1_binary_accuracy: 0.9836 - output2_binary_accuracy: 0.9346 - output3_binary_accuracy: 0.9199 - output4_binary_accuracy: 0.7972 - output5_binary_accuracy: 0.9167 - output6_binary_accuracy: 0.9173 - output7_binary_accuracy: 0.8931 - output8_binary_accuracy: 0.9202 - output9_binary_accuracy: 0.9150 - output10_binary_accuracy: 0.9697 - output11_binary_accuracy: 0.9899 - output12_binary_accuracy: 0.9981 - val_loss: 3.7955 - val_output1_loss: 0.1104 - val_output2_loss: 0.2497 - val_output3_loss: 0.3417 - val_output4_loss: 1.1759 - val_output5_loss: 0.3343 - val_output6_loss: 0.4179 - val_output7_loss: 0.3976 - val_output8_loss: 0.2907 - val_output9_loss: 0.2954 - val_output10_loss: 0.1272 - val_output11_loss: 0.0499 - val_output12_loss: 0.0049 - val_output1_binary_accuracy: 0.9814 - val_output2_binary_accuracy: 0.9316 - val_output3_binary_accuracy: 0.9004 - val_output4_binary_accuracy: 0.7920 - val_output5_binary_accuracy: 0.9160 - val_output6_binary_accuracy: 0.8682 - val_output7_binary_accuracy: 0.8916 - val_output8_binary_accuracy: 0.9150 - val_output9_binary_accuracy: 0.9346 - val_output10_binary_accuracy: 0.9697 - val_output11_binary_accuracy: 0.9932 - val_output12_binary_accuracy: 1.0000 - lr: 0.0010\n",
            "Epoch 5/15\n",
            "251/251 [==============================] - ETA: 0s - loss: 3.4271 - output1_loss: 0.0971 - output2_loss: 0.2171 - output3_loss: 0.3172 - output4_loss: 1.0857 - output5_loss: 0.2971 - output6_loss: 0.3182 - output7_loss: 0.3518 - output8_loss: 0.2748 - output9_loss: 0.2941 - output10_loss: 0.0858 - output11_loss: 0.0703 - output12_loss: 0.0178 - output1_binary_accuracy: 0.9849 - output2_binary_accuracy: 0.9427 - output3_binary_accuracy: 0.9203 - output4_binary_accuracy: 0.8130 - output5_binary_accuracy: 0.9234 - output6_binary_accuracy: 0.9268 - output7_binary_accuracy: 0.9092 - output8_binary_accuracy: 0.9283 - output9_binary_accuracy: 0.9162 - output10_binary_accuracy: 0.9746 - output11_binary_accuracy: 0.9900 - output12_binary_accuracy: 0.9981\n",
            "Epoch 00005: val_loss improved from 3.77886 to 3.57019, saving model to BERT/BiLSTM_Context_addPositionEncoding.h5\n",
            "251/251 [==============================] - 431s 2s/step - loss: 3.4271 - output1_loss: 0.0971 - output2_loss: 0.2171 - output3_loss: 0.3172 - output4_loss: 1.0857 - output5_loss: 0.2971 - output6_loss: 0.3182 - output7_loss: 0.3518 - output8_loss: 0.2748 - output9_loss: 0.2941 - output10_loss: 0.0858 - output11_loss: 0.0703 - output12_loss: 0.0178 - output1_binary_accuracy: 0.9849 - output2_binary_accuracy: 0.9427 - output3_binary_accuracy: 0.9203 - output4_binary_accuracy: 0.8130 - output5_binary_accuracy: 0.9234 - output6_binary_accuracy: 0.9268 - output7_binary_accuracy: 0.9092 - output8_binary_accuracy: 0.9283 - output9_binary_accuracy: 0.9162 - output10_binary_accuracy: 0.9746 - output11_binary_accuracy: 0.9900 - output12_binary_accuracy: 0.9981 - val_loss: 3.5702 - val_output1_loss: 0.1072 - val_output2_loss: 0.2389 - val_output3_loss: 0.3149 - val_output4_loss: 1.1733 - val_output5_loss: 0.3195 - val_output6_loss: 0.3236 - val_output7_loss: 0.3815 - val_output8_loss: 0.2634 - val_output9_loss: 0.2867 - val_output10_loss: 0.1109 - val_output11_loss: 0.0461 - val_output12_loss: 0.0044 - val_output1_binary_accuracy: 0.9824 - val_output2_binary_accuracy: 0.9385 - val_output3_binary_accuracy: 0.9248 - val_output4_binary_accuracy: 0.7930 - val_output5_binary_accuracy: 0.9189 - val_output6_binary_accuracy: 0.9209 - val_output7_binary_accuracy: 0.8945 - val_output8_binary_accuracy: 0.9160 - val_output9_binary_accuracy: 0.9355 - val_output10_binary_accuracy: 0.9688 - val_output11_binary_accuracy: 0.9932 - val_output12_binary_accuracy: 1.0000 - lr: 3.0000e-04\n",
            "Epoch 6/15\n",
            "251/251 [==============================] - ETA: 0s - loss: 3.3147 - output1_loss: 0.0964 - output2_loss: 0.2054 - output3_loss: 0.3113 - output4_loss: 1.0551 - output5_loss: 0.2945 - output6_loss: 0.3110 - output7_loss: 0.3298 - output8_loss: 0.2655 - output9_loss: 0.2831 - output10_loss: 0.0811 - output11_loss: 0.0651 - output12_loss: 0.0165 - output1_binary_accuracy: 0.9848 - output2_binary_accuracy: 0.9473 - output3_binary_accuracy: 0.9212 - output4_binary_accuracy: 0.8220 - output5_binary_accuracy: 0.9237 - output6_binary_accuracy: 0.9283 - output7_binary_accuracy: 0.9152 - output8_binary_accuracy: 0.9307 - output9_binary_accuracy: 0.9208 - output10_binary_accuracy: 0.9776 - output11_binary_accuracy: 0.9907 - output12_binary_accuracy: 0.9981\n",
            "Epoch 00006: val_loss improved from 3.57019 to 3.53784, saving model to BERT/BiLSTM_Context_addPositionEncoding.h5\n",
            "251/251 [==============================] - 433s 2s/step - loss: 3.3147 - output1_loss: 0.0964 - output2_loss: 0.2054 - output3_loss: 0.3113 - output4_loss: 1.0551 - output5_loss: 0.2945 - output6_loss: 0.3110 - output7_loss: 0.3298 - output8_loss: 0.2655 - output9_loss: 0.2831 - output10_loss: 0.0811 - output11_loss: 0.0651 - output12_loss: 0.0165 - output1_binary_accuracy: 0.9848 - output2_binary_accuracy: 0.9473 - output3_binary_accuracy: 0.9212 - output4_binary_accuracy: 0.8220 - output5_binary_accuracy: 0.9237 - output6_binary_accuracy: 0.9283 - output7_binary_accuracy: 0.9152 - output8_binary_accuracy: 0.9307 - output9_binary_accuracy: 0.9208 - output10_binary_accuracy: 0.9776 - output11_binary_accuracy: 0.9907 - output12_binary_accuracy: 0.9981 - val_loss: 3.5378 - val_output1_loss: 0.1141 - val_output2_loss: 0.2354 - val_output3_loss: 0.3261 - val_output4_loss: 1.1428 - val_output5_loss: 0.3212 - val_output6_loss: 0.3111 - val_output7_loss: 0.3699 - val_output8_loss: 0.2705 - val_output9_loss: 0.2852 - val_output10_loss: 0.1146 - val_output11_loss: 0.0435 - val_output12_loss: 0.0035 - val_output1_binary_accuracy: 0.9814 - val_output2_binary_accuracy: 0.9385 - val_output3_binary_accuracy: 0.9277 - val_output4_binary_accuracy: 0.8008 - val_output5_binary_accuracy: 0.9189 - val_output6_binary_accuracy: 0.9375 - val_output7_binary_accuracy: 0.8984 - val_output8_binary_accuracy: 0.9121 - val_output9_binary_accuracy: 0.9238 - val_output10_binary_accuracy: 0.9697 - val_output11_binary_accuracy: 0.9932 - val_output12_binary_accuracy: 1.0000 - lr: 3.0000e-04\n",
            "Epoch 7/15\n",
            "251/251 [==============================] - ETA: 0s - loss: 3.2166 - output1_loss: 0.0940 - output2_loss: 0.1949 - output3_loss: 0.3057 - output4_loss: 1.0391 - output5_loss: 0.2828 - output6_loss: 0.3025 - output7_loss: 0.3152 - output8_loss: 0.2545 - output9_loss: 0.2736 - output10_loss: 0.0789 - output11_loss: 0.0606 - output12_loss: 0.0147 - output1_binary_accuracy: 0.9846 - output2_binary_accuracy: 0.9495 - output3_binary_accuracy: 0.9203 - output4_binary_accuracy: 0.8253 - output5_binary_accuracy: 0.9257 - output6_binary_accuracy: 0.9328 - output7_binary_accuracy: 0.9180 - output8_binary_accuracy: 0.9328 - output9_binary_accuracy: 0.9227 - output10_binary_accuracy: 0.9772 - output11_binary_accuracy: 0.9907 - output12_binary_accuracy: 0.9983\n",
            "Epoch 00007: val_loss did not improve from 3.53784\n",
            "251/251 [==============================] - 433s 2s/step - loss: 3.2166 - output1_loss: 0.0940 - output2_loss: 0.1949 - output3_loss: 0.3057 - output4_loss: 1.0391 - output5_loss: 0.2828 - output6_loss: 0.3025 - output7_loss: 0.3152 - output8_loss: 0.2545 - output9_loss: 0.2736 - output10_loss: 0.0789 - output11_loss: 0.0606 - output12_loss: 0.0147 - output1_binary_accuracy: 0.9846 - output2_binary_accuracy: 0.9495 - output3_binary_accuracy: 0.9203 - output4_binary_accuracy: 0.8253 - output5_binary_accuracy: 0.9257 - output6_binary_accuracy: 0.9328 - output7_binary_accuracy: 0.9180 - output8_binary_accuracy: 0.9328 - output9_binary_accuracy: 0.9227 - output10_binary_accuracy: 0.9772 - output11_binary_accuracy: 0.9907 - output12_binary_accuracy: 0.9983 - val_loss: 3.5593 - val_output1_loss: 0.1160 - val_output2_loss: 0.2322 - val_output3_loss: 0.3170 - val_output4_loss: 1.1557 - val_output5_loss: 0.3326 - val_output6_loss: 0.3172 - val_output7_loss: 0.3923 - val_output8_loss: 0.2520 - val_output9_loss: 0.2767 - val_output10_loss: 0.1158 - val_output11_loss: 0.0453 - val_output12_loss: 0.0066 - val_output1_binary_accuracy: 0.9814 - val_output2_binary_accuracy: 0.9346 - val_output3_binary_accuracy: 0.9258 - val_output4_binary_accuracy: 0.7988 - val_output5_binary_accuracy: 0.9229 - val_output6_binary_accuracy: 0.9336 - val_output7_binary_accuracy: 0.8975 - val_output8_binary_accuracy: 0.9307 - val_output9_binary_accuracy: 0.9297 - val_output10_binary_accuracy: 0.9629 - val_output11_binary_accuracy: 0.9932 - val_output12_binary_accuracy: 1.0000 - lr: 3.0000e-04\n",
            "Epoch 8/15\n",
            "251/251 [==============================] - ETA: 0s - loss: 3.0399 - output1_loss: 0.0886 - output2_loss: 0.1815 - output3_loss: 0.2959 - output4_loss: 0.9856 - output5_loss: 0.2688 - output6_loss: 0.2828 - output7_loss: 0.2952 - output8_loss: 0.2353 - output9_loss: 0.2656 - output10_loss: 0.0682 - output11_loss: 0.0569 - output12_loss: 0.0155 - output1_binary_accuracy: 0.9852 - output2_binary_accuracy: 0.9519 - output3_binary_accuracy: 0.9224 - output4_binary_accuracy: 0.8348 - output5_binary_accuracy: 0.9273 - output6_binary_accuracy: 0.9375 - output7_binary_accuracy: 0.9249 - output8_binary_accuracy: 0.9400 - output9_binary_accuracy: 0.9260 - output10_binary_accuracy: 0.9808 - output11_binary_accuracy: 0.9904 - output12_binary_accuracy: 0.9981\n",
            "Epoch 00008: val_loss did not improve from 3.53784\n",
            "251/251 [==============================] - 432s 2s/step - loss: 3.0399 - output1_loss: 0.0886 - output2_loss: 0.1815 - output3_loss: 0.2959 - output4_loss: 0.9856 - output5_loss: 0.2688 - output6_loss: 0.2828 - output7_loss: 0.2952 - output8_loss: 0.2353 - output9_loss: 0.2656 - output10_loss: 0.0682 - output11_loss: 0.0569 - output12_loss: 0.0155 - output1_binary_accuracy: 0.9852 - output2_binary_accuracy: 0.9519 - output3_binary_accuracy: 0.9224 - output4_binary_accuracy: 0.8348 - output5_binary_accuracy: 0.9273 - output6_binary_accuracy: 0.9375 - output7_binary_accuracy: 0.9249 - output8_binary_accuracy: 0.9400 - output9_binary_accuracy: 0.9260 - output10_binary_accuracy: 0.9808 - output11_binary_accuracy: 0.9904 - output12_binary_accuracy: 0.9981 - val_loss: 3.5515 - val_output1_loss: 0.1140 - val_output2_loss: 0.2422 - val_output3_loss: 0.3220 - val_output4_loss: 1.1623 - val_output5_loss: 0.3253 - val_output6_loss: 0.3087 - val_output7_loss: 0.3840 - val_output8_loss: 0.2562 - val_output9_loss: 0.2765 - val_output10_loss: 0.1127 - val_output11_loss: 0.0432 - val_output12_loss: 0.0042 - val_output1_binary_accuracy: 0.9814 - val_output2_binary_accuracy: 0.9326 - val_output3_binary_accuracy: 0.9248 - val_output4_binary_accuracy: 0.8008 - val_output5_binary_accuracy: 0.9189 - val_output6_binary_accuracy: 0.9395 - val_output7_binary_accuracy: 0.9033 - val_output8_binary_accuracy: 0.9170 - val_output9_binary_accuracy: 0.9268 - val_output10_binary_accuracy: 0.9727 - val_output11_binary_accuracy: 0.9922 - val_output12_binary_accuracy: 1.0000 - lr: 9.0000e-05\n",
            "Epoch 9/15\n",
            "251/251 [==============================] - ETA: 0s - loss: 2.9592 - output1_loss: 0.0870 - output2_loss: 0.1739 - output3_loss: 0.2898 - output4_loss: 0.9620 - output5_loss: 0.2658 - output6_loss: 0.2778 - output7_loss: 0.2825 - output8_loss: 0.2281 - output9_loss: 0.2578 - output10_loss: 0.0642 - output11_loss: 0.0548 - output12_loss: 0.0155 - output1_binary_accuracy: 0.9852 - output2_binary_accuracy: 0.9552 - output3_binary_accuracy: 0.9250 - output4_binary_accuracy: 0.8381 - output5_binary_accuracy: 0.9293 - output6_binary_accuracy: 0.9364 - output7_binary_accuracy: 0.9294 - output8_binary_accuracy: 0.9410 - output9_binary_accuracy: 0.9274 - output10_binary_accuracy: 0.9816 - output11_binary_accuracy: 0.9909 - output12_binary_accuracy: 0.9981\n",
            "Epoch 00009: val_loss did not improve from 3.53784\n",
            "251/251 [==============================] - 434s 2s/step - loss: 2.9592 - output1_loss: 0.0870 - output2_loss: 0.1739 - output3_loss: 0.2898 - output4_loss: 0.9620 - output5_loss: 0.2658 - output6_loss: 0.2778 - output7_loss: 0.2825 - output8_loss: 0.2281 - output9_loss: 0.2578 - output10_loss: 0.0642 - output11_loss: 0.0548 - output12_loss: 0.0155 - output1_binary_accuracy: 0.9852 - output2_binary_accuracy: 0.9552 - output3_binary_accuracy: 0.9250 - output4_binary_accuracy: 0.8381 - output5_binary_accuracy: 0.9293 - output6_binary_accuracy: 0.9364 - output7_binary_accuracy: 0.9294 - output8_binary_accuracy: 0.9410 - output9_binary_accuracy: 0.9274 - output10_binary_accuracy: 0.9816 - output11_binary_accuracy: 0.9909 - output12_binary_accuracy: 0.9981 - val_loss: 3.5540 - val_output1_loss: 0.1150 - val_output2_loss: 0.2414 - val_output3_loss: 0.3189 - val_output4_loss: 1.1735 - val_output5_loss: 0.3237 - val_output6_loss: 0.3069 - val_output7_loss: 0.3857 - val_output8_loss: 0.2505 - val_output9_loss: 0.2779 - val_output10_loss: 0.1153 - val_output11_loss: 0.0417 - val_output12_loss: 0.0035 - val_output1_binary_accuracy: 0.9814 - val_output2_binary_accuracy: 0.9326 - val_output3_binary_accuracy: 0.9199 - val_output4_binary_accuracy: 0.7979 - val_output5_binary_accuracy: 0.9189 - val_output6_binary_accuracy: 0.9385 - val_output7_binary_accuracy: 0.9014 - val_output8_binary_accuracy: 0.9189 - val_output9_binary_accuracy: 0.9238 - val_output10_binary_accuracy: 0.9756 - val_output11_binary_accuracy: 0.9922 - val_output12_binary_accuracy: 1.0000 - lr: 2.7000e-05\n",
            "Epoch 10/15\n",
            "251/251 [==============================] - ETA: 0s - loss: 2.9411 - output1_loss: 0.0870 - output2_loss: 0.1747 - output3_loss: 0.2900 - output4_loss: 0.9545 - output5_loss: 0.2610 - output6_loss: 0.2798 - output7_loss: 0.2800 - output8_loss: 0.2234 - output9_loss: 0.2573 - output10_loss: 0.0624 - output11_loss: 0.0555 - output12_loss: 0.0153 - output1_binary_accuracy: 0.9853 - output2_binary_accuracy: 0.9554 - output3_binary_accuracy: 0.9246 - output4_binary_accuracy: 0.8384 - output5_binary_accuracy: 0.9290 - output6_binary_accuracy: 0.9361 - output7_binary_accuracy: 0.9308 - output8_binary_accuracy: 0.9424 - output9_binary_accuracy: 0.9231 - output10_binary_accuracy: 0.9823 - output11_binary_accuracy: 0.9908 - output12_binary_accuracy: 0.9981\n",
            "Epoch 00010: val_loss did not improve from 3.53784\n",
            "251/251 [==============================] - 434s 2s/step - loss: 2.9411 - output1_loss: 0.0870 - output2_loss: 0.1747 - output3_loss: 0.2900 - output4_loss: 0.9545 - output5_loss: 0.2610 - output6_loss: 0.2798 - output7_loss: 0.2800 - output8_loss: 0.2234 - output9_loss: 0.2573 - output10_loss: 0.0624 - output11_loss: 0.0555 - output12_loss: 0.0153 - output1_binary_accuracy: 0.9853 - output2_binary_accuracy: 0.9554 - output3_binary_accuracy: 0.9246 - output4_binary_accuracy: 0.8384 - output5_binary_accuracy: 0.9290 - output6_binary_accuracy: 0.9361 - output7_binary_accuracy: 0.9308 - output8_binary_accuracy: 0.9424 - output9_binary_accuracy: 0.9231 - output10_binary_accuracy: 0.9823 - output11_binary_accuracy: 0.9908 - output12_binary_accuracy: 0.9981 - val_loss: 3.5398 - val_output1_loss: 0.1148 - val_output2_loss: 0.2417 - val_output3_loss: 0.3191 - val_output4_loss: 1.1686 - val_output5_loss: 0.3248 - val_output6_loss: 0.3075 - val_output7_loss: 0.3850 - val_output8_loss: 0.2458 - val_output9_loss: 0.2712 - val_output10_loss: 0.1161 - val_output11_loss: 0.0417 - val_output12_loss: 0.0035 - val_output1_binary_accuracy: 0.9814 - val_output2_binary_accuracy: 0.9336 - val_output3_binary_accuracy: 0.9199 - val_output4_binary_accuracy: 0.8027 - val_output5_binary_accuracy: 0.9170 - val_output6_binary_accuracy: 0.9395 - val_output7_binary_accuracy: 0.9014 - val_output8_binary_accuracy: 0.9219 - val_output9_binary_accuracy: 0.9277 - val_output10_binary_accuracy: 0.9756 - val_output11_binary_accuracy: 0.9922 - val_output12_binary_accuracy: 1.0000 - lr: 1.0000e-05\n",
            "Epoch 11/15\n",
            "251/251 [==============================] - ETA: 0s - loss: 2.9378 - output1_loss: 0.0851 - output2_loss: 0.1751 - output3_loss: 0.2899 - output4_loss: 0.9568 - output5_loss: 0.2612 - output6_loss: 0.2778 - output7_loss: 0.2781 - output8_loss: 0.2232 - output9_loss: 0.2579 - output10_loss: 0.0634 - output11_loss: 0.0537 - output12_loss: 0.0157 - output1_binary_accuracy: 0.9854 - output2_binary_accuracy: 0.9533 - output3_binary_accuracy: 0.9249 - output4_binary_accuracy: 0.8424 - output5_binary_accuracy: 0.9285 - output6_binary_accuracy: 0.9365 - output7_binary_accuracy: 0.9314 - output8_binary_accuracy: 0.9421 - output9_binary_accuracy: 0.9279 - output10_binary_accuracy: 0.9829 - output11_binary_accuracy: 0.9908 - output12_binary_accuracy: 0.9981\n",
            "Epoch 00011: val_loss did not improve from 3.53784\n",
            "251/251 [==============================] - 436s 2s/step - loss: 2.9378 - output1_loss: 0.0851 - output2_loss: 0.1751 - output3_loss: 0.2899 - output4_loss: 0.9568 - output5_loss: 0.2612 - output6_loss: 0.2778 - output7_loss: 0.2781 - output8_loss: 0.2232 - output9_loss: 0.2579 - output10_loss: 0.0634 - output11_loss: 0.0537 - output12_loss: 0.0157 - output1_binary_accuracy: 0.9854 - output2_binary_accuracy: 0.9533 - output3_binary_accuracy: 0.9249 - output4_binary_accuracy: 0.8424 - output5_binary_accuracy: 0.9285 - output6_binary_accuracy: 0.9365 - output7_binary_accuracy: 0.9314 - output8_binary_accuracy: 0.9421 - output9_binary_accuracy: 0.9279 - output10_binary_accuracy: 0.9829 - output11_binary_accuracy: 0.9908 - output12_binary_accuracy: 0.9981 - val_loss: 3.5622 - val_output1_loss: 0.1150 - val_output2_loss: 0.2424 - val_output3_loss: 0.3213 - val_output4_loss: 1.1771 - val_output5_loss: 0.3266 - val_output6_loss: 0.3007 - val_output7_loss: 0.3884 - val_output8_loss: 0.2505 - val_output9_loss: 0.2783 - val_output10_loss: 0.1169 - val_output11_loss: 0.0416 - val_output12_loss: 0.0034 - val_output1_binary_accuracy: 0.9814 - val_output2_binary_accuracy: 0.9336 - val_output3_binary_accuracy: 0.9189 - val_output4_binary_accuracy: 0.7979 - val_output5_binary_accuracy: 0.9180 - val_output6_binary_accuracy: 0.9414 - val_output7_binary_accuracy: 0.8994 - val_output8_binary_accuracy: 0.9209 - val_output9_binary_accuracy: 0.9229 - val_output10_binary_accuracy: 0.9756 - val_output11_binary_accuracy: 0.9922 - val_output12_binary_accuracy: 1.0000 - lr: 1.0000e-05\n",
            "Epoch 12/15\n",
            "251/251 [==============================] - ETA: 0s - loss: 2.9335 - output1_loss: 0.0863 - output2_loss: 0.1728 - output3_loss: 0.2887 - output4_loss: 0.9515 - output5_loss: 0.2613 - output6_loss: 0.2774 - output7_loss: 0.2837 - output8_loss: 0.2237 - output9_loss: 0.2567 - output10_loss: 0.0630 - output11_loss: 0.0538 - output12_loss: 0.0148 - output1_binary_accuracy: 0.9853 - output2_binary_accuracy: 0.9569 - output3_binary_accuracy: 0.9247 - output4_binary_accuracy: 0.8409 - output5_binary_accuracy: 0.9293 - output6_binary_accuracy: 0.9379 - output7_binary_accuracy: 0.9269 - output8_binary_accuracy: 0.9424 - output9_binary_accuracy: 0.9278 - output10_binary_accuracy: 0.9821 - output11_binary_accuracy: 0.9905 - output12_binary_accuracy: 0.9981\n",
            "Epoch 00012: val_loss did not improve from 3.53784\n",
            "251/251 [==============================] - 435s 2s/step - loss: 2.9335 - output1_loss: 0.0863 - output2_loss: 0.1728 - output3_loss: 0.2887 - output4_loss: 0.9515 - output5_loss: 0.2613 - output6_loss: 0.2774 - output7_loss: 0.2837 - output8_loss: 0.2237 - output9_loss: 0.2567 - output10_loss: 0.0630 - output11_loss: 0.0538 - output12_loss: 0.0148 - output1_binary_accuracy: 0.9853 - output2_binary_accuracy: 0.9569 - output3_binary_accuracy: 0.9247 - output4_binary_accuracy: 0.8409 - output5_binary_accuracy: 0.9293 - output6_binary_accuracy: 0.9379 - output7_binary_accuracy: 0.9269 - output8_binary_accuracy: 0.9424 - output9_binary_accuracy: 0.9278 - output10_binary_accuracy: 0.9821 - output11_binary_accuracy: 0.9905 - output12_binary_accuracy: 0.9981 - val_loss: 3.5646 - val_output1_loss: 0.1151 - val_output2_loss: 0.2421 - val_output3_loss: 0.3211 - val_output4_loss: 1.1739 - val_output5_loss: 0.3265 - val_output6_loss: 0.3074 - val_output7_loss: 0.3874 - val_output8_loss: 0.2522 - val_output9_loss: 0.2770 - val_output10_loss: 0.1167 - val_output11_loss: 0.0418 - val_output12_loss: 0.0034 - val_output1_binary_accuracy: 0.9814 - val_output2_binary_accuracy: 0.9336 - val_output3_binary_accuracy: 0.9189 - val_output4_binary_accuracy: 0.7988 - val_output5_binary_accuracy: 0.9170 - val_output6_binary_accuracy: 0.9404 - val_output7_binary_accuracy: 0.8994 - val_output8_binary_accuracy: 0.9180 - val_output9_binary_accuracy: 0.9248 - val_output10_binary_accuracy: 0.9756 - val_output11_binary_accuracy: 0.9922 - val_output12_binary_accuracy: 1.0000 - lr: 1.0000e-05\n",
            "Epoch 13/15\n",
            "251/251 [==============================] - ETA: 0s - loss: 2.9193 - output1_loss: 0.0867 - output2_loss: 0.1724 - output3_loss: 0.2873 - output4_loss: 0.9456 - output5_loss: 0.2605 - output6_loss: 0.2776 - output7_loss: 0.2771 - output8_loss: 0.2233 - output9_loss: 0.2557 - output10_loss: 0.0643 - output11_loss: 0.0537 - output12_loss: 0.0152 - output1_binary_accuracy: 0.9852 - output2_binary_accuracy: 0.9546 - output3_binary_accuracy: 0.9252 - output4_binary_accuracy: 0.8434 - output5_binary_accuracy: 0.9298 - output6_binary_accuracy: 0.9374 - output7_binary_accuracy: 0.9305 - output8_binary_accuracy: 0.9426 - output9_binary_accuracy: 0.9300 - output10_binary_accuracy: 0.9818 - output11_binary_accuracy: 0.9912 - output12_binary_accuracy: 0.9981\n",
            "Epoch 00013: val_loss did not improve from 3.53784\n",
            "251/251 [==============================] - 435s 2s/step - loss: 2.9193 - output1_loss: 0.0867 - output2_loss: 0.1724 - output3_loss: 0.2873 - output4_loss: 0.9456 - output5_loss: 0.2605 - output6_loss: 0.2776 - output7_loss: 0.2771 - output8_loss: 0.2233 - output9_loss: 0.2557 - output10_loss: 0.0643 - output11_loss: 0.0537 - output12_loss: 0.0152 - output1_binary_accuracy: 0.9852 - output2_binary_accuracy: 0.9546 - output3_binary_accuracy: 0.9252 - output4_binary_accuracy: 0.8434 - output5_binary_accuracy: 0.9298 - output6_binary_accuracy: 0.9374 - output7_binary_accuracy: 0.9305 - output8_binary_accuracy: 0.9426 - output9_binary_accuracy: 0.9300 - output10_binary_accuracy: 0.9818 - output11_binary_accuracy: 0.9912 - output12_binary_accuracy: 0.9981 - val_loss: 3.5518 - val_output1_loss: 0.1128 - val_output2_loss: 0.2390 - val_output3_loss: 0.3199 - val_output4_loss: 1.1714 - val_output5_loss: 0.3241 - val_output6_loss: 0.3081 - val_output7_loss: 0.3870 - val_output8_loss: 0.2507 - val_output9_loss: 0.2760 - val_output10_loss: 0.1179 - val_output11_loss: 0.0416 - val_output12_loss: 0.0034 - val_output1_binary_accuracy: 0.9824 - val_output2_binary_accuracy: 0.9355 - val_output3_binary_accuracy: 0.9199 - val_output4_binary_accuracy: 0.7988 - val_output5_binary_accuracy: 0.9189 - val_output6_binary_accuracy: 0.9404 - val_output7_binary_accuracy: 0.9023 - val_output8_binary_accuracy: 0.9180 - val_output9_binary_accuracy: 0.9258 - val_output10_binary_accuracy: 0.9746 - val_output11_binary_accuracy: 0.9922 - val_output12_binary_accuracy: 1.0000 - lr: 1.0000e-05\n",
            "Epoch 14/15\n",
            "251/251 [==============================] - ETA: 0s - loss: 2.9096 - output1_loss: 0.0857 - output2_loss: 0.1729 - output3_loss: 0.2886 - output4_loss: 0.9476 - output5_loss: 0.2578 - output6_loss: 0.2733 - output7_loss: 0.2765 - output8_loss: 0.2233 - output9_loss: 0.2528 - output10_loss: 0.0622 - output11_loss: 0.0540 - output12_loss: 0.0148 - output1_binary_accuracy: 0.9852 - output2_binary_accuracy: 0.9549 - output3_binary_accuracy: 0.9255 - output4_binary_accuracy: 0.8396 - output5_binary_accuracy: 0.9292 - output6_binary_accuracy: 0.9382 - output7_binary_accuracy: 0.9292 - output8_binary_accuracy: 0.9411 - output9_binary_accuracy: 0.9283 - output10_binary_accuracy: 0.9817 - output11_binary_accuracy: 0.9913 - output12_binary_accuracy: 0.9981\n",
            "Epoch 00014: val_loss did not improve from 3.53784\n",
            "251/251 [==============================] - 436s 2s/step - loss: 2.9096 - output1_loss: 0.0857 - output2_loss: 0.1729 - output3_loss: 0.2886 - output4_loss: 0.9476 - output5_loss: 0.2578 - output6_loss: 0.2733 - output7_loss: 0.2765 - output8_loss: 0.2233 - output9_loss: 0.2528 - output10_loss: 0.0622 - output11_loss: 0.0540 - output12_loss: 0.0148 - output1_binary_accuracy: 0.9852 - output2_binary_accuracy: 0.9549 - output3_binary_accuracy: 0.9255 - output4_binary_accuracy: 0.8396 - output5_binary_accuracy: 0.9292 - output6_binary_accuracy: 0.9382 - output7_binary_accuracy: 0.9292 - output8_binary_accuracy: 0.9411 - output9_binary_accuracy: 0.9283 - output10_binary_accuracy: 0.9817 - output11_binary_accuracy: 0.9913 - output12_binary_accuracy: 0.9981 - val_loss: 3.5465 - val_output1_loss: 0.1153 - val_output2_loss: 0.2337 - val_output3_loss: 0.3192 - val_output4_loss: 1.1688 - val_output5_loss: 0.3271 - val_output6_loss: 0.3044 - val_output7_loss: 0.3898 - val_output8_loss: 0.2478 - val_output9_loss: 0.2767 - val_output10_loss: 0.1189 - val_output11_loss: 0.0415 - val_output12_loss: 0.0033 - val_output1_binary_accuracy: 0.9814 - val_output2_binary_accuracy: 0.9346 - val_output3_binary_accuracy: 0.9199 - val_output4_binary_accuracy: 0.7998 - val_output5_binary_accuracy: 0.9180 - val_output6_binary_accuracy: 0.9414 - val_output7_binary_accuracy: 0.9004 - val_output8_binary_accuracy: 0.9209 - val_output9_binary_accuracy: 0.9229 - val_output10_binary_accuracy: 0.9746 - val_output11_binary_accuracy: 0.9922 - val_output12_binary_accuracy: 1.0000 - lr: 1.0000e-05\n",
            "Epoch 15/15\n",
            "251/251 [==============================] - ETA: 0s - loss: 2.9101 - output1_loss: 0.0875 - output2_loss: 0.1741 - output3_loss: 0.2895 - output4_loss: 0.9395 - output5_loss: 0.2589 - output6_loss: 0.2729 - output7_loss: 0.2783 - output8_loss: 0.2233 - output9_loss: 0.2513 - output10_loss: 0.0637 - output11_loss: 0.0553 - output12_loss: 0.0158 - output1_binary_accuracy: 0.9852 - output2_binary_accuracy: 0.9543 - output3_binary_accuracy: 0.9222 - output4_binary_accuracy: 0.8404 - output5_binary_accuracy: 0.9304 - output6_binary_accuracy: 0.9377 - output7_binary_accuracy: 0.9269 - output8_binary_accuracy: 0.9427 - output9_binary_accuracy: 0.9285 - output10_binary_accuracy: 0.9821 - output11_binary_accuracy: 0.9912 - output12_binary_accuracy: 0.9981\n",
            "Epoch 00015: val_loss did not improve from 3.53784\n",
            "251/251 [==============================] - 436s 2s/step - loss: 2.9101 - output1_loss: 0.0875 - output2_loss: 0.1741 - output3_loss: 0.2895 - output4_loss: 0.9395 - output5_loss: 0.2589 - output6_loss: 0.2729 - output7_loss: 0.2783 - output8_loss: 0.2233 - output9_loss: 0.2513 - output10_loss: 0.0637 - output11_loss: 0.0553 - output12_loss: 0.0158 - output1_binary_accuracy: 0.9852 - output2_binary_accuracy: 0.9543 - output3_binary_accuracy: 0.9222 - output4_binary_accuracy: 0.8404 - output5_binary_accuracy: 0.9304 - output6_binary_accuracy: 0.9377 - output7_binary_accuracy: 0.9269 - output8_binary_accuracy: 0.9427 - output9_binary_accuracy: 0.9285 - output10_binary_accuracy: 0.9821 - output11_binary_accuracy: 0.9912 - output12_binary_accuracy: 0.9981 - val_loss: 3.5780 - val_output1_loss: 0.1157 - val_output2_loss: 0.2431 - val_output3_loss: 0.3220 - val_output4_loss: 1.1797 - val_output5_loss: 0.3291 - val_output6_loss: 0.3081 - val_output7_loss: 0.3901 - val_output8_loss: 0.2510 - val_output9_loss: 0.2769 - val_output10_loss: 0.1175 - val_output11_loss: 0.0417 - val_output12_loss: 0.0033 - val_output1_binary_accuracy: 0.9814 - val_output2_binary_accuracy: 0.9336 - val_output3_binary_accuracy: 0.9180 - val_output4_binary_accuracy: 0.7969 - val_output5_binary_accuracy: 0.9170 - val_output6_binary_accuracy: 0.9404 - val_output7_binary_accuracy: 0.9004 - val_output8_binary_accuracy: 0.9180 - val_output9_binary_accuracy: 0.9238 - val_output10_binary_accuracy: 0.9756 - val_output11_binary_accuracy: 0.9922 - val_output12_binary_accuracy: 1.0000 - lr: 1.0000e-05\n"
          ],
          "name": "stdout"
        },
        {
          "output_type": "execute_result",
          "data": {
            "text/plain": [
              "<tensorflow.python.keras.callbacks.History at 0x7f50bb176160>"
            ]
          },
          "metadata": {
            "tags": []
          },
          "execution_count": 30
        }
      ]
    },
    {
      "cell_type": "markdown",
      "metadata": {
        "id": "QMfSJxN--xs1",
        "colab_type": "text"
      },
      "source": [
        "## Prediction\n",
        "\n",
        "\n"
      ]
    },
    {
      "cell_type": "code",
      "metadata": {
        "id": "jsDym2PgJ6ml",
        "colab_type": "code",
        "colab": {
          "base_uri": "https://localhost:8080/",
          "height": 1000
        },
        "outputId": "5e9dc854-2841-4507-fea5-12f287528ae5"
      },
      "source": [
        "model.summary()"
      ],
      "execution_count": 31,
      "outputs": [
        {
          "output_type": "stream",
          "text": [
            "Model: \"model_1\"\n",
            "__________________________________________________________________________________________________\n",
            "Layer (type)                    Output Shape         Param #     Connected to                     \n",
            "==================================================================================================\n",
            "input_3 (InputLayer)            [(None, 3777, 768)]  0                                            \n",
            "__________________________________________________________________________________________________\n",
            "spatial_dropout1d_1 (SpatialDro (None, 3777, 768)    0           input_3[0][0]                    \n",
            "__________________________________________________________________________________________________\n",
            "bidirectional_2 (Bidirectional) (None, 3777, 128)    426496      spatial_dropout1d_1[0][0]        \n",
            "__________________________________________________________________________________________________\n",
            "bidirectional_3 (Bidirectional) (None, 3777, 128)    98816       bidirectional_2[0][0]            \n",
            "__________________________________________________________________________________________________\n",
            "global_max_pooling1d_1 (GlobalM (None, 128)          0           bidirectional_3[0][0]            \n",
            "__________________________________________________________________________________________________\n",
            "global_average_pooling1d_1 (Glo (None, 128)          0           bidirectional_3[0][0]            \n",
            "__________________________________________________________________________________________________\n",
            "input_4 (InputLayer)            [(None, 1)]          0                                            \n",
            "__________________________________________________________________________________________________\n",
            "concatenate_1 (Concatenate)     (None, 257)          0           global_max_pooling1d_1[0][0]     \n",
            "                                                                 global_average_pooling1d_1[0][0] \n",
            "                                                                 input_4[0][0]                    \n",
            "__________________________________________________________________________________________________\n",
            "dense_2 (Dense)                 (None, 257)          66306       concatenate_1[0][0]              \n",
            "__________________________________________________________________________________________________\n",
            "add_2 (Add)                     (None, 257)          0           concatenate_1[0][0]              \n",
            "                                                                 dense_2[0][0]                    \n",
            "__________________________________________________________________________________________________\n",
            "dense_3 (Dense)                 (None, 257)          66306       add_2[0][0]                      \n",
            "__________________________________________________________________________________________________\n",
            "add_3 (Add)                     (None, 257)          0           add_2[0][0]                      \n",
            "                                                                 dense_3[0][0]                    \n",
            "__________________________________________________________________________________________________\n",
            "output1 (Dense)                 (None, 1)            258         add_3[0][0]                      \n",
            "__________________________________________________________________________________________________\n",
            "output2 (Dense)                 (None, 1)            258         add_3[0][0]                      \n",
            "__________________________________________________________________________________________________\n",
            "output3 (Dense)                 (None, 1)            258         add_3[0][0]                      \n",
            "__________________________________________________________________________________________________\n",
            "output4 (Dense)                 (None, 1)            258         add_3[0][0]                      \n",
            "__________________________________________________________________________________________________\n",
            "output5 (Dense)                 (None, 1)            258         add_3[0][0]                      \n",
            "__________________________________________________________________________________________________\n",
            "output6 (Dense)                 (None, 1)            258         add_3[0][0]                      \n",
            "__________________________________________________________________________________________________\n",
            "output7 (Dense)                 (None, 1)            258         add_3[0][0]                      \n",
            "__________________________________________________________________________________________________\n",
            "output8 (Dense)                 (None, 1)            258         add_3[0][0]                      \n",
            "__________________________________________________________________________________________________\n",
            "output9 (Dense)                 (None, 1)            258         add_3[0][0]                      \n",
            "__________________________________________________________________________________________________\n",
            "output10 (Dense)                (None, 1)            258         add_3[0][0]                      \n",
            "__________________________________________________________________________________________________\n",
            "output11 (Dense)                (None, 1)            258         add_3[0][0]                      \n",
            "__________________________________________________________________________________________________\n",
            "output12 (Dense)                (None, 1)            258         add_3[0][0]                      \n",
            "==================================================================================================\n",
            "Total params: 661,020\n",
            "Trainable params: 661,020\n",
            "Non-trainable params: 0\n",
            "__________________________________________________________________________________________________\n"
          ],
          "name": "stdout"
        }
      ]
    },
    {
      "cell_type": "code",
      "metadata": {
        "id": "onSOnIBxPXa0",
        "colab_type": "code",
        "colab": {}
      },
      "source": [
        "model.load_weights(Name)"
      ],
      "execution_count": 0,
      "outputs": []
    },
    {
      "cell_type": "code",
      "metadata": {
        "id": "2ZwqpZmP_pVV",
        "colab_type": "code",
        "colab": {}
      },
      "source": [
        "class testDataGenerator(tf.keras.utils.Sequence):\n",
        "    'Generates data for Keras'\n",
        "    def __init__(self, pdDataFrame, dbName, labels=['oQ', 'RQ', 'CQ', 'FD', 'FQ', 'IR', 'PA', 'PF', 'NF', 'GG', 'JK', 'O'],\\\n",
        "                 batch_size=25, dim=MAX_LEN, n_channels=N_CHANNELS,\\\n",
        "                 n_classes=N_CLASS, shuffle=False):\n",
        "        'Initialization'\n",
        "        self.dim = dim\n",
        "        self.batch_size = batch_size\n",
        "        self.labels = labels\n",
        "        self.list_IDs = pdDataFrame\n",
        "        self.n_channels = n_channels\n",
        "        self.n_classes = n_classes\n",
        "        self.shuffle = shuffle\n",
        "        self.dbName=dbName\n",
        "        self.on_epoch_end()\n",
        "\n",
        "    def __len__(self):\n",
        "        'Denotes the number of batches per epoch'\n",
        "        return int(np.floor(len(self.list_IDs) / self.batch_size))\n",
        "\n",
        "    def __getitem__(self, index):\n",
        "        'Generate one batch of data'\n",
        "        # Generate indexes of the batch\n",
        "        indexes = self.indexes[index*self.batch_size:(index+1)*self.batch_size]\n",
        "\n",
        "        # Find list of IDs\n",
        "        list_IDs_temp = self.list_IDs.iloc[indexes,:]\n",
        "\n",
        "        # Generate data\n",
        "        X = self.__data_generation(list_IDs_temp.reset_index(drop=True))\n",
        "\n",
        "        return X\n",
        "\n",
        "    def on_epoch_end(self):\n",
        "        'Updates indexes after each epoch'\n",
        "        self.indexes = np.arange(len(self.list_IDs))\n",
        "        if self.shuffle == True:\n",
        "            np.random.shuffle(self.indexes)\n",
        "\n",
        "    def __data_generation(self, list_IDs_temp):\n",
        "        # Initialization\n",
        "        X = np.zeros((self.batch_size, self.dim*3, self.n_channels))\n",
        "\n",
        "        # Generate data\n",
        "        for i in range(len(list_IDs_temp)):\n",
        "            pos=list_IDs_temp.loc[i,'utterance_pos']\n",
        "            utterenceID=list_IDs_temp.loc[i,'id']\n",
        "            diaglogID=list_IDs_temp.loc[i,'diaglogID']\n",
        "            \n",
        "            if pos==1:\n",
        "              try:\n",
        "                temp=np.load('BERT/vector/'+self.dbName+'_'+str(utterenceID)+'_'+str(diaglogID)+'.npy')\n",
        "              except:\n",
        "                temp=np.zeros(( 512, self.n_channels))\n",
        "\n",
        "            elif pos==2:\n",
        "              try:\n",
        "                temp1=np.load('BERT/vector/'+self.dbName+'_'+str(utterenceID-1)+'_'+str(diaglogID)+'.npy')\n",
        "              except:\n",
        "                temp1=np.ones(( 512, self.n_channels))\n",
        "\n",
        "              try:\n",
        "                temp2=np.load('BERT/vector/'+self.dbName+'_'+str(utterenceID)+'_'+str(diaglogID)+'.npy')\n",
        "              except:\n",
        "                temp2=np.zeros(( 512, self.n_channels))\n",
        "\n",
        "              temp=np.concatenate((temp1,temp2),axis=0)\n",
        "\n",
        "            elif pos>=3:  \n",
        "              try:\n",
        "                temp1=np.load('BERT/vector/'+self.dbName+'_'+str(utterenceID-2)+'_'+str(diaglogID)+'.npy')\n",
        "              except:\n",
        "                temp1=np.ones(( 512, self.n_channels))\n",
        "\n",
        "              try:\n",
        "                temp2=np.load('BERT/vector/'+self.dbName+'_'+str(utterenceID-1)+'_'+str(diaglogID)+'.npy')\n",
        "              except:\n",
        "                temp2=np.ones(( 512, self.n_channels))              \n",
        "              \n",
        "              try:\n",
        "                temp3=np.load('BERT/vector/'+self.dbName+'_'+str(utterenceID)+'_'+str(diaglogID)+'.npy')\n",
        "              except:\n",
        "                temp3=np.ones(( 512, self.n_channels))   \n",
        "\n",
        "              temp=np.concatenate((temp1,temp2,temp3),axis=0)\n",
        "\n",
        "            # Store sample\n",
        "            X[i,0:temp.shape[0],:] =temp \n",
        "\n",
        "        Pos=np.array(list_IDs_temp.loc[:,'utterance_pos'])\n",
        "        return [X,Pos]"
      ],
      "execution_count": 0,
      "outputs": []
    },
    {
      "cell_type": "code",
      "metadata": {
        "id": "pgnTSkm2_EBW",
        "colab_type": "code",
        "colab": {}
      },
      "source": [
        "test_generator=testDataGenerator(Test,'Test')"
      ],
      "execution_count": 0,
      "outputs": []
    },
    {
      "cell_type": "code",
      "metadata": {
        "id": "MneDN8jV-spA",
        "colab_type": "code",
        "outputId": "ec476a63-c543-481d-d55c-5bb6c11467d2",
        "colab": {
          "base_uri": "https://localhost:8080/",
          "height": 87
        }
      },
      "source": [
        "prediction = model.predict_generator(test_generator)"
      ],
      "execution_count": 35,
      "outputs": [
        {
          "output_type": "stream",
          "text": [
            "WARNING:tensorflow:From <ipython-input-35-342c80f366ab>:1: Model.predict_generator (from tensorflow.python.keras.engine.training) is deprecated and will be removed in a future version.\n",
            "Instructions for updating:\n",
            "Please use Model.predict, which supports generators.\n"
          ],
          "name": "stdout"
        }
      ]
    },
    {
      "cell_type": "code",
      "metadata": {
        "id": "P0iEXswMaFjG",
        "colab_type": "code",
        "colab": {}
      },
      "source": [
        "Prediction=np.array(prediction)"
      ],
      "execution_count": 0,
      "outputs": []
    },
    {
      "cell_type": "code",
      "metadata": {
        "id": "L3GWspxEe93u",
        "colab_type": "code",
        "colab": {}
      },
      "source": [
        "y_true=np.array(Test.iloc[:,0:N_CLASS])\n",
        "y_pred=Prediction"
      ],
      "execution_count": 0,
      "outputs": []
    },
    {
      "cell_type": "code",
      "metadata": {
        "id": "UHjjga8Rf5pB",
        "colab_type": "code",
        "colab": {}
      },
      "source": [
        "def hamming_score(y_true, y_pred, toggle_output=False):\n",
        "    '''\n",
        "    Compute the Hamming score (a.k.a. label-based accuracy) for the multi-label case\n",
        "    https://stackoverflow.com/q/32239577/395857\n",
        "    '''\n",
        "    acc_list = []\n",
        "    for i in range(y_pred.shape[1]):\n",
        "        set_true = set( np.where(y_true[i,:])[0])\n",
        "        set_pred = set( np.where(y_pred[:,i,0]>=0.5)[0])\n",
        "        if toggle_output:\n",
        "            print('set_true: {0}'.format([id2label[id] for id in set_true]), 'set_pred: {0}'.format([id2label[id] for id in set_pred]))\n",
        "        tmp_a = None\n",
        "        if len(set_true) == 0 and len(set_pred) == 0:\n",
        "            tmp_a = 1\n",
        "        else:\n",
        "            tmp_a = len(set_true.intersection(set_pred))/\\\n",
        "                    float( len(set_true.union(set_pred)) )\n",
        "        #print('tmp_a: {0}'.format(tmp_a))\n",
        "        acc_list.append(tmp_a)\n",
        "    return np.mean(acc_list)"
      ],
      "execution_count": 0,
      "outputs": []
    },
    {
      "cell_type": "code",
      "metadata": {
        "id": "PIWmhjAYgzlg",
        "colab_type": "code",
        "outputId": "ae279816-57b7-4914-a93e-0bd1dcff72be",
        "colab": {
          "base_uri": "https://localhost:8080/",
          "height": 34
        }
      },
      "source": [
        "hamming_score(y_true, y_pred, toggle_output=False)"
      ],
      "execution_count": 39,
      "outputs": [
        {
          "output_type": "execute_result",
          "data": {
            "text/plain": [
              "0.649063063063063"
            ]
          },
          "metadata": {
            "tags": []
          },
          "execution_count": 39
        }
      ]
    },
    {
      "cell_type": "code",
      "metadata": {
        "id": "pHKfPrFie7Of",
        "colab_type": "code",
        "colab": {}
      },
      "source": [
        "   \n",
        "def f1(y_true, y_pred):\n",
        "    correct_preds, total_correct, total_preds = 0., 0., 0.\n",
        "    for i in range(y_true.shape[0]):\n",
        "        set_true = set( np.where(y_true[i,:])[0])\n",
        "        set_pred = set( np.where(y_pred[:,i,0]>=0.5)[0])\n",
        "        \n",
        "        correct_preds += len(set_true & set_pred)\n",
        "        total_preds += len(set_pred)\n",
        "        total_correct += len(set_true)\n",
        "\n",
        "    p = correct_preds / total_preds if correct_preds > 0 else 0\n",
        "    r = correct_preds / total_correct if correct_preds > 0 else 0\n",
        "    f1 = 2 * p * r / (p + r) if correct_preds > 0 else 0\n",
        "    return p, r, f1"
      ],
      "execution_count": 0,
      "outputs": []
    },
    {
      "cell_type": "code",
      "metadata": {
        "id": "seCa3eD5cvdx",
        "colab_type": "code",
        "outputId": "853ef8f8-1225-4b6b-a999-bb0f0306ef86",
        "colab": {
          "base_uri": "https://localhost:8080/",
          "height": 34
        }
      },
      "source": [
        "f1(y_true, y_pred)"
      ],
      "execution_count": 41,
      "outputs": [
        {
          "output_type": "execute_result",
          "data": {
            "text/plain": [
              "(0.731239092495637, 0.6235119047619048, 0.6730923694779117)"
            ]
          },
          "metadata": {
            "tags": []
          },
          "execution_count": 41
        }
      ]
    },
    {
      "cell_type": "code",
      "metadata": {
        "id": "TShpwbNovrP9",
        "colab_type": "code",
        "colab": {}
      },
      "source": [
        ""
      ],
      "execution_count": 0,
      "outputs": []
    }
  ]
}