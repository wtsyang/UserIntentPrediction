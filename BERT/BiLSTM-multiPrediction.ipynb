{
  "nbformat": 4,
  "nbformat_minor": 0,
  "metadata": {
    "colab": {
      "name": "LSTM.ipynb",
      "provenance": [],
      "collapsed_sections": [],
      "authorship_tag": "ABX9TyPB9FeTTdRaQ8+d/1LN38Zs",
      "include_colab_link": true
    },
    "kernelspec": {
      "name": "python3",
      "display_name": "Python 3"
    },
    "accelerator": "GPU"
  },
  "cells": [
    {
      "cell_type": "markdown",
      "metadata": {
        "id": "view-in-github",
        "colab_type": "text"
      },
      "source": [
        "<a href=\"https://colab.research.google.com/github/wtsyang/UserIntentPrediction/blob/BERT/BERT/LSTM-multiPrediction.ipynb\" target=\"_parent\"><img src=\"https://colab.research.google.com/assets/colab-badge.svg\" alt=\"Open In Colab\"/></a>"
      ]
    },
    {
      "cell_type": "code",
      "metadata": {
        "id": "ot0Ha--FR-S1",
        "colab_type": "code",
        "outputId": "a9a170b9-93c4-468e-81fb-e112fbceeede",
        "colab": {
          "base_uri": "https://localhost:8080/",
          "height": 138
        }
      },
      "source": [
        "from google.colab import drive # import drive from google colab\n",
        "\n",
        "ROOT = \"/content/drive\"     # default location for the drive\n",
        "print(ROOT)                 # print content of ROOT (Optional)\n",
        "\n",
        "drive.mount(ROOT)           # we mount the google drive at /content/drive"
      ],
      "execution_count": 2,
      "outputs": [
        {
          "output_type": "stream",
          "text": [
            "/content/drive\n",
            "Go to this URL in a browser: https://accounts.google.com/o/oauth2/auth?client_id=947318989803-6bn6qk8qdgf4n4g3pfee6491hc0brc4i.apps.googleusercontent.com&redirect_uri=urn%3aietf%3awg%3aoauth%3a2.0%3aoob&response_type=code&scope=email%20https%3a%2f%2fwww.googleapis.com%2fauth%2fdocs.test%20https%3a%2f%2fwww.googleapis.com%2fauth%2fdrive%20https%3a%2f%2fwww.googleapis.com%2fauth%2fdrive.photos.readonly%20https%3a%2f%2fwww.googleapis.com%2fauth%2fpeopleapi.readonly\n",
            "\n",
            "Enter your authorization code:\n",
            "··········\n",
            "Mounted at /content/drive\n"
          ],
          "name": "stdout"
        }
      ]
    },
    {
      "cell_type": "code",
      "metadata": {
        "id": "-6DT7DNwSNn9",
        "colab_type": "code",
        "outputId": "30130915-f9b1-4f34-f46c-fa972b91768f",
        "colab": {
          "base_uri": "https://localhost:8080/",
          "height": 34
        }
      },
      "source": [
        "%cd '/content/drive/My Drive/UserIntentPrediction'"
      ],
      "execution_count": 3,
      "outputs": [
        {
          "output_type": "stream",
          "text": [
            "/content/drive/My Drive/UserIntentPrediction\n"
          ],
          "name": "stdout"
        }
      ]
    },
    {
      "cell_type": "code",
      "metadata": {
        "id": "De681umQRanU",
        "colab_type": "code",
        "outputId": "e9e0453c-ad16-4f72-9347-2aaa295bd337",
        "colab": {
          "base_uri": "https://localhost:8080/",
          "height": 34
        }
      },
      "source": [
        "import numpy as np\n",
        "import pandas as pd\n",
        "import tensorflow as tf\n",
        "from tensorflow.keras.models import Model\n",
        "from tensorflow.keras.layers import Input, Dense, Embedding, SpatialDropout1D, add, concatenate\n",
        "from tensorflow.keras.layers  import LSTM, Bidirectional, GlobalMaxPooling1D, GlobalAveragePooling1D\n",
        "from tensorflow.keras.preprocessing import text, sequence\n",
        "from gensim.models import KeyedVectors\n",
        "from sklearn.model_selection  import train_test_split\n",
        "import pickle\n",
        "import sklearn\n",
        "from tensorflow.keras.utils import multi_gpu_model\n",
        "from tensorflow.keras.callbacks import ModelCheckpoint\n",
        "from tensorflow.keras.callbacks import ReduceLROnPlateau\n",
        "from tensorflow.keras import backend as K\n",
        "from tensorflow.python.framework import ops\n",
        "from tensorflow.python.ops import math_ops\n",
        "from tensorflow.python.framework import smart_cond\n",
        "from functools import partial\n",
        "\n",
        "print('Tensorflow Version:',tf.__version__)"
      ],
      "execution_count": 54,
      "outputs": [
        {
          "output_type": "stream",
          "text": [
            "Tensorflow Version: 2.2.0-rc2\n"
          ],
          "name": "stdout"
        }
      ]
    },
    {
      "cell_type": "code",
      "metadata": {
        "id": "yIpXSpeYR4rx",
        "colab_type": "code",
        "colab": {}
      },
      "source": [
        "NUM_MODELS = 1\n",
        "BATCH_SIZE = 32\n",
        "LSTM_UNITS = 128\n",
        "DENSE_HIDDEN_UNITS = 4 * LSTM_UNITS\n",
        "EPOCHS = 16\n",
        "MAX_LEN = 1259\n",
        "N_CHANNELS=768\n",
        "N_CLASS=12"
      ],
      "execution_count": 0,
      "outputs": []
    },
    {
      "cell_type": "markdown",
      "metadata": {
        "id": "7lcdmN7BSHGl",
        "colab_type": "text"
      },
      "source": [
        "## Loading the dataset\n"
      ]
    },
    {
      "cell_type": "code",
      "metadata": {
        "id": "5p2_0TqoR9ef",
        "colab_type": "code",
        "colab": {}
      },
      "source": [
        "Train=pd.read_csv('data/Train_Preprocessing.csv').reset_index(drop=True)\n",
        "Valid=pd.read_csv('data/Valid_Preprocessing.csv').reset_index(drop=True)\n",
        "Test=pd.read_csv('data/Test_Preprocessing.csv').reset_index(drop=True)"
      ],
      "execution_count": 0,
      "outputs": []
    },
    {
      "cell_type": "code",
      "metadata": {
        "id": "hjliEKeAhO4e",
        "colab_type": "code",
        "colab": {}
      },
      "source": [
        "class DataGenerator(tf.keras.utils.Sequence):\n",
        "    'Generates data for Keras'\n",
        "    def __init__(self, pdDataFrame, dbName, labels=['oQ', 'RQ', 'CQ', 'FD', 'FQ', 'IR', 'PA', 'PF', 'NF', 'GG', 'JK', 'O'],\\\n",
        "                 batch_size=BATCH_SIZE, dim=MAX_LEN, n_channels=N_CHANNELS,\\\n",
        "                 n_classes=N_CLASS, shuffle=True):\n",
        "        'Initialization'\n",
        "        self.dim = dim\n",
        "        self.batch_size = batch_size\n",
        "        self.labels = labels\n",
        "        self.list_IDs = pdDataFrame\n",
        "        self.n_channels = n_channels\n",
        "        self.n_classes = n_classes\n",
        "        self.shuffle = shuffle\n",
        "        self.dbName=dbName\n",
        "        self.on_epoch_end()\n",
        "\n",
        "    def __len__(self):\n",
        "        'Denotes the number of batches per epoch'\n",
        "        return int(np.floor(len(self.list_IDs) / self.batch_size))\n",
        "\n",
        "    def __getitem__(self, index):\n",
        "        'Generate one batch of data'\n",
        "        # Generate indexes of the batch\n",
        "        indexes = self.indexes[index*self.batch_size:(index+1)*self.batch_size]\n",
        "\n",
        "        # Find list of IDs\n",
        "        list_IDs_temp = self.list_IDs.iloc[indexes,:]\n",
        "\n",
        "        # Generate data\n",
        "        X, y = self.__data_generation(list_IDs_temp.reset_index(drop=True))\n",
        "\n",
        "        return X, y\n",
        "\n",
        "    def on_epoch_end(self):\n",
        "        'Updates indexes after each epoch'\n",
        "        self.indexes = np.arange(len(self.list_IDs))\n",
        "        if self.shuffle == True:\n",
        "            np.random.shuffle(self.indexes)\n",
        "\n",
        "    def __data_generation(self, list_IDs_temp):\n",
        "        'Generates data containing batch_size samples' # X : (n_samples, *dim, n_channels)\n",
        "        # Initialization\n",
        "        X = np.zeros((self.batch_size, self.dim, self.n_channels))\n",
        "        y = np.zeros((self.batch_size,self.n_classes), dtype=int)\n",
        "\n",
        "        # Generate data\n",
        "        for i in range(len(list_IDs_temp)):\n",
        "            utterenceID=list_IDs_temp.loc[i,'id']\n",
        "            diaglogID=list_IDs_temp.loc[i,'diaglogID']\n",
        "            try:\n",
        "              temp=np.load('BERT/vector/'+self.dbName+'_'+str(utterenceID)+'_'+str(diaglogID)+'.npy')\n",
        "              X[i,0:temp.shape[0],:] =temp \n",
        "              del temp\n",
        "            except:\n",
        "              print('Faile to load the data: BERT/vector/'+self.dbName+'_'+str(utterenceID)+'_'+str(diaglogID)+'.npy')\n",
        "            # Store sample\n",
        "            # Store class\n",
        "            y[i,:] = np.array(list_IDs_temp.iloc[i,0:12])\n",
        "        Y=[]\n",
        "        for i in range(self.n_classes):\n",
        "          Y+=[y[:,i].reshape((self.batch_size,))]\n",
        "        return X, Y"
      ],
      "execution_count": 0,
      "outputs": []
    },
    {
      "cell_type": "code",
      "metadata": {
        "id": "QbBl5lHEfSGa",
        "colab_type": "code",
        "colab": {}
      },
      "source": [
        "classWeight_Dict={}\n",
        "for i in range(N_CLASS):\n",
        "  ratioTrue=np.sum(Train.iloc[:,i])/len(Train)\n",
        "  classWeight_Dict['output'+str(i+1)]={0:1+1/((1-ratioTrue)/(ratioTrue)+1),1:1+(1-ratioTrue)/(ratioTrue)/((1-ratioTrue)/(ratioTrue)+1)}"
      ],
      "execution_count": 0,
      "outputs": []
    },
    {
      "cell_type": "code",
      "metadata": {
        "id": "8ijHEnaK7opB",
        "colab_type": "code",
        "colab": {}
      },
      "source": [
        "training_generator = DataGenerator(Train,'Train')\n",
        "validation_generator = DataGenerator(Valid,'Valid')"
      ],
      "execution_count": 0,
      "outputs": []
    },
    {
      "cell_type": "code",
      "metadata": {
        "id": "r8C5_nNdl9Xy",
        "colab_type": "code",
        "outputId": "c3ed9033-0fb4-49b2-ae3e-f078f26ba5a5",
        "colab": {
          "base_uri": "https://localhost:8080/",
          "height": 218
        }
      },
      "source": [
        "classWeight_Dict"
      ],
      "execution_count": 68,
      "outputs": [
        {
          "output_type": "execute_result",
          "data": {
            "text/plain": [
              "{'output1': {0: 1.2345571818407344, 1: 1.7654428181592656},\n",
              " 'output10': {0: 1.0336144877201687, 1: 1.9663855122798313},\n",
              " 'output11': {0: 1.0100471347060282, 1: 1.9899528652939718},\n",
              " 'output12': {0: 1.0018605805011163, 1: 1.9981394194988837},\n",
              " 'output2': {0: 1.0604068469362442, 1: 1.9395931530637558},\n",
              " 'output3': {0: 1.074423220044654, 1: 1.925576779955346},\n",
              " 'output4': {0: 1.2470850905482511, 1: 1.7529149094517489},\n",
              " 'output5': {0: 1.0875713222525427, 1: 1.912428677747457},\n",
              " 'output6': {0: 1.1071694368643017, 1: 1.8928305631356983},\n",
              " 'output7': {0: 1.3979161498387498, 1: 1.6020838501612502},\n",
              " 'output8': {0: 1.1070453981642272, 1: 1.8929546018357728},\n",
              " 'output9': {0: 1.076779955346068, 1: 1.923220044653932}}"
            ]
          },
          "metadata": {
            "tags": []
          },
          "execution_count": 68
        }
      ]
    },
    {
      "cell_type": "markdown",
      "metadata": {
        "id": "K2mz_N6c7mEx",
        "colab_type": "text"
      },
      "source": [
        "## Build the model\n"
      ]
    },
    {
      "cell_type": "code",
      "metadata": {
        "id": "fytjcvIOnMiA",
        "colab_type": "code",
        "colab": {}
      },
      "source": [
        "def binary_crossentropy(y_true, y_pred, weights,from_logits=False,label_smoothing=0):\n",
        "\n",
        "    y_pred = ops.convert_to_tensor(y_pred)\n",
        "    y_true = math_ops.cast(y_true, y_pred.dtype)\n",
        "    label_smoothing = ops.convert_to_tensor(label_smoothing, dtype=K.floatx())\n",
        "    def _smooth_labels():\n",
        "      return y_true * (1.0 - label_smoothing) + 0.5 * label_smoothing\n",
        "    y_true = smart_cond.smart_cond(label_smoothing,_smooth_labels, lambda: y_true)\n",
        "    \n",
        "    mask0 = tf.subtract(tf.constant(1.0, dtype=K.floatx()),y_true)\n",
        "    mask0=tf.math.scalar_mul(tf.constant(weights[0], dtype=K.floatx()),mask0)\n",
        "    mask1 =tf.math.scalar_mul(tf.constant(weights[1], dtype=K.floatx()),y_true)\n",
        "    mask=tf.math.add(mask0,mask1)\n",
        "\n",
        "    return K.mean(tf.math.multiply(K.binary_crossentropy(y_true, y_pred, from_logits=from_logits),mask), axis=-1)"
      ],
      "execution_count": 0,
      "outputs": []
    },
    {
      "cell_type": "code",
      "metadata": {
        "id": "jfKQSOUM5saC",
        "colab_type": "code",
        "colab": {}
      },
      "source": [
        "def build_model():\n",
        "    inputs = Input(shape=(MAX_LEN,N_CHANNELS))\n",
        "    x = SpatialDropout1D(0.2)(inputs)\n",
        "    x = Bidirectional(LSTM(LSTM_UNITS, return_sequences=True))(x)\n",
        "    x = Bidirectional(LSTM(LSTM_UNITS, return_sequences=True))(x)\n",
        "\n",
        "    hidden = concatenate([\n",
        "        GlobalMaxPooling1D()(x),\n",
        "        GlobalAveragePooling1D()(x),\n",
        "    ])\n",
        "    hidden = add([hidden, Dense(DENSE_HIDDEN_UNITS, activation='relu')(hidden)])\n",
        "    hidden = add([hidden, Dense(DENSE_HIDDEN_UNITS, activation='relu')(hidden)])\n",
        "    RESULT=[]\n",
        "    for i in range(N_CLASS):\n",
        "      RESULT+=[Dense(1, activation='sigmoid',name='output'+str(i+1))(hidden)]\n",
        "    LOSS={}\n",
        "    for i in  range(N_CLASS):\n",
        "      LOSS['output'+str(i+1)]=partial(binary_crossentropy, weights=classWeight_Dict['output'+str(i+1)])\n",
        "      LOSS['output'+str(i+1)].__name__ = 'loss'+str(i+1)\n",
        "\n",
        "    model = Model(inputs=inputs, outputs=RESULT)\n",
        "    model.compile(loss=LOSS, optimizer='adam',metrics=[tf.keras.metrics.binary_accuracy])\n",
        "\n",
        "    return model"
      ],
      "execution_count": 0,
      "outputs": []
    },
    {
      "cell_type": "code",
      "metadata": {
        "id": "N37opYym6CCC",
        "colab_type": "code",
        "outputId": "1fb31a58-ad40-40d3-df26-90f9f0290c52",
        "colab": {
          "base_uri": "https://localhost:8080/",
          "height": 974
        }
      },
      "source": [
        "model = build_model()\n",
        "model.summary()"
      ],
      "execution_count": 70,
      "outputs": [
        {
          "output_type": "stream",
          "text": [
            "Model: \"model_2\"\n",
            "__________________________________________________________________________________________________\n",
            "Layer (type)                    Output Shape         Param #     Connected to                     \n",
            "==================================================================================================\n",
            "input_3 (InputLayer)            [(None, 1259, 768)]  0                                            \n",
            "__________________________________________________________________________________________________\n",
            "spatial_dropout1d_2 (SpatialDro (None, 1259, 768)    0           input_3[0][0]                    \n",
            "__________________________________________________________________________________________________\n",
            "bidirectional_4 (Bidirectional) (None, 1259, 256)    918528      spatial_dropout1d_2[0][0]        \n",
            "__________________________________________________________________________________________________\n",
            "bidirectional_5 (Bidirectional) (None, 1259, 256)    394240      bidirectional_4[0][0]            \n",
            "__________________________________________________________________________________________________\n",
            "global_max_pooling1d_2 (GlobalM (None, 256)          0           bidirectional_5[0][0]            \n",
            "__________________________________________________________________________________________________\n",
            "global_average_pooling1d_2 (Glo (None, 256)          0           bidirectional_5[0][0]            \n",
            "__________________________________________________________________________________________________\n",
            "concatenate_2 (Concatenate)     (None, 512)          0           global_max_pooling1d_2[0][0]     \n",
            "                                                                 global_average_pooling1d_2[0][0] \n",
            "__________________________________________________________________________________________________\n",
            "dense_4 (Dense)                 (None, 512)          262656      concatenate_2[0][0]              \n",
            "__________________________________________________________________________________________________\n",
            "add_4 (Add)                     (None, 512)          0           concatenate_2[0][0]              \n",
            "                                                                 dense_4[0][0]                    \n",
            "__________________________________________________________________________________________________\n",
            "dense_5 (Dense)                 (None, 512)          262656      add_4[0][0]                      \n",
            "__________________________________________________________________________________________________\n",
            "add_5 (Add)                     (None, 512)          0           add_4[0][0]                      \n",
            "                                                                 dense_5[0][0]                    \n",
            "__________________________________________________________________________________________________\n",
            "output1 (Dense)                 (None, 1)            513         add_5[0][0]                      \n",
            "__________________________________________________________________________________________________\n",
            "output2 (Dense)                 (None, 1)            513         add_5[0][0]                      \n",
            "__________________________________________________________________________________________________\n",
            "output3 (Dense)                 (None, 1)            513         add_5[0][0]                      \n",
            "__________________________________________________________________________________________________\n",
            "output4 (Dense)                 (None, 1)            513         add_5[0][0]                      \n",
            "__________________________________________________________________________________________________\n",
            "output5 (Dense)                 (None, 1)            513         add_5[0][0]                      \n",
            "__________________________________________________________________________________________________\n",
            "output6 (Dense)                 (None, 1)            513         add_5[0][0]                      \n",
            "__________________________________________________________________________________________________\n",
            "output7 (Dense)                 (None, 1)            513         add_5[0][0]                      \n",
            "__________________________________________________________________________________________________\n",
            "output8 (Dense)                 (None, 1)            513         add_5[0][0]                      \n",
            "__________________________________________________________________________________________________\n",
            "output9 (Dense)                 (None, 1)            513         add_5[0][0]                      \n",
            "__________________________________________________________________________________________________\n",
            "output10 (Dense)                (None, 1)            513         add_5[0][0]                      \n",
            "__________________________________________________________________________________________________\n",
            "output11 (Dense)                (None, 1)            513         add_5[0][0]                      \n",
            "__________________________________________________________________________________________________\n",
            "output12 (Dense)                (None, 1)            513         add_5[0][0]                      \n",
            "==================================================================================================\n",
            "Total params: 1,844,236\n",
            "Trainable params: 1,844,236\n",
            "Non-trainable params: 0\n",
            "__________________________________________________________________________________________________\n"
          ],
          "name": "stdout"
        }
      ]
    },
    {
      "cell_type": "code",
      "metadata": {
        "id": "8sb5GQmKeI_B",
        "colab_type": "code",
        "colab": {}
      },
      "source": [
        "callback=ReduceLROnPlateau(patience=1,min_lr=0.00001)\n",
        "checkpointer = ModelCheckpoint(filepath='BERT/LSTM.h5', verbose=1, save_best_only=True)"
      ],
      "execution_count": 0,
      "outputs": []
    },
    {
      "cell_type": "code",
      "metadata": {
        "id": "4To3UbV67kft",
        "colab_type": "code",
        "outputId": "a0a55c93-cf94-48ed-e656-7d123640e92d",
        "colab": {
          "base_uri": "https://localhost:8080/",
          "height": 1000
        }
      },
      "source": [
        "model.fit_generator(\n",
        "    generator=training_generator,\n",
        "    validation_data=validation_generator,\n",
        "    epochs=EPOCHS,\n",
        "    verbose=1,\n",
        "    callbacks=[checkpointer,callback])"
      ],
      "execution_count": 71,
      "outputs": [
        {
          "output_type": "stream",
          "text": [
            "Epoch 1/16\n",
            "251/251 [==============================] - ETA: 0s - loss: 4.5476 - output1_loss: 0.5219 - output2_loss: 0.3284 - output3_loss: 0.4191 - output4_loss: 0.8164 - output5_loss: 0.4392 - output6_loss: 0.4548 - output7_loss: 0.5384 - output8_loss: 0.3899 - output9_loss: 0.3849 - output10_loss: 0.1403 - output11_loss: 0.0860 - output12_loss: 0.0282 - output1_binary_accuracy: 0.8291 - output2_binary_accuracy: 0.9366 - output3_binary_accuracy: 0.9212 - output4_binary_accuracy: 0.7328 - output5_binary_accuracy: 0.9106 - output6_binary_accuracy: 0.8926 - output7_binary_accuracy: 0.8474 - output8_binary_accuracy: 0.9035 - output9_binary_accuracy: 0.9201 - output10_binary_accuracy: 0.9653 - output11_binary_accuracy: 0.9898 - output12_binary_accuracy: 0.9941 \n",
            "Epoch 00001: val_loss improved from inf to 3.62126, saving model to BERT/LSTM.h5\n",
            "251/251 [==============================] - 6120s 24s/step - loss: 4.5476 - output1_loss: 0.5219 - output2_loss: 0.3284 - output3_loss: 0.4191 - output4_loss: 0.8164 - output5_loss: 0.4392 - output6_loss: 0.4548 - output7_loss: 0.5384 - output8_loss: 0.3899 - output9_loss: 0.3849 - output10_loss: 0.1403 - output11_loss: 0.0860 - output12_loss: 0.0282 - output1_binary_accuracy: 0.8291 - output2_binary_accuracy: 0.9366 - output3_binary_accuracy: 0.9212 - output4_binary_accuracy: 0.7328 - output5_binary_accuracy: 0.9106 - output6_binary_accuracy: 0.8926 - output7_binary_accuracy: 0.8474 - output8_binary_accuracy: 0.9035 - output9_binary_accuracy: 0.9201 - output10_binary_accuracy: 0.9653 - output11_binary_accuracy: 0.9898 - output12_binary_accuracy: 0.9941 - val_loss: 3.6213 - val_output1_loss: 0.3189 - val_output2_loss: 0.2978 - val_output3_loss: 0.3488 - val_output4_loss: 0.7141 - val_output5_loss: 0.3642 - val_output6_loss: 0.3464 - val_output7_loss: 0.4193 - val_output8_loss: 0.2950 - val_output9_loss: 0.3405 - val_output10_loss: 0.1194 - val_output11_loss: 0.0510 - val_output12_loss: 0.0059 - val_output1_binary_accuracy: 0.9180 - val_output2_binary_accuracy: 0.9385 - val_output3_binary_accuracy: 0.9287 - val_output4_binary_accuracy: 0.7832 - val_output5_binary_accuracy: 0.9160 - val_output6_binary_accuracy: 0.9277 - val_output7_binary_accuracy: 0.8838 - val_output8_binary_accuracy: 0.9014 - val_output9_binary_accuracy: 0.8916 - val_output10_binary_accuracy: 0.9551 - val_output11_binary_accuracy: 0.9932 - val_output12_binary_accuracy: 1.0000 - lr: 0.0010\n",
            "Epoch 2/16\n",
            "251/251 [==============================] - ETA: 0s - loss: 3.6516 - output1_loss: 0.3238 - output2_loss: 0.2930 - output3_loss: 0.3500 - output4_loss: 0.7332 - output5_loss: 0.3665 - output6_loss: 0.3437 - output7_loss: 0.4116 - output8_loss: 0.3099 - output9_loss: 0.3283 - output10_loss: 0.1003 - output11_loss: 0.0714 - output12_loss: 0.0200 - output1_binary_accuracy: 0.9080 - output2_binary_accuracy: 0.9394 - output3_binary_accuracy: 0.9156 - output4_binary_accuracy: 0.7791 - output5_binary_accuracy: 0.9097 - output6_binary_accuracy: 0.9162 - output7_binary_accuracy: 0.8932 - output8_binary_accuracy: 0.9166 - output9_binary_accuracy: 0.9147 - output10_binary_accuracy: 0.9717 - output11_binary_accuracy: 0.9899 - output12_binary_accuracy: 0.9981\n",
            "Epoch 00002: val_loss improved from 3.62126 to 3.22743, saving model to BERT/LSTM.h5\n",
            "251/251 [==============================] - 112s 448ms/step - loss: 3.6516 - output1_loss: 0.3238 - output2_loss: 0.2930 - output3_loss: 0.3500 - output4_loss: 0.7332 - output5_loss: 0.3665 - output6_loss: 0.3437 - output7_loss: 0.4116 - output8_loss: 0.3099 - output9_loss: 0.3283 - output10_loss: 0.1003 - output11_loss: 0.0714 - output12_loss: 0.0200 - output1_binary_accuracy: 0.9080 - output2_binary_accuracy: 0.9394 - output3_binary_accuracy: 0.9156 - output4_binary_accuracy: 0.7791 - output5_binary_accuracy: 0.9097 - output6_binary_accuracy: 0.9162 - output7_binary_accuracy: 0.8932 - output8_binary_accuracy: 0.9166 - output9_binary_accuracy: 0.9147 - output10_binary_accuracy: 0.9717 - output11_binary_accuracy: 0.9899 - output12_binary_accuracy: 0.9981 - val_loss: 3.2274 - val_output1_loss: 0.2598 - val_output2_loss: 0.2600 - val_output3_loss: 0.3268 - val_output4_loss: 0.6935 - val_output5_loss: 0.3486 - val_output6_loss: 0.3163 - val_output7_loss: 0.3701 - val_output8_loss: 0.2381 - val_output9_loss: 0.2676 - val_output10_loss: 0.0966 - val_output11_loss: 0.0484 - val_output12_loss: 0.0017 - val_output1_binary_accuracy: 0.9180 - val_output2_binary_accuracy: 0.9453 - val_output3_binary_accuracy: 0.9297 - val_output4_binary_accuracy: 0.7812 - val_output5_binary_accuracy: 0.9209 - val_output6_binary_accuracy: 0.9268 - val_output7_binary_accuracy: 0.9062 - val_output8_binary_accuracy: 0.9346 - val_output9_binary_accuracy: 0.9258 - val_output10_binary_accuracy: 0.9648 - val_output11_binary_accuracy: 0.9932 - val_output12_binary_accuracy: 1.0000 - lr: 0.0010\n",
            "Epoch 3/16\n",
            "251/251 [==============================] - ETA: 0s - loss: 3.3722 - output1_loss: 0.2824 - output2_loss: 0.2586 - output3_loss: 0.3316 - output4_loss: 0.7052 - output5_loss: 0.3473 - output6_loss: 0.3133 - output7_loss: 0.3740 - output8_loss: 0.2864 - output9_loss: 0.3063 - output10_loss: 0.0831 - output11_loss: 0.0647 - output12_loss: 0.0192 - output1_binary_accuracy: 0.9248 - output2_binary_accuracy: 0.9461 - output3_binary_accuracy: 0.9138 - output4_binary_accuracy: 0.7927 - output5_binary_accuracy: 0.9127 - output6_binary_accuracy: 0.9259 - output7_binary_accuracy: 0.9046 - output8_binary_accuracy: 0.9279 - output9_binary_accuracy: 0.9201 - output10_binary_accuracy: 0.9744 - output11_binary_accuracy: 0.9898 - output12_binary_accuracy: 0.9981\n",
            "Epoch 00003: val_loss did not improve from 3.22743\n",
            "251/251 [==============================] - 86s 342ms/step - loss: 3.3722 - output1_loss: 0.2824 - output2_loss: 0.2586 - output3_loss: 0.3316 - output4_loss: 0.7052 - output5_loss: 0.3473 - output6_loss: 0.3133 - output7_loss: 0.3740 - output8_loss: 0.2864 - output9_loss: 0.3063 - output10_loss: 0.0831 - output11_loss: 0.0647 - output12_loss: 0.0192 - output1_binary_accuracy: 0.9248 - output2_binary_accuracy: 0.9461 - output3_binary_accuracy: 0.9138 - output4_binary_accuracy: 0.7927 - output5_binary_accuracy: 0.9127 - output6_binary_accuracy: 0.9259 - output7_binary_accuracy: 0.9046 - output8_binary_accuracy: 0.9279 - output9_binary_accuracy: 0.9201 - output10_binary_accuracy: 0.9744 - output11_binary_accuracy: 0.9898 - output12_binary_accuracy: 0.9981 - val_loss: 3.2966 - val_output1_loss: 0.2549 - val_output2_loss: 0.2525 - val_output3_loss: 0.3662 - val_output4_loss: 0.7181 - val_output5_loss: 0.3435 - val_output6_loss: 0.3025 - val_output7_loss: 0.4114 - val_output8_loss: 0.2501 - val_output9_loss: 0.2685 - val_output10_loss: 0.0798 - val_output11_loss: 0.0472 - val_output12_loss: 0.0019 - val_output1_binary_accuracy: 0.9268 - val_output2_binary_accuracy: 0.9512 - val_output3_binary_accuracy: 0.9277 - val_output4_binary_accuracy: 0.7998 - val_output5_binary_accuracy: 0.9307 - val_output6_binary_accuracy: 0.9355 - val_output7_binary_accuracy: 0.8877 - val_output8_binary_accuracy: 0.9121 - val_output9_binary_accuracy: 0.9346 - val_output10_binary_accuracy: 0.9766 - val_output11_binary_accuracy: 0.9922 - val_output12_binary_accuracy: 1.0000 - lr: 0.0010\n",
            "Epoch 4/16\n",
            "251/251 [==============================] - ETA: 0s - loss: 2.9765 - output1_loss: 0.2149 - output2_loss: 0.2260 - output3_loss: 0.3031 - output4_loss: 0.6565 - output5_loss: 0.3129 - output6_loss: 0.2871 - output7_loss: 0.3215 - output8_loss: 0.2450 - output9_loss: 0.2717 - output10_loss: 0.0662 - output11_loss: 0.0542 - output12_loss: 0.0174 - output1_binary_accuracy: 0.9451 - output2_binary_accuracy: 0.9504 - output3_binary_accuracy: 0.9254 - output4_binary_accuracy: 0.8091 - output5_binary_accuracy: 0.9232 - output6_binary_accuracy: 0.9329 - output7_binary_accuracy: 0.9204 - output8_binary_accuracy: 0.9353 - output9_binary_accuracy: 0.9269 - output10_binary_accuracy: 0.9802 - output11_binary_accuracy: 0.9915 - output12_binary_accuracy: 0.9981\n",
            "Epoch 00004: val_loss improved from 3.22743 to 3.03361, saving model to BERT/LSTM.h5\n",
            "251/251 [==============================] - 88s 351ms/step - loss: 2.9765 - output1_loss: 0.2149 - output2_loss: 0.2260 - output3_loss: 0.3031 - output4_loss: 0.6565 - output5_loss: 0.3129 - output6_loss: 0.2871 - output7_loss: 0.3215 - output8_loss: 0.2450 - output9_loss: 0.2717 - output10_loss: 0.0662 - output11_loss: 0.0542 - output12_loss: 0.0174 - output1_binary_accuracy: 0.9451 - output2_binary_accuracy: 0.9504 - output3_binary_accuracy: 0.9254 - output4_binary_accuracy: 0.8091 - output5_binary_accuracy: 0.9232 - output6_binary_accuracy: 0.9329 - output7_binary_accuracy: 0.9204 - output8_binary_accuracy: 0.9353 - output9_binary_accuracy: 0.9269 - output10_binary_accuracy: 0.9802 - output11_binary_accuracy: 0.9915 - output12_binary_accuracy: 0.9981 - val_loss: 3.0336 - val_output1_loss: 0.2299 - val_output2_loss: 0.2359 - val_output3_loss: 0.3289 - val_output4_loss: 0.6732 - val_output5_loss: 0.3183 - val_output6_loss: 0.2943 - val_output7_loss: 0.3563 - val_output8_loss: 0.2354 - val_output9_loss: 0.2421 - val_output10_loss: 0.0752 - val_output11_loss: 0.0418 - val_output12_loss: 0.0023 - val_output1_binary_accuracy: 0.9365 - val_output2_binary_accuracy: 0.9492 - val_output3_binary_accuracy: 0.9277 - val_output4_binary_accuracy: 0.8057 - val_output5_binary_accuracy: 0.9219 - val_output6_binary_accuracy: 0.9365 - val_output7_binary_accuracy: 0.9053 - val_output8_binary_accuracy: 0.9326 - val_output9_binary_accuracy: 0.9336 - val_output10_binary_accuracy: 0.9785 - val_output11_binary_accuracy: 0.9961 - val_output12_binary_accuracy: 1.0000 - lr: 1.0000e-04\n",
            "Epoch 5/16\n",
            "251/251 [==============================] - ETA: 0s - loss: 2.8727 - output1_loss: 0.1988 - output2_loss: 0.2194 - output3_loss: 0.2939 - output4_loss: 0.6432 - output5_loss: 0.3036 - output6_loss: 0.2800 - output7_loss: 0.3083 - output8_loss: 0.2376 - output9_loss: 0.2547 - output10_loss: 0.0660 - output11_loss: 0.0506 - output12_loss: 0.0166 - output1_binary_accuracy: 0.9471 - output2_binary_accuracy: 0.9512 - output3_binary_accuracy: 0.9254 - output4_binary_accuracy: 0.8140 - output5_binary_accuracy: 0.9227 - output6_binary_accuracy: 0.9334 - output7_binary_accuracy: 0.9249 - output8_binary_accuracy: 0.9389 - output9_binary_accuracy: 0.9300 - output10_binary_accuracy: 0.9788 - output11_binary_accuracy: 0.9917 - output12_binary_accuracy: 0.9981\n",
            "Epoch 00005: val_loss improved from 3.03361 to 3.00699, saving model to BERT/LSTM.h5\n",
            "251/251 [==============================] - 90s 359ms/step - loss: 2.8727 - output1_loss: 0.1988 - output2_loss: 0.2194 - output3_loss: 0.2939 - output4_loss: 0.6432 - output5_loss: 0.3036 - output6_loss: 0.2800 - output7_loss: 0.3083 - output8_loss: 0.2376 - output9_loss: 0.2547 - output10_loss: 0.0660 - output11_loss: 0.0506 - output12_loss: 0.0166 - output1_binary_accuracy: 0.9471 - output2_binary_accuracy: 0.9512 - output3_binary_accuracy: 0.9254 - output4_binary_accuracy: 0.8140 - output5_binary_accuracy: 0.9227 - output6_binary_accuracy: 0.9334 - output7_binary_accuracy: 0.9249 - output8_binary_accuracy: 0.9389 - output9_binary_accuracy: 0.9300 - output10_binary_accuracy: 0.9788 - output11_binary_accuracy: 0.9917 - output12_binary_accuracy: 0.9981 - val_loss: 3.0070 - val_output1_loss: 0.2177 - val_output2_loss: 0.2330 - val_output3_loss: 0.3389 - val_output4_loss: 0.6692 - val_output5_loss: 0.3182 - val_output6_loss: 0.2948 - val_output7_loss: 0.3485 - val_output8_loss: 0.2298 - val_output9_loss: 0.2442 - val_output10_loss: 0.0739 - val_output11_loss: 0.0362 - val_output12_loss: 0.0025 - val_output1_binary_accuracy: 0.9404 - val_output2_binary_accuracy: 0.9502 - val_output3_binary_accuracy: 0.9258 - val_output4_binary_accuracy: 0.8125 - val_output5_binary_accuracy: 0.9258 - val_output6_binary_accuracy: 0.9355 - val_output7_binary_accuracy: 0.9053 - val_output8_binary_accuracy: 0.9355 - val_output9_binary_accuracy: 0.9307 - val_output10_binary_accuracy: 0.9795 - val_output11_binary_accuracy: 0.9971 - val_output12_binary_accuracy: 1.0000 - lr: 1.0000e-04\n",
            "Epoch 6/16\n",
            "251/251 [==============================] - ETA: 0s - loss: 2.7970 - output1_loss: 0.1884 - output2_loss: 0.2133 - output3_loss: 0.2904 - output4_loss: 0.6300 - output5_loss: 0.2976 - output6_loss: 0.2737 - output7_loss: 0.2970 - output8_loss: 0.2312 - output9_loss: 0.2469 - output10_loss: 0.0643 - output11_loss: 0.0476 - output12_loss: 0.0164 - output1_binary_accuracy: 0.9528 - output2_binary_accuracy: 0.9522 - output3_binary_accuracy: 0.9228 - output4_binary_accuracy: 0.8179 - output5_binary_accuracy: 0.9232 - output6_binary_accuracy: 0.9363 - output7_binary_accuracy: 0.9274 - output8_binary_accuracy: 0.9381 - output9_binary_accuracy: 0.9328 - output10_binary_accuracy: 0.9797 - output11_binary_accuracy: 0.9920 - output12_binary_accuracy: 0.9981\n",
            "Epoch 00006: val_loss did not improve from 3.00699\n",
            "251/251 [==============================] - 88s 350ms/step - loss: 2.7970 - output1_loss: 0.1884 - output2_loss: 0.2133 - output3_loss: 0.2904 - output4_loss: 0.6300 - output5_loss: 0.2976 - output6_loss: 0.2737 - output7_loss: 0.2970 - output8_loss: 0.2312 - output9_loss: 0.2469 - output10_loss: 0.0643 - output11_loss: 0.0476 - output12_loss: 0.0164 - output1_binary_accuracy: 0.9528 - output2_binary_accuracy: 0.9522 - output3_binary_accuracy: 0.9228 - output4_binary_accuracy: 0.8179 - output5_binary_accuracy: 0.9232 - output6_binary_accuracy: 0.9363 - output7_binary_accuracy: 0.9274 - output8_binary_accuracy: 0.9381 - output9_binary_accuracy: 0.9328 - output10_binary_accuracy: 0.9797 - output11_binary_accuracy: 0.9920 - output12_binary_accuracy: 0.9981 - val_loss: 3.0134 - val_output1_loss: 0.2221 - val_output2_loss: 0.2406 - val_output3_loss: 0.3309 - val_output4_loss: 0.6665 - val_output5_loss: 0.3190 - val_output6_loss: 0.2956 - val_output7_loss: 0.3519 - val_output8_loss: 0.2265 - val_output9_loss: 0.2424 - val_output10_loss: 0.0762 - val_output11_loss: 0.0388 - val_output12_loss: 0.0030 - val_output1_binary_accuracy: 0.9365 - val_output2_binary_accuracy: 0.9473 - val_output3_binary_accuracy: 0.9258 - val_output4_binary_accuracy: 0.7988 - val_output5_binary_accuracy: 0.9248 - val_output6_binary_accuracy: 0.9316 - val_output7_binary_accuracy: 0.9111 - val_output8_binary_accuracy: 0.9385 - val_output9_binary_accuracy: 0.9258 - val_output10_binary_accuracy: 0.9805 - val_output11_binary_accuracy: 0.9961 - val_output12_binary_accuracy: 1.0000 - lr: 1.0000e-04\n",
            "Epoch 7/16\n",
            "251/251 [==============================] - ETA: 0s - loss: 2.7042 - output1_loss: 0.1763 - output2_loss: 0.2048 - output3_loss: 0.2855 - output4_loss: 0.6232 - output5_loss: 0.2866 - output6_loss: 0.2676 - output7_loss: 0.2811 - output8_loss: 0.2221 - output9_loss: 0.2350 - output10_loss: 0.0605 - output11_loss: 0.0460 - output12_loss: 0.0156 - output1_binary_accuracy: 0.9559 - output2_binary_accuracy: 0.9529 - output3_binary_accuracy: 0.9227 - output4_binary_accuracy: 0.8160 - output5_binary_accuracy: 0.9273 - output6_binary_accuracy: 0.9390 - output7_binary_accuracy: 0.9288 - output8_binary_accuracy: 0.9410 - output9_binary_accuracy: 0.9353 - output10_binary_accuracy: 0.9814 - output11_binary_accuracy: 0.9919 - output12_binary_accuracy: 0.9981\n",
            "Epoch 00007: val_loss did not improve from 3.00699\n",
            "251/251 [==============================] - 87s 346ms/step - loss: 2.7042 - output1_loss: 0.1763 - output2_loss: 0.2048 - output3_loss: 0.2855 - output4_loss: 0.6232 - output5_loss: 0.2866 - output6_loss: 0.2676 - output7_loss: 0.2811 - output8_loss: 0.2221 - output9_loss: 0.2350 - output10_loss: 0.0605 - output11_loss: 0.0460 - output12_loss: 0.0156 - output1_binary_accuracy: 0.9559 - output2_binary_accuracy: 0.9529 - output3_binary_accuracy: 0.9227 - output4_binary_accuracy: 0.8160 - output5_binary_accuracy: 0.9273 - output6_binary_accuracy: 0.9390 - output7_binary_accuracy: 0.9288 - output8_binary_accuracy: 0.9410 - output9_binary_accuracy: 0.9353 - output10_binary_accuracy: 0.9814 - output11_binary_accuracy: 0.9919 - output12_binary_accuracy: 0.9981 - val_loss: 3.0281 - val_output1_loss: 0.2229 - val_output2_loss: 0.2419 - val_output3_loss: 0.3376 - val_output4_loss: 0.6739 - val_output5_loss: 0.3178 - val_output6_loss: 0.2941 - val_output7_loss: 0.3534 - val_output8_loss: 0.2300 - val_output9_loss: 0.2406 - val_output10_loss: 0.0746 - val_output11_loss: 0.0385 - val_output12_loss: 0.0028 - val_output1_binary_accuracy: 0.9365 - val_output2_binary_accuracy: 0.9492 - val_output3_binary_accuracy: 0.9238 - val_output4_binary_accuracy: 0.8018 - val_output5_binary_accuracy: 0.9248 - val_output6_binary_accuracy: 0.9307 - val_output7_binary_accuracy: 0.9082 - val_output8_binary_accuracy: 0.9355 - val_output9_binary_accuracy: 0.9268 - val_output10_binary_accuracy: 0.9795 - val_output11_binary_accuracy: 0.9961 - val_output12_binary_accuracy: 1.0000 - lr: 1.0000e-05\n",
            "Epoch 8/16\n",
            "251/251 [==============================] - ETA: 0s - loss: 2.6954 - output1_loss: 0.1716 - output2_loss: 0.2060 - output3_loss: 0.2833 - output4_loss: 0.6201 - output5_loss: 0.2855 - output6_loss: 0.2692 - output7_loss: 0.2800 - output8_loss: 0.2232 - output9_loss: 0.2351 - output10_loss: 0.0591 - output11_loss: 0.0463 - output12_loss: 0.0158 - output1_binary_accuracy: 0.9573 - output2_binary_accuracy: 0.9544 - output3_binary_accuracy: 0.9253 - output4_binary_accuracy: 0.8232 - output5_binary_accuracy: 0.9254 - output6_binary_accuracy: 0.9389 - output7_binary_accuracy: 0.9308 - output8_binary_accuracy: 0.9405 - output9_binary_accuracy: 0.9348 - output10_binary_accuracy: 0.9826 - output11_binary_accuracy: 0.9924 - output12_binary_accuracy: 0.9981\n",
            "Epoch 00008: val_loss did not improve from 3.00699\n",
            "251/251 [==============================] - 89s 355ms/step - loss: 2.6954 - output1_loss: 0.1716 - output2_loss: 0.2060 - output3_loss: 0.2833 - output4_loss: 0.6201 - output5_loss: 0.2855 - output6_loss: 0.2692 - output7_loss: 0.2800 - output8_loss: 0.2232 - output9_loss: 0.2351 - output10_loss: 0.0591 - output11_loss: 0.0463 - output12_loss: 0.0158 - output1_binary_accuracy: 0.9573 - output2_binary_accuracy: 0.9544 - output3_binary_accuracy: 0.9253 - output4_binary_accuracy: 0.8232 - output5_binary_accuracy: 0.9254 - output6_binary_accuracy: 0.9389 - output7_binary_accuracy: 0.9308 - output8_binary_accuracy: 0.9405 - output9_binary_accuracy: 0.9348 - output10_binary_accuracy: 0.9826 - output11_binary_accuracy: 0.9924 - output12_binary_accuracy: 0.9981 - val_loss: 3.0126 - val_output1_loss: 0.2243 - val_output2_loss: 0.2383 - val_output3_loss: 0.3359 - val_output4_loss: 0.6667 - val_output5_loss: 0.3162 - val_output6_loss: 0.2932 - val_output7_loss: 0.3524 - val_output8_loss: 0.2294 - val_output9_loss: 0.2410 - val_output10_loss: 0.0741 - val_output11_loss: 0.0383 - val_output12_loss: 0.0027 - val_output1_binary_accuracy: 0.9355 - val_output2_binary_accuracy: 0.9492 - val_output3_binary_accuracy: 0.9258 - val_output4_binary_accuracy: 0.8008 - val_output5_binary_accuracy: 0.9229 - val_output6_binary_accuracy: 0.9346 - val_output7_binary_accuracy: 0.9082 - val_output8_binary_accuracy: 0.9336 - val_output9_binary_accuracy: 0.9248 - val_output10_binary_accuracy: 0.9795 - val_output11_binary_accuracy: 0.9961 - val_output12_binary_accuracy: 1.0000 - lr: 1.0000e-05\n",
            "Epoch 9/16\n",
            "251/251 [==============================] - ETA: 0s - loss: 2.6953 - output1_loss: 0.1733 - output2_loss: 0.2050 - output3_loss: 0.2834 - output4_loss: 0.6190 - output5_loss: 0.2894 - output6_loss: 0.2663 - output7_loss: 0.2799 - output8_loss: 0.2238 - output9_loss: 0.2336 - output10_loss: 0.0600 - output11_loss: 0.0461 - output12_loss: 0.0158 - output1_binary_accuracy: 0.9563 - output2_binary_accuracy: 0.9547 - output3_binary_accuracy: 0.9243 - output4_binary_accuracy: 0.8220 - output5_binary_accuracy: 0.9250 - output6_binary_accuracy: 0.9404 - output7_binary_accuracy: 0.9307 - output8_binary_accuracy: 0.9414 - output9_binary_accuracy: 0.9359 - output10_binary_accuracy: 0.9817 - output11_binary_accuracy: 0.9917 - output12_binary_accuracy: 0.9981\n",
            "Epoch 00009: val_loss did not improve from 3.00699\n",
            "251/251 [==============================] - 88s 352ms/step - loss: 2.6953 - output1_loss: 0.1733 - output2_loss: 0.2050 - output3_loss: 0.2834 - output4_loss: 0.6190 - output5_loss: 0.2894 - output6_loss: 0.2663 - output7_loss: 0.2799 - output8_loss: 0.2238 - output9_loss: 0.2336 - output10_loss: 0.0600 - output11_loss: 0.0461 - output12_loss: 0.0158 - output1_binary_accuracy: 0.9563 - output2_binary_accuracy: 0.9547 - output3_binary_accuracy: 0.9243 - output4_binary_accuracy: 0.8220 - output5_binary_accuracy: 0.9250 - output6_binary_accuracy: 0.9404 - output7_binary_accuracy: 0.9307 - output8_binary_accuracy: 0.9414 - output9_binary_accuracy: 0.9359 - output10_binary_accuracy: 0.9817 - output11_binary_accuracy: 0.9917 - output12_binary_accuracy: 0.9981 - val_loss: 3.0207 - val_output1_loss: 0.2236 - val_output2_loss: 0.2416 - val_output3_loss: 0.3378 - val_output4_loss: 0.6715 - val_output5_loss: 0.3189 - val_output6_loss: 0.2908 - val_output7_loss: 0.3513 - val_output8_loss: 0.2298 - val_output9_loss: 0.2400 - val_output10_loss: 0.0745 - val_output11_loss: 0.0381 - val_output12_loss: 0.0029 - val_output1_binary_accuracy: 0.9355 - val_output2_binary_accuracy: 0.9492 - val_output3_binary_accuracy: 0.9238 - val_output4_binary_accuracy: 0.7988 - val_output5_binary_accuracy: 0.9229 - val_output6_binary_accuracy: 0.9336 - val_output7_binary_accuracy: 0.9082 - val_output8_binary_accuracy: 0.9355 - val_output9_binary_accuracy: 0.9258 - val_output10_binary_accuracy: 0.9785 - val_output11_binary_accuracy: 0.9961 - val_output12_binary_accuracy: 1.0000 - lr: 1.0000e-05\n",
            "Epoch 10/16\n",
            "251/251 [==============================] - ETA: 0s - loss: 2.6835 - output1_loss: 0.1754 - output2_loss: 0.2073 - output3_loss: 0.2804 - output4_loss: 0.6153 - output5_loss: 0.2860 - output6_loss: 0.2678 - output7_loss: 0.2803 - output8_loss: 0.2182 - output9_loss: 0.2323 - output10_loss: 0.0589 - output11_loss: 0.0455 - output12_loss: 0.0161 - output1_binary_accuracy: 0.9569 - output2_binary_accuracy: 0.9541 - output3_binary_accuracy: 0.9255 - output4_binary_accuracy: 0.8259 - output5_binary_accuracy: 0.9242 - output6_binary_accuracy: 0.9377 - output7_binary_accuracy: 0.9297 - output8_binary_accuracy: 0.9430 - output9_binary_accuracy: 0.9369 - output10_binary_accuracy: 0.9816 - output11_binary_accuracy: 0.9918 - output12_binary_accuracy: 0.9981\n",
            "Epoch 00010: val_loss improved from 3.00699 to 3.00347, saving model to BERT/LSTM.h5\n",
            "251/251 [==============================] - 89s 356ms/step - loss: 2.6835 - output1_loss: 0.1754 - output2_loss: 0.2073 - output3_loss: 0.2804 - output4_loss: 0.6153 - output5_loss: 0.2860 - output6_loss: 0.2678 - output7_loss: 0.2803 - output8_loss: 0.2182 - output9_loss: 0.2323 - output10_loss: 0.0589 - output11_loss: 0.0455 - output12_loss: 0.0161 - output1_binary_accuracy: 0.9569 - output2_binary_accuracy: 0.9541 - output3_binary_accuracy: 0.9255 - output4_binary_accuracy: 0.8259 - output5_binary_accuracy: 0.9242 - output6_binary_accuracy: 0.9377 - output7_binary_accuracy: 0.9297 - output8_binary_accuracy: 0.9430 - output9_binary_accuracy: 0.9369 - output10_binary_accuracy: 0.9816 - output11_binary_accuracy: 0.9918 - output12_binary_accuracy: 0.9981 - val_loss: 3.0035 - val_output1_loss: 0.2192 - val_output2_loss: 0.2415 - val_output3_loss: 0.3391 - val_output4_loss: 0.6727 - val_output5_loss: 0.3140 - val_output6_loss: 0.2869 - val_output7_loss: 0.3443 - val_output8_loss: 0.2299 - val_output9_loss: 0.2410 - val_output10_loss: 0.0734 - val_output11_loss: 0.0385 - val_output12_loss: 0.0030 - val_output1_binary_accuracy: 0.9365 - val_output2_binary_accuracy: 0.9473 - val_output3_binary_accuracy: 0.9229 - val_output4_binary_accuracy: 0.8027 - val_output5_binary_accuracy: 0.9219 - val_output6_binary_accuracy: 0.9336 - val_output7_binary_accuracy: 0.9092 - val_output8_binary_accuracy: 0.9365 - val_output9_binary_accuracy: 0.9268 - val_output10_binary_accuracy: 0.9785 - val_output11_binary_accuracy: 0.9961 - val_output12_binary_accuracy: 1.0000 - lr: 1.0000e-05\n",
            "Epoch 11/16\n",
            "251/251 [==============================] - ETA: 0s - loss: 2.6759 - output1_loss: 0.1707 - output2_loss: 0.2036 - output3_loss: 0.2815 - output4_loss: 0.6114 - output5_loss: 0.2844 - output6_loss: 0.2691 - output7_loss: 0.2809 - output8_loss: 0.2202 - output9_loss: 0.2330 - output10_loss: 0.0587 - output11_loss: 0.0465 - output12_loss: 0.0159 - output1_binary_accuracy: 0.9563 - output2_binary_accuracy: 0.9552 - output3_binary_accuracy: 0.9241 - output4_binary_accuracy: 0.8237 - output5_binary_accuracy: 0.9254 - output6_binary_accuracy: 0.9375 - output7_binary_accuracy: 0.9307 - output8_binary_accuracy: 0.9421 - output9_binary_accuracy: 0.9365 - output10_binary_accuracy: 0.9814 - output11_binary_accuracy: 0.9918 - output12_binary_accuracy: 0.9981\n",
            "Epoch 00011: val_loss did not improve from 3.00347\n",
            "251/251 [==============================] - 88s 350ms/step - loss: 2.6759 - output1_loss: 0.1707 - output2_loss: 0.2036 - output3_loss: 0.2815 - output4_loss: 0.6114 - output5_loss: 0.2844 - output6_loss: 0.2691 - output7_loss: 0.2809 - output8_loss: 0.2202 - output9_loss: 0.2330 - output10_loss: 0.0587 - output11_loss: 0.0465 - output12_loss: 0.0159 - output1_binary_accuracy: 0.9563 - output2_binary_accuracy: 0.9552 - output3_binary_accuracy: 0.9241 - output4_binary_accuracy: 0.8237 - output5_binary_accuracy: 0.9254 - output6_binary_accuracy: 0.9375 - output7_binary_accuracy: 0.9307 - output8_binary_accuracy: 0.9421 - output9_binary_accuracy: 0.9365 - output10_binary_accuracy: 0.9814 - output11_binary_accuracy: 0.9918 - output12_binary_accuracy: 0.9981 - val_loss: 3.0096 - val_output1_loss: 0.2230 - val_output2_loss: 0.2340 - val_output3_loss: 0.3398 - val_output4_loss: 0.6698 - val_output5_loss: 0.3128 - val_output6_loss: 0.2918 - val_output7_loss: 0.3517 - val_output8_loss: 0.2299 - val_output9_loss: 0.2414 - val_output10_loss: 0.0742 - val_output11_loss: 0.0384 - val_output12_loss: 0.0029 - val_output1_binary_accuracy: 0.9346 - val_output2_binary_accuracy: 0.9463 - val_output3_binary_accuracy: 0.9248 - val_output4_binary_accuracy: 0.8057 - val_output5_binary_accuracy: 0.9209 - val_output6_binary_accuracy: 0.9365 - val_output7_binary_accuracy: 0.9072 - val_output8_binary_accuracy: 0.9336 - val_output9_binary_accuracy: 0.9238 - val_output10_binary_accuracy: 0.9785 - val_output11_binary_accuracy: 0.9961 - val_output12_binary_accuracy: 1.0000 - lr: 1.0000e-05\n",
            "Epoch 12/16\n",
            "251/251 [==============================] - ETA: 0s - loss: 2.6526 - output1_loss: 0.1675 - output2_loss: 0.1995 - output3_loss: 0.2795 - output4_loss: 0.6098 - output5_loss: 0.2837 - output6_loss: 0.2660 - output7_loss: 0.2784 - output8_loss: 0.2178 - output9_loss: 0.2306 - output10_loss: 0.0601 - output11_loss: 0.0445 - output12_loss: 0.0152 - output1_binary_accuracy: 0.9585 - output2_binary_accuracy: 0.9554 - output3_binary_accuracy: 0.9248 - output4_binary_accuracy: 0.8281 - output5_binary_accuracy: 0.9283 - output6_binary_accuracy: 0.9392 - output7_binary_accuracy: 0.9314 - output8_binary_accuracy: 0.9427 - output9_binary_accuracy: 0.9364 - output10_binary_accuracy: 0.9811 - output11_binary_accuracy: 0.9924 - output12_binary_accuracy: 0.9981\n",
            "Epoch 00012: val_loss did not improve from 3.00347\n",
            "251/251 [==============================] - 88s 349ms/step - loss: 2.6526 - output1_loss: 0.1675 - output2_loss: 0.1995 - output3_loss: 0.2795 - output4_loss: 0.6098 - output5_loss: 0.2837 - output6_loss: 0.2660 - output7_loss: 0.2784 - output8_loss: 0.2178 - output9_loss: 0.2306 - output10_loss: 0.0601 - output11_loss: 0.0445 - output12_loss: 0.0152 - output1_binary_accuracy: 0.9585 - output2_binary_accuracy: 0.9554 - output3_binary_accuracy: 0.9248 - output4_binary_accuracy: 0.8281 - output5_binary_accuracy: 0.9283 - output6_binary_accuracy: 0.9392 - output7_binary_accuracy: 0.9314 - output8_binary_accuracy: 0.9427 - output9_binary_accuracy: 0.9364 - output10_binary_accuracy: 0.9811 - output11_binary_accuracy: 0.9924 - output12_binary_accuracy: 0.9981 - val_loss: 3.0278 - val_output1_loss: 0.2257 - val_output2_loss: 0.2436 - val_output3_loss: 0.3376 - val_output4_loss: 0.6663 - val_output5_loss: 0.3199 - val_output6_loss: 0.2875 - val_output7_loss: 0.3559 - val_output8_loss: 0.2336 - val_output9_loss: 0.2417 - val_output10_loss: 0.0745 - val_output11_loss: 0.0385 - val_output12_loss: 0.0029 - val_output1_binary_accuracy: 0.9316 - val_output2_binary_accuracy: 0.9473 - val_output3_binary_accuracy: 0.9238 - val_output4_binary_accuracy: 0.8027 - val_output5_binary_accuracy: 0.9199 - val_output6_binary_accuracy: 0.9355 - val_output7_binary_accuracy: 0.9072 - val_output8_binary_accuracy: 0.9326 - val_output9_binary_accuracy: 0.9238 - val_output10_binary_accuracy: 0.9785 - val_output11_binary_accuracy: 0.9961 - val_output12_binary_accuracy: 1.0000 - lr: 1.0000e-05\n",
            "Epoch 13/16\n",
            "251/251 [==============================] - ETA: 0s - loss: 2.6624 - output1_loss: 0.1659 - output2_loss: 0.2027 - output3_loss: 0.2827 - output4_loss: 0.6121 - output5_loss: 0.2863 - output6_loss: 0.2663 - output7_loss: 0.2783 - output8_loss: 0.2195 - output9_loss: 0.2292 - output10_loss: 0.0594 - output11_loss: 0.0445 - output12_loss: 0.0157 - output1_binary_accuracy: 0.9580 - output2_binary_accuracy: 0.9549 - output3_binary_accuracy: 0.9228 - output4_binary_accuracy: 0.8240 - output5_binary_accuracy: 0.9272 - output6_binary_accuracy: 0.9391 - output7_binary_accuracy: 0.9292 - output8_binary_accuracy: 0.9416 - output9_binary_accuracy: 0.9396 - output10_binary_accuracy: 0.9823 - output11_binary_accuracy: 0.9924 - output12_binary_accuracy: 0.9981\n",
            "Epoch 00013: val_loss did not improve from 3.00347\n",
            "251/251 [==============================] - 88s 349ms/step - loss: 2.6624 - output1_loss: 0.1659 - output2_loss: 0.2027 - output3_loss: 0.2827 - output4_loss: 0.6121 - output5_loss: 0.2863 - output6_loss: 0.2663 - output7_loss: 0.2783 - output8_loss: 0.2195 - output9_loss: 0.2292 - output10_loss: 0.0594 - output11_loss: 0.0445 - output12_loss: 0.0157 - output1_binary_accuracy: 0.9580 - output2_binary_accuracy: 0.9549 - output3_binary_accuracy: 0.9228 - output4_binary_accuracy: 0.8240 - output5_binary_accuracy: 0.9272 - output6_binary_accuracy: 0.9391 - output7_binary_accuracy: 0.9292 - output8_binary_accuracy: 0.9416 - output9_binary_accuracy: 0.9396 - output10_binary_accuracy: 0.9823 - output11_binary_accuracy: 0.9924 - output12_binary_accuracy: 0.9981 - val_loss: 3.0184 - val_output1_loss: 0.2231 - val_output2_loss: 0.2420 - val_output3_loss: 0.3389 - val_output4_loss: 0.6720 - val_output5_loss: 0.3198 - val_output6_loss: 0.2854 - val_output7_loss: 0.3529 - val_output8_loss: 0.2276 - val_output9_loss: 0.2421 - val_output10_loss: 0.0734 - val_output11_loss: 0.0383 - val_output12_loss: 0.0030 - val_output1_binary_accuracy: 0.9355 - val_output2_binary_accuracy: 0.9463 - val_output3_binary_accuracy: 0.9248 - val_output4_binary_accuracy: 0.7998 - val_output5_binary_accuracy: 0.9199 - val_output6_binary_accuracy: 0.9365 - val_output7_binary_accuracy: 0.9092 - val_output8_binary_accuracy: 0.9365 - val_output9_binary_accuracy: 0.9219 - val_output10_binary_accuracy: 0.9785 - val_output11_binary_accuracy: 0.9961 - val_output12_binary_accuracy: 1.0000 - lr: 1.0000e-05\n",
            "Epoch 14/16\n",
            "251/251 [==============================] - ETA: 0s - loss: 2.6472 - output1_loss: 0.1650 - output2_loss: 0.2020 - output3_loss: 0.2803 - output4_loss: 0.6134 - output5_loss: 0.2832 - output6_loss: 0.2650 - output7_loss: 0.2732 - output8_loss: 0.2181 - output9_loss: 0.2297 - output10_loss: 0.0581 - output11_loss: 0.0437 - output12_loss: 0.0155 - output1_binary_accuracy: 0.9582 - output2_binary_accuracy: 0.9542 - output3_binary_accuracy: 0.9231 - output4_binary_accuracy: 0.8218 - output5_binary_accuracy: 0.9253 - output6_binary_accuracy: 0.9380 - output7_binary_accuracy: 0.9330 - output8_binary_accuracy: 0.9443 - output9_binary_accuracy: 0.9379 - output10_binary_accuracy: 0.9814 - output11_binary_accuracy: 0.9922 - output12_binary_accuracy: 0.9981\n",
            "Epoch 00014: val_loss did not improve from 3.00347\n",
            "251/251 [==============================] - 88s 349ms/step - loss: 2.6472 - output1_loss: 0.1650 - output2_loss: 0.2020 - output3_loss: 0.2803 - output4_loss: 0.6134 - output5_loss: 0.2832 - output6_loss: 0.2650 - output7_loss: 0.2732 - output8_loss: 0.2181 - output9_loss: 0.2297 - output10_loss: 0.0581 - output11_loss: 0.0437 - output12_loss: 0.0155 - output1_binary_accuracy: 0.9582 - output2_binary_accuracy: 0.9542 - output3_binary_accuracy: 0.9231 - output4_binary_accuracy: 0.8218 - output5_binary_accuracy: 0.9253 - output6_binary_accuracy: 0.9380 - output7_binary_accuracy: 0.9330 - output8_binary_accuracy: 0.9443 - output9_binary_accuracy: 0.9379 - output10_binary_accuracy: 0.9814 - output11_binary_accuracy: 0.9922 - output12_binary_accuracy: 0.9981 - val_loss: 3.0288 - val_output1_loss: 0.2217 - val_output2_loss: 0.2427 - val_output3_loss: 0.3400 - val_output4_loss: 0.6733 - val_output5_loss: 0.3178 - val_output6_loss: 0.2920 - val_output7_loss: 0.3523 - val_output8_loss: 0.2324 - val_output9_loss: 0.2404 - val_output10_loss: 0.0751 - val_output11_loss: 0.0382 - val_output12_loss: 0.0030 - val_output1_binary_accuracy: 0.9375 - val_output2_binary_accuracy: 0.9463 - val_output3_binary_accuracy: 0.9248 - val_output4_binary_accuracy: 0.7988 - val_output5_binary_accuracy: 0.9209 - val_output6_binary_accuracy: 0.9346 - val_output7_binary_accuracy: 0.9082 - val_output8_binary_accuracy: 0.9307 - val_output9_binary_accuracy: 0.9258 - val_output10_binary_accuracy: 0.9795 - val_output11_binary_accuracy: 0.9961 - val_output12_binary_accuracy: 1.0000 - lr: 1.0000e-05\n",
            "Epoch 15/16\n",
            "251/251 [==============================] - ETA: 0s - loss: 2.6465 - output1_loss: 0.1659 - output2_loss: 0.2037 - output3_loss: 0.2810 - output4_loss: 0.6125 - output5_loss: 0.2819 - output6_loss: 0.2649 - output7_loss: 0.2731 - output8_loss: 0.2174 - output9_loss: 0.2270 - output10_loss: 0.0594 - output11_loss: 0.0441 - output12_loss: 0.0157 - output1_binary_accuracy: 0.9603 - output2_binary_accuracy: 0.9544 - output3_binary_accuracy: 0.9218 - output4_binary_accuracy: 0.8212 - output5_binary_accuracy: 0.9282 - output6_binary_accuracy: 0.9390 - output7_binary_accuracy: 0.9320 - output8_binary_accuracy: 0.9407 - output9_binary_accuracy: 0.9394 - output10_binary_accuracy: 0.9818 - output11_binary_accuracy: 0.9922 - output12_binary_accuracy: 0.9981\n",
            "Epoch 00015: val_loss improved from 3.00347 to 3.00061, saving model to BERT/LSTM.h5\n",
            "251/251 [==============================] - 89s 353ms/step - loss: 2.6465 - output1_loss: 0.1659 - output2_loss: 0.2037 - output3_loss: 0.2810 - output4_loss: 0.6125 - output5_loss: 0.2819 - output6_loss: 0.2649 - output7_loss: 0.2731 - output8_loss: 0.2174 - output9_loss: 0.2270 - output10_loss: 0.0594 - output11_loss: 0.0441 - output12_loss: 0.0157 - output1_binary_accuracy: 0.9603 - output2_binary_accuracy: 0.9544 - output3_binary_accuracy: 0.9218 - output4_binary_accuracy: 0.8212 - output5_binary_accuracy: 0.9282 - output6_binary_accuracy: 0.9390 - output7_binary_accuracy: 0.9320 - output8_binary_accuracy: 0.9407 - output9_binary_accuracy: 0.9394 - output10_binary_accuracy: 0.9818 - output11_binary_accuracy: 0.9922 - output12_binary_accuracy: 0.9981 - val_loss: 3.0006 - val_output1_loss: 0.2260 - val_output2_loss: 0.2414 - val_output3_loss: 0.3310 - val_output4_loss: 0.6725 - val_output5_loss: 0.3148 - val_output6_loss: 0.2898 - val_output7_loss: 0.3512 - val_output8_loss: 0.2260 - val_output9_loss: 0.2423 - val_output10_loss: 0.0744 - val_output11_loss: 0.0280 - val_output12_loss: 0.0030 - val_output1_binary_accuracy: 0.9346 - val_output2_binary_accuracy: 0.9473 - val_output3_binary_accuracy: 0.9268 - val_output4_binary_accuracy: 0.7979 - val_output5_binary_accuracy: 0.9209 - val_output6_binary_accuracy: 0.9346 - val_output7_binary_accuracy: 0.9082 - val_output8_binary_accuracy: 0.9355 - val_output9_binary_accuracy: 0.9238 - val_output10_binary_accuracy: 0.9795 - val_output11_binary_accuracy: 0.9971 - val_output12_binary_accuracy: 1.0000 - lr: 1.0000e-05\n",
            "Epoch 16/16\n",
            "251/251 [==============================] - ETA: 0s - loss: 2.6232 - output1_loss: 0.1610 - output2_loss: 0.1978 - output3_loss: 0.2782 - output4_loss: 0.6089 - output5_loss: 0.2810 - output6_loss: 0.2631 - output7_loss: 0.2681 - output8_loss: 0.2187 - output9_loss: 0.2284 - output10_loss: 0.0580 - output11_loss: 0.0448 - output12_loss: 0.0152 - output1_binary_accuracy: 0.9605 - output2_binary_accuracy: 0.9559 - output3_binary_accuracy: 0.9258 - output4_binary_accuracy: 0.8273 - output5_binary_accuracy: 0.9287 - output6_binary_accuracy: 0.9392 - output7_binary_accuracy: 0.9341 - output8_binary_accuracy: 0.9436 - output9_binary_accuracy: 0.9392 - output10_binary_accuracy: 0.9827 - output11_binary_accuracy: 0.9918 - output12_binary_accuracy: 0.9981\n",
            "Epoch 00016: val_loss did not improve from 3.00061\n",
            "251/251 [==============================] - 88s 349ms/step - loss: 2.6232 - output1_loss: 0.1610 - output2_loss: 0.1978 - output3_loss: 0.2782 - output4_loss: 0.6089 - output5_loss: 0.2810 - output6_loss: 0.2631 - output7_loss: 0.2681 - output8_loss: 0.2187 - output9_loss: 0.2284 - output10_loss: 0.0580 - output11_loss: 0.0448 - output12_loss: 0.0152 - output1_binary_accuracy: 0.9605 - output2_binary_accuracy: 0.9559 - output3_binary_accuracy: 0.9258 - output4_binary_accuracy: 0.8273 - output5_binary_accuracy: 0.9287 - output6_binary_accuracy: 0.9392 - output7_binary_accuracy: 0.9341 - output8_binary_accuracy: 0.9436 - output9_binary_accuracy: 0.9392 - output10_binary_accuracy: 0.9827 - output11_binary_accuracy: 0.9918 - output12_binary_accuracy: 0.9981 - val_loss: 3.0309 - val_output1_loss: 0.2279 - val_output2_loss: 0.2434 - val_output3_loss: 0.3374 - val_output4_loss: 0.6708 - val_output5_loss: 0.3203 - val_output6_loss: 0.2897 - val_output7_loss: 0.3556 - val_output8_loss: 0.2303 - val_output9_loss: 0.2399 - val_output10_loss: 0.0745 - val_output11_loss: 0.0381 - val_output12_loss: 0.0031 - val_output1_binary_accuracy: 0.9346 - val_output2_binary_accuracy: 0.9443 - val_output3_binary_accuracy: 0.9258 - val_output4_binary_accuracy: 0.7939 - val_output5_binary_accuracy: 0.9180 - val_output6_binary_accuracy: 0.9375 - val_output7_binary_accuracy: 0.9092 - val_output8_binary_accuracy: 0.9346 - val_output9_binary_accuracy: 0.9248 - val_output10_binary_accuracy: 0.9795 - val_output11_binary_accuracy: 0.9961 - val_output12_binary_accuracy: 1.0000 - lr: 1.0000e-05\n"
          ],
          "name": "stdout"
        },
        {
          "output_type": "execute_result",
          "data": {
            "text/plain": [
              "<tensorflow.python.keras.callbacks.History at 0x7f765c751a20>"
            ]
          },
          "metadata": {
            "tags": []
          },
          "execution_count": 71
        }
      ]
    },
    {
      "cell_type": "markdown",
      "metadata": {
        "id": "QMfSJxN--xs1",
        "colab_type": "text"
      },
      "source": [
        "## Prediction\n",
        "\n",
        "\n"
      ]
    },
    {
      "cell_type": "code",
      "metadata": {
        "id": "2ZwqpZmP_pVV",
        "colab_type": "code",
        "colab": {}
      },
      "source": [
        "class testDataGenerator(tf.keras.utils.Sequence):\n",
        "    'Generates data for Keras'\n",
        "    def __init__(self, pdDataFrame, dbName, labels=['oQ', 'RQ', 'CQ', 'FD', 'FQ', 'IR', 'PA', 'PF', 'NF', 'GG', 'JK', 'O'],\\\n",
        "                 batch_size=25, dim=MAX_LEN, n_channels=N_CHANNELS,\\\n",
        "                 n_classes=N_CLASS, shuffle=False):\n",
        "        'Initialization'\n",
        "        self.dim = dim\n",
        "        self.batch_size = batch_size\n",
        "        self.labels = labels\n",
        "        self.list_IDs = pdDataFrame\n",
        "        self.n_channels = n_channels\n",
        "        self.n_classes = n_classes\n",
        "        self.shuffle = shuffle\n",
        "        self.dbName=dbName\n",
        "        self.on_epoch_end()\n",
        "\n",
        "    def __len__(self):\n",
        "        'Denotes the number of batches per epoch'\n",
        "        return int(np.floor(len(self.list_IDs) / self.batch_size))\n",
        "\n",
        "    def __getitem__(self, index):\n",
        "        'Generate one batch of data'\n",
        "        # Generate indexes of the batch\n",
        "        indexes = self.indexes[index*self.batch_size:(index+1)*self.batch_size]\n",
        "\n",
        "        # Find list of IDs\n",
        "        list_IDs_temp = self.list_IDs.iloc[indexes,:]\n",
        "\n",
        "        # Generate data\n",
        "        X = self.__data_generation(list_IDs_temp.reset_index(drop=True))\n",
        "\n",
        "        return X\n",
        "\n",
        "    def on_epoch_end(self):\n",
        "        'Updates indexes after each epoch'\n",
        "        self.indexes = np.arange(len(self.list_IDs))\n",
        "        if self.shuffle == True:\n",
        "            np.random.shuffle(self.indexes)\n",
        "\n",
        "    def __data_generation(self, list_IDs_temp):\n",
        "        'Generates data containing batch_size samples' # X : (n_samples, *dim, n_channels)\n",
        "        # Initialization\n",
        "        X = np.zeros((self.batch_size, self.dim, self.n_channels))\n",
        "        #y = np.zeros((self.batch_size,self.n_classes), dtype=int)\n",
        "\n",
        "        # Generate data\n",
        "        for i in range(len(list_IDs_temp)):\n",
        "            utterenceID=list_IDs_temp.loc[i,'id']\n",
        "            diaglogID=list_IDs_temp.loc[i,'diaglogID']\n",
        "            try:\n",
        "              temp=np.load('BERT/vector/'+self.dbName+'_'+str(utterenceID)+'_'+str(diaglogID)+'.npy')\n",
        "              X[i,0:temp.shape[0],:] =temp \n",
        "              del temp\n",
        "            except:\n",
        "              print('Faile to load the data: BERT/vector/'+self.dbName+'_'+str(utterenceID)+'_'+str(diaglogID)+'.npy')\n",
        "            # Store sample\n",
        "            # Store class\n",
        "            #y[i,:] = np.array(list_IDs_temp.iloc[i,0:12])\n",
        "\n",
        "        return X"
      ],
      "execution_count": 0,
      "outputs": []
    },
    {
      "cell_type": "code",
      "metadata": {
        "id": "pgnTSkm2_EBW",
        "colab_type": "code",
        "colab": {}
      },
      "source": [
        "test_generator=testDataGenerator(Test,'Test')"
      ],
      "execution_count": 0,
      "outputs": []
    },
    {
      "cell_type": "code",
      "metadata": {
        "id": "MneDN8jV-spA",
        "colab_type": "code",
        "outputId": "afb994e2-8978-4444-fbe4-7437ded390c0",
        "colab": {
          "base_uri": "https://localhost:8080/",
          "height": 87
        }
      },
      "source": [
        "prediction = model.predict_generator(test_generator)"
      ],
      "execution_count": 74,
      "outputs": [
        {
          "output_type": "stream",
          "text": [
            "WARNING:tensorflow:From <ipython-input-74-342c80f366ab>:1: Model.predict_generator (from tensorflow.python.keras.engine.training) is deprecated and will be removed in a future version.\n",
            "Instructions for updating:\n",
            "Please use Model.predict, which supports generators.\n"
          ],
          "name": "stdout"
        }
      ]
    },
    {
      "cell_type": "code",
      "metadata": {
        "id": "P0iEXswMaFjG",
        "colab_type": "code",
        "colab": {}
      },
      "source": [
        "Prediction=np.array(prediction)"
      ],
      "execution_count": 0,
      "outputs": []
    },
    {
      "cell_type": "code",
      "metadata": {
        "id": "lfKCnqyr_dH-",
        "colab_type": "code",
        "outputId": "e2cdec2a-06ba-45b7-f71c-ab2b947c0b1a",
        "colab": {
          "base_uri": "https://localhost:8080/",
          "height": 34
        }
      },
      "source": [
        "IOU=0\n",
        "for i in range(len(Test)):\n",
        "  pred=Prediction[0:N_CLASS,i,0]\n",
        "  labels=np.array(Test.iloc[i,0:N_CLASS])\n",
        "  ioU=np.sum((pred>=0.5)&(labels==1))/np.sum( (pred>=0.5) | (labels==1))\n",
        "  IOU+=ioU\n",
        "IOU=IOU/len(Test)\n",
        "print(IOU)"
      ],
      "execution_count": 76,
      "outputs": [
        {
          "output_type": "stream",
          "text": [
            "0.640108108108108\n"
          ],
          "name": "stdout"
        }
      ]
    },
    {
      "cell_type": "code",
      "metadata": {
        "id": "DavG4UnTDpVw",
        "colab_type": "code",
        "outputId": "f5415597-9515-45bd-b220-8085c2190c24",
        "colab": {
          "base_uri": "https://localhost:8080/",
          "height": 34
        }
      },
      "source": [
        "ACC=0\n",
        "for i in range(len(Test)):\n",
        "  pred=Prediction[0:N_CLASS,i,0]\n",
        "  labels=np.array(Test.iloc[i,0:N_CLASS])\n",
        "  acc=np.sum((pred>=0.5)==labels)/12\n",
        "  ACC+=acc\n",
        "ACC=ACC/len(Test)\n",
        "print(ACC)"
      ],
      "execution_count": 77,
      "outputs": [
        {
          "output_type": "stream",
          "text": [
            "0.9233333333333331\n"
          ],
          "name": "stdout"
        }
      ]
    },
    {
      "cell_type": "code",
      "metadata": {
        "id": "dV-AOnmQh8B3",
        "colab_type": "code",
        "colab": {}
      },
      "source": [
        ""
      ],
      "execution_count": 0,
      "outputs": []
    }
  ]
}